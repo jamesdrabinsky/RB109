{
 "cells": [
  {
   "cell_type": "markdown",
   "id": "2d949953-a6b7-4999-929a-c6a4542be63f",
   "metadata": {},
   "source": [
    "# Sort"
   ]
  },
  {
   "cell_type": "markdown",
   "id": "25ed03bf-63bc-4a93-9ff1-0373c5b4cf05",
   "metadata": {},
   "source": [
    "<b>\n",
    "\n",
    "Given the code below:\n",
    "    \n",
    "```ruby\n",
    "arr = ['340', '15', '1', '3400']\n",
    "arr.sort # => ['1', '15', '340', '3400']\n",
    "```\n",
    "<br>\n",
    "Which of the following statements most accurately describes why that particular return value is produced?\n",
    "\n",
    "</b>"
   ]
  },
  {
   "cell_type": "markdown",
   "id": "49d5f1c0-0fd8-4eaf-b39d-01acb5e6695d",
   "metadata": {
    "jupyter": {
     "source_hidden": true
    },
    "tags": []
   },
   "source": [
    "The local variable `arr` is initialized to an array object with value `['340', '15', '1', '3400']`.  `Array#sort` is called on the array object referenced by `arr`.  In ruby, sorting is essentially carried out by comparing the items in a collection with each other, and ordering them based on the result of that comparison.  The comparison is carried out using the appropriate comparison method for the item type, in this case the `String<=>` method.\n",
    "\n",
    "`String<=>` will return `-1`, `0` or `1` depending on whether the first item is less than, equal to or greater than the second item.   In case that the two items are of different data types, `String<=>` will return `nil` and `sort` will output an `ArgumentError` message.  `String<=>` compares multi-character strings character by character.  If all characters are equal, then the result is based on a comparison of the string lengths.  Thus, two strings are equal according to `String<=>` if they have the same length and the value of each character is equal to the value of the corresponding character in the other string.\n",
    "\n",
    "String order is determined by a character's position in the ASCII table.  Therefore, it isi this ASCII character order that determines the result when we compare one ASCII character with another using the `String<=>` method.  "
   ]
  },
  {
   "cell_type": "markdown",
   "id": "7a81897c-1697-4c69-ab78-679a891f4d47",
   "metadata": {
    "tags": []
   },
   "source": [
    "_____"
   ]
  },
  {
   "cell_type": "markdown",
   "id": "975ab77b-4014-4ccd-8f8e-e922caa2509a",
   "metadata": {},
   "source": [
    "<b>\n",
    "    \n",
    "```ruby\n",
    "arr = [['a', 'cat', 'b', 'c'], ['b', 2], ['a', 'car', 'd', 3], ['a', 'car', 'd']]\n",
    "arr.sort # => [[\"a\", \"car\", \"d\"], [\"a\", \"car\", \"d\", 3], [\"a\", \"cat\", \"b\", \"c\"], [\"b\", 2]]\n",
    "```\n",
    "\n",
    "</b>"
   ]
  },
  {
   "cell_type": "markdown",
   "id": "c9b9cfbb-ec56-4d0c-af77-6a14083cda96",
   "metadata": {
    "jupyter": {
     "source_hidden": true
    },
    "tags": []
   },
   "source": [
    "The local variable `arr` is initialized to a multi-dimensional array object with the value `[['a', 'cat', 'b', 'c'], ['b', 2], ['a', 'car', 'd', 3], ['a', 'car', 'd']]`.  `Array#sort` is called on the object reference by `arr`. \n",
    "\n",
    "In Ruby, sorting is essentially carried out by comparing the items in a collection with each other, and ordering them based on the result of that comparison.  The comparison is carried out using the appropriatre comparison method for the item type, in this case the `Array#<=>` method.  `Array<=>` will return `-1`, `0` or `1` depending on whether the first item is less than, equal to or greater than the second item.  In the case that the two items are of different data types, `Array<=>` will return `nil` and `sort` will output an `ArgumentError` message.  \n",
    "\n",
    "Arrays are compared in an element-wise manner.  As soon as the result of any such comparison is non zero (i.e. the two corresponding elements are not equal), that result is returned for the whole array comparison.  If all elements are equal, then the result is based on a comparison of the array lengths.  Thus, two arrays are equal according to `Array<=>` if they have the same length and each element is equal to the corresponding element of the other array.  \n",
    "\n",
    "Since three of the arrays have string `a` at their first index, these all come befroe the array that has the string `b` at its first index.  The array with `b` at its first index has an integer 2 at its second index.  Comparing this integer with the other corresponding elements in the other arrays would return `nil` since you would be comparing an integer with a string.  In this case, since `sort` didnot need to compare the second item of that array to be able to establish its order, the integer does not come into play here and so no error is thrown.  "
   ]
  },
  {
   "cell_type": "markdown",
   "id": "a4b7ebc8-75e1-4dcb-a091-7c6b9361e8d4",
   "metadata": {
    "tags": []
   },
   "source": [
    "______"
   ]
  },
  {
   "cell_type": "markdown",
   "id": "8031f32f-622c-454a-b263-40d7f8c8c43b",
   "metadata": {},
   "source": [
    "<b>\n",
    "    \n",
    "```ruby\n",
    "['cot', 'bed', 'mat'].sort_by do |word|\n",
    "  word[1]\n",
    "end   \n",
    "# => ['mat', 'bed', 'cot']\n",
    "```\n",
    "    \n",
    "</b>"
   ]
  },
  {
   "cell_type": "markdown",
   "id": "442fbdf5-224b-4c5d-bc16-b289cca03b80",
   "metadata": {
    "jupyter": {
     "source_hidden": true
    },
    "tags": []
   },
   "source": [
    "`Array#sort_by` is called on the array object `['cot', 'bed', 'mat']`.  A `do..end` block is passed to the method call as an argument and each element from the array object is passed to the block and assigned to the local variable `word`.  Sorting is carried out by comparing the items in a collection with each other, and ordering them based on the result of that comparison.  The comparison is done using the appropriate method for the item type, in this case the `String<=>` method.  \n",
    "\n",
    "`String<=>` will return `-1`, `0` or `1` depending on whether the first item is less than, equal to or greater than the second item.  If the two items are of different data types and they can't be compared then `String<=>` will return `nil` and `sort` will output an `ArgumentError` message.  `String<=>` compares multi-character strings character by character.  If each character in one string is equal to the corresponding character in the other string then strings will be compared by their lengths.  The longer string will be considered greater than the shorter string.  \n",
    "\n",
    "String order is determined by a character's position in the ASCII table.  This ASCII character order determines the result when we compare one ASCII character with another using the `String<=>` method.  \n",
    "\n",
    "In this case, `sort_by` is called with a block.  The code in the block determines how the items are compared.  Here we are sorting using the character at index 1 of each string, so only the character `o`, `e` and `a` are compared and the strings are ordered according to the comparison of those characters.  The other characters in the strings are ignored entirely.  "
   ]
  },
  {
   "cell_type": "markdown",
   "id": "1601ce49-5e72-461e-9461-6257e0910199",
   "metadata": {},
   "source": [
    "______"
   ]
  },
  {
   "cell_type": "markdown",
   "id": "cfea66bc-fbe1-4957-9faf-9e00a1879b78",
   "metadata": {},
   "source": [
    "<b>\n",
    "    \n",
    "```ruby\n",
    "people = { Kate: 27, john: 25, Mike:  18 }\n",
    "\n",
    "people.sort_by do |name, _|\n",
    "  name.capitalize\n",
    "end\n",
    "# => [[:john, 25], [:Kate, 27], [:Mike, 18]]\n",
    "```\n",
    "    \n",
    "</b>"
   ]
  },
  {
   "cell_type": "markdown",
   "id": "32d0648c-e384-4a58-9f21-2f50fed78322",
   "metadata": {
    "jupyter": {
     "source_hidden": true
    },
    "tags": []
   },
   "source": [
    "The local variable `people` is initialized to a hash with the value `{ Kate: 27, john: 25, Mike:  18 }`.  `#Hash.sort_by` is called on the hash object referenced by the local variable `people`.  A `do..end` block is passed to method call as an argument and each key-value pair from the calling object is passed to the block and assigned the local variable names `name` and `_`, respectively.  `_` is used in this case to represent each value because the values are not used within the block.  \n",
    "\n",
    "Sorting is carried out by comparing items in a collection and ordering them based on the result of that comparison.  The comparison is done using the method appropriate for the item's data type.  In this case, the code in the block determines how the items are compared.  Here we are sorting the capitalized version of each hash key, which are symbols.  `Symbol<=>` first converts a symbol to a string before doing the comparison.  \n",
    "\n",
    "Therefore, similar to `String<=>`, `Symbol<=>` will return `-1`, `0`, `1` depending on whether the first item is less than, equal to or greater than the second item.  If the two items are of different data types and cannot be compared, `<=>` returns `nil` and `sort_by` outputs an `ArgumentError` message.  \n",
    "\n",
    "Strings are compared character by characrter.  If each character in a string is equal to the corresponding character in the other string then the two strings are compared by length, with the longer string considered to be greater.  String order is dertermined by a character's position in the ASCII table (strings are compared in 'ASCIIbetical' order).   Because uppercase characters come before lowercase characters in the ASCII table, we invoke the `capitalize` method on the hash key assigned to the block variable `name` on each iteration so that when the keys are compared they are all capitalized.  "
   ]
  },
  {
   "cell_type": "markdown",
   "id": "8dfa6647-70e5-46a8-ae04-9b32651648b1",
   "metadata": {},
   "source": [
    "_____"
   ]
  },
  {
   "cell_type": "markdown",
   "id": "773f68e8-dbde-4fbb-91a1-62578ad14115",
   "metadata": {},
   "source": [
    "# Variable Scope"
   ]
  },
  {
   "cell_type": "code",
   "execution_count": 8,
   "id": "828dea72-4288-49c4-b702-f88ed2b12515",
   "metadata": {},
   "outputs": [
    {
     "name": "stdout",
     "output_type": "stream",
     "text": [
      "1\n",
      "2\n"
     ]
    }
   ],
   "source": [
    "a = 1\n",
    "\n",
    "loop do \n",
    "  puts a \n",
    "  a += 1\n",
    "  break\n",
    "end\n",
    "\n",
    "puts a"
   ]
  },
  {
   "cell_type": "markdown",
   "id": "03f39955-b735-4423-975c-22ad25a09cb0",
   "metadata": {
    "jupyter": {
     "source_hidden": true
    },
    "tags": []
   },
   "source": [
    "Local variable `a` is initialized on line 1 to an integer object wit the value 1.  The `loop` method is invoked on line 3 and a `do..end` block is passed to it as an argument.  On line 4 the `puts` method is invoked and the integer referenced by local variable `a` is passed to it as an argument.   This will output `1`.  On line 5 the local variable `a` is reassigned to the return value of the `Integer#+` method called on the local variable `a` with the integer `1` passed to it as an argument.  So now `a` points to an integer object with the value `2`.  On line 6 we break out of the loop with the keyword `break`.  On line 9 the `puts` method is invoked and the local variable `a` is passed to it as an argument.  Since `a` was reassigned within the block this will output `2`.  Since `puts a` is the last evaluated line, this code will return since the puts method invocation always returns nil.\n",
    "\n",
    "This code demonstrates that local variables initialized outside of a block's scope can be accessed within the block's scope and that you can change variables within an inner scope and have that change affect the outer scope.  "
   ]
  },
  {
   "cell_type": "markdown",
   "id": "87f7b526-89e3-445d-9a2e-1aa554d12abe",
   "metadata": {},
   "source": [
    "_____"
   ]
  },
  {
   "cell_type": "code",
   "execution_count": 1,
   "id": "041b647b-cd6e-4b33-bc37-15a21fba9040",
   "metadata": {},
   "outputs": [
    {
     "name": "stdout",
     "output_type": "stream",
     "text": [
      "3\n",
      "2\n"
     ]
    }
   ],
   "source": [
    "a = 4\n",
    "b = 2\n",
    "\n",
    "loop do\n",
    "  c = 3\n",
    "  a = c\n",
    "  break\n",
    "end\n",
    "\n",
    "puts a\n",
    "puts b"
   ]
  },
  {
   "cell_type": "markdown",
   "id": "e8965edc-2969-4694-8383-5cfe73e0b5ec",
   "metadata": {
    "jupyter": {
     "source_hidden": true
    },
    "tags": []
   },
   "source": [
    "The local variable `a` is initialized on line 1 to the integer `4`.  The local variable `b` is initialized on line 2 to the local variable `b`.  \n",
    "\n",
    "The `loop` method is invoked on line 4 and a `do..end` block is passed to it as an argument.  Within the block, on line 5, local variable `c` is initialized to the integer `3`.  This variable has the block as its scope. On line 6 local variable `a` is ressigned to the same integer object that local variable `c` is referencing.  On line 7 the `break` keyword is used to exit out of the loop.  \n",
    "\n",
    "The `puts` method is invoked on line 10 and the local variable `a` is passed in as an argument. Since `a` was reassigned within the block to the integer object `3`, this will output `3` and return `nil`.  The `puts` method is invoked on line 11 and the local variable `b` is passed to it as an argument.   This will output `2` and return `nil`.  \n",
    "\n",
    "This code demonstrates that variables initialized within the outer scope can be accessed in a block's inner scope.  It also demonstrates the concept of variables as pointers; when local variable `a` is reassigned to the object bound to local variable `c`, both variables point to the same object and address in memory.  \n",
    "\n",
    "Since `puts b` is the last evaluated line, this code will return since the `puts` method invocation always returns `nil`.  \n",
    "\n",
    "`3`<br>\n",
    "`2`"
   ]
  },
  {
   "cell_type": "markdown",
   "id": "f7abc237-7718-47aa-8e02-35f0be207cb3",
   "metadata": {},
   "source": [
    "_____"
   ]
  },
  {
   "cell_type": "code",
   "execution_count": 3,
   "id": "59ea3a1d-7303-4e39-8b5e-038e8be82a59",
   "metadata": {},
   "outputs": [
    {
     "name": "stdout",
     "output_type": "stream",
     "text": [
      "5\n"
     ]
    },
    {
     "ename": "NameError",
     "evalue": "undefined local variable or method `b' for #<Object:0x00007f99362496f0>",
     "output_type": "error",
     "traceback": [
      "\u001b[31mNameError\u001b[0m: undefined local variable or method `b' for #<Object:0x00007f99362496f0>",
      "(irb):9:in `irb_binding'"
     ]
    }
   ],
   "source": [
    "a = 4\n",
    "\n",
    "loop do\n",
    "  a = 5\n",
    "  b = 3\n",
    "  break\n",
    "end\n",
    "\n",
    "puts a\n",
    "puts b"
   ]
  },
  {
   "cell_type": "markdown",
   "id": "8473696d-0742-4e0b-af76-2c91f2adb555",
   "metadata": {
    "jupyter": {
     "source_hidden": true
    },
    "tags": []
   },
   "source": [
    "The local variable `a` is initialized on line 1 to an integer object with the value `4` within the outer scope.  The `loop` method is called on line 3 and a `do..end` block is passed to it as an argument.  Within the block's scope, `a` is reassigned to a new integer object with the value `5` on line 4.  The local variable `b` is initialized on line 5 to an integer object with the value `3.`.  This variable has the block as it's scope.  On line 6 the `break` keyword is used to exit out of the loop.  \n",
    "\n",
    "The `puts` method is invoked on line 9 and the integer object referenced by `a` is passed in as an argument. Since `a` was reassigned to the integer `5` this method call will output `5`.  The `puts` method is invoked again on line 10 and the integer object referenced by local variable `b` is passed in as an argument.  Because local variable `b` was initialized within the block's scope, it cannot be accessed outside of that scope.  Therefore, this method call will output a `NameError` message.\n",
    "\n",
    "This code demonstrates the concept of local variable scope, specifically how variables initialized within a block's inner scope cannot be accessed in the outer scope."
   ]
  },
  {
   "cell_type": "code",
   "execution_count": 1,
   "id": "1744245c-f534-4e44-a81d-a2775faa3a8c",
   "metadata": {},
   "outputs": [
    {
     "name": "stdout",
     "output_type": "stream",
     "text": [
      "hi\n",
      "hi\n"
     ]
    },
    {
     "ename": "NameError",
     "evalue": "undefined local variable or method `a' for #<Object:0x00007fd8d0a4c698>",
     "output_type": "error",
     "traceback": [
      "\u001b[31mNameError\u001b[0m: undefined local variable or method `a' for #<Object:0x00007fd8d0a4c698>",
      "(irb):6:in `block in irb_binding'",
      "(irb):5:in `loop'",
      "(irb):5:in `irb_binding'"
     ]
    }
   ],
   "source": [
    "2.times do\n",
    "  a = 'hi'\n",
    "  puts a \n",
    "end\n",
    "\n",
    "loop do \n",
    "  puts a \n",
    "  break\n",
    "end\n",
    "\n",
    "puts a "
   ]
  },
  {
   "cell_type": "markdown",
   "id": "7bf5bb59-e2a5-4ecc-b952-8cae46dd5dfd",
   "metadata": {},
   "source": [
    "The `times` method is invoked on the integer `2` on line 1 and a `do..end` block is passed to it as an argumetn.  Within the block, on line 2, the local variable `a` is initialized to a string object with the value `2`.  On line 3 the `puts` method is invoked and the string object referenced by local variable `a` is passed to it as an argument.  This will output `\"hi\"` and `\"hi\"` will be output twice because the `times` method will iterate the given block 2 times. \n",
    "\n",
    "The `loop` method is invoked on line 6 and a `do..end` block is passed to it as an argument.  Within this block's scope, on line 7, the `puts` method is invoked and the variable `a` is passed to it as an argument.  This will output a `NameError` message because `a` was initialized in a separate block's scope, so it is no accessible in the block's scope defined by the `do..end` keywords on line 6 and 9.  \n",
    "\n",
    "This code demonstrates that peer scopes do not conflict and peer blocks cannot reference variables initialized in other blcoks.  The variables initializeed in the scope of the block passed to the `times` invocation on lines 1-4 are not accessbile in the scope of the block passed to `loop` call on lines 6-9.  "
   ]
  },
  {
   "cell_type": "code",
   "execution_count": 2,
   "id": "e4413b64-d11d-45f4-b084-b565eb95e365",
   "metadata": {},
   "outputs": [
    {
     "name": "stdout",
     "output_type": "stream",
     "text": [
      "5\n",
      "5\n",
      "4\n",
      "2\n"
     ]
    }
   ],
   "source": [
    "a = 4\n",
    "b = 2\n",
    "\n",
    "2.times do |a|\n",
    "  a = 5\n",
    "  puts a\n",
    "end\n",
    "\n",
    "puts a\n",
    "puts b"
   ]
  },
  {
   "cell_type": "markdown",
   "id": "6dc678ac-0966-42d5-b27f-3a265bf46443",
   "metadata": {},
   "source": [
    "Local variable `a` is intialized on line 1 to an integer object with the value `4` in the outer scope.  Local variable `b` is initialized on line 2 to an integer object with the value `2`.  On line 4 the `times` method is called on the integer `2` and a `do..end` block is passed to the method it as an argument.  The `times` method passes each value from `0` to `1` (`2 - 1`) to the block and assigns the values to the local variable `a`. \n",
    "\n",
    "Within the block's scope, the local variable `a` is intialized to the value `5`.  This variable has the block as its scope.  **We are assiging the integer 5 to the local variable `a` which was passed in as a parameter of the `do..end` block and the value of local variable `a` intialized outside of the block remains `4`.**  The `puts` method is invoked. on line 6 and the integer object referenced by local variable `a` will be output.  `5` will be output twice since the `times` method will iterate the given block 2 times.  \n",
    "\n",
    "The `puts` method is invoked on line 9 with the integer object referenced by local variable `a` passed in as an argument.  This will output `4` because `a` is still referencing the same integer object it was assigned to on line 1.  The `puts` method call is invoked on line 10 with the integer object reference by local variable `b` passed to it as an argument.  This will output `2`.  \n",
    "\n",
    "This code demonstrates the concept of variable shadowing.  In this case, the local variable `a` initialized on line 1 shares a name with the block parameter `a` on line 4.  This prevents the block from accessing the variable in the outer scope and reassigning it within the block's inner scope.\n",
    "\n",
    "`5`<br>\n",
    "`5`<br>\n",
    "`4`<br>\n",
    "`2`"
   ]
  },
  {
   "cell_type": "code",
   "execution_count": null,
   "id": "2d26b9f9-6430-4c36-b88e-074d22e07366",
   "metadata": {},
   "outputs": [],
   "source": []
  }
 ],
 "metadata": {
  "kernelspec": {
   "display_name": "Ruby 2.7.5",
   "language": "ruby",
   "name": "ruby"
  },
  "language_info": {
   "file_extension": ".rb",
   "mimetype": "application/x-ruby",
   "name": "ruby",
   "version": "2.7.5"
  },
  "toc-showcode": false
 },
 "nbformat": 4,
 "nbformat_minor": 5
}
