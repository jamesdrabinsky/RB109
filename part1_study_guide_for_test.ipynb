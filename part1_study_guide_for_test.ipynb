{
 "cells": [
  {
   "cell_type": "markdown",
   "metadata": {},
   "source": [
    "## Specific Topics of Interest"
   ]
  },
  {
   "cell_type": "markdown",
   "metadata": {},
   "source": [
    "In general, you should be familiar with Ruby syntax and operators. You should also be able to clearly explain the following topics:\n",
    "\n",
    "- local variable scope, especially how local variables interact with method invocations with blocks and method definitions\n",
    "- mutating vs non-mutating methods, pass-by-reference vs pass-by-value\n",
    "- working with collections (Array, Hash, String), and popular collection methods (each, map, select, etc). Review the two lessons on these topics thoroughly.\n",
    "- [variables as pointers](https://launchschool.com/books/ruby/read/more_stuff#variables_as_pointers)\n",
    "- [puts vs return](https://launchschool.com/books/ruby/read/methods#putsvsreturnthesequel)\n",
    "- false vs nil and the idea of \"truthiness\"\n",
    "- method definition and method invocation\n",
    "- implicit return value of method invocations and blocks\n",
    "- how the Array#sort method works\n",
    "\n",
    "When answering the questions, you should:\n",
    "\n",
    "- Explain your reasoning with reference to specific lines in the program. You can use line numbers to refer to specific lines of code where necessary.\n",
    "- Answer with precision. For example, say \"method declaration\" or \",method invocation\" as opposed to just \"method\" when the distinction is important.\n",
    "- Highlight any specific syntactical conventions or technical observations where relevant.\n",
    "- Identify the key fundamental concept or concepts being demonstrated in the question."
   ]
  },
  {
   "cell_type": "markdown",
   "metadata": {},
   "source": [
    "### Example"
   ]
  },
  {
   "cell_type": "code",
   "execution_count": 1,
   "metadata": {
    "tags": []
   },
   "outputs": [
    {
     "name": "stdout",
     "output_type": "stream",
     "text": [
      "Hi\n"
     ]
    }
   ],
   "source": [
    "greeting = 'Hello'\n",
    "\n",
    "loop do\n",
    "  greeting = 'Hi'\n",
    "  break\n",
    "end\n",
    "\n",
    "puts greeting"
   ]
  },
  {
   "cell_type": "markdown",
   "metadata": {
    "tags": []
   },
   "source": [
    "**LS Answer**\n",
    "\n",
    "- The local variable `greeting` is assigned to the String `'Hello'` on line 1.\n",
    "- The `do..end` alongside the `loop` method invocation on lines 3 to 6 defines a block, within which `greeting` is reassigned to the String `'Hi'` on line 4. \n",
    "- The `puts` method is called on line 8 with the variable `greeting` passed to it as an argument; since `greeting` is now assigned to `'Hi'`, this is what is output. \n",
    "- This example demonstrates **local variable scoping** rules in Ruby; specifically the fact that a local variable initialized outside of a block is accessible inside the block."
   ]
  },
  {
   "cell_type": "markdown",
   "metadata": {},
   "source": [
    "**My answer**\n",
    "\n",
    "Line 1:\n",
    "- Local variable `greeting` is initialized pointing to the string 'Hello'.  \n",
    "\n",
    "Line 3:\n",
    "- The `loop` method is invoked and a `do..end` block is passed to it.   \n",
    "\n",
    "Line 4:\n",
    "- A local variable `greeting` is reasssigned to the string 'Hi' within the block.\n",
    "- A break is statement is executed to exit the loop.\n",
    "\n",
    "Line 5:\n",
    "- The `puts` method is invoked with the local variable `greeting` passed to it as an argument.\n",
    "\n",
    "This code will output 'Hi' since `greeting` was reasssigned within the loop.  "
   ]
  },
  {
   "cell_type": "markdown",
   "metadata": {},
   "source": [
    "### Assignments"
   ]
  },
  {
   "cell_type": "markdown",
   "metadata": {},
   "source": [
    "Most of the Launch School material describes this statement as:\n",
    "\n",
    "`The greeting variable is assigned to the string 'Hello'.`\n",
    "\n",
    "However, there are places where we describe this code as:\n",
    "\n",
    "`The string 'Hello' is assigned to the greeting variable.`\n",
    "\n",
    "Both of these are acceptable in the assessment. Try to be consistent though -- if you aren't consistent, your meaning may be confused."
   ]
  },
  {
   "cell_type": "markdown",
   "metadata": {},
   "source": [
    "### Truthiness\n",
    "\n",
    "In the assessment we want you to be very clear about the distinction between *truthy* and the boolean `true` (and similarly the distinction between *falsey* and the boolean `false`).\n",
    "\n",
    "In Ruby, every value except for `false` and `nil` evaluates as `true.`  We can therefore say that in Ruby, every value apart from `false` and `nil` is *truthy*.\n",
    "\n",
    "We can also say that `false` and `nil` are *falsey*. \n",
    "\n",
    "**This is not the same as saying every value apart from `false` and `nil` is `true`, or is equal to `true`. These may seem like subtle distinctions but they are important ones.**"
   ]
  },
  {
   "cell_type": "code",
   "execution_count": 2,
   "metadata": {},
   "outputs": [
    {
     "name": "stdout",
     "output_type": "stream",
     "text": [
      "Hello is truthy\n"
     ]
    }
   ],
   "source": [
    "a = \"Hello\"\n",
    "\n",
    "if a\n",
    "  puts \"Hello is truthy\"\n",
    "else\n",
    "  puts \"Hello is falsey\"\n",
    "end"
   ]
  },
  {
   "cell_type": "markdown",
   "metadata": {},
   "source": [
    "**Incorrect**\n",
    "- `a` is `true` and so 'Hello is truthy' is output would be incorrect\n",
    "- `a` is equal to `true` and so 'Hello is truthy' is output would be incorrect\n",
    "\n",
    "**Correct**\n",
    "- `a` evaluates as `true` in the conditional statement and so 'Hello is truthy' is output would be correct\n",
    "- `a` is truthy and so 'Hello is truthy' is output would be correct\n",
    "\n",
    "To sum up:\n",
    "- Use \"evaluates to `true`\", \"evaluates as `true`\", or \"is truthy\" when discussing an expression that evaluates as `true` in a boolean context\n",
    "- Do not use \"is `true`\" or \"is equal to `true`\" unless specifically discussing the boolean `true`\n",
    "- Use \"evaluates to `false`\", \"evaluates as `false`\", or \"is falsy\" when discussing an expression that evaluates as `false` in a boolean context\n",
    "- Do not use \"is `false`\" or \"is equal to `false`\" unless specifically discussing the boolean `false`"
   ]
  },
  {
   "cell_type": "markdown",
   "metadata": {},
   "source": [
    "### Method Definition and Method Invocation\n",
    "\n",
    "When discussing methods, particularly in terms of how blocks and methods interact with local variables, we want you to explain this in terms of method definition and method invocation. \n",
    "\n",
    "Review [this assignment](https://launchschool.com/lessons/a0f3cd44/assignments/9e9e907c) for an outline of the mental model to use."
   ]
  },
  {
   "cell_type": "markdown",
   "metadata": {},
   "source": [
    "### Variable References and Object Mutability Articles\n",
    "\n",
    "- [Variable References and Mutability of Ruby Objects](https://launchschool.medium.com/variable-references-and-mutability-of-ruby-objects-4046bd5b6717)\n",
    "- [Mutating and Non-Mutating Methods in Ruby](https://launchschool.medium.com/ruby-objects-mutating-and-non-mutating-methods-78023d849a5f)\n",
    "- [Object Passing in Ruby - Pass by Reference or Pass by Value](https://launchschool.medium.com/object-passing-in-ruby-pass-by-reference-or-pass-by-value-6886e8cdc34a)"
   ]
  },
  {
   "cell_type": "markdown",
   "metadata": {},
   "source": [
    "### Assessment Prep Videos\n",
    "\n",
    "- [Part 1](https://launchschool.medium.com/launch-school-live-session-beginning-ruby-c6432494ab34)\n",
    "- [Part 2](https://launchschool.medium.com/live-session-beginning-ruby-part-2-f87d821ce926)\n",
    "- [Part 3](https://launchschool.medium.com/live-session-beginning-ruby-part-3-61180782f721)"
   ]
  },
  {
   "cell_type": "markdown",
   "metadata": {},
   "source": [
    "### Additional Tips"
   ]
  },
  {
   "cell_type": "markdown",
   "metadata": {},
   "source": [
    "[Passing Launch School’s First Assessments: RB109](https://medium.com/launch-school/passing-launch-schools-first-assessments-rb109-4b2b047060dc)"
   ]
  },
  {
   "cell_type": "markdown",
   "metadata": {},
   "source": [
    "## [Advice for Ruby Programming Foundations Written Assessment](https://medium.com/how-i-started-learning-coding-from-scratch/advices-for-109-written-assessment-part-1-6f7fa821cf84)\n",
    "\n",
    "### Learn to use programming terms"
   ]
  },
  {
   "cell_type": "code",
   "execution_count": 4,
   "metadata": {},
   "outputs": [
    {
     "data": {
      "text/plain": [
       "\"goodbye\""
      ]
     },
     "execution_count": 4,
     "metadata": {},
     "output_type": "execute_result"
    }
   ],
   "source": [
    "a = 'hello'\n",
    "b = a\n",
    "a = 'goodbye'"
   ]
  },
  {
   "cell_type": "markdown",
   "metadata": {},
   "source": [
    "On line 1 of this code, local variable `a` is **initialized**.  \n",
    "\n",
    "On line 1, you are **assigning** the string object with a value `'hello'` to the local variable `a`.  (Object are just physical spaces in memory and local variables are referencing them.)\n",
    "\n",
    "Local variable `a` is **referencing** that string object with the value name.   \n",
    "\n",
    "```\n",
    "We are INITIALIZING a local variable `a` to a string object.  Now the local variable `a` REFERENCES the string object\n",
    "```\n",
    "\n",
    "On line 2 local variable `b` is initialized.\n",
    "\n",
    "On line 3 we are **reassigning** local variable `a` so now it references a different string object with a different value `'goodbye'`.\n",
    "\n",
    "A summary:\n",
    "\n",
    "- On `line 1` local variable `a` is initialized to a string object with value `'hello'` to it.\n",
    "- On `line 2` local variable `b` is initialized to a string object that the local variable `a` is referencing\n",
    "- On `line 3` local variable `a` is reassigned to a different string object with value `goodbye` to it.  \n",
    "    - So now local vairbale `a` is pointing to one string object with value `goodbye` and the local variable `b` is pointing to a string object with value `hello`."
   ]
  },
  {
   "cell_type": "code",
   "execution_count": 5,
   "metadata": {},
   "outputs": [
    {
     "name": "stdout",
     "output_type": "stream",
     "text": [
      "hello\n",
      "hello\n",
      "hello\n"
     ]
    }
   ],
   "source": [
    "def example(str)\n",
    "  i = 3\n",
    "  loop do\n",
    "    puts str\n",
    "    i -= 1\n",
    "    break if i == 0\n",
    "  end\n",
    "end\n",
    "\n",
    "example('hello')"
   ]
  },
  {
   "cell_type": "markdown",
   "metadata": {},
   "source": [
    "**LS Answer**\n",
    "\n",
    "On `lines 1 - 8` we are defining the method `example` which takes 1 parameter.  \n",
    "\n",
    "On `line 10` we are calling the method `example` and the passing the string `hello` as an argument to it.  \n",
    "    - **Methods are defined with parameters but they are called with arguments.**\n",
    "\n",
    "On `line 2` we are initializing the local variable `i` and assigning to it an integer with value `3`.  \n",
    "\n",
    "On `line 3` we are calling the method `loop` (`loop` is a method from the `Kernel` module) and **passing in** the `do...end` block as an argument.  The block is passed to the method call as an argument.  \n",
    "\n",
    "On `line 4` we are calling the method `puts` and passing in local variable `str` to it as an argument.  \n",
    "\n",
    "On `line 5` the local variable `i` is reassigned \n",
    "- `-=` is actually reassignment and is syntatical sugar for `i = i - 1`\n",
    "- `-` is not an operator but a method that can also be written as `i = i.-(1)`.  So inside of this code we are actually reassigning the local variable `i` to the return value of method call `Integer#-` on local variable `i` with integer `1`  passed to it as an argument.  \n",
    "\n",
    "On `line 6` we are breaking out of the loop by using the keyword `break` if the value of the object that the local variable `i` is referencing is equal to 0.  \n",
    "\n",
    "On `line 10` we are calling the method `example` and passing in string `hello` as an argument.  \n",
    "\n",
    "The code outputs `hello` 3 times and returns `nil`.  The last evaluated line in the method is returned since there is no explicit `return` inside of the method definition.  The last evaluated expression is `break if i == 0`, which returns `nil.`"
   ]
  },
  {
   "cell_type": "markdown",
   "metadata": {},
   "source": [
    "_____________"
   ]
  },
  {
   "cell_type": "markdown",
   "metadata": {},
   "source": [
    "**My answer**\n",
    "\n",
    "Lines 1 - 8 is a method defintion of method `example`.  On line 2 the local variable `i` is initialized to an integer with the value `3`.  On line 3 the `loop` method is invoked with a `do...end` block.  \n",
    "\n",
    "Within the block, on line 4, the `puts` method is invoked and the method argument `str` is passed to it.  This will output a string representation of the argument.  On line 5, the local variable `i` is decremented by `1`.  On line 6, there is a break statement.  The `break` will be executed only if the coditional statement `if i == 0` evaluates as `true`.  \n",
    "\n",
    "On line 10 the `example` method is invoked and the string `'hello'` is passed to it.  This code will output \n",
    "\n",
    "```ruby\n",
    "hello\n",
    "hello\n",
    "hello\n",
    "```"
   ]
  },
  {
   "cell_type": "markdown",
   "metadata": {},
   "source": [
    "### Variable Scoping"
   ]
  },
  {
   "cell_type": "code",
   "execution_count": 1,
   "metadata": {},
   "outputs": [
    {
     "name": "stdout",
     "output_type": "stream",
     "text": [
      "5\n"
     ]
    },
    {
     "ename": "NameError",
     "evalue": "undefined local variable or method `b' for #<Object:0x00007fbea028c600>",
     "output_type": "error",
     "traceback": [
      "\u001b[31mNameError\u001b[0m: undefined local variable or method `b' for #<Object:0x00007fbea028c600>",
      "(irb):9:in `irb_binding'"
     ]
    }
   ],
   "source": [
    "a = 4\n",
    "\n",
    "loop do\n",
    "  a = 5\n",
    "  b = 3\n",
    "  break\n",
    "end\n",
    "\n",
    "puts a\n",
    "puts b"
   ]
  },
  {
   "cell_type": "markdown",
   "metadata": {},
   "source": [
    "There are two scopes in this code:\n",
    "- An inner scope which is defined by the `do..end` block \n",
    "- An outer scope which includes everythinf else.  \n",
    "\n",
    "**Local variables that are initialized in an inner scope CANNOT be accessed in the outer scope**\n",
    "\n",
    "**But local variables initialized in the outer scope CAN be accessed in an inner scope**\n",
    "\n",
    "This is why we can reassign the local variable `a` on `line 4`, but if we try to initialize the variabel `b` it is not accessible in the outer scope.   "
   ]
  },
  {
   "cell_type": "markdown",
   "metadata": {},
   "source": [
    "One way to make the code output the value of local variable `b`:"
   ]
  },
  {
   "cell_type": "code",
   "execution_count": 1,
   "metadata": {},
   "outputs": [
    {
     "name": "stdout",
     "output_type": "stream",
     "text": [
      "5\n",
      "3\n"
     ]
    }
   ],
   "source": [
    "a = 4\n",
    "b = nil\n",
    "\n",
    "loop do\n",
    "  a = 5\n",
    "  b = 3\n",
    "  break\n",
    "end\n",
    "\n",
    "puts a\n",
    "puts b"
   ]
  },
  {
   "cell_type": "markdown",
   "metadata": {},
   "source": [
    "On `line 2` (in the outer scope) we have initialized the local variable `b` so now it is available in the inner scope defined by the block and when the `puts` method is called on `line 11`.  \n",
    "\n",
    "It outputs `3` since the variable was reassigned on `line 6` and returns `nil`."
   ]
  },
  {
   "cell_type": "code",
   "execution_count": 4,
   "metadata": {},
   "outputs": [
    {
     "name": "stdout",
     "output_type": "stream",
     "text": [
      "3\n",
      "2\n"
     ]
    }
   ],
   "source": [
    "a = 4\n",
    "b = 2\n",
    "\n",
    "loop do\n",
    "  c = 3\n",
    "  a = c\n",
    "  break\n",
    "end\n",
    "\n",
    "puts a\n",
    "puts b"
   ]
  },
  {
   "cell_type": "markdown",
   "metadata": {},
   "source": [
    "On `line 1` local variable `a` is initialized to the value `4` **within the outer scope**.\n",
    "\n",
    "One `line 2` local variable `b` is initialized to the value `2`.  \n",
    "\n",
    "On `line 4` the `loop` method is called and a `do..end` block is passed to it as an argument.  \n",
    "\n",
    "Inside the block, on `line 5` local variable `c` is initialized to the value `3`.  This variable has the block as its scope.\n",
    "\n",
    "On `line 6` local variable `a` is reassigned so that it now points to the same object that local variable `c` is referencing. Since we are still in the inner scope defined by the block, local variable `c` is accessible. \n",
    "\n",
    "On `line 10` the `puts` method is invoked and local variable `a` is passed to it as an argument.  Since `a` was reassigned within the block, this method call will output `3`.\n",
    "\n",
    "On `line 11` the `puts` method is invoked and `b` is passed to it.  This will output `2`.  \n",
    "\n",
    "Since `puts b` is the last line evaluated, this code will return `nil` because `puts` always returns `nil`."
   ]
  },
  {
   "cell_type": "markdown",
   "metadata": {},
   "source": [
    "**What would happen if on line 12 we added `puts c`?**\n",
    "\n",
    "It would return an error of course just like in the previous example, since this variable is not available in the outer scope."
   ]
  },
  {
   "cell_type": "markdown",
   "metadata": {},
   "source": [
    "### Variable Shadowing"
   ]
  },
  {
   "cell_type": "code",
   "execution_count": 6,
   "metadata": {},
   "outputs": [
    {
     "name": "stdout",
     "output_type": "stream",
     "text": [
      "5\n",
      "5\n",
      "4\n",
      "2\n"
     ]
    }
   ],
   "source": [
    "a = 4\n",
    "b = 2\n",
    "\n",
    "2.times do |a|\n",
    "  a = 5\n",
    "  puts a\n",
    "end\n",
    "\n",
    "puts a\n",
    "puts b"
   ]
  },
  {
   "cell_type": "markdown",
   "metadata": {},
   "source": [
    "On `line 1` local variable `a` is initialized to the value `4`.  \n",
    "\n",
    "On `line 2` local variable `b` is initialized to the value `2`.  \n",
    "\n",
    "On `line 4` the `times` method is called on integer `2` and a `do..end` block is passed to it with one paramter `a`.\n",
    "  \n",
    "Within the block, on `line 5`, local variable `a` is initialized to the value `5`.  **We are assiging the integer 5 to the local variable `a` which was passed in as a parameter of the `do..end` block and the value of local variable `a` intialized outside of the block remains `4`.**\n",
    "\n",
    "On `line 6`, the `puts` method is called and local variable `a` is passed to it.  This block will output `5` twice.\n",
    "  \n",
    "On `line 9` the `puts` method is called and local variable `a` is passed to it as an argument.  This will output `4`. \n",
    "\n",
    "On `line 10` the `puts` method is called and local varibale `b` is passed to it as an argument.  This will output `2`.\n",
    "  \n",
    "`puts b` is the last evaluated line in this code and it will return `nil` because `puts` always returns `nil`."
   ]
  },
  {
   "cell_type": "markdown",
   "metadata": {},
   "source": [
    "**Variable shadowing** happens when a parameter name of the block is the same as the name of the local variable which was initialized outside of the block.\n",
    "\n",
    "The consequence of variable shadowing is that it prevents access to variables of the same name initialized outside of trhe block.  "
   ]
  },
  {
   "cell_type": "markdown",
   "metadata": {},
   "source": [
    "**How could we fix this code so it actually reassigns local variable `a` inside of the `do..end` block?**\n",
    "\n",
    "Change the name of the parameter of the `do..end` block."
   ]
  },
  {
   "cell_type": "code",
   "execution_count": 7,
   "metadata": {},
   "outputs": [
    {
     "name": "stdout",
     "output_type": "stream",
     "text": [
      "5\n",
      "5\n",
      "5\n",
      "2\n"
     ]
    }
   ],
   "source": [
    "a = 4\n",
    "b = 2\n",
    "\n",
    "2.times do |_|\n",
    "  a = 5\n",
    "  puts a\n",
    "end\n",
    "\n",
    "puts a\n",
    "puts b"
   ]
  },
  {
   "cell_type": "markdown",
   "metadata": {},
   "source": [
    "### `each`, `map`, and `select` methods"
   ]
  },
  {
   "cell_type": "code",
   "execution_count": 8,
   "metadata": {},
   "outputs": [
    {
     "name": "stdout",
     "output_type": "stream",
     "text": [
      "1\n",
      "2\n",
      "3\n",
      "4\n"
     ]
    },
    {
     "data": {
      "text/plain": [
       "[1, 2, 3, 4]"
      ]
     },
     "execution_count": 8,
     "metadata": {},
     "output_type": "execute_result"
    }
   ],
   "source": [
    "[1, 2, 3, 4].each { |num| puts num }"
   ]
  },
  {
   "cell_type": "markdown",
   "metadata": {},
   "source": [
    "The `each` method:\n",
    "- iterates through the array object passing each element of the array to the block\n",
    "- runs the block \n",
    "    - in this case outputting the value of the paramter `num`\n",
    "- And when it finished iterating it returns the original array.\n",
    "\n",
    "**The `each` method doesn't care about the return value of the block**"
   ]
  },
  {
   "cell_type": "code",
   "execution_count": 9,
   "metadata": {},
   "outputs": [
    {
     "name": "stdout",
     "output_type": "stream",
     "text": [
      "1\n",
      "2\n",
      "3\n",
      "4\n"
     ]
    },
    {
     "data": {
      "text/plain": [
       "[nil, nil, nil, nil]"
      ]
     },
     "execution_count": 9,
     "metadata": {},
     "output_type": "execute_result"
    }
   ],
   "source": [
    "[1, 2, 3, 4].map { |num| puts num }"
   ]
  },
  {
   "cell_type": "markdown",
   "metadata": {},
   "source": [
    "The `map` method:\n",
    "- iterates through the array object passing each element of the array to the block\n",
    "- runs the block\n",
    "- `map` method takes the return value of the block and moves it into a new array and when it finishes every iteration it returns that new array with the elements that were passed in it.\n",
    "\n",
    "**Since we are calling the `puts` method inside the block, which always returns `nil`, the map method call would return a new array of 4 `nil`s**\n",
    "\n",
    "It will also output all values from the original array since the `puts` method is called in the block"
   ]
  },
  {
   "cell_type": "code",
   "execution_count": 10,
   "metadata": {
    "scrolled": true
   },
   "outputs": [
    {
     "name": "stdout",
     "output_type": "stream",
     "text": [
      "1\n",
      "2\n",
      "3\n",
      "4\n"
     ]
    },
    {
     "data": {
      "text/plain": [
       "[]"
      ]
     },
     "execution_count": 10,
     "metadata": {},
     "output_type": "execute_result"
    }
   ],
   "source": [
    "[1, 2, 3, 4].select { |num| puts num }"
   ]
  },
  {
   "cell_type": "markdown",
   "metadata": {},
   "source": [
    "The `select` method:\n",
    "- Iterates through the array object passing each element of the array to the block \n",
    "- runs the block\n",
    "- The `select` method considers whether or not block's return value evaluates to `true`. If the block's return evaluates to `true` then it takes that element and puts it in the new array.\n",
    "\n",
    "**The return value of the `select` method call would be an empty array because `puts` is invoked on each iteration, which would cause the block return value to evaluate to `false` since `puts` always return `nil`. So none of the elements from the original array would be put in the new array**"
   ]
  }
 ],
 "metadata": {
  "kernelspec": {
   "display_name": "Ruby 2.7.5",
   "language": "ruby",
   "name": "ruby"
  },
  "language_info": {
   "file_extension": ".rb",
   "mimetype": "application/x-ruby",
   "name": "ruby",
   "version": "2.7.5"
  }
 },
 "nbformat": 4,
 "nbformat_minor": 4
}
