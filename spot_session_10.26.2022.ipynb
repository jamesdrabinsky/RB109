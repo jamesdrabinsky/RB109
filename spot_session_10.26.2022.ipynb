{
 "cells": [
  {
   "cell_type": "markdown",
   "metadata": {},
   "source": [
    "STUDY GUIDE\n",
    "- local variable scope, especially how local variables interact with method invocations with blocks and method definitions\n",
    "- mutating vs non-mutating methods, pass-by-reference vs pass-by-value\n",
    "- working with collections (Array, Hash, String), and popular collection methods (each, map, select, etc). Review the two lessons on these topics thoroughly.\n",
    "- variables as pointers\n",
    "- puts vs return\n",
    "- false vs nil and the idea of \"truthiness\"\n",
    "- method definition and method invocation\n",
    "- implicit return value of method invocations and blocks\n",
    "- how the Array#sort method works"
   ]
  },
  {
   "cell_type": "code",
   "execution_count": null,
   "metadata": {},
   "outputs": [],
   "source": [
    "arr = [1, 2, 3]\n",
    "\n",
    "arr.each do |num|\n",
    "  num + 2\n",
    "end"
   ]
  },
  {
   "cell_type": "markdown",
   "metadata": {},
   "source": [
    "On `line 23` we initialize local variable `arr` to array object `[1,2,3]`\n",
    "\n",
    "On `line 25` we are invoking the `each` method on the object referenced by `arr`\n",
    "\n",
    "We pass in a block with one block parameter `num` \n",
    "\n",
    "One each iteration we return the value of `num + 2`"
   ]
  },
  {
   "cell_type": "code",
   "execution_count": 1,
   "metadata": {},
   "outputs": [
    {
     "name": "stdout",
     "output_type": "stream",
     "text": [
      "\"Bob Smith\"\n",
      "\"Bob Smith\"\n"
     ]
    },
    {
     "data": {
      "text/plain": [
       "\"Bob Smith\""
      ]
     },
     "execution_count": 1,
     "metadata": {},
     "output_type": "execute_result"
    }
   ],
   "source": [
    "a = 'Bob'\n",
    "b = a\n",
    "a << ' Smith'\n",
    "\n",
    "p a\n",
    "p b\n",
    "\n",
    "# What do lines 27 and 28 output, why. What concept does this demonstrate."
   ]
  },
  {
   "cell_type": "markdown",
   "metadata": {},
   "source": [
    "Variables as pointers to addresses in memory space."
   ]
  },
  {
   "cell_type": "code",
   "execution_count": 2,
   "metadata": {},
   "outputs": [
    {
     "data": {
      "text/plain": [
       ":method"
      ]
     },
     "execution_count": 2,
     "metadata": {},
     "output_type": "execute_result"
    }
   ],
   "source": [
    "def method(a)\n",
    "  a = \"Smith\"\n",
    "end"
   ]
  },
  {
   "cell_type": "markdown",
   "metadata": {},
   "source": [
    "This is an example of pass by value because resassignment is non-mutation.  `a` is pointing to a different memory address.  "
   ]
  },
  {
   "cell_type": "code",
   "execution_count": 3,
   "metadata": {},
   "outputs": [
    {
     "name": "stdout",
     "output_type": "stream",
     "text": [
      "green\n",
      "green\n"
     ]
    },
    {
     "ename": "NameError",
     "evalue": "undefined local variable or method `c' for #<Object:0x00007ff3a6202208>\nDid you mean?  cb",
     "output_type": "error",
     "traceback": [
      "\u001b[31mNameError\u001b[0m: undefined local variable or method `c' for #<Object:0x00007ff3a6202208>\nDid you mean?  cb",
      "(irb):11:in `irb_binding'"
     ]
    }
   ],
   "source": [
    "a = 'red'\n",
    "b = 'green'\n",
    "\n",
    "loop do\n",
    "  c = b\n",
    "  a = c\n",
    "  break\n",
    "end\n",
    "\n",
    "puts a\n",
    "puts b\n",
    "puts c"
   ]
  },
  {
   "cell_type": "markdown",
   "metadata": {},
   "source": [
    "Local variables initialized inside the scope of a loop cannot be accessed in the outside scope."
   ]
  },
  {
   "cell_type": "code",
   "execution_count": 4,
   "metadata": {},
   "outputs": [
    {
     "name": "stdout",
     "output_type": "stream",
     "text": [
      "hello\n",
      "hello\n",
      "hello\n"
     ]
    }
   ],
   "source": [
    "def example(str)  \n",
    "  i = 3  \n",
    "  loop do  \n",
    "    puts str  \n",
    "    i -= 1  \n",
    "    break if i == 0  \n",
    "  end  \n",
    "end  \n",
    "  \n",
    "example('hello')\n",
    "\n",
    "# 1. What does the following code return? What does it output? Why? What concept does it demonstrate?"
   ]
  },
  {
   "cell_type": "code",
   "execution_count": 6,
   "metadata": {},
   "outputs": [
    {
     "name": "stdout",
     "output_type": "stream",
     "text": [
      "[\"10\", \"11\", \"7\", \"8\", \"9\"]\n"
     ]
    },
    {
     "data": {
      "text/plain": [
       "[\"10\", \"11\", \"7\", \"8\", \"9\"]"
      ]
     },
     "execution_count": 6,
     "metadata": {},
     "output_type": "execute_result"
    }
   ],
   "source": [
    "arr = [\"9\", \"8\", \"7\", \"10\", \"11\"]\n",
    "\n",
    "p arr.sort do |x, y|\n",
    "    y.to_i <=> x.to_i\n",
    "  end\n"
   ]
  },
  {
   "cell_type": "markdown",
   "metadata": {},
   "source": []
  },
  {
   "cell_type": "code",
   "execution_count": 8,
   "metadata": {},
   "outputs": [
    {
     "name": "stdout",
     "output_type": "stream",
     "text": [
      "1\n",
      "3\n",
      "5\n"
     ]
    },
    {
     "data": {
      "text/plain": [
       "[]"
      ]
     },
     "execution_count": 8,
     "metadata": {},
     "output_type": "execute_result"
    }
   ],
   "source": [
    "# What does the following code return? What does it output? Why? What concept does it   demonstrate?\n",
    "\n",
    "array = [1, 2, 3, 4, 5]\n",
    "\n",
    "new_arr = array.select do |num| \n",
    "   puts num if num.odd?\n",
    "end"
   ]
  },
  {
   "cell_type": "code",
   "execution_count": 9,
   "metadata": {},
   "outputs": [
    {
     "data": {
      "text/plain": [
       "[]"
      ]
     },
     "execution_count": 9,
     "metadata": {},
     "output_type": "execute_result"
    }
   ],
   "source": [
    "new_arr"
   ]
  },
  {
   "cell_type": "markdown",
   "metadata": {},
   "source": [
    "The local variable `array` is initialized to the value  `[1, 2, 3, 4, 5]`\n",
    "\n",
    "The `select` method is called on the object referenced by `array`.  \n",
    "\n",
    "Within the `do..end` block passed to the `select` method, the `puts` method is called. The return value of this called if `num if num.odd?` evaluates to true, which will be the case for all elements in the array.\n",
    "\n",
    "As `select` iterates over the array object, each integer element is passed into the block in succession.  `select` will look at the truthiness of the block's return value.  Because `puts` always returns `nil` the block will return a falsy value on each iteration.  So the `select` method call will return an array of `nil` `[nil, nil, nil, nil]`\n",
    "\n",
    "This code will output `1, 3, 5`."
   ]
  },
  {
   "cell_type": "markdown",
   "metadata": {},
   "source": []
  }
 ],
 "metadata": {
  "kernelspec": {
   "display_name": "Ruby 2.7.5",
   "language": "ruby",
   "name": "ruby"
  },
  "language_info": {
   "file_extension": ".rb",
   "mimetype": "application/x-ruby",
   "name": "ruby",
   "version": "2.7.5"
  },
  "orig_nbformat": 4
 },
 "nbformat": 4,
 "nbformat_minor": 2
}
