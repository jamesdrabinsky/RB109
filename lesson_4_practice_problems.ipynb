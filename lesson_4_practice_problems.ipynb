{
 "cells": [
  {
   "cell_type": "markdown",
   "metadata": {},
   "source": [
    "## Practice Problems: Methods and More Methods"
   ]
  },
  {
   "cell_type": "markdown",
   "metadata": {},
   "source": [
    "**1. What is the return value of the `select` method below? Why?**"
   ]
  },
  {
   "cell_type": "code",
   "execution_count": 1,
   "metadata": {},
   "outputs": [
    {
     "data": {
      "text/plain": [
       "[1, 2, 3]"
      ]
     },
     "execution_count": 1,
     "metadata": {},
     "output_type": "execute_result"
    }
   ],
   "source": [
    "[1, 2, 3].select do |num|\n",
    "  num > 5\n",
    "  'hi'\n",
    "end"
   ]
  },
  {
   "cell_type": "markdown",
   "metadata": {},
   "source": [
    "On line 1 the `select` method is called on the array object `[1, 2, 3]`.  A `do..end` block is passed to the `select` method call as an argument and `select` passes each element in the calling array to the block in the form of an argument, in this case `num`.  On every iteration, the block's return value will be the last evaluated expression within the block, which is `\"hi\"`.  The `select` method considers the \"truthiness\" of the block's return value.  `\"Hi\"` evaluates to `true` so `select` will select all elements from the original array and place them in a new array.  Therefore, the return value will be a new array with the values `[1, 2, 3]`. "
   ]
  },
  {
   "cell_type": "markdown",
   "metadata": {},
   "source": [
    "**2. How does `count` treat the block's return value? How can we find out?**"
   ]
  },
  {
   "cell_type": "code",
   "execution_count": 2,
   "metadata": {},
   "outputs": [
    {
     "data": {
      "text/plain": [
       "2"
      ]
     },
     "execution_count": 2,
     "metadata": {},
     "output_type": "execute_result"
    }
   ],
   "source": [
    "['ant', 'bat', 'caterpillar'].count do |str|\n",
    "  str.length < 4\n",
    "end"
   ]
  },
  {
   "cell_type": "markdown",
   "metadata": {},
   "source": [
    "On line 1 the count method is called on the array object `['ant', 'bat', 'caterpillar']`.  A `do..end` block is passed to the `count` method as an argument and `count` passes each element of the calling array to the block in the form of an argument, in this case `str`.  Within the block, on line 2, the `length` method is called on each element of the calling array, and `Integer#<` is called on the returned integer and `4` is passed to this method as an argument.  `count` considers the \"truthiness\" of the block's return value and counts the number of elements for which the block return value evaluates as `true`. If this comparison evaluates as true then the block returns `true` and `count` will count it.  This code will return `2` since only the first two elements have a length less than 4."
   ]
  },
  {
   "cell_type": "markdown",
   "metadata": {},
   "source": [
    "**3. What is the return value of `reject` in the following code? Why?**"
   ]
  },
  {
   "cell_type": "code",
   "execution_count": 5,
   "metadata": {},
   "outputs": [
    {
     "name": "stdout",
     "output_type": "stream",
     "text": [
      "1\n",
      "2\n",
      "3\n"
     ]
    },
    {
     "data": {
      "text/plain": [
       "[1, 2, 3]"
      ]
     },
     "execution_count": 5,
     "metadata": {},
     "output_type": "execute_result"
    }
   ],
   "source": [
    "[1, 2, 3].reject do |num|\n",
    "  puts num\n",
    "end"
   ]
  },
  {
   "cell_type": "markdown",
   "metadata": {},
   "source": [
    "**4. What is the return value of `each_with_object` in the following code? Why?**"
   ]
  },
  {
   "cell_type": "markdown",
   "metadata": {},
   "source": [
    "On line 1 the `reject` method is called on the array object `[1, 2, 3]`.  A `do..end` block is passed to the `reject` method as an argument and `reject` passes each element of the calling array to the block in the form of an argument, in this case `num`.  `reject` considers the \"truthiness\" of the block's return value and only selects for an element if the block's return value evaluates to `false`.  On each iteration, `puts num` is the last line executed in the block.  The `puts` method call returns `nil` which evaluates to `false`.  Therefore, `reject` will return a new array with all three elements from the original collection."
   ]
  },
  {
   "cell_type": "code",
   "execution_count": 6,
   "metadata": {},
   "outputs": [
    {
     "data": {
      "text/plain": [
       "{\"a\"=>\"ant\", \"b\"=>\"bear\", \"c\"=>\"cat\"}"
      ]
     },
     "execution_count": 6,
     "metadata": {},
     "output_type": "execute_result"
    }
   ],
   "source": [
    "['ant', 'bear', 'cat'].each_with_object({}) do |value, hash|\n",
    "  hash[value[0]] = value\n",
    "end"
   ]
  },
  {
   "cell_type": "markdown",
   "metadata": {},
   "source": [
    "On line 1 the `Enumerable#each_with_object` method is called on the array object `['ant', 'bear', 'cat']` and an empty dictionary object is passed to the method as an argument.  A `do..end` block is passed to the method call as an argument and `each_with_object` passes each element, along with the argument collection, to the block, and it's updated value is returned at the end of each iteration. \n",
    "\n",
    "The block is using hash element assignment to assign each element of the calling collection to a hash key which consists of the first character in each element.  Once iteration is complete, `each_with_object` will return the initially given object, which now contains all of the updates..  This code will return<br><br>\n",
    "`{ \"a\"=>\"ant\", \"b\"=>\"bear\", \"c\"=>\"cat\" }`."
   ]
  },
  {
   "cell_type": "markdown",
   "metadata": {},
   "source": [
    "**5. What does `shift` do in the following code? How can we find out?**"
   ]
  },
  {
   "cell_type": "code",
   "execution_count": 7,
   "metadata": {},
   "outputs": [
    {
     "data": {
      "text/plain": [
       "[:a, \"ant\"]"
      ]
     },
     "execution_count": 7,
     "metadata": {},
     "output_type": "execute_result"
    }
   ],
   "source": [
    "hash = { a: 'ant', b: 'bear' }\n",
    "hash.shift"
   ]
  },
  {
   "cell_type": "markdown",
   "metadata": {},
   "source": [
    "On line 1 the local variable `hash` is initialized to the value `{ a: 'ant', b: 'bear' }`.  On line 2 the `Hash#shift` method is called on the hash object assigned to `hash`.  This is a mutating or destructive method which removes the first key-value pair from the hash and returns it as a two-item array.  This code will return<br><br> `[:a, 'ant']`"
   ]
  },
  {
   "cell_type": "markdown",
   "metadata": {},
   "source": [
    "**6. What is the return value of the following statement? Why?**"
   ]
  },
  {
   "cell_type": "code",
   "execution_count": 9,
   "metadata": {},
   "outputs": [
    {
     "data": {
      "text/plain": [
       "11"
      ]
     },
     "execution_count": 9,
     "metadata": {},
     "output_type": "execute_result"
    }
   ],
   "source": [
    "['ant', 'bear', 'caterpillar'].pop.size"
   ]
  },
  {
   "cell_type": "markdown",
   "metadata": {},
   "source": [
    "The above code demonstrates the use of chained methods.  First, the `Array#pop` method is called on the array object `['ant', 'bear', 'caterpillar']`.  This is a mutating method which destructively removes the last element from an array and returns that element.  In this case, `['ant', 'bear', 'caterpillar'].pop` will return `\"caterpillar`:.  Second, the `String#size` method is called on `\"caterpillar\"`.  This is a non-mutating method which returns the character length of a string as an integer.  This method call will return the integer `11`, since `\"caterpillar\"` has a length of 11 characters.  "
   ]
  },
  {
   "cell_type": "markdown",
   "metadata": {},
   "source": [
    "**7. What is the block's return value in the following code? How is it determined? Also, what is the return value of `any?` in this code and what does it output?**"
   ]
  },
  {
   "cell_type": "code",
   "execution_count": 10,
   "metadata": {},
   "outputs": [
    {
     "name": "stdout",
     "output_type": "stream",
     "text": [
      "1\n"
     ]
    },
    {
     "data": {
      "text/plain": [
       "true"
      ]
     },
     "execution_count": 10,
     "metadata": {},
     "output_type": "execute_result"
    }
   ],
   "source": [
    "[1, 2, 3].any? do |num|\n",
    "  puts num\n",
    "  num.odd?\n",
    "end"
   ]
  },
  {
   "cell_type": "markdown",
   "metadata": {},
   "source": [
    "On line 1 the `Array#any?` method is called on `[1, 2, 3]`.  A `do..end` block is passed to the method as an argument and `any?` passed each element of the array to the block in the form of an argument, in this case `num`.  The last executed expression in the block is `num.odd?`.  The `Integer#odd?` method call will return a boolean (`true` if the calling integer is odd, otherwise `false`).  So the block's return values in this code will be `true, false, true`.   \n",
    "\n",
    "The `Array#any?` returns `true` if at least one of the blocks return values evaluates to `true`.  This code will return `true` since the block returns `true` on the first iteration.  What is also interesting here is `any?` stops iterating after the first element since there is no need to evaluate the remaining items in the array; therefore, `puts num` is only ever invoked for the first item in the array: `1`."
   ]
  },
  {
   "cell_type": "markdown",
   "metadata": {},
   "source": [
    "**8. How does take work? Is it destructive? How can we find out?**"
   ]
  },
  {
   "cell_type": "code",
   "execution_count": 11,
   "metadata": {},
   "outputs": [
    {
     "data": {
      "text/plain": [
       "[1, 2]"
      ]
     },
     "execution_count": 11,
     "metadata": {},
     "output_type": "execute_result"
    }
   ],
   "source": [
    "arr = [1, 2, 3, 4, 5]\n",
    "arr.take(2)"
   ]
  },
  {
   "cell_type": "markdown",
   "metadata": {},
   "source": [
    "`Array#take` takes the first first `n` elements from the calling array and returns them in a new array.  This a non-mutating method so it is not destructive.  This code will return:<br><br> `[1, 2]`"
   ]
  },
  {
   "cell_type": "markdown",
   "metadata": {},
   "source": [
    "**9. What is the return value of map in the following code? Why?**"
   ]
  },
  {
   "cell_type": "code",
   "execution_count": 12,
   "metadata": {},
   "outputs": [
    {
     "data": {
      "text/plain": [
       "[nil, \"bear\"]"
      ]
     },
     "execution_count": 12,
     "metadata": {},
     "output_type": "execute_result"
    }
   ],
   "source": [
    "{ a: 'ant', b: 'bear' }.map do |key, value|\n",
    "  if value.size > 3\n",
    "    value\n",
    "  end\n",
    "end"
   ]
  },
  {
   "cell_type": "markdown",
   "metadata": {},
   "source": [
    "On line 1 the `Hash#map` method is called on `{ a: 'ant', b: 'bear' }`.  A `do..end` block is passed to `map` as an argument and `map` passes each key-value pair to the block in the form of two arguments, in this case `key` and `value`.  Within the block. the `String#size`method is called on each value in the calling hash and the `Integer#>` method is called on the returned integer value with `3` passed to this method as an argument.  This comparison will return a boolean value.  If the comparison evaluates as true, the block returns the hash value.  If the comparison evaluates as false the hash value is not returned.  When none of the conditions in an `if` statement evaluates as true, the `if` statement itself returns `nil`. `map` returns the block's return values in a new array.  This code will returrn<br><br>\n",
    "\n",
    "`[nil, \"bear\"]`"
   ]
  },
  {
   "cell_type": "markdown",
   "metadata": {},
   "source": [
    "**10.  What is the return value of the following code? Why?**"
   ]
  },
  {
   "cell_type": "code",
   "execution_count": 13,
   "metadata": {},
   "outputs": [
    {
     "name": "stdout",
     "output_type": "stream",
     "text": [
      "2\n",
      "3\n"
     ]
    },
    {
     "data": {
      "text/plain": [
       "[1, nil, nil]"
      ]
     },
     "execution_count": 13,
     "metadata": {},
     "output_type": "execute_result"
    }
   ],
   "source": [
    "[1, 2, 3].map do |num|\n",
    "  if num > 1\n",
    "    puts num\n",
    "  else\n",
    "    num\n",
    "  end\n",
    "end"
   ]
  },
  {
   "cell_type": "markdown",
   "metadata": {},
   "source": [
    "On line 1 `Array#map` is called on `[1, 2, 3]` and a `do..end` block is passed to `map` as an argument.  `map` passes each element of the calling array to the block in the form of an argument, in this case `num`.  On line 2, `Integer#>` is called on the current array element and `1` is passed as an argument to the method.  If the current element is greater than `1` then the comparison evaluates to true and `puts num` is invoked on line 3 and is the last evalualted line in the block. This will cause the block to return `nil` since `puts` always returns `nil`.  If the comparison evaluates to false, the block returns the current element since `num` would be the last evaluated line in the block.\n",
    "\n",
    "`map` considers the block's return value for transformation and returns a new array consisting of the block's return values.  This code will return<br><br>\n",
    "\n",
    "`[1, nil, nil]`"
   ]
  },
  {
   "cell_type": "markdown",
   "metadata": {},
   "source": [
    "______"
   ]
  },
  {
   "cell_type": "markdown",
   "metadata": {},
   "source": [
    "## Practice Problems: Additional Practice"
   ]
  },
  {
   "cell_type": "markdown",
   "metadata": {},
   "source": [
    "**1. Given the array below, turn this array into a hash where the names are the keys and the values are the positions in the array.**"
   ]
  },
  {
   "cell_type": "code",
   "execution_count": 15,
   "metadata": {},
   "outputs": [
    {
     "data": {
      "text/plain": [
       "{\"Fred\"=>0, \"Barney\"=>1, \"Wilma\"=>2, \"Betty\"=>3, \"Pebbles\"=>4, \"BamBam\"=>5}"
      ]
     },
     "execution_count": 15,
     "metadata": {},
     "output_type": "execute_result"
    }
   ],
   "source": [
    "flintstones = [\"Fred\", \"Barney\", \"Wilma\", \"Betty\", \"Pebbles\", \"BamBam\"]\n",
    "\n",
    "flintstones.each_with_index.each_with_object({}) do |(name, i), hsh| \n",
    "  hsh[name] = i\n",
    "end"
   ]
  },
  {
   "cell_type": "markdown",
   "metadata": {},
   "source": [
    "**2. Add up all of the ages from the Munster family hash:**"
   ]
  },
  {
   "cell_type": "code",
   "execution_count": 17,
   "metadata": {},
   "outputs": [
    {
     "data": {
      "text/plain": [
       "6174"
      ]
     },
     "execution_count": 17,
     "metadata": {},
     "output_type": "execute_result"
    }
   ],
   "source": [
    "ages = { \"Herman\" => 32, \"Lily\" => 30, \"Grandpa\" => 5843, \"Eddie\" => 10, \"Marilyn\" => 22, \"Spot\" => 237 }\n",
    "\n",
    "ages.values.sum"
   ]
  },
  {
   "cell_type": "markdown",
   "metadata": {},
   "source": [
    "**3. In the ages hash, remove people with age 100 and greater.**"
   ]
  },
  {
   "cell_type": "code",
   "execution_count": 21,
   "metadata": {},
   "outputs": [
    {
     "data": {
      "text/plain": [
       "{\"Herman\"=>32, \"Lily\"=>30, \"Eddie\"=>10}"
      ]
     },
     "execution_count": 21,
     "metadata": {},
     "output_type": "execute_result"
    }
   ],
   "source": [
    "ages = { \"Herman\" => 32, \"Lily\" => 30, \"Grandpa\" => 402, \"Eddie\" => 10 }\n",
    "\n",
    "ages.delete_if { |_, v| v >= 100 }\n",
    "# ages.select! { |_, v| v >= 100 }"
   ]
  },
  {
   "cell_type": "markdown",
   "metadata": {},
   "source": [
    "**4.Pick out the minimum age from our current Munster family hash:**"
   ]
  },
  {
   "cell_type": "code",
   "execution_count": 28,
   "metadata": {},
   "outputs": [
    {
     "data": {
      "text/plain": [
       "10"
      ]
     },
     "execution_count": 28,
     "metadata": {},
     "output_type": "execute_result"
    }
   ],
   "source": [
    "ages = { \"Herman\" => 32, \"Lily\" => 30, \"Grandpa\" => 5843, \"Eddie\" => 10, \"Marilyn\" => 22, \"Spot\" => 237 }\n",
    "\n",
    "ages.values.min\n",
    "# ages.min_by { |_, v| v }[1]"
   ]
  },
  {
   "cell_type": "markdown",
   "metadata": {},
   "source": [
    "**5. In the array: Find the index of the first name that starts with \"Be\"**"
   ]
  },
  {
   "cell_type": "code",
   "execution_count": 33,
   "metadata": {},
   "outputs": [
    {
     "data": {
      "text/plain": [
       "3"
      ]
     },
     "execution_count": 33,
     "metadata": {},
     "output_type": "execute_result"
    }
   ],
   "source": [
    "flintstones = %w(Fred Barney Wilma Betty BamBam Pebbles)\n",
    "\n",
    "flintstones.index { |name| name.start_with?(\"Be\") }"
   ]
  },
  {
   "cell_type": "markdown",
   "metadata": {},
   "source": [
    "**6. Amend this array so that the names are all shortened to just the first three characters:**"
   ]
  },
  {
   "cell_type": "code",
   "execution_count": 35,
   "metadata": {},
   "outputs": [
    {
     "data": {
      "text/plain": [
       "[\"Fre\", \"Bar\", \"Wil\", \"Bet\", \"Bam\", \"Peb\"]"
      ]
     },
     "execution_count": 35,
     "metadata": {},
     "output_type": "execute_result"
    }
   ],
   "source": [
    "flintstones = %w(Fred Barney Wilma Betty BamBam Pebbles)\n",
    "\n",
    "flintstones.map! { |name| name[..2] }"
   ]
  },
  {
   "cell_type": "markdown",
   "metadata": {},
   "source": [
    "**7. Create a hash that expresses the frequency with which each letter occurs in this string:**"
   ]
  },
  {
   "cell_type": "code",
   "execution_count": 39,
   "metadata": {},
   "outputs": [
    {
     "data": {
      "text/plain": [
       "{\"T\"=>1, \"h\"=>1, \"e\"=>2, \"F\"=>1, \"l\"=>1, \"i\"=>1, \"n\"=>2, \"t\"=>2, \"s\"=>2, \"o\"=>2, \"R\"=>1, \"c\"=>1, \"k\"=>1}"
      ]
     },
     "execution_count": 39,
     "metadata": {},
     "output_type": "execute_result"
    }
   ],
   "source": [
    "statement = \"The Flintstones Rock\"\n",
    "\n",
    "statement.split.join.chars.tally\n",
    "\n",
    "# statement.split.join.chars.each_with_object(Hash.new(0)) do |char, hsh|\n",
    "#   hsh[char] += 1\n",
    "# end"
   ]
  },
  {
   "cell_type": "markdown",
   "metadata": {},
   "source": [
    "**8. What happens when we modify an array while we are iterating over it? What would be output by this code?**"
   ]
  },
  {
   "cell_type": "code",
   "execution_count": 40,
   "metadata": {},
   "outputs": [
    {
     "name": "stdout",
     "output_type": "stream",
     "text": [
      "1\n",
      "3\n"
     ]
    },
    {
     "data": {
      "text/plain": [
       "[3, 4]"
      ]
     },
     "execution_count": 40,
     "metadata": {},
     "output_type": "execute_result"
    }
   ],
   "source": [
    "numbers = [1, 2, 3, 4]\n",
    "\n",
    "numbers.each do |number|\n",
    "  p number\n",
    "  numbers.shift(1)\n",
    "end"
   ]
  },
  {
   "cell_type": "code",
   "execution_count": 41,
   "metadata": {},
   "outputs": [
    {
     "name": "stdout",
     "output_type": "stream",
     "text": [
      "1\n",
      "2\n"
     ]
    },
    {
     "data": {
      "text/plain": [
       "[1, 2]"
      ]
     },
     "execution_count": 41,
     "metadata": {},
     "output_type": "execute_result"
    }
   ],
   "source": [
    "numbers = [1, 2, 3, 4]\n",
    "\n",
    "numbers.each do |number|\n",
    "  p number\n",
    "  numbers.pop(1)\n",
    "end"
   ]
  },
  {
   "cell_type": "markdown",
   "metadata": {},
   "source": [
    "- From this we see that our array is being changed as we go (shortened and shifted), and **the loop counter used by `#each` is compared against the current length of the array rather than its original length.**\n",
    "- In our first example, the removal of the first item in the first pass changes the value found for the second pass.\n",
    "- In our second example, we are shortening the array each pass just as in the first example...but the items removed are beyond the point we are sampling from in the abbreviated loop.\n",
    "- In both cases we see that **iterators DO NOT work on a copy of the original array or from stale meta-data (length) about the array. They operate on the original array in real time.**"
   ]
  },
  {
   "cell_type": "markdown",
   "metadata": {},
   "source": [
    "**9. As we have seen previously we can use some built-in string methods to change the case of a string. A notably missing method is something provided in Rails, but not in Ruby itself...titleize. This method in Ruby on Rails creates a string that has each word capitalized as it would be in a title. For example, the string:**\n",
    "\n",
    "**Write your own version of the rails titleize implementation.**"
   ]
  },
  {
   "cell_type": "code",
   "execution_count": 43,
   "metadata": {},
   "outputs": [
    {
     "data": {
      "text/plain": [
       "\"The Flintstones Rock\""
      ]
     },
     "execution_count": 43,
     "metadata": {},
     "output_type": "execute_result"
    }
   ],
   "source": [
    "def titleize(title)\n",
    "  title.split.map(&:capitalize).join(' ')\n",
    "end\n",
    "\n",
    "words = \"the flintstones rock\"\n",
    "titleize(words)"
   ]
  },
  {
   "cell_type": "markdown",
   "metadata": {},
   "source": [
    "<b> 10.  Given the munsters hash below\n",
    "\n",
    "Modify the hash such that each member of the Munster family has an additional \"age_group\" key that has one of three values describing the age group the family member is in (kid, adult, or senior). Your solution should produce the hash below\n",
    "</b>"
   ]
  },
  {
   "cell_type": "code",
   "execution_count": 44,
   "metadata": {},
   "outputs": [
    {
     "data": {
      "text/plain": [
       "{\"Herman\"=>{\"age\"=>32, \"gender\"=>\"male\"}, \"Lily\"=>{\"age\"=>30, \"gender\"=>\"female\"}, \"Grandpa\"=>{\"age\"=>402, \"gender\"=>\"male\"}, \"Eddie\"=>{\"age\"=>10, \"gender\"=>\"male\"}, \"Marilyn\"=>{\"age\"=>23, \"gender\"=>\"female\"}}"
      ]
     },
     "execution_count": 44,
     "metadata": {},
     "output_type": "execute_result"
    }
   ],
   "source": [
    "munsters = {\n",
    "  \"Herman\" => { \"age\" => 32, \"gender\" => \"male\" },\n",
    "  \"Lily\" => { \"age\" => 30, \"gender\" => \"female\" },\n",
    "  \"Grandpa\" => { \"age\" => 402, \"gender\" => \"male\" },\n",
    "  \"Eddie\" => { \"age\" => 10, \"gender\" => \"male\" },\n",
    "  \"Marilyn\" => { \"age\" => 23, \"gender\" => \"female\"}\n",
    "}"
   ]
  },
  {
   "cell_type": "code",
   "execution_count": 45,
   "metadata": {},
   "outputs": [
    {
     "data": {
      "text/plain": [
       "{\"Herman\"=>{\"age\"=>32, \"gender\"=>\"male\", \"age_group\"=>\"adult\"}, \"Lily\"=>{\"age\"=>30, \"gender\"=>\"female\", \"age_group\"=>\"adult\"}, \"Grandpa\"=>{\"age\"=>402, \"gender\"=>\"male\", \"age_group\"=>\"senior\"}, \"Eddie\"=>{\"age\"=>10, \"gender\"=>\"male\", \"age_group\"=>\"kid\"}, \"Marilyn\"=>{\"age\"=>23, \"gender\"=>\"female\", \"age_group\"=>\"adult\"}}"
      ]
     },
     "execution_count": 45,
     "metadata": {},
     "output_type": "execute_result"
    }
   ],
   "source": [
    "munsters.each do |k, v|\n",
    "  v['age_group'] = case v['age']\n",
    "                   when 0..17 then 'kid'\n",
    "                   when 18..64 then 'adult'\n",
    "                   else 'senior'\n",
    "                   end\n",
    "end"
   ]
  }
 ],
 "metadata": {
  "kernelspec": {
   "display_name": "Ruby 2.7.5",
   "language": "ruby",
   "name": "ruby"
  },
  "language_info": {
   "file_extension": ".rb",
   "mimetype": "application/x-ruby",
   "name": "ruby",
   "version": "2.7.5"
  },
  "orig_nbformat": 4,
  "vscode": {
   "interpreter": {
    "hash": "aee8b7b246df8f9039afb4144a1f6fd8d2ca17a180786b69acc140d282b71a49"
   }
  }
 },
 "nbformat": 4,
 "nbformat_minor": 2
}
