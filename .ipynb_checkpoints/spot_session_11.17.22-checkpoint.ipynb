{
 "cells": [
  {
   "cell_type": "code",
   "execution_count": null,
   "id": "1da83f7a-b223-4c0e-834f-9bf90e684515",
   "metadata": {},
   "outputs": [],
   "source": [
    "a = \"Bob\"\n",
    "b = a\n",
    "a = a + ' Smith'\n",
    "\n",
    "p a\n",
    "p b\n",
    "\n",
    "# what are a and b? Explain why."
   ]
  },
  {
   "cell_type": "code",
   "execution_count": null,
   "id": "c68dbba3-560a-4451-9107-a0ee02c79d56",
   "metadata": {},
   "outputs": [],
   "source": [
    "# Explain the following code, and identify the return value. What underlying concepts does this demonstrate?\n",
    "\n",
    "arr = ['a', 'b', 'c', nil, 'd'].select do |letter|\n",
    "  letter\n",
    "end\n",
    "\n",
    "p arr"
   ]
  },
  {
   "cell_type": "code",
   "execution_count": null,
   "id": "8dbd9073-af7c-4320-a752-4f6e4825cc92",
   "metadata": {},
   "outputs": [],
   "source": [
    "def a_method(number)\n",
    "  number = 7\n",
    "end\n",
    "\n",
    "a = 5\n",
    "a_method(a)\n",
    "p a \n",
    "\n",
    "# what is output? "
   ]
  },
  {
   "cell_type": "code",
   "execution_count": null,
   "id": "455fd767-2f02-43b6-9067-26cf78af0903",
   "metadata": {},
   "outputs": [],
   "source": [
    "a = 'Bob'\n",
    "\n",
    "5.times do |a|\n",
    "  a = 'Bill'\n",
    "end\n",
    "\n",
    "p a \n",
    "\n",
    "# what is output and why? What concept does this demonstrate?"
   ]
  },
  {
   "cell_type": "code",
   "execution_count": null,
   "id": "51baf3c6-f9df-4d8e-abd1-f0e9cf63f9ba",
   "metadata": {},
   "outputs": [],
   "source": [
    "def a_method(string)\n",
    "  string = string << 'world'\n",
    "end\n",
    "\n",
    "a = 'hello'\n",
    "a_method(a)\n",
    "p a\n",
    "\n",
    "# What is output? What is the concept?"
   ]
  },
  {
   "cell_type": "code",
   "execution_count": null,
   "id": "67ecbd31-99bf-47ce-89e7-5defdd06464f",
   "metadata": {},
   "outputs": [],
   "source": [
    "a = 'red'\n",
    "b = 'green'\n",
    "\n",
    "loop do\n",
    "  c = b\n",
    "  a = c\n",
    "  break\n",
    "end\n",
    "\n",
    "puts a # => ?\n",
    "puts b # => ?\n",
    "puts c # => ?\n",
    "\n",
    "# Explain the following code, and identify the output. What underlying concepts does this demonstrate?"
   ]
  },
  {
   "cell_type": "code",
   "execution_count": null,
   "id": "996ae0cf-8ac1-42f9-be96-30fe320022a8",
   "metadata": {},
   "outputs": [],
   "source": [
    "# Explain the following code, and identify the output. What underlying concepts does this demonstrate?\n",
    "\n",
    "def bad_math\n",
    "  if 2 > 3\n",
    "    puts 'bad math'\n",
    "  end\n",
    "end\n",
    "\n",
    "p bad_math"
   ]
  },
  {
   "cell_type": "markdown",
   "id": "8dc7fa2a-d653-4aae-b632-fa67f640ef76",
   "metadata": {},
   "source": [
    "`if` statement will not be executed."
   ]
  }
 ],
 "metadata": {
  "kernelspec": {
   "display_name": "Ruby 2.7.5",
   "language": "ruby",
   "name": "ruby"
  },
  "language_info": {
   "file_extension": ".rb",
   "mimetype": "application/x-ruby",
   "name": "ruby",
   "version": "2.7.5"
  }
 },
 "nbformat": 4,
 "nbformat_minor": 5
}
