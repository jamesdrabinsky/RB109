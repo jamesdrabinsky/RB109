{
 "cells": [
  {
   "cell_type": "markdown",
   "id": "1b6936e1-13ec-49ac-b922-4d0952bd8f87",
   "metadata": {
    "tags": [],
    "toc-hr-collapsed": true
   },
   "source": [
    "# Variable Scope"
   ]
  },
  {
   "cell_type": "markdown",
   "id": "6bc17a4c-f10f-4556-af8d-4902931d3040",
   "metadata": {
    "toc-hr-collapsed": true
   },
   "source": [
    "## Variables and Blocks"
   ]
  },
  {
   "cell_type": "markdown",
   "id": "81b73427-f346-4a27-b5da-39928fe9c12c",
   "metadata": {},
   "source": [
    "- Blocks create a new scope for local variables. You can think of the scope created by a block following a method invocation as an **inner scope**\n",
    "- Nested blocks will create nested scopes. A variable's scope is determined by where it is initialized.\n",
    "- **Variables initialized in an outer scope can be accessed in an inner scope, but not vice versa.**"
   ]
  },
  {
   "cell_type": "markdown",
   "id": "d7e5f1cd-e088-4372-ba15-00a692693b5a",
   "metadata": {},
   "source": [
    "### 1. Outer scope can be accessed by inner scope\n",
    "\n"
   ]
  },
  {
   "cell_type": "code",
   "execution_count": 1,
   "id": "1ea14fb7-79a5-4f46-9f67-e7b2216ae65e",
   "metadata": {},
   "outputs": [
    {
     "name": "stdout",
     "output_type": "stream",
     "text": [
      "1\n",
      "2\n"
     ]
    }
   ],
   "source": [
    "a = 1\n",
    "\n",
    "loop do \n",
    "  puts a \n",
    "  a += 1\n",
    "  break\n",
    "end\n",
    "\n",
    "puts a"
   ]
  },
  {
   "cell_type": "markdown",
   "id": "2c5b6f70-c4f1-45b0-a4f2-c378ce83799e",
   "metadata": {
    "tags": []
   },
   "source": [
    "- This example demonstrates two things:\n",
    "    - The first is that inner scope can access outer scope variables. \n",
    "    - The second, and less intuitive, concept is that you can change variables from an inner scope and have that change affect the outer scope. "
   ]
  },
  {
   "cell_type": "code",
   "execution_count": 32,
   "id": "25b72512-c098-458a-b546-e6bdd27dc404",
   "metadata": {
    "tags": []
   },
   "outputs": [
    {
     "name": "stdout",
     "output_type": "stream",
     "text": [
      "Hi\n"
     ]
    }
   ],
   "source": [
    "greeting = 'Hello'\n",
    "\n",
    "loop do\n",
    "  greeting = 'Hi'\n",
    "  break\n",
    "end\n",
    "\n",
    "puts greeting"
   ]
  },
  {
   "cell_type": "markdown",
   "id": "f3076ba5-2009-42e8-881b-659cf08e4eaa",
   "metadata": {},
   "source": [
    "- The local variable `greeting` is assigned to the String `'Hello'` on line 1.\n",
    "- The `do..end` alongside the `loop` method invocation on lines 3 to 6 defines a block, within which `greeting` is reassigned to the String `'Hi'` on line 4. \n",
    "- The `puts` method is called on line 8 with the variable `greeting` passed to it as an argument; since `greeting` is now assigned to `'Hi'`, this is what is output. \n",
    "- This example demonstrates **local variable scoping** rules in Ruby; specifically the fact that a local variable initialized outside of a block is accessible inside the block."
   ]
  },
  {
   "cell_type": "code",
   "execution_count": 37,
   "id": "9ec292fc-3322-45b5-9eaf-c26906113293",
   "metadata": {},
   "outputs": [
    {
     "name": "stdout",
     "output_type": "stream",
     "text": [
      "3\n",
      "2\n"
     ]
    }
   ],
   "source": [
    "a = 4\n",
    "b = 2\n",
    "\n",
    "loop do\n",
    "  c = 3\n",
    "  a = c\n",
    "  break\n",
    "end\n",
    "\n",
    "puts a\n",
    "puts b"
   ]
  },
  {
   "cell_type": "markdown",
   "id": "3fca2853-188c-42b3-8e08-1b94bbc83b1a",
   "metadata": {},
   "source": [
    "- On `line 1` local variable `a` is initialized to the value `4` **within the outer scope**.\n",
    "- On `line 2` local variable `b` is initialized to the value `2`.  \n",
    "- On `line 4` the `loop` method is called and a `do..end` block is passed to it as an argument.  \n",
    "- Inside the block, on `line 5` local variable `c` is initialized to the value `3`.  This variable has the block as its scope.\n",
    "- On `line 6` local variable `a` is reassigned so that it now points to the same object that local variable `c` is referencing. Since we are still in the inner scope defined by the block, local variable `c` is accessible. \n",
    "- On `line 10` the `puts` method is invoked and local variable `a` is passed to it as an argument.  Since `a` was reassigned within the block, this method call will output `3`.\n",
    "- On `line 11` the `puts` method is invoked and `b` is passed to it.  This will output `2`.  \n",
    "- Since `puts b` is the last line evaluated, this code will return `nil` because `puts` always returns `nil`."
   ]
  },
  {
   "cell_type": "code",
   "execution_count": 43,
   "id": "1c703388-d327-473f-a71a-c706563cb5dc",
   "metadata": {},
   "outputs": [
    {
     "name": "stdout",
     "output_type": "stream",
     "text": [
      "world\n"
     ]
    }
   ],
   "source": [
    "str = 'hello'\n",
    "\n",
    "loop do \n",
    "    str = 'world'\n",
    "    break\n",
    "end\n",
    "\n",
    "puts str"
   ]
  },
  {
   "cell_type": "markdown",
   "id": "d269a3ca-735e-4ee4-9169-bb1b41277421",
   "metadata": {},
   "source": [
    "- On `line 1` we are initializing local variable `str` to the value `'hello'` in the main/outside scope.\n",
    "- On `line 3` we are invoking the `loop` method and passing in a `do..end` block.  Within the block' scope we are reassigning the variable `str` to the value `'world'`.  So now `str` points to a different string object.  - On `line 8` we invoke the `puts` method and pass in `str` as an argument.  This will output `'world'` and return `nil`."
   ]
  },
  {
   "cell_type": "markdown",
   "id": "771386f4-4364-41e8-9641-63a1faa6fcfb",
   "metadata": {},
   "source": [
    "- In ruby, variable reassignment and variable initialization look the same.\n",
    "- **Variables that are intitialized in the main scope are accessible within a block's scope.  But local variables initialized inside a block's scope are not accessible in the main scope.**"
   ]
  },
  {
   "cell_type": "markdown",
   "id": "820e3ff4-9389-4bcf-9e21-6dd5e1ca6161",
   "metadata": {
    "tags": []
   },
   "source": [
    "### 2. Inner scope variables cannot be accessed in outer scope"
   ]
  },
  {
   "cell_type": "code",
   "execution_count": 3,
   "id": "2e86fb4d-14e9-45a0-8503-05ab57ad0b13",
   "metadata": {},
   "outputs": [
    {
     "ename": "NameError",
     "evalue": "undefined local variable or method `b' for #<Object:0x00007fc0393adda0>",
     "output_type": "error",
     "traceback": [
      "\u001b[31mNameError\u001b[0m: undefined local variable or method `b' for #<Object:0x00007fc0393adda0>",
      "(irb):5:in `irb_binding'"
     ]
    }
   ],
   "source": [
    "loop do   # the block following the invocation of the `loop` method creates an inner scope\n",
    "  b = 1\n",
    "  break\n",
    "end\n",
    "\n",
    "puts b"
   ]
  },
  {
   "cell_type": "code",
   "execution_count": 36,
   "id": "c9186f69-43e3-41e8-9ed8-04e037ed1e44",
   "metadata": {},
   "outputs": [
    {
     "name": "stdout",
     "output_type": "stream",
     "text": [
      "5\n",
      "3\n"
     ]
    }
   ],
   "source": [
    "a = 4\n",
    "\n",
    "loop do\n",
    "  a = 5\n",
    "  b = 3\n",
    "  break\n",
    "end\n",
    "\n",
    "puts a\n",
    "puts b"
   ]
  },
  {
   "cell_type": "markdown",
   "id": "791e35d9-efe5-42fd-aa22-3137538cc812",
   "metadata": {},
   "source": [
    "- There are two scopes in this code:\n",
    "    - An inner scope which is defined by the `do..end` block \n",
    "    - An outer scope which includes everythinf else.  \n",
    "- **Local variables that are initialized in an inner scope CANNOT be accessed in the outer scope**\n",
    "- **But local variables initialized in the outer scope CAN be accessed in an inner scope**\n",
    "- This is why we can reassign the local variable `a` on `line 4`, but if we try to initialize the variable `b` it is not accessible in the outer scope.   "
   ]
  },
  {
   "cell_type": "markdown",
   "id": "3bbc9cca-dd9f-4e15-8bae-d6b969df7b99",
   "metadata": {},
   "source": [
    "### 3. Peer scopes do not conflict"
   ]
  },
  {
   "cell_type": "code",
   "execution_count": 1,
   "id": "373bed92-4f45-4df1-8fce-4f3c20a1280f",
   "metadata": {},
   "outputs": [
    {
     "name": "stdout",
     "output_type": "stream",
     "text": [
      "hi\n",
      "hi\n"
     ]
    },
    {
     "ename": "NameError",
     "evalue": "undefined local variable or method `a' for #<Object:0x00007fc1f52c5920>",
     "output_type": "error",
     "traceback": [
      "\u001b[31mNameError\u001b[0m: undefined local variable or method `a' for #<Object:0x00007fc1f52c5920>",
      "(irb):6:in `block in irb_binding'",
      "(irb):5:in `loop'",
      "(irb):5:in `irb_binding'"
     ]
    }
   ],
   "source": [
    "2.times do\n",
    "  a = 'hi'\n",
    "  puts a \n",
    "end\n",
    "\n",
    "loop do \n",
    "  puts a \n",
    "  break\n",
    "end\n",
    "\n",
    "puts a "
   ]
  },
  {
   "cell_type": "markdown",
   "id": "9e2f591e-9804-48bd-8dbf-b6b803c5099c",
   "metadata": {},
   "source": [
    "- Peer blocks cannot reference variables initialized in other blocks. This means that we could use the same variable name `a` in the block of code that follows the `loop` method invocation. However, it's not the same variable as in the first block."
   ]
  },
  {
   "cell_type": "markdown",
   "id": "d5a248c6-9d83-4d35-95ea-21e6c0657c08",
   "metadata": {},
   "source": [
    "### 4. Nested Blocks"
   ]
  },
  {
   "cell_type": "code",
   "execution_count": null,
   "id": "dbe726d3-b4b5-47b2-b5e9-2d3dfe8ea3d8",
   "metadata": {},
   "outputs": [],
   "source": [
    "a = 1           # first level variable\n",
    "\n",
    "loop do         # second level\n",
    "  b = 2\n",
    "\n",
    "  loop do       # third level\n",
    "    c = 3\n",
    "    puts a      # => 1\n",
    "    puts b      # => 2\n",
    "    puts c      # => 3\n",
    "    break\n",
    "  end\n",
    "\n",
    "  puts a        # => 1\n",
    "  puts b        # => 2\n",
    "  puts c        # => NameError\n",
    "  break\n",
    "end\n",
    "\n",
    "puts a          # => 1\n",
    "puts b          # => NameError\n",
    "puts c          # => NameError"
   ]
  },
  {
   "cell_type": "markdown",
   "id": "1571d22b-2046-4402-b722-c52ac2d7b538",
   "metadata": {},
   "source": [
    "- `a` is initialized in the outer scope so it can be accessed within the block and in the main scope.\n",
    "\n",
    "- `b` is initialized in the outer `loop` scope.  So it can be accessed in the inner `loop` scope but no in the outside or main scope\n",
    "\n",
    "- `c` is initialized in the inner `loop` scope.  So it cannot be accessed in the outer `loop` scope or the outer/main scope."
   ]
  },
  {
   "cell_type": "markdown",
   "id": "f0f98c00-64b7-4175-a484-f8b91af763db",
   "metadata": {},
   "source": [
    "### 5. Variable Shadowing"
   ]
  },
  {
   "cell_type": "markdown",
   "id": "4309dcef-22a2-4ef0-9827-310165eb8380",
   "metadata": {},
   "source": [
    "```ruby\n",
    "n = 5\n",
    "\n",
    "[1, 2, 3].each do |n| # The puts n will use the block parameter n and disregard the outer scoped local variable.\n",
    "  puts n\n",
    "end\n",
    "```\n",
    "\n",
    "- The block is the `do...end`, and the block parameter is captured between the `|` symbols. In the above example, the block parameter is `n`, which represents each element as the `each` method iterates through the array.\n",
    "- But what if we had a variable named `n` in the outer scope? We know that the inner scope has access to the outer scope, so we'd essentially have two local variables in the inner scope with the same name. When that happens, it's called **variable shadowing**, and it prevents access to the outer scope local variable."
   ]
  },
  {
   "cell_type": "code",
   "execution_count": 38,
   "id": "6cb595bd-7542-4706-b297-998f076c8eb4",
   "metadata": {},
   "outputs": [
    {
     "name": "stdout",
     "output_type": "stream",
     "text": [
      "5\n",
      "5\n",
      "4\n",
      "2\n"
     ]
    }
   ],
   "source": [
    "a = 4\n",
    "b = 2\n",
    "\n",
    "2.times do |a|\n",
    "  a = 5\n",
    "  puts a\n",
    "end\n",
    "\n",
    "puts a\n",
    "puts b"
   ]
  },
  {
   "cell_type": "markdown",
   "id": "285b1596-2bce-4f35-83de-08aca4022ae5",
   "metadata": {},
   "source": [
    "- On `line 1` local variable `a` is initialized to the value `4`.  \n",
    "- On `line 2` local variable `b` is initialized to the value `2`.  \n",
    "- On `line 4` the `times` method is called on integer `2` and a `do..end` block is passed to it with one paramter `a`.\n",
    "- Within the block, on `line 5`, local variable `a` is initialized to the value `5`.  **We are assiging the integer 5 to the local variable `a` which was passed in as a parameter of the `do..end` block and the value of local variable `a` intialized outside of the block remains `4`.**\n",
    "- On `line 6`, the `puts` method is called and local variable `a` is passed to it.  This block will output `5` twice.\n",
    "- On `line 9` the `puts` method is called and local variable `a` is passed to it as an argument.  This will output `4`. \n",
    "- On `line 10` the `puts` method is called and local varibale `b` is passed to it as an argument.  This will output `2`.\n",
    "- `puts b` is the last evaluated line in this code and it will return `nil` because `puts` always returns `nil`."
   ]
  },
  {
   "cell_type": "markdown",
   "id": "242c4ffe-1b44-490d-8bf2-7dbf461f0075",
   "metadata": {},
   "source": [
    "- **Variable shadowing** happens when a parameter name of the block is the same as the name of the local variable which was initialized outside of the block.\n",
    "- The consequence of variable shadowing is that it prevents access to variables of the same name initialized outside of the block.  "
   ]
  },
  {
   "cell_type": "markdown",
   "id": "c4aa3ed6-a355-4fbd-ae5d-aa0973ee4379",
   "metadata": {
    "tags": []
   },
   "source": [
    "## Variables and Method Definitions"
   ]
  },
  {
   "cell_type": "markdown",
   "id": "60339b27-ed7b-4b2b-9dad-5aaf8aacc5b8",
   "metadata": {},
   "source": [
    "- While a block can access variables that were initialized outside of the block, **a method cannot -- its scope is self-contained.**\n",
    "- **Methods can only access variables that were initialized inside the method or that are defined as parameters.**"
   ]
  },
  {
   "cell_type": "markdown",
   "id": "609c4f99-c84e-4a66-8221-c4a544d0d846",
   "metadata": {
    "tags": []
   },
   "source": [
    "### 1. A method definition can't access local variables in another scope"
   ]
  },
  {
   "cell_type": "code",
   "execution_count": 2,
   "id": "d31be373-c9c4-4246-921c-8ea8cf1cba00",
   "metadata": {},
   "outputs": [
    {
     "ename": "NameError",
     "evalue": "undefined local variable or method `a' for #<Object:0x00007fc1f52c5920>",
     "output_type": "error",
     "traceback": [
      "\u001b[31mNameError\u001b[0m: undefined local variable or method `a' for #<Object:0x00007fc1f52c5920>",
      "(irb):3:in `some_method'",
      "(irb):7:in `irb_binding'"
     ]
    }
   ],
   "source": [
    "a = 'hi'\n",
    "\n",
    "def some_method\n",
    "  puts a\n",
    "end\n",
    "\n",
    "# invoke the method\n",
    "some_method     # => NameError: undefined local variable or method `a' for main:Object"
   ]
  },
  {
   "cell_type": "markdown",
   "id": "f748db9a-cd86-40e6-aa29-559c6d9bc318",
   "metadata": {},
   "source": [
    "- **local variables that are not initialized inside a method definition must be defined as parameters.**"
   ]
  },
  {
   "cell_type": "markdown",
   "id": "e3757220-8b0f-42ea-8b7a-45268b1b2d64",
   "metadata": {
    "tags": []
   },
   "source": [
    "### 2. A method definition can access objects passed in"
   ]
  },
  {
   "cell_type": "code",
   "execution_count": 3,
   "id": "813f54c8-f180-46e0-9592-9a0f8bb12d27",
   "metadata": {},
   "outputs": [
    {
     "name": "stdout",
     "output_type": "stream",
     "text": [
      "5\n"
     ]
    }
   ],
   "source": [
    "def some_method(a)\n",
    "  puts a\n",
    "end\n",
    "\n",
    "some_method(5)  # => 5"
   ]
  },
  {
   "cell_type": "markdown",
   "id": "8b7dba60-fec0-4813-8776-0e58f61980c2",
   "metadata": {},
   "source": [
    "### 3. If variable and method share a name, Ruby will first search for variable"
   ]
  },
  {
   "cell_type": "code",
   "execution_count": 4,
   "id": "31328901-1d1f-4bc2-b21a-a8021d08ca85",
   "metadata": {},
   "outputs": [
    {
     "name": "stdout",
     "output_type": "stream",
     "text": [
      "hi\n"
     ]
    }
   ],
   "source": [
    "hello = 'hi'\n",
    "\n",
    "def hello\n",
    "  \"Saying hello!\"\n",
    "end\n",
    "\n",
    "puts hello"
   ]
  },
  {
   "cell_type": "markdown",
   "id": "935f42b1-fd0f-4dd1-b72a-ef90f8e2e9ef",
   "metadata": {},
   "source": [
    "- Ruby will first search for the local variable, and if it is not found, then Ruby tries to find a method with the given name. If neither local variable nor method is found, then a `NameError` message will be thrown. \n",
    "- To remove some of the ambiguity in a situation like this, we can indicate that we want to call the method by including a set of empty argument parentheses with the method invocation. For example, replacing `puts hello` with puts `hello()` will indicate to Ruby that we want to call the hello method and not the local variable."
   ]
  },
  {
   "cell_type": "markdown",
   "id": "c13986df-6ad4-4b2f-b439-39bdb6386251",
   "metadata": {},
   "source": [
    "## Blocks within Method Definitions"
   ]
  },
  {
   "cell_type": "markdown",
   "id": "8caf4fe3-3114-4fdc-a58f-4d86ddc5ce42",
   "metadata": {},
   "source": [
    "- The rules of scope for a method invocation with a block remain in full effect even if we're working inside a method definition."
   ]
  },
  {
   "cell_type": "code",
   "execution_count": 9,
   "id": "a0421d9b-ad3d-4ebc-a2f4-29f7f2ce6b61",
   "metadata": {},
   "outputs": [
    {
     "name": "stdout",
     "output_type": "stream",
     "text": [
      "1\n",
      "1\n",
      "1\n",
      "1\n",
      "1\n",
      "1\n"
     ]
    },
    {
     "ename": "NameError",
     "evalue": "undefined local variable or method `b' for #<Object:0x00007fc1f52c5920>",
     "output_type": "error",
     "traceback": [
      "\u001b[31mNameError\u001b[0m: undefined local variable or method `b' for #<Object:0x00007fc1f52c5920>",
      "(irb):8:in `some_method'",
      "(irb):11:in `irb_binding'"
     ]
    }
   ],
   "source": [
    "def some_method\n",
    "  a = 1\n",
    "  5.times do\n",
    "    puts a\n",
    "    b = 2\n",
    "  end\n",
    "\n",
    "  puts a\n",
    "  puts b\n",
    "end\n",
    "\n",
    "aa = some_method     # => NameError: undefined local variable or method `b' for main:Object"
   ]
  },
  {
   "cell_type": "code",
   "execution_count": 35,
   "id": "1082b111-a2b5-4cd7-87d6-95981e261fbc",
   "metadata": {},
   "outputs": [
    {
     "name": "stdout",
     "output_type": "stream",
     "text": [
      "hello\n",
      "hello\n",
      "hello\n"
     ]
    }
   ],
   "source": [
    "def example(str)\n",
    "  i = 3\n",
    "  loop do\n",
    "    puts str\n",
    "    i -= 1\n",
    "    break if i == 0\n",
    "  end\n",
    "end\n",
    "\n",
    "example('hello')"
   ]
  },
  {
   "cell_type": "markdown",
   "id": "affbc938-6fdd-4a6e-9d76-638f44d56d5e",
   "metadata": {},
   "source": [
    "- On `lines 1 - 8` we are defining the method `example` which takes 1 parameter.  \n",
    "- On `line 10` we are calling the method `example` and the passing the string `hello` as an argument to it.  \n",
    "    - **Methods are defined with parameters but they are called with arguments.**\n",
    "- On `line 2` we are initializing the local variable `i` and assigning to it an integer with value `3`.  \n",
    "- On `line 3` we are calling the method `loop` (`loop` is a method from the `Kernel` module) and **passing in** the `do...end` block as an argument.  The block is passed to the method call as an argument.  \n",
    "- On `line 4` we are calling the method `puts` and passing in local variable `str` to it as an argument.  \n",
    "- On `line 5` the local variable `i` is reassigned \n",
    "    - `-=` is actually reassignment and is syntatical sugar for `i = i - 1`\n",
    "    - `-` is not an operator but a method that can also be written as `i = i.-(1)`.  So inside of this code we are actually reassigning the local variable `i` to the return value of method call `Integer#-` on local variable `i` with integer `1`  passed to it as an argument.  \n",
    "- On `line 6` we are breaking out of the loop by using the keyword `break` if the value of the object that the local variable `i` is referencing is equal to 0.  \n",
    "- On `line 10` we are calling the method `example` and passing in string `hello` as an argument.  \n",
    "- The code outputs `hello` 3 times and returns `nil`.  The last evaluated line in the method is returned since there is no explicit `return` inside of the method definition.  The last evaluated expression is `break if i == 0`, which returns `nil.`"
   ]
  },
  {
   "cell_type": "markdown",
   "id": "b35b6a21-8cc0-4153-8d0f-f7353bdd007f",
   "metadata": {
    "tags": [],
    "toc-hr-collapsed": true
   },
   "source": [
    "## Constants"
   ]
  },
  {
   "cell_type": "markdown",
   "id": "7231ddcc-2606-43d4-9205-78651076b931",
   "metadata": {},
   "source": [
    "- The scoping rules for constants are not the same as local variables. In procedural style programming, constants behave like globals.\n",
    "- Constants are said to have **lexical scope**"
   ]
  },
  {
   "cell_type": "markdown",
   "id": "7af02930-3ec5-463b-a5fc-4c810d381485",
   "metadata": {
    "tags": [],
    "toc-hr-collapsed": true
   },
   "source": [
    "## More Variable Scope"
   ]
  },
  {
   "cell_type": "markdown",
   "id": "de37576a-bb65-4081-a6b5-2eb754b6dd64",
   "metadata": {},
   "source": [
    "- A block is part of the method invocation. In fact, method invocation followed by curly braces or `do..end` is the way in which we define a block in Ruby.\n",
    "- **Essentially the block acts as an argument to the method. In the same way that a local variable can be passed as an argument to a method at invocation, when a method is called with a block, the block acts as an argument to that method.**"
   ]
  },
  {
   "cell_type": "markdown",
   "id": "3a7dfaf1-d59f-41a2-9286-0d76d7f351d6",
   "metadata": {},
   "source": [
    "### 1. Method parameter not used"
   ]
  },
  {
   "cell_type": "code",
   "execution_count": 10,
   "id": "dca10ad0-8dde-4524-a3b2-87b46e97a4bb",
   "metadata": {},
   "outputs": [
    {
     "name": "stdout",
     "output_type": "stream",
     "text": [
      "Goodbye\n"
     ]
    }
   ],
   "source": [
    "def greetings(str)\n",
    "  puts \"Goodbye\"\n",
    "end\n",
    "\n",
    "word = \"Hello\"\n",
    "\n",
    "greetings(word)"
   ]
  },
  {
   "cell_type": "markdown",
   "id": "8c02c26d-9588-40b6-8ee1-61f8eb667ef6",
   "metadata": {},
   "source": [
    "### 2. Method parameter used"
   ]
  },
  {
   "cell_type": "code",
   "execution_count": 11,
   "id": "b120dff8-865c-41df-a896-9f08594a19ff",
   "metadata": {},
   "outputs": [
    {
     "name": "stdout",
     "output_type": "stream",
     "text": [
      "Hello\n",
      "Goodbye\n"
     ]
    }
   ],
   "source": [
    "def greetings(str)\n",
    "  puts str\n",
    "  puts \"Goodbye\"\n",
    "end\n",
    "\n",
    "word = \"Hello\"\n",
    "\n",
    "greetings(word)"
   ]
  },
  {
   "cell_type": "markdown",
   "id": "260ea3f2-d109-4602-a736-c8d405e85afb",
   "metadata": {},
   "source": [
    "-  The method definition is such that the method has a parameter `str`. This allows the method to access the string \"Hello\" since it is passed in as an argument at method invocation in the form of the local variable `word`."
   ]
  },
  {
   "cell_type": "markdown",
   "id": "59af8ea9-e5c9-4948-8f8d-0a1710d496a4",
   "metadata": {},
   "source": [
    "### 3. Block not executed"
   ]
  },
  {
   "cell_type": "code",
   "execution_count": 18,
   "id": "eaf7e4d6-74f1-43ad-abc5-e89cb17ea060",
   "metadata": {},
   "outputs": [
    {
     "name": "stdout",
     "output_type": "stream",
     "text": [
      "Goodbye\n"
     ]
    }
   ],
   "source": [
    "def greetings\n",
    "  puts \"Goodbye\"\n",
    "end\n",
    "\n",
    "word = \"Hello\"\n",
    "\n",
    "greetings do\n",
    "  puts word\n",
    "end"
   ]
  },
  {
   "cell_type": "markdown",
   "id": "2a4c92e5-b0f8-4139-971a-3847e7059a26",
   "metadata": {},
   "source": [
    "- The `greetings` method is invoked with a block, but the method is not defined to use a block in any way and so the block is not executed."
   ]
  },
  {
   "cell_type": "markdown",
   "id": "5186fed6-a157-48d2-8e86-57fff2ce692e",
   "metadata": {},
   "source": [
    "### 4. Block executed"
   ]
  },
  {
   "cell_type": "code",
   "execution_count": 17,
   "id": "166c201d-51d2-4768-904b-2753be8d39ba",
   "metadata": {},
   "outputs": [
    {
     "name": "stdout",
     "output_type": "stream",
     "text": [
      "Hello\n",
      "Goodbye\n"
     ]
    }
   ],
   "source": [
    "def greetings\n",
    "  yield\n",
    "  puts \"Goodbye\"\n",
    "end\n",
    "\n",
    "word = \"Hello\"\n",
    "\n",
    "greetings do\n",
    "  puts word\n",
    "end"
   ]
  },
  {
   "cell_type": "markdown",
   "id": "7d08a359-2c3f-4032-8781-66c595df33bd",
   "metadata": {},
   "source": [
    "- The `yield` keyword is what controls the interaction with the block, in this case it executes the block once. Since the block has access to the local variable `word`, `Hello` is output when the block is executed. \n",
    "- Blocks and methods can interact with each other; the level of that interaction is set by the method definition and then used at method invocation. "
   ]
  },
  {
   "cell_type": "code",
   "execution_count": 23,
   "id": "32690d6f-3510-4818-86bb-d7492120874c",
   "metadata": {},
   "outputs": [
    {
     "data": {
      "text/plain": [
       "[\"hello\", \"hello\", \"hello\"]"
      ]
     },
     "execution_count": 23,
     "metadata": {},
     "output_type": "execute_result"
    }
   ],
   "source": [
    "a = \"hello\"\n",
    "\n",
    "[1, 2, 3].map { |num| a }"
   ]
  },
  {
   "cell_type": "markdown",
   "id": "39875594-79d4-49ea-a081-344cf106ef8c",
   "metadata": {},
   "source": [
    "- The `Array#map` method is defined in such a way that it uses the return value of the block to perform transformation on each element in an array. In the above example, the `#map` method doesn't have direct access to the `a` variable. However, the block that we pass to `map` (and that `map` calls) does have access to `a`. Thus, the block can use the value of `a` to determine the transformation value for each array element.\n",
    "- Method definitions cannot directly access local variables initialized outside of the method definition, nor can local variables initialized outside of the method definition be reassigned from within it.\n",
    "- A block **can** access local variables initialized outside of the block and can reassign those variables. We already know that methods can access local variables passed in as arguments, and now we have seen that methods can access local variables through interaction with blocks."
   ]
  },
  {
   "cell_type": "markdown",
   "id": "8841df4b-fc33-4046-a79b-df416f11f727",
   "metadata": {
    "tags": []
   },
   "source": [
    "# Mutating vs Non-Mutating Methods"
   ]
  },
  {
   "cell_type": "markdown",
   "id": "59f6c3ca-30ef-4fa2-8dae-da2624e3f88e",
   "metadata": {
    "tags": []
   },
   "source": [
    "## Pass by Reference vs. Pass by Value"
   ]
  },
  {
   "cell_type": "markdown",
   "id": "227ccfb5-36d4-442d-afdb-e5ccef9cb2c1",
   "metadata": {},
   "source": [
    "- Ruby exhibits a combination of behaviors from both \"pass by reference\" as well as \"pass by value\". Some people call this **pass by value of the reference** or **call by sharing**. \n",
    "- **when an operation within the method mutates the caller, it will affect the original object**\n",
    "- In the Ruby core library, a lot of destructive (another term for mutating the caller) methods end with a `!`. But that's just a naming convention, and it's not a guarantee.\n",
    "- For example, the `Array#<<` method is destructive, but doesn't end with a `!`."
   ]
  },
  {
   "cell_type": "code",
   "execution_count": 25,
   "id": "01bf3266-c1bb-4d16-95a1-99c9589a634f",
   "metadata": {},
   "outputs": [
    {
     "name": "stdout",
     "output_type": "stream",
     "text": [
      "[\"bob\", \"kim\", \"jim\"]\n"
     ]
    }
   ],
   "source": [
    "def add_name(arr, name)\n",
    "  arr << name\n",
    "end\n",
    "\n",
    "names = ['bob', 'kim']\n",
    "add_name(names, 'jim')\n",
    "puts names.inspect     "
   ]
  },
  {
   "cell_type": "code",
   "execution_count": 26,
   "id": "98f4f709-d5a1-4c9d-85ae-807ce7bbba6c",
   "metadata": {},
   "outputs": [
    {
     "name": "stdout",
     "output_type": "stream",
     "text": [
      "[\"bob\", \"kim\"]\n"
     ]
    }
   ],
   "source": [
    "def add_name(arr, name)\n",
    "  arr = arr + [name]\n",
    "end\n",
    "\n",
    "names = ['bob', 'kim']\n",
    "add_name(names, 'jim')\n",
    "puts names.inspect  "
   ]
  },
  {
   "cell_type": "markdown",
   "id": "eb51d013-e70b-4187-8f90-84819cae11f8",
   "metadata": {},
   "source": [
    "- When we use `+` to concatenate two arrays together, it is returning a new array and not mutating the original. \n",
    "- However, when we use `<<` to append a new value into an array, it is mutating the original array and not returning a new array."
   ]
  },
  {
   "cell_type": "code",
   "execution_count": 46,
   "id": "5535e5de-2425-4446-96e0-7719368d6703",
   "metadata": {},
   "outputs": [
    {
     "name": "stdout",
     "output_type": "stream",
     "text": [
      "\"hello\"\n",
      "hello world world\n"
     ]
    }
   ],
   "source": [
    "def amethod(param)\n",
    "    param += ' world' # String reassignment\n",
    "    param + ' world' # String concatenation\n",
    "end\n",
    "\n",
    "str = 'hello'\n",
    "b = amethod(str)\n",
    "\n",
    "p str\n",
    "puts b"
   ]
  },
  {
   "cell_type": "markdown",
   "id": "036bdb20-d105-4a22-8a85-dd919429a86f",
   "metadata": {},
   "source": [
    "- `amethod` will return a new string object and it will have no effect on `str`\n",
    "- `amethod` is reassigning the local variable `param` to a new string value."
   ]
  },
  {
   "cell_type": "code",
   "execution_count": 47,
   "id": "54d1a38a-38a3-4eef-b7e6-1bd2edfa3420",
   "metadata": {},
   "outputs": [
    {
     "name": "stdout",
     "output_type": "stream",
     "text": [
      "\"hello world\"\n"
     ]
    },
    {
     "data": {
      "text/plain": [
       "\"hello world\""
      ]
     },
     "execution_count": 47,
     "metadata": {},
     "output_type": "execute_result"
    }
   ],
   "source": [
    "def amethod(param)\n",
    "    param << ' world'\n",
    "end\n",
    "\n",
    "str = 'hello'\n",
    "amethod(str)\n",
    "\n",
    "p str"
   ]
  },
  {
   "cell_type": "markdown",
   "id": "e84a6ba5-92b8-49f0-9286-491905b01570",
   "metadata": {},
   "source": [
    "- `str` is modified or mutated in this example.\n",
    "- When there is a method that is destructive and mutates the calling object, you will see the change outside the scope of the method too."
   ]
  },
  {
   "cell_type": "code",
   "execution_count": 48,
   "id": "93f560ab-ef3f-4fce-95c3-63befb25a259",
   "metadata": {},
   "outputs": [
    {
     "name": "stdout",
     "output_type": "stream",
     "text": [
      "\"hello\"\n",
      "hello universe world\n"
     ]
    }
   ],
   "source": [
    "def amethod(param)       # param = str\n",
    "    param += ' universe' # param = param + ' universe'\n",
    "    param << ' world'\n",
    "end\n",
    "\n",
    "str = 'hello'\n",
    "b = amethod(str)\n",
    "\n",
    "p str\n",
    "puts b"
   ]
  },
  {
   "cell_type": "markdown",
   "id": "29fa7ea0-f677-4563-bc3d-81eff4bf1ad2",
   "metadata": {},
   "source": [
    "- `str` is modified or mutated in this example.\n",
    "- When there is a method that is destructive and mutates the calling object, you will see the change outside the scope of the method too."
   ]
  },
  {
   "cell_type": "code",
   "execution_count": 49,
   "id": "50f518d3-6237-49d0-8b18-384f48e8ef50",
   "metadata": {},
   "outputs": [
    {
     "name": "stdout",
     "output_type": "stream",
     "text": [
      "\"hello\"\n",
      "hello universe world\n"
     ]
    }
   ],
   "source": [
    "def amethod(param)       # param = str\n",
    "    param += ' universe' # param = param + ' universe'\n",
    "    param << ' world'\n",
    "end\n",
    "\n",
    "str = 'hello'\n",
    "b = amethod(str)\n",
    "\n",
    "p str\n",
    "puts b"
   ]
  },
  {
   "cell_type": "markdown",
   "id": "df7c4094-6467-4073-b711-fadf1ace1205",
   "metadata": {},
   "source": [
    "- `line 2` is reassignment.  `param = param + ' world'`.  This creates a new string object and assigns it to the local variable `param`.  \n",
    "- Therefore, on `line 4`, the destructive method is being performed on the **new** string object.  This new string object is pointing to a different space in memory than the object referenced by the `str` local variable.  \n",
    "- On `line 6` we are passing the object assigned to `str` to `amethod`.  `param` is assigned to `str` at this point.  Line 1 is where the `param` local method variable is initialized.\n",
    "- Therefore, on `line 2`, `param += ' universe'` is reassignment.  `param` now references a new object.  From this point, we can do anything we want to `param` but it won't affect the object that `str` is pointing to."
   ]
  },
  {
   "cell_type": "markdown",
   "id": "4160a5d4-b56c-4d5f-b4e6-bfe16639a00a",
   "metadata": {
    "tags": [],
    "toc-hr-collapsed": true
   },
   "source": [
    "## Variables as Pointers"
   ]
  },
  {
   "cell_type": "markdown",
   "id": "1f80be86-56ad-4a7d-bc88-4cb0ea0c9ce8",
   "metadata": {},
   "source": [
    "- The variable doesn't actually contain the value. Instead, it contains a pointer to a specific area in memory that contains the value.\n",
    "- **Variables are pointers to physical space in memory**\n",
    "- **Some operations mutate the address space, while others simply make the variable point to a different address space.**"
   ]
  },
  {
   "cell_type": "code",
   "execution_count": 27,
   "id": "fd5bafbc-7464-4a90-90a4-d6cb290b2766",
   "metadata": {},
   "outputs": [
    {
     "name": "stdout",
     "output_type": "stream",
     "text": [
      "hi there\n"
     ]
    }
   ],
   "source": [
    "a = \"hi there\"\n",
    "b = a\n",
    "a = \"not here\"\n",
    "\n",
    "puts b"
   ]
  },
  {
   "cell_type": "markdown",
   "id": "52d47763-63fc-43a4-8aa2-e0b4753f6137",
   "metadata": {},
   "source": [
    "- We can see that the code `a = \"not here\"` reassigned the variable `a` to a completely different address in memory; it's now pointing to an entirely new string."
   ]
  },
  {
   "cell_type": "code",
   "execution_count": 28,
   "id": "276eeb9d-abd6-4e56-8fe0-bba29e300102",
   "metadata": {},
   "outputs": [
    {
     "name": "stdout",
     "output_type": "stream",
     "text": [
      "hi there, Bob\n"
     ]
    }
   ],
   "source": [
    "a = \"hi there\"\n",
    "b = a\n",
    "a << \", Bob\"\n",
    "\n",
    "puts b"
   ]
  },
  {
   "cell_type": "markdown",
   "id": "8fba9b74-13e9-46ff-8ef9-01d5b690ce20",
   "metadata": {},
   "source": [
    "- The line of code `a << \", Bob\"` did not result in reassigning `a` to a new string. Rather, it mutated the caller and modified the existing string, which is also pointed to by the variable `b`. This explains why in this code, `b` reflects the changes to `a` - they're both pointing to the same thing."
   ]
  },
  {
   "cell_type": "code",
   "execution_count": 29,
   "id": "68e174f0-d998-444e-a5c8-181eb17e0ade",
   "metadata": {},
   "outputs": [
    {
     "name": "stdout",
     "output_type": "stream",
     "text": [
      "[1, 2, 3, 3]\n",
      "[1, 2, 3, 3]\n",
      "[1, 2, 3]"
     ]
    }
   ],
   "source": [
    "a = [1, 2, 3, 3]\n",
    "b = a\n",
    "c = a.uniq\n",
    "\n",
    "print \"#{a}\\n\"\n",
    "print \"#{b}\\n\"\n",
    "print c"
   ]
  },
  {
   "cell_type": "code",
   "execution_count": 30,
   "id": "9920f0ff-7dd9-4248-821c-550d8ffc2d01",
   "metadata": {},
   "outputs": [
    {
     "name": "stdout",
     "output_type": "stream",
     "text": [
      "[1, 2, 3]\n",
      "[1, 2, 3]\n",
      "[1, 2, 3]"
     ]
    }
   ],
   "source": [
    "a = [1, 2, 3, 3]\n",
    "b = a\n",
    "c = a.uniq! # Mutates the caller; affects both a AND b because they are pointing to same address in memeory / the \n",
    "            # same object.\n",
    "\n",
    "print \"#{a}\\n\"\n",
    "print \"#{b}\\n\"\n",
    "print c"
   ]
  },
  {
   "cell_type": "code",
   "execution_count": 31,
   "id": "d832d9f7-126b-40cb-888e-a4957e639008",
   "metadata": {},
   "outputs": [
    {
     "name": "stdout",
     "output_type": "stream",
     "text": [
      "[\"I like the letter: a\", \"I like the letter: b\", \"I like the letter: c\"]\n",
      "[\"a\", \"b\", \"c\"]"
     ]
    }
   ],
   "source": [
    "def test(b)\n",
    "  b.map {|letter| \"I like the letter: #{letter}\"}\n",
    "end\n",
    "\n",
    "a = ['a', 'b', 'c']\n",
    "print \"#{test(a)}\\n\"\n",
    "print a"
   ]
  },
  {
   "cell_type": "markdown",
   "id": "131d9f0d-6f4f-4e55-8921-4c89e72a562b",
   "metadata": {},
   "source": [
    "- When we use variables to pass arguments to a method, we're essentially assigning the value of the original variable (`a` in this case) to a variable inside the method (`b`). This is equivalent to executing `b = a`. \n",
    "- Inside the method, the operations we perform on the `b` variable determine whether the value of `a` will change. Some operations, like `map`, will have no affect on `a`. Others, like `map!` will mutate the value assigned to `a`."
   ]
  },
  {
   "cell_type": "code",
   "execution_count": 33,
   "id": "9a7c6576-69eb-49b7-af6f-a15b1e96dcf7",
   "metadata": {},
   "outputs": [
    {
     "name": "stdout",
     "output_type": "stream",
     "text": [
      "[\"aa\", \"bb\", \"cc\"]"
     ]
    }
   ],
   "source": [
    "a = ['a', 'b', 'c']\n",
    "a.map! { |letter| letter * 2 }  # #map! is a destructive method and it mutates the value assigned to a\n",
    "print a "
   ]
  },
  {
   "cell_type": "code",
   "execution_count": 34,
   "id": "e8fc97d7-5c8d-4b8c-b76c-1eb50f64a0f0",
   "metadata": {},
   "outputs": [
    {
     "data": {
      "text/plain": [
       "\"goodbye\""
      ]
     },
     "execution_count": 34,
     "metadata": {},
     "output_type": "execute_result"
    }
   ],
   "source": [
    "a = 'hello'\n",
    "b = a\n",
    "a = 'goodbye'"
   ]
  },
  {
   "cell_type": "markdown",
   "id": "66e6ef72-37c5-46aa-88b0-933f1ed73d33",
   "metadata": {},
   "source": [
    "- On `line 1` local variable `a` is initialized to a string object with value `'hello'` to it.\n",
    "- On `line 2` local variable `b` is initialized to a string object that the local variable `a` is referencing\n",
    "- On `line 3` local variable `a` is reassigned to a different string object with value `goodbye` to it.  \n",
    "    - So now local vairbale `a` is pointing to one string object with value `goodbye` and the local variable `b` is pointing to a string object with value `hello`."
   ]
  },
  {
   "cell_type": "code",
   "execution_count": 50,
   "id": "6a6709bf-81bc-4491-a0b2-1f1c130282ba",
   "metadata": {},
   "outputs": [
    {
     "name": "stdout",
     "output_type": "stream",
     "text": [
      "hey\n",
      "hello world universe\n"
     ]
    }
   ],
   "source": [
    "a = 'hello'\n",
    "b = a\n",
    "\n",
    "b << ' world'\n",
    "\n",
    "a = 'hey'\n",
    "b << ' universe'\n",
    "\n",
    "puts a\n",
    "puts b"
   ]
  },
  {
   "cell_type": "markdown",
   "id": "93f46229-4228-4b3f-8516-74c00ab5f64b",
   "metadata": {},
   "source": [
    "- On `line 6` `a` is reassigned to the value `'hey'`.  The local variable `a` now points to a different string object than local variable `b`.  \n",
    "- When the shovel method is called on the object assigned to `b` on `line 7` it mutates that object, which is different than the object that local variable `a` is referencing.  Mutations or manipulations on the object assigned to `b` will no longer affect the object referenced by `a`.\n",
    "- Therefore, this code will output<br><br>\n",
    "`hey`<br>\n",
    "`hello world universe`"
   ]
  },
  {
   "cell_type": "markdown",
   "id": "e3a1e0cd-6df3-45cb-abfc-8b36dd751564",
   "metadata": {
    "tags": [],
    "toc-hr-collapsed": true
   },
   "source": [
    "## Variable References and Mutability of Ruby Objects"
   ]
  },
  {
   "cell_type": "markdown",
   "id": "c7028436-5b42-4588-af8c-b6c35e58567a",
   "metadata": {},
   "source": [
    "### Variables and References"
   ]
  },
  {
   "cell_type": "markdown",
   "id": "5c2b08b3-c224-4b30-9851-c8b663817d2f",
   "metadata": {},
   "source": [
    "- Objects can be assigned to variables, like this:\n",
    "\n",
    "```ruby\n",
    ">> greeting = 'Hello'\n",
    "=> \"Hello\"\n",
    "```\n",
    "\n",
    "- In Ruby, `greeting` is said to *reference* (or point to) the String object.  We can also talk of the variable as being *bound* to the String object.\n",
    "- The literal `'Hello'` is assigned to a variable that has the name `greeting`. This causes the variable greeting to reference the String object whose value is `'Hello'`. It does so by storing the `object id` of the String. "
   ]
  },
  {
   "cell_type": "code",
   "execution_count": 36,
   "id": "cc5cd7be-5af1-4eb2-9437-a011ad6cd606",
   "metadata": {},
   "outputs": [
    {
     "name": "stdout",
     "output_type": "stream",
     "text": [
      "49280\n",
      "HELLO\n",
      "HELLO\n",
      "49280\n",
      "49280\n"
     ]
    }
   ],
   "source": [
    "greeting = 'Hello'\n",
    "wazzup = greeting\n",
    "puts greeting.object_id\n",
    "greeting.upcase!  # Both variables references the same string and have the same object id\n",
    "\n",
    "puts greeting\n",
    "puts wazzup\n",
    "\n",
    "puts greeting.object_id # The object_id does not change\n",
    "puts wazzup.object_id"
   ]
  },
  {
   "cell_type": "markdown",
   "id": "c44489a4-2de5-42a3-8c0c-c6796c558936",
   "metadata": {},
   "source": [
    "- Since both variables are associated with the same object, using either variable to mutate the object is reflected in the other variable. "
   ]
  },
  {
   "cell_type": "markdown",
   "id": "f1dad5ca-8b35-45bc-b4ac-e7769cface2b",
   "metadata": {},
   "source": [
    "### Reassignment"
   ]
  },
  {
   "cell_type": "code",
   "execution_count": 37,
   "id": "745531c5-d4bb-489a-b081-cc5a921bdc5d",
   "metadata": {},
   "outputs": [
    {
     "name": "stdout",
     "output_type": "stream",
     "text": [
      "49300\n",
      "49320\n"
     ]
    }
   ],
   "source": [
    "greeting = 'Hello'\n",
    "wazzup = greeting\n",
    "greeting = 'Dude!'\n",
    "\n",
    "puts greeting.object_id\n",
    "puts wazzup.object_id"
   ]
  },
  {
   "cell_type": "markdown",
   "id": "b9673d05-e3cd-47df-b1f4-4543cc2688de",
   "metadata": {},
   "source": [
    "- What this shows is that reassignment to a variable doesn’t mutate the object referenced by that variable; instead, the variable is bound to a different object. The original object is merely disconnected from the variable. \n",
    "- In this example, `greeting` is bound to the String object whose value is `Dude!`, while `whazzup` continues to reference the String object whose value is `HELLO`!."
   ]
  },
  {
   "cell_type": "markdown",
   "id": "e5c2015f-4ffb-47a4-a4a8-8cb60ceef41a",
   "metadata": {},
   "source": [
    "### Immutable Objects\n"
   ]
  },
  {
   "cell_type": "markdown",
   "id": "6ffa4d2e-8f21-4013-8caf-ff5e586ea1b5",
   "metadata": {},
   "source": [
    "- **In Ruby, numbers and boolean values are immutable.**"
   ]
  },
  {
   "cell_type": "code",
   "execution_count": 38,
   "id": "2dbe4136-f463-4949-9186-2b6b6e0df4ed",
   "metadata": {},
   "outputs": [
    {
     "name": "stdout",
     "output_type": "stream",
     "text": [
      "3\n",
      "6\n"
     ]
    }
   ],
   "source": [
    "number = 3\n",
    "puts number\n",
    "\n",
    "number *= 2\n",
    "puts number"
   ]
  },
  {
   "cell_type": "markdown",
   "id": "4f2d01ff-673e-442a-a4e4-0b1b5d9e1268",
   "metadata": {},
   "source": [
    "- This is reassignment which, as we learned, doesn’t mutate the object. Instead, it binds a different object to the variable.  In this case, we create a new Integer with a value of `6` and assign it to `number`.\n",
    "- There are, in fact, no methods available that let you mutate the value of any immutable object. All you can do is reassign the variable so it references a different object. This disconnects the original object from the variable.\n",
    "- **Simple assignment never mutates an immutable object**\n",
    "- Objects of some complex classes, such as `nil` (the only member of the NilClass class) and Range objects (e.g., `1..10`) are also immutable. "
   ]
  },
  {
   "cell_type": "markdown",
   "id": "80628a67-52c9-4002-ae5a-b355ae0d1f22",
   "metadata": {},
   "source": [
    "### Mutable Objects"
   ]
  },
  {
   "cell_type": "markdown",
   "id": "bdfd2f00-6890-487c-b06b-0fefac5041bb",
   "metadata": {},
   "source": [
    "- Unlike numbers, booleans, and a few other types, most objects in Ruby are mutable; they are objects of a class that permit changes to the object’s state in some way.\n",
    "- A setter method (or simply, a setter) is a method defined by a Ruby object that allows a programmer to explicitly change the value of part of an object.  ex. `Array#[]=`"
   ]
  },
  {
   "cell_type": "code",
   "execution_count": 39,
   "id": "08b1cadb-a33d-46e0-a948-11450b13167a",
   "metadata": {},
   "outputs": [
    {
     "name": "stdout",
     "output_type": "stream",
     "text": [
      "[1, 2, 3, 0, 5]"
     ]
    }
   ],
   "source": [
    "a = [*1..5]\n",
    "a[3] = 0 # Mutates the caller\n",
    "print(a) "
   ]
  },
  {
   "cell_type": "code",
   "execution_count": 40,
   "id": "f7a7e60e-b428-4db9-95df-023d43565ae8",
   "metadata": {},
   "outputs": [
    {
     "name": "stdout",
     "output_type": "stream",
     "text": [
      "49340\n",
      "[\"a\", \"-\", \"c\"]\n",
      "49340\n"
     ]
    }
   ],
   "source": [
    "a = %w(a b c)\n",
    "puts a.object_id\n",
    "\n",
    "a[1] = '-'\n",
    "print \"#{a}\\n\"\n",
    "puts a.object_id"
   ]
  },
  {
   "cell_type": "markdown",
   "id": "9d6c8f7c-0a0a-43b1-934f-aa6f66572d37",
   "metadata": {},
   "source": [
    "- This demonstrates that we can mutate the array that `a` refers to. However, it doesn't create a new array since the object id remains the same.\n",
    "- We can see that `a` is a reference to an Array, and, in this case, that Array contains three elements; each element is a reference to a String object. When we assign `-` to `a[1]`, we are binding `a[1]` to a new String. We're mutating the array given by `a` by assigning a new string to the element at index 1 (`a[1]`).\n",
    "- Several Array methods, such as `#delete`, `#fill`, and `#insert` mutate the original object without creating a new one."
   ]
  },
  {
   "cell_type": "markdown",
   "id": "856db6fc-4670-4e8f-8188-b4c577a7ce1e",
   "metadata": {},
   "source": [
    "### A Brief Introduction to Object Passing"
   ]
  },
  {
   "cell_type": "markdown",
   "id": "fab5eb71-01cd-45bc-a075-fe4d1671535e",
   "metadata": {},
   "source": [
    "- The ability to mutate arguments depends in part on \n",
    "    - The mutability or immutability of the object represented by the argument\n",
    "    - How the argument is passed to the method\n",
    "    \n",
    "```\n",
    "Some languages make copies of method arguments, and pass those copies to the method — since they are merely copies, the original objects can’t be mutated.  Objects passed to methods in this way are said to be passed by value, and the language is said to be using a pass by value object passing strategy.\n",
    "\n",
    "Other languages pass references to the method instead — a reference can be used to mutate the original object, provided that object is mutable. Objects passed to methods in this way are said to be passed by reference, and the language is said to be using a pass by reference object passing strategy.\n",
    "```"
   ]
  },
  {
   "cell_type": "markdown",
   "id": "8dc5bfc4-d491-48f2-b40a-4bdcee848da2",
   "metadata": {},
   "source": [
    "### Developing A Mental Model"
   ]
  },
  {
   "cell_type": "markdown",
   "id": "a6226a91-7ca1-4a46-87b6-9d3e5773272f",
   "metadata": {},
   "source": [
    "- Since immutable objects cannot be changed, they act like Ruby passes them around by value. (This isn’t a completely accurate interpretation of how Ruby passes immutable objects, but it helps us determine why the following code works as it does:)"
   ]
  },
  {
   "cell_type": "code",
   "execution_count": 41,
   "id": "8ec97461-5db3-4b7c-b86d-780f70fc5e0b",
   "metadata": {},
   "outputs": [
    {
     "name": "stdout",
     "output_type": "stream",
     "text": [
      "4\n",
      "3\n"
     ]
    }
   ],
   "source": [
    "def increment(a)\n",
    "  a = a + 1\n",
    "end\n",
    "\n",
    "b = 3\n",
    "puts increment(b)    # prints 4\n",
    "puts b               # prints 3"
   ]
  },
  {
   "cell_type": "markdown",
   "id": "3b9cf368-5227-4f2b-a0ca-2dc64481b37d",
   "metadata": {},
   "source": [
    "- Here, the numeric object `3` is immutable. You can reasonably say that `b`'s value is not mutated by `#increment` since `3` is passed by value to `#increment` where it is bound to variable `a`. Even though `a` is assigned to `4` inside the method and returned to the caller, the original object referenced by `b` is untouched.\n",
    "- Mutable objects, on the other hand, can always be mutated simply by calling one of their mutating methods. They act like Ruby passes them around by reference."
   ]
  },
  {
   "cell_type": "code",
   "execution_count": 42,
   "id": "12ce85de-d15d-4e98-9e07-489478869103",
   "metadata": {},
   "outputs": [
    {
     "name": "stdout",
     "output_type": "stream",
     "text": [
      "abc*\n",
      "abc*\n"
     ]
    }
   ],
   "source": [
    "def append(s)\n",
    "  s << '*'\n",
    "end\n",
    "t = 'abc'\n",
    "puts append(t)    # prints abc*\n",
    "puts t            # prints abc*"
   ]
  },
  {
   "cell_type": "markdown",
   "id": "b0e0ffa8-c45f-4689-aa3b-2bf60c97740a",
   "metadata": {},
   "source": [
    "- Here, the String object `abc` is mutable. You can reasonably say that the object referenced by `t` is mutated by `#append` since `t`'s value is passed by reference to `#append` where it is bound to variable `s`.\n",
    "- When we apply the `<<` operator to `s`, the change is reflected through `t` as well. Upon return from the method, the value of `t` has been mutated. However, `t` still points to the same object in memory; it merely has a different value."
   ]
  },
  {
   "cell_type": "markdown",
   "id": "fe1431f6-24b6-47ff-b671-a3d7f1bce676",
   "metadata": {
    "tags": []
   },
   "source": [
    "## Ruby Object’s Mutating and Non-Mutating Methods"
   ]
  },
  {
   "cell_type": "markdown",
   "id": "e50444b9-db36-4ff5-81b9-fb2cb8bb9eed",
   "metadata": {},
   "source": [
    "### Assignment is Non-Mutating"
   ]
  },
  {
   "cell_type": "code",
   "execution_count": 40,
   "id": "f92c9986-2ebd-4c72-80af-c240b0436bfc",
   "metadata": {},
   "outputs": [
    {
     "name": "stdout",
     "output_type": "stream",
     "text": [
      "hello\n",
      "49500\n",
      "hello\n",
      "49500\n"
     ]
    }
   ],
   "source": [
    "a = 'hello'\n",
    "\n",
    "puts a # -> hello\n",
    "puts a.object_id # -> 70368468160540 (this number will be different for you)\n",
    "\n",
    "a.upcase \n",
    "\n",
    "puts a # -> hello\n",
    "puts a.object_id  # -> 70368468160540 (this number will be the same as the one above)"
   ]
  },
  {
   "cell_type": "markdown",
   "id": "e9c97509-59cf-43d9-8e4f-f3b1afbc15ec",
   "metadata": {},
   "source": [
    "- On `line 1` we are initializing local variable `a`.  \n",
    "- On `line 3` we are invoking the `puts` method and passing in local variable `a` as an argument.  This will output `'hello'` and return `nil`.\n",
    "- On `line 4` the `object_id` method is called on the string object that is referenced by local variable `a`to check what is the id of the object this variable is referencing. \n",
    "- On `line 6` we call the `String#upcase` method on the string object that local variable `a` is referencing.  This method call returns a new string but does not change or mutate the value of our calling object.  \n",
    "- We could have assigned the return value of the `upcase` method call to another local variable `b` for example (`b = a.upcase`) and in that case local variable `b` would point to a different string object with the value `'HELLO'` and it would have a different object_id."
   ]
  },
  {
   "cell_type": "markdown",
   "id": "9db31713-8220-4185-a585-02c2234beeba",
   "metadata": {},
   "source": [
    "- Assignment merely tells Ruby to bind an object to a variable. This means that assignment does not mutate an object; it merely connects the variable to a new object. "
   ]
  },
  {
   "cell_type": "code",
   "execution_count": 7,
   "id": "3ce455f8-4072-456d-98e3-3af0c0478714",
   "metadata": {},
   "outputs": [
    {
     "name": "stdout",
     "output_type": "stream",
     "text": [
      "HELLO!\n",
      "HELLO!\n",
      "49260\n",
      "49260\n"
     ]
    }
   ],
   "source": [
    "def fix(value)\n",
    "  value.upcase!\n",
    "  value.concat('!')\n",
    "  value\n",
    "end\n",
    "s = 'hello'\n",
    "t = fix(s)\n",
    "\n",
    "puts s\n",
    "puts t\n",
    "puts s.object_id\n",
    "puts t.object_id"
   ]
  },
  {
   "cell_type": "markdown",
   "id": "c4f853d6-bdbe-487b-abd4-aaccc624940c",
   "metadata": {},
   "source": [
    "- We start by passing `s` to the `fix` method; this binds the String represented by `'hello'` to `value`. In addition, `s` and `value` are now aliases for the String.\n",
    "- Next, we call `#upcase!` which converts the String to uppercase. A new String is not created; the String that is referenced by both `s` and `value` now contains the value `'HELLO'`.\n",
    "- We then call `#concat` on `value`, which also mutates `value` instead of creating a new String; the String now has a value of `\"HELLO!\"`, and both `s` and `value` reference that object.\n",
    "- Finally, we return a reference to the String and store it in `t`.\n",
    "\n",
    "```\n",
    "The only place we create a new String in this code is when we assign `'hello'` to `s`. The rest of the time, we operate directly on the object, mutating it as needed. Thus, both `s` and `t` reference the same String, and that String has the value `'HELLO!'``\n",
    "```"
   ]
  },
  {
   "cell_type": "code",
   "execution_count": 52,
   "id": "6b98d3ca-01b8-4597-a0f5-669af5b0d9da",
   "metadata": {},
   "outputs": [
    {
     "name": "stdout",
     "output_type": "stream",
     "text": [
      "hello\n",
      "HELLO!\n",
      "49620\n",
      "49640\n"
     ]
    }
   ],
   "source": [
    "def fix(value)\n",
    "  value = value.upcase\n",
    "  value.concat('!')\n",
    "end\n",
    "\n",
    "s = 'hello'\n",
    "t = fix(s)\n",
    "\n",
    "puts s \n",
    "puts t\n",
    "puts s.object_id\n",
    "puts t.object_id"
   ]
  },
  {
   "cell_type": "markdown",
   "id": "52e30394-780c-42a1-bfce-924c277c58da",
   "metadata": {},
   "source": [
    "- In this modified code, we assign the return value of `value.upcase` back to `value`. Unlike `#upcase!`, `#upcase` doesn't mutate the String referenced by `value`; instead, it creates a new **copy** of the String referenced by `value`, mutates the new copy, and then returns a reference to the copy.\n",
    "- This shows that `value = value.upcase` bound the return value of `value.upcase` to `value`; `value` now references a different object than it did before. Prior to the assignment, `value` referenced the same String as referenced by `s`, but after the assignment, value references a completely new String; the String referenced by `#upcase's` return value.\n",
    "- Assignment always binds the target variable on the left hand side of the `=` to the object referenced by the right hand side. The object originally referenced by the target variable is never mutated."
   ]
  },
  {
   "cell_type": "code",
   "execution_count": 10,
   "id": "bbd930b7-4de3-4350-b020-e332f0cd5704",
   "metadata": {},
   "outputs": [
    {
     "name": "stdout",
     "output_type": "stream",
     "text": [
      "helloxyz\n",
      "HELLOXYZ!\n",
      "49320\n",
      "49340\n"
     ]
    }
   ],
   "source": [
    "def fix(value)\n",
    "  value << 'xyz'\n",
    "  value = value.upcase\n",
    "  value.concat('!')\n",
    "end\n",
    "\n",
    "s = 'hello'\n",
    "t = fix(s)\n",
    "\n",
    "puts s\n",
    "puts t\n",
    "puts s.object_id\n",
    "puts t.object_id"
   ]
  },
  {
   "cell_type": "markdown",
   "id": "758b6f7f-b5a5-4bef-a3bc-a1c54bdb9060",
   "metadata": {},
   "source": [
    "- This program mutates the original string so its value is `helloxyz`. However, thanks to the assignment on line 3, it is not mutated to `HELLOXYZ` or `HELLOXYZ!`; those mutations are made to the (different) object that the method returns."
   ]
  },
  {
   "cell_type": "code",
   "execution_count": 11,
   "id": "8706b007-ba00-4467-82b3-11ec22b5f691",
   "metadata": {},
   "outputs": [
    {
     "name": "stdout",
     "output_type": "stream",
     "text": [
      "49360\n",
      "49360\n"
     ]
    }
   ],
   "source": [
    "def fix(value)\n",
    "  value = value.upcase!\n",
    "  value.concat('!')\n",
    "end\n",
    "\n",
    "s = 'hello'\n",
    "puts s.object_id\n",
    "t = fix(s)\n",
    "puts t.object_id"
   ]
  },
  {
   "cell_type": "markdown",
   "id": "294d8064-06d4-4a94-98da-a925de8cf2b7",
   "metadata": {},
   "source": [
    "- This time, though we assigned a reference to `value`, we end up with both `s` and `t` referring to the same object. \n",
    "- The reason for this is that `String#upcase!` returns a reference to its caller, `value`. Since the reference returned by `value.upcase!` is the same, albeit **mutated**, String we started with, the assignment effectively rebinds value back to the object it was previously bound to; nothing is mutated by the assignment."
   ]
  },
  {
   "cell_type": "code",
   "execution_count": 42,
   "id": "b253eb6d-c1f4-425d-ab61-cb87c955c8ba",
   "metadata": {},
   "outputs": [
    {
     "name": "stdout",
     "output_type": "stream",
     "text": [
      "hello \n",
      "49580\n",
      "hello world\n",
      "49600\n"
     ]
    }
   ],
   "source": [
    "a = 'hello '\n",
    "puts a\n",
    "puts a.object_id\n",
    "\n",
    "a += 'world'\n",
    "puts a\n",
    "puts a.object_id"
   ]
  },
  {
   "cell_type": "markdown",
   "id": "2374cf94-ff3e-4c44-b56c-cd76ec5e7f0a",
   "metadata": {},
   "source": [
    "- `+=` operator and `-=` , `*=` etc. are all reassignment operators and `line 5` can be written like this `a = a + 'world'`\n",
    "- So we are reassigning the local variable `a` to the a different string object with the value `'hello world'` and the outputs on line 3 and 7 will be different."
   ]
  },
  {
   "cell_type": "markdown",
   "id": "19108ae6-8e7b-4b96-9bb4-ca04d5517bf0",
   "metadata": {
    "tags": []
   },
   "source": [
    "### Mutating Methods"
   ]
  },
  {
   "cell_type": "markdown",
   "id": "7d7de8cc-5fe4-4571-a919-1280caf1e52b",
   "metadata": {},
   "source": [
    "- Mutating methods in Ruby are those that change the value of a calling object."
   ]
  },
  {
   "cell_type": "code",
   "execution_count": 39,
   "id": "0eef79e1-c074-4a9c-a6dd-8559c8421a66",
   "metadata": {},
   "outputs": [
    {
     "name": "stdout",
     "output_type": "stream",
     "text": [
      "hello\n",
      "49480\n",
      "HELLO\n",
      "49480\n"
     ]
    }
   ],
   "source": [
    "a = 'hello'\n",
    "\n",
    "puts a # -> hello\n",
    "puts a.object_id # -> 70368527757720 (this number will be different for you)\n",
    "\n",
    "a.upcase! \n",
    "\n",
    "puts a # -> HELLO\n",
    "puts a.object_id  # -> 70368527757720 (this number will be the same as the one above)"
   ]
  },
  {
   "cell_type": "markdown",
   "id": "88d69beb-b7bd-4ad5-b9cf-3e4361a7a21c",
   "metadata": {},
   "source": [
    "- On `line 1` we are intializing local variable `a` to the string object `'hello'`\n",
    "- On `line 3` we are invoking the `puts` method and passing in `a` as an argument.  This will output `'hello'` and return `nil`.\n",
    "- On `line 4` we are calling the method `object_id` on local variable `a` to check what the id is of the object this variable is referencing.\n",
    "- On `line 6` we are calling the method `String#upcase!` on the string object assigned to local variable `a`.  - This is a mutating method which means its changing the value of the object that is calling it, but the object id stays the same.\n",
    "- On `line 8` the puts method is invoked and `a` is passed in as an argument.  This will output `'HELLO'`\n",
    "- On `line 9` the method `object_id` is called on `a` and its return value is passed to the `puts` method.  This will output the same object_id as `line 4.`. "
   ]
  },
  {
   "cell_type": "markdown",
   "id": "d560bac9-d6e5-4615-9929-1b8257b0821e",
   "metadata": {},
   "source": [
    "### Indexed Assignment is Mutating"
   ]
  },
  {
   "cell_type": "markdown",
   "id": "bd8fc74d-48e3-42b4-9391-18303c1cdd52",
   "metadata": {},
   "source": [
    "```ruby\n",
    "str[3] = 'x'\n",
    "array[5] = Person.new\n",
    "hash[:age] = 25\n",
    "```\n",
    "\n",
    "- `#[]` mutates the original object (the `String`, `Array`, or `Hash`). It doesn't change the binding of each variable (`str`, `array`, `hash`)."
   ]
  },
  {
   "cell_type": "code",
   "execution_count": 4,
   "id": "4d5f1c45-baf8-448e-bd75-6a5d0ba1346b",
   "metadata": {},
   "outputs": [
    {
     "name": "stdout",
     "output_type": "stream",
     "text": [
      "49380\n",
      "49400\n",
      "49420\n",
      "49420\n"
     ]
    }
   ],
   "source": [
    "def fix(value)\n",
    "  value[1] = 'x'\n",
    "  value\n",
    "end\n",
    "\n",
    "arr = ['apple', 'carrots', 'peanut butter']\n",
    "puts arr[1].object_id\n",
    "new_arr = fix(arr)\n",
    "puts new_arr[1].object_id\n",
    "\n",
    "puts arr.object_id\n",
    "puts new_arr.object_id"
   ]
  },
  {
   "cell_type": "markdown",
   "id": "a33afe20-b2fa-442e-86b7-47c99d58c27f",
   "metadata": {},
   "source": [
    "- We are using indexed assignment instead, and, perhaps surprisingly, the binding does not change. Even after the assignment to `value[1]`, `value` still references the same (albeit mutated) String object."
   ]
  },
  {
   "cell_type": "code",
   "execution_count": 5,
   "id": "c64e6227-e044-4844-9d5c-3cfff3ec3e08",
   "metadata": {},
   "outputs": [
    {
     "name": "stdout",
     "output_type": "stream",
     "text": [
      "49440\n",
      "11\n",
      "19\n",
      "[3, 9, 8]\n",
      "49440\n"
     ]
    }
   ],
   "source": [
    "a = [3, 5, 8]\n",
    "puts a.object_id\n",
    "\n",
    "puts a[1].object_id\n",
    "a[1] = 9\n",
    "puts a[1].object_id\n",
    "\n",
    "print \"#{a}\\n\"\n",
    "puts a.object_id"
   ]
  },
  {
   "cell_type": "markdown",
   "id": "e62d07f6-200e-4761-9192-dbc3ddb32604",
   "metadata": {},
   "source": [
    "- Here, we can see that we have mutated the Array `a` by assigning a new value to `a[1]`, but have not created a new Array. `a[1] = 9` isn't assigning anything to `a`; it is assigning `9` to `a[1]`; that is, this assignment reassigns `a[1]` to the new object `9`. \n",
    "- **The assignment does cause a new reference to be made, but it is the collection element e.g., (`a[1]`) that is bound to the new object, not the collection (enclosing object) itself.**"
   ]
  },
  {
   "cell_type": "markdown",
   "id": "a65375ce-8b53-4f5f-86cc-e4662d334b47",
   "metadata": {},
   "source": [
    "### Concatenation is Mutating"
   ]
  },
  {
   "cell_type": "markdown",
   "id": "a306e4d0-f3f9-439a-86d9-9f829f267586",
   "metadata": {},
   "source": [
    "- The `#<<` method used by collections like Arrays and Hashes, as well as the String class, implements concatenation; this is very similar to the `+=` operator. \n",
    "- However, there is a major difference; **`+=` is non-mutating, but `#<<` is mutating.**"
   ]
  },
  {
   "cell_type": "code",
   "execution_count": 6,
   "id": "29a5d8f8-9c6d-4b17-a78f-82f598ea6561",
   "metadata": {},
   "outputs": [
    {
     "name": "stdout",
     "output_type": "stream",
     "text": [
      "hello\n",
      "49460\n",
      "hello world\n",
      "49460\n"
     ]
    }
   ],
   "source": [
    "s = 'hello'\n",
    "puts s\n",
    "puts s.object_id\n",
    "\n",
    "s << ' world'\n",
    "puts s\n",
    "puts s.object_id"
   ]
  },
  {
   "cell_type": "markdown",
   "id": "3e5192ac-463f-49b8-b09b-918d09a2aa71",
   "metadata": {},
   "source": [
    "- The `#<<` method is mutating with respect to its caller (`s` here), so the object referenced by `s` is mutated; no new objects are created, so `s` still references the same object it did prior to the `#<<` call."
   ]
  },
  {
   "cell_type": "markdown",
   "id": "ad62e9f9-9dda-4cbe-836e-2b3a8ceb12f2",
   "metadata": {},
   "source": [
    "### Setters are Mutating"
   ]
  },
  {
   "cell_type": "markdown",
   "id": "79fbf92d-2541-40f2-a144-ec9e815fb4b1",
   "metadata": {},
   "source": [
    "- Setters are very similar to indexed assignment; they are methods that are defined to mutate the state of an object.\n",
    "- With indexed assignment, the elements of a collection (or the characters of a String) are replaced; with setters, the state of the object is altered, usually by mutating or reassigning an instance variable.\n",
    "```ruby\n",
    "person.name = 'Bill'\n",
    "person.age = 23\n",
    "```\n",
    "- This looks exactly like assignment, which is non-mutating, but, since these are setter calls, they actually mutate the object bound to `person`."
   ]
  },
  {
   "cell_type": "markdown",
   "id": "be911d0a-7ddb-4554-aeb3-afada7fcc71d",
   "metadata": {},
   "source": [
    "### Refining the Mental Model"
   ]
  },
  {
   "cell_type": "markdown",
   "id": "d6f7fd2b-b27b-4113-9891-9e695fadcd99",
   "metadata": {},
   "source": [
    "- Immutable objects still seem to be passed by value, while mutable objects seemed to be passed by reference."
   ]
  },
  {
   "cell_type": "code",
   "execution_count": 41,
   "id": "c079e40f-4362-4024-9a4d-ab5f2d45bab7",
   "metadata": {},
   "outputs": [
    {
     "name": "stdout",
     "output_type": "stream",
     "text": [
      "49520\n",
      "49540\n",
      "49560\n",
      "49560\n",
      "49560\n",
      "49560\n",
      "11\n",
      "11\n",
      "11\n"
     ]
    }
   ],
   "source": [
    "a = 'name'\n",
    "b = 'name'\n",
    "c = 'name'\n",
    "\n",
    "# Are these three local variables pointing to the same object?\n",
    "\n",
    "puts a.object_id\n",
    "puts b.object_id\n",
    "puts c.object_id\n",
    "\n",
    "a = c\n",
    "b = a\n",
    "\n",
    "puts a.object_id\n",
    "puts b.object_id\n",
    "puts c.object_id\n",
    "\n",
    "a = 5\n",
    "b = 5\n",
    "c = 5\n",
    "\n",
    "puts a.object_id\n",
    "puts b.object_id\n",
    "puts c.object_id"
   ]
  },
  {
   "cell_type": "markdown",
   "id": "a64c851c-ed7e-4083-b5ef-e85f3a3a8a12",
   "metadata": {},
   "source": [
    "- On `lines 1-3` we are intializing three local variables `a, b, and c` which all have the same value `'name'` but they are not pointing to the same object.\n",
    "- On `lines 11-12` we are reassinging the local variable `a` to point to the same object as local variable `c` is pointing to.  So now local variables `a and c` are pointing to one object while local variable `b` is pointing to another.  \n",
    "- Then we are reassigning local variable `b` to point to the same object as local variable `a`, which is pointing to the same object as local variable `c`.  So all three variables are now pointing to the same object and, thus, will have the same object id's.\n",
    "- On `lines 18-20` we are reassigning local variables `a, b and c` to the value `5`.  **Integers and symbols in Ruby with same values occupy the same physical space in memory (they are the same objects)**. So now `a`, `b` and `c` are all pointing to the same object with the same object_id"
   ]
  },
  {
   "cell_type": "markdown",
   "id": "d92e3b5f-25f0-40ad-a57c-2f6445e570e4",
   "metadata": {
    "toc-hr-collapsed": true
   },
   "source": [
    "## Object Passing in Ruby - Pass by Reference or Pass by Value"
   ]
  },
  {
   "cell_type": "code",
   "execution_count": 8,
   "id": "7934a21a-da72-4146-9e28-2bc4c5288a2a",
   "metadata": {},
   "outputs": [
    {
     "name": "stdout",
     "output_type": "stream",
     "text": [
      "ab\n"
     ]
    }
   ],
   "source": [
    "def increment(x)\n",
    "  x << 'b'\n",
    "end\n",
    "\n",
    "y = \"a\"\n",
    "increment(y)\n",
    "puts y"
   ]
  },
  {
   "cell_type": "markdown",
   "id": "d63e592a-448c-4235-881b-b8cb6e2f126c",
   "metadata": {},
   "source": [
    "- Hypothetically, if ruby is pass by value, this code prints `a`. The reason for this is that a pass by value strategy creates a **copy** of `y` before passing it to `#increment`; since `#increment` has only a copy of `y`, it can't actually mutate `y`.\n",
    "- However, if ruby is pass by reference, this code prints `ab`. Here, ruby passes a **reference** to `y` to `#increment`, so `x` becomes an alias for `y`. When you mutate `x`, you can see the results by looking at `y`."
   ]
  },
  {
   "cell_type": "markdown",
   "id": "71e0b644-4524-4e43-8159-90f877553cbc",
   "metadata": {
    "tags": [],
    "toc-hr-collapsed": true
   },
   "source": [
    "### Pass by Value"
   ]
  },
  {
   "cell_type": "markdown",
   "id": "ad556584-1e4e-4808-8a6e-e62a5521f619",
   "metadata": {},
   "source": [
    "- With pass by value, a copy of an object is created, and it is that copy that gets passed around. Since it is merely a copy, it is impossible to change the original object; any attempt to change the copy just changes the copy and leaves the original object unchanged.\n",
    "- Passing around immutable values in ruby acts a lot like pass by value:"
   ]
  },
  {
   "cell_type": "code",
   "execution_count": 9,
   "id": "e4ab9105-bda5-430c-8ed3-9f1bec2e9929",
   "metadata": {},
   "outputs": [
    {
     "name": "stdout",
     "output_type": "stream",
     "text": [
      "3\n",
      "13\n"
     ]
    }
   ],
   "source": [
    "def plus(x, y)\n",
    "  x = x + y\n",
    "end\n",
    "\n",
    "a = 3\n",
    "b = plus(a, 10)\n",
    "\n",
    "puts a\n",
    "puts b"
   ]
  },
  {
   "cell_type": "markdown",
   "id": "00dacb2a-1651-4dd4-b3d5-d3d9845cd47a",
   "metadata": {},
   "source": [
    "- As you can see, although we assign a new value to `x` in `#plus`, the original argument, `a`, is left unchanged."
   ]
  },
  {
   "cell_type": "markdown",
   "id": "41d64baa-9dbb-42db-80a8-eccf0336cd62",
   "metadata": {},
   "source": [
    "### Pass by Reference"
   ]
  },
  {
   "cell_type": "markdown",
   "id": "d70067b1-b9f8-407b-b607-8a69ae2a2776",
   "metadata": {},
   "source": [
    "- With pass by reference, a reference to an object is passed around. This establishes an alias between the argument and the original object: both the argument and object refer to the same location in memory. If you mutate the argument, you also mutate the original object."
   ]
  },
  {
   "cell_type": "code",
   "execution_count": 10,
   "id": "7a1d0779-95f5-4cb2-bf4b-8dee7a5fbd86",
   "metadata": {},
   "outputs": [
    {
     "name": "stdout",
     "output_type": "stream",
     "text": [
      "WILLIAM\n"
     ]
    }
   ],
   "source": [
    "def uppercase(value)\n",
    "  value.upcase!\n",
    "end\n",
    "name = 'William'\n",
    "uppercase(name)\n",
    "puts name"
   ]
  },
  {
   "cell_type": "markdown",
   "id": "b87e18fc-c21a-4735-b7d5-1e0cdb7a0a8d",
   "metadata": {},
   "source": [
    "- Here, our method can mutate the `name` String through the alias `value`, so it looks like ruby is pass by reference here."
   ]
  },
  {
   "cell_type": "markdown",
   "id": "6f443a29-85e2-45ab-9bac-496ddc0a233e",
   "metadata": {},
   "source": [
    "### Pass By Reference Value"
   ]
  },
  {
   "cell_type": "markdown",
   "id": "a7bb0c9a-03cc-4e4e-adc1-7645cb9d9ab2",
   "metadata": {},
   "source": [
    "- While we can change which object is bound to a variable inside of a method, we can’t change the binding of the original arguments. We can change the objects if the objects are mutable, but the references themselves are immutable as far as the method is concerned.\n",
    "- In short, ruby is neither pass by value nor pass by reference, but instead employs a third strategy that blends the two strategies."
   ]
  },
  {
   "cell_type": "markdown",
   "id": "5b829e47-2275-4ba5-a56e-6610da2fcf61",
   "metadata": {},
   "source": [
    "### Final Mental Model"
   ]
  },
  {
   "cell_type": "markdown",
   "id": "c1091915-4e74-4502-9677-8924b28e3b53",
   "metadata": {},
   "source": [
    "- pass by reference is accurate so long as you account for assignment and immutability.\n",
    "- **Ruby acts like pass by value for immutable objects, pass by reference for mutable objects** is a reasonable answer when learning about ruby, so long as you keep in mind that ruby only appears to act like this."
   ]
  },
  {
   "cell_type": "markdown",
   "id": "149b6872-5d42-4623-8884-3d999cd353b7",
   "metadata": {
    "tags": []
   },
   "source": [
    "# Collections"
   ]
  },
  {
   "cell_type": "markdown",
   "id": "dd076d51-32d1-4ba7-8c9f-1d8bff2f0476",
   "metadata": {
    "tags": [],
    "toc-hr-collapsed": true
   },
   "source": [
    "## Collection Basics"
   ]
  },
  {
   "cell_type": "markdown",
   "id": "17e70d52-36ac-4979-a57e-190e6d3806a3",
   "metadata": {},
   "source": [
    "### Element Reference"
   ]
  },
  {
   "cell_type": "markdown",
   "id": "173ce93f-292f-42f0-bfe9-df640ddbcca9",
   "metadata": {},
   "source": [
    "#### String Element Reference"
   ]
  },
  {
   "cell_type": "markdown",
   "id": "8b4cf180-a813-48d0-a8f9-b84bd4f333d7",
   "metadata": {},
   "source": [
    "- You can reference a specific character using the index.  You can also reference multiple characters within a string by using an index starting point and the number of characters to return."
   ]
  },
  {
   "cell_type": "code",
   "execution_count": 1,
   "id": "531cd610-8d76-434e-a1c1-0702f41c69bf",
   "metadata": {},
   "outputs": [
    {
     "name": "stdout",
     "output_type": "stream",
     "text": [
      "c\n",
      "cde\n"
     ]
    }
   ],
   "source": [
    "str = 'abcdefghi'\n",
    "\n",
    "puts str[2]\n",
    "puts str[2, 3]"
   ]
  },
  {
   "cell_type": "markdown",
   "id": "b659989c-2d88-4052-bb7f-f588355eebe6",
   "metadata": {},
   "source": [
    "- `str[2, 3]` is actually a call to the `#slice` method of String and is alternative syntax for `str.slice(2, 3)`. The fact that we can use this alternative form of `#slice` is part of Ruby's syntactical sugar.\n",
    "- Strings are not true collections. Collections contain multiple objects, while strings contain only a single object. The individual characters are not objects, but are just part of the object that contains the string value.\n",
    "- Strings act like collections in that you can access and assign each character individually. However, when you access a single character of the string with something like `str[2]`, the return value is a brand new string - each time you call `str[2]`, it returns a new string."
   ]
  },
  {
   "cell_type": "code",
   "execution_count": null,
   "id": "058ea925-3c47-4d45-ae8b-81acbc929e7e",
   "metadata": {},
   "outputs": [],
   "source": [
    "char1 = str[2]                     # => \"c\"\n",
    "char2 = str[2]                     # => \"c\"\n",
    "char1.object_id == char2.object_id # => false"
   ]
  },
  {
   "cell_type": "markdown",
   "id": "cc2ca6dd-a811-4815-b8f0-d6df3f2144b8",
   "metadata": {},
   "source": [
    "- If `str` were a real collection, the `char1` and `char2` objects would have the same object_id."
   ]
  },
  {
   "cell_type": "markdown",
   "id": "7b0ea649-2e88-4cd2-8fd2-1240cfa8c377",
   "metadata": {},
   "source": [
    "#### Array Element Reference"
   ]
  },
  {
   "cell_type": "markdown",
   "id": "46fd8556-1dae-4b06-bfff-b8c78829d799",
   "metadata": {},
   "source": [
    "- It is important to be aware, however, that `Array#slice` and `String#slice` are not the same method, even though they have the same name. They do share a lot of the same functionality, but are separate implementations. \n",
    "- One key distinction is that `String#slice` returns a new string whereas `Array#slice` returns a new array.\n",
    "- One situation where `Array#slice` does not return a new array is when we only pass the method a single index, Rather than a start and length or a range; in this case the element at that index is returned rather than a new array."
   ]
  },
  {
   "cell_type": "code",
   "execution_count": 2,
   "id": "da57dcd6-1a7d-426d-a472-3e0a5a9719af",
   "metadata": {},
   "outputs": [
    {
     "name": "stdout",
     "output_type": "stream",
     "text": [
      "[\"4\"]\n",
      "[\"4\"]\n",
      "4"
     ]
    }
   ],
   "source": [
    "arr = [1, 'two', :three, '4']\n",
    "print arr.slice(3, 1) # => [\"4\"]\n",
    "print \"\\n\"\n",
    "print arr.slice(3..3) # => [\"4\"]\n",
    "print \"\\n\"\n",
    "print arr.slice(3)    # => \"4\""
   ]
  },
  {
   "cell_type": "markdown",
   "id": "f8d8bc05-0823-46e3-8f17-662ed98541ad",
   "metadata": {},
   "source": [
    "#### Hash Element Reference"
   ]
  },
  {
   "cell_type": "markdown",
   "id": "d474bef7-3487-40ed-bcc7-d4d130dd6f1d",
   "metadata": {},
   "source": [
    "- When initializing a hash, the keys must be **unique**.\n",
    "- We can access just the keys or just the values from a hash with the `#keys` and `#values` methods of Hash. These methods return an array\n",
    "- Although both hash keys and values can be any object in Ruby, it is common practice to use symbols as the keys. Symbols in Ruby can be thought of as immutable strings. There's a number of advantages to using symbols for hash keys"
   ]
  },
  {
   "cell_type": "markdown",
   "id": "b9504c9b-f434-4ae1-9f34-53c618ebc46f",
   "metadata": {},
   "source": [
    "#### Element Reference Gotchas"
   ]
  },
  {
   "cell_type": "markdown",
   "id": "e6ed6699-fa76-4e91-b572-a8a534f2ef69",
   "metadata": {},
   "source": [
    "**Out of Bounds Indices**\n",
    "\n",
    "- Referencing an out-of-bounds index in this way returns `nil`. This is not necessarily a problem for a string, since we know that `nil` is an invalid return value; with an array, `nil` could be a valid return value since arrays can contain any other type of object, including `nil`.\n",
    "- Array has a method called `#fetch` which tries to return the element at position index, but throws an `IndexError` exception if the referenced index lies outside of the array bounds."
   ]
  },
  {
   "cell_type": "code",
   "execution_count": 3,
   "id": "201324bd-ef1f-49aa-9fff-20aca0db8f8c",
   "metadata": {},
   "outputs": [
    {
     "name": "stdout",
     "output_type": "stream",
     "text": [
      "\n"
     ]
    },
    {
     "ename": "IndexError",
     "evalue": "index 3 outside of array bounds: -3...3",
     "output_type": "error",
     "traceback": [
      "\u001b[31mIndexError\u001b[0m: index 3 outside of array bounds: -3...3",
      "(irb):3:in `fetch'",
      "(irb):3:in `irb_binding'"
     ]
    }
   ],
   "source": [
    "arr = [3, 'd', nil]\n",
    "\n",
    "puts arr.fetch(2) # => nil\n",
    "puts arr.fetch(3) # => IndexError: index 3 outside of array bounds: -3...3\n",
    "             #        from (irb):3:in `fetch'\n",
    "             #        from (irb):3\n",
    "             #        from /usr/bin/irb:11:in `<main>'"
   ]
  },
  {
   "cell_type": "markdown",
   "id": "0f8c4d67-779a-4ded-a7de-79e3e060290c",
   "metadata": {},
   "source": [
    "**Negative Indices**\n",
    "\n",
    "- Elements in `String` and `Array` objects can be referenced using negative indices, starting from the last index in the collection -1 and working backwards."
   ]
  },
  {
   "cell_type": "code",
   "execution_count": 4,
   "id": "e02420c2-c594-4efc-a3a6-02b291afae67",
   "metadata": {},
   "outputs": [
    {
     "name": "stdout",
     "output_type": "stream",
     "text": [
      "elem is out of bounds\n"
     ]
    }
   ],
   "source": [
    "str = 'ghijk'\n",
    "arr = ['g', 'h', 'i', 'j', 'k']\n",
    "\n",
    "str[-6] # nil\n",
    "arr[-6] # nil\n",
    "arr.fetch(-6) { |elem| puts \"elem is out of bounds\"}"
   ]
  },
  {
   "cell_type": "markdown",
   "id": "2953be5b-ca63-4c01-9d38-c801f0ee4095",
   "metadata": {},
   "source": [
    "**Invalid Hash Keys**\n",
    "\n",
    "- `Hash` also has a `#fetch` method which can be useful when trying to disambiguate valid hash keys with a `nil` value from invalid hash keys."
   ]
  },
  {
   "cell_type": "code",
   "execution_count": null,
   "id": "2863d221-ca42-4a45-b14f-4677c7d0ec99",
   "metadata": {},
   "outputs": [],
   "source": [
    "hsh = { :a => 1, 'b' => 'two', :c => nil }\n",
    "\n",
    "hsh['b']       # => \"two\"\n",
    "hsh[:c]        # => nil\n",
    "hsh['c']       # => nil\n",
    "hsh[:d]        # => nil\n",
    "\n",
    "hsh.fetch(:c)  # => nil\n",
    "hsh.fetch('c') # => KeyError: key not found: \"c\"\n",
    "               #        from (irb):2:in `fetch'\n",
    "               #        from (irb):2\n",
    "               #        from /usr/bin/irb:11:in `<main>'\n",
    "hsh.fetch(:d)  # => KeyError: key not found: :d\n",
    "               #        from (irb):3:in `fetch'\n",
    "               #        from (irb):3\n",
    "               #        from /usr/bin/irb:11:in `<main>'"
   ]
  },
  {
   "cell_type": "markdown",
   "id": "ff3a1e6d-96ec-4517-81bb-b92cdb6984e9",
   "metadata": {},
   "source": [
    "### Conversion"
   ]
  },
  {
   "cell_type": "markdown",
   "id": "18f5b49b-4384-4a0f-a2a8-46e85f40b094",
   "metadata": {},
   "source": [
    "- `String#chars` returns an array of individual characters.\n",
    "- `Array#join` returns a string with the elements of the array joined together.\n",
    "- `Hash` has a `#to_a` method, which returns an array.\n",
    "- `Array` has a `#to_h` method which returns a hash"
   ]
  },
  {
   "cell_type": "markdown",
   "id": "acb91649-1134-4f86-a87c-4ef860f24421",
   "metadata": {},
   "source": [
    "### Element Assignment"
   ]
  },
  {
   "cell_type": "markdown",
   "id": "442088fc-a0da-4d3d-aecf-6b4621ac9a30",
   "metadata": {},
   "source": [
    "#### String Element Assignment"
   ]
  },
  {
   "cell_type": "markdown",
   "id": "c13a7a65-1e26-44c6-8423-1333b9d84f8b",
   "metadata": {},
   "source": [
    "- We can use the element assignment notation of `String` in order to change the value of a specific character within a string by referring to its index.\n",
    "- Note that this way of modifying a string is a destructive action; that is, the `str` string is changed permanently."
   ]
  },
  {
   "cell_type": "code",
   "execution_count": 5,
   "id": "d986733d-7f1f-4c19-aa20-cd2911d80dad",
   "metadata": {},
   "outputs": [
    {
     "data": {
      "text/plain": [
       "\"Joe's favorite color is blue\""
      ]
     },
     "execution_count": 5,
     "metadata": {},
     "output_type": "execute_result"
    }
   ],
   "source": [
    "str = \"joe's favorite color is blue\"\n",
    "str[0] = 'J'\n",
    "str # => \"Joe's favorite color is blue\""
   ]
  },
  {
   "cell_type": "markdown",
   "id": "41714a19-382b-4c63-b285-aecf11e16c14",
   "metadata": {},
   "source": [
    "#### Array Element Assignment"
   ]
  },
  {
   "cell_type": "code",
   "execution_count": 9,
   "id": "2f4db522-49e2-464e-8daf-abc5ce358145",
   "metadata": {},
   "outputs": [
    {
     "name": "stdout",
     "output_type": "stream",
     "text": [
      "49260\n",
      "49260\n"
     ]
    },
    {
     "data": {
      "text/plain": [
       "[2, 2, 3, 4, 5]"
      ]
     },
     "execution_count": 9,
     "metadata": {},
     "output_type": "execute_result"
    }
   ],
   "source": [
    "arr = [1, 2, 3, 4, 5]\n",
    "puts arr.object_id\n",
    "arr[0] += 1 # => 2\n",
    "puts arr.object_id\n",
    "arr         # => [2, 2, 3, 4, 5]"
   ]
  },
  {
   "cell_type": "markdown",
   "id": "f04b1dc4-af82-4060-9f17-9e0c7bc3c0b6",
   "metadata": {},
   "source": [
    "- The statement `arr[0] += 1` in this example is shorthand for `arr[0] = arr[0] + 1`.\n",
    "- This combines array element reference and array element assignment and is another example of Ruby's syntactical sugar."
   ]
  },
  {
   "cell_type": "markdown",
   "id": "7e91decd-c38c-4df3-881a-88d7832f93ed",
   "metadata": {},
   "source": [
    "#### Hash Element Assignment"
   ]
  },
  {
   "cell_type": "markdown",
   "id": "9ed014f8-6b76-415a-885d-b36954b748a9",
   "metadata": {},
   "source": [
    "- The hash key is used instead of assigning a value using an index."
   ]
  },
  {
   "cell_type": "code",
   "execution_count": 12,
   "id": "9918578f-6874-4f89-a6f3-205297c0f9d2",
   "metadata": {},
   "outputs": [
    {
     "data": {
      "text/plain": [
       "{:apple=>\"Fruit\", :carrot=>\"Produce\", :pear=>\"Produce\", :broccoli=>\"Produce\"}"
      ]
     },
     "execution_count": 12,
     "metadata": {},
     "output_type": "execute_result"
    }
   ],
   "source": [
    "hsh = { apple: 'Produce', carrot: 'Produce', pear: 'Produce', broccoli: 'Produce' }\n",
    "hsh[:apple] = 'Fruit'\n",
    "hsh"
   ]
  },
  {
   "cell_type": "code",
   "execution_count": 15,
   "id": "cc745f45-2c63-4186-a068-46ceda7bef86",
   "metadata": {},
   "outputs": [
    {
     "data": {
      "text/plain": [
       "[1, 2, 3, 4, 5, 1, 2, 3, 4, 5, 1, 2, 3, 4, 5]"
      ]
     },
     "execution_count": 15,
     "metadata": {},
     "output_type": "execute_result"
    }
   ],
   "source": [
    "[*(1..5).cycle(3)]"
   ]
  },
  {
   "cell_type": "code",
   "execution_count": 23,
   "id": "8a81eca1-0ca8-497b-87f5-0749f71e5cc3",
   "metadata": {},
   "outputs": [
    {
     "data": {
      "text/plain": [
       "[1, 2, 3, 4, 5, 1, 2, 3, 4, 5, 1, 2, 3, 4, 5]"
      ]
     },
     "execution_count": 23,
     "metadata": {},
     "output_type": "execute_result"
    }
   ],
   "source": [
    "3.times.each_with_object([]) do |_, arr|\n",
    "    (1..5).each { |n| arr << n }\n",
    "end"
   ]
  },
  {
   "cell_type": "code",
   "execution_count": 31,
   "id": "d39f9471-be60-418b-a4ed-79709891921d",
   "metadata": {},
   "outputs": [
    {
     "name": "stdout",
     "output_type": "stream",
     "text": [
      "49500\n",
      "49520\n",
      "[4, 5, 0]\n"
     ]
    }
   ],
   "source": [
    "a = [1, 2, 3, 4, 5, 0]\n",
    "puts a.object_id\n",
    "b = a.drop(3)\n",
    "\n",
    "puts b.object_id\n",
    "puts b.inspect"
   ]
  },
  {
   "cell_type": "markdown",
   "id": "a5151282-8dcc-462a-a2c1-e90268387a36",
   "metadata": {},
   "source": [
    "## Selection and Transformation"
   ]
  },
  {
   "cell_type": "markdown",
   "id": "6f6057bc-98ce-469f-896c-94f6ea6404bb",
   "metadata": {},
   "source": [
    "- Selection and transformation both utilize the basics of looping: \n",
    "    - a loop\n",
    "    - a counter, \n",
    "    - a way to retrieve the current value\n",
    "    - a way to exit the loop\n",
    "- In addition, selection and transformation require **some criteria**:\n",
    "    - selection uses this criteria to determine which elements are selected\n",
    "    - transformation uses this criteria to determine how to perform the transformation.\n",
    "- **When performing transformation, it's always important to pay attention to whether the original collection was mutated or if a new collection was returned.**"
   ]
  },
  {
   "cell_type": "markdown",
   "id": "f0d11147-c346-45e5-85d4-9c078717327d",
   "metadata": {},
   "source": [
    "## Methods"
   ]
  },
  {
   "cell_type": "markdown",
   "id": "cc083768-89e9-43d9-98ea-010b4ad4f919",
   "metadata": {},
   "source": [
    "### `each`"
   ]
  },
  {
   "cell_type": "markdown",
   "id": "b7c4f8c6-f19f-4395-a64c-fe184880cc6e",
   "metadata": {},
   "source": [
    "- We can iterate over an array or hash in a manual way by using `loop`, or we can iterate more idiomatically using `each` -- they're equivalent, for the most part. \n",
    "- One of the main differences between them, however, is the return value. Once `each` is done iterating, **it returns the original collection.**"
   ]
  },
  {
   "cell_type": "code",
   "execution_count": 34,
   "id": "f0e82915-d1e6-48e6-a80c-e4b45df17173",
   "metadata": {},
   "outputs": [
    {
     "name": "stdout",
     "output_type": "stream",
     "text": [
      "2\n",
      "4\n",
      "6\n"
     ]
    },
    {
     "data": {
      "text/plain": [
       "[1, 2, 3]"
      ]
     },
     "execution_count": 34,
     "metadata": {},
     "output_type": "execute_result"
    }
   ],
   "source": [
    "def a_method\n",
    "  [1, 2, 3].each do |num|\n",
    "    puts num * 2\n",
    "  end\n",
    "end\n",
    "\n",
    "a_method # Return value is [1, 2, 3]"
   ]
  },
  {
   "cell_type": "markdown",
   "id": "71196a4d-820f-4720-abe4-390cb6b48a13",
   "metadata": {},
   "source": [
    "- `each` is a method that's being called on the array.\n",
    "- The method takes a block, which is the `do … end` part.\n",
    "- The code within the block is executed for each iteration. In this case the code within the block is `puts num` which means each element in the array will be output by the `puts` method.\n",
    "- How does the block know what `num` is? For each iteration, `each` sends the value of the current element to the block in the form of an argument. In this block, the argument to the block is `num` and it represents the value of the current element in the array.\n",
    "- Since we're working with an array here, `each` knows that there's only one element per iteration, so `each` sends the block only one argument, `num`. \n",
    "- Hashes, however, need two arguments in order to represent both the key and the value per iteration. Calling each on a hash looks a little different, since the block has two arguments:"
   ]
  },
  {
   "cell_type": "markdown",
   "id": "13e98df0-01e7-4df6-91a0-d3bbc01f869d",
   "metadata": {},
   "source": [
    "- Note that `[1, 2, 3].each` is the last expression in the example above, despite there being some code in the block. \n",
    "- Therefore, the return value of the entire expression is the return value of the each invocation, which is the original collection (`[1, 2, 3]`)."
   ]
  },
  {
   "cell_type": "code",
   "execution_count": 37,
   "id": "35a96198-860d-40e5-acbc-943944bedfdd",
   "metadata": {},
   "outputs": [
    {
     "name": "stdout",
     "output_type": "stream",
     "text": [
      "The key is a and the value is 1\n",
      "The key is b and the value is 2\n",
      "The key is c and the value is 3\n"
     ]
    },
    {
     "data": {
      "text/plain": [
       "{:a=>1, :b=>2, :c=>3}"
      ]
     },
     "execution_count": 37,
     "metadata": {},
     "output_type": "execute_result"
    }
   ],
   "source": [
    "hash = { a: 1, b: 2, c: 3 }\n",
    "\n",
    "hash.each do |key, value|\n",
    "  puts \"The key is #{key} and the value is #{value}\"\n",
    "end"
   ]
  },
  {
   "cell_type": "code",
   "execution_count": 36,
   "id": "b8b67bac-90d7-4a71-a909-c37f787fc049",
   "metadata": {},
   "outputs": [
    {
     "name": "stdout",
     "output_type": "stream",
     "text": [
      "2\n",
      "4\n",
      "6\n",
      "hi\n"
     ]
    }
   ],
   "source": [
    "def a_method\n",
    "  [1, 2, 3].each do |num|\n",
    "    puts num * 2\n",
    "  end\n",
    "\n",
    "  puts 'hi'\n",
    "end\n",
    "\n",
    "a_method # Return value is nil since `each` block is no longer the last line evaluated\n",
    "         # and the return value of `puts` is nil"
   ]
  },
  {
   "cell_type": "markdown",
   "id": "8228824d-8d98-466e-937b-18ee1a254aeb",
   "metadata": {},
   "source": [
    "### `select`"
   ]
  },
  {
   "cell_type": "markdown",
   "id": "7d07dfd5-b1a8-47fc-a99c-f89c776cbb4b",
   "metadata": {},
   "source": [
    "- To perform selection, `select` evaluates the **return value of the block**. The block returns a value on each iteration, which then gets evaluated by `select`.\n",
    "- When evaluating the block's return value, `select` only cares about its `truthiness`. Everything in Ruby is considered \"truthy\" except for `nil` and `false`. That's not exactly the same thing as saying everything except `nil` and `false` has a value of `true` in Ruby, but only that it is \"truthy\". \n",
    "- If the return value of the block is \"truthy\", then the element during that iteration will be selected. If the return value of the block is \"falsey\" then the element will not be selected.\n",
    "- When an element is selected, it's placed in a **new collection**."
   ]
  },
  {
   "cell_type": "code",
   "execution_count": 38,
   "id": "a237e75c-6a2d-494f-b626-85e15f8f0fb8",
   "metadata": {},
   "outputs": [
    {
     "data": {
      "text/plain": [
       "[1, 2, 3]"
      ]
     },
     "execution_count": 38,
     "metadata": {},
     "output_type": "execute_result"
    }
   ],
   "source": [
    "[1, 2, 3].select do |num|\n",
    "  num + 1\n",
    "end "
   ]
  },
  {
   "cell_type": "markdown",
   "id": "76ea7dc5-d7e3-4a56-ae6c-904f483eda87",
   "metadata": {},
   "source": [
    "- The return value of the block in the above example will always be a \"truthy\" value. If the value is anything other than `false` or `nil`, it's a \"truthy\" value. In this case, the return value will always be an integer because `num + 1` is the last expression within the block, so the block implicitly returns an integer, a truthy value.\n",
    "- `select` performs selection based on the truthiness of the block's return value. If the block's return value is always \"truthy\", then all of the elements will be selected. When an element is selected, it's placed in a new collection. \n",
    "- In the above example, once `select` is done iterating, it returns a new collection containing all of the selected elements, because the selection criteria -- the block's return value -- is truthy for every element in the array."
   ]
  },
  {
   "cell_type": "code",
   "execution_count": 39,
   "id": "ecb9d37c-27ad-49ed-9264-85808bbf0a12",
   "metadata": {},
   "outputs": [
    {
     "name": "stdout",
     "output_type": "stream",
     "text": [
      "1\n",
      "2\n",
      "3\n"
     ]
    },
    {
     "data": {
      "text/plain": [
       "[]"
      ]
     },
     "execution_count": 39,
     "metadata": {},
     "output_type": "execute_result"
    }
   ],
   "source": [
    "[1, 2, 3].select do |num|\n",
    "  num + 1\n",
    "  puts num\n",
    "end "
   ]
  },
  {
   "cell_type": "markdown",
   "id": "9e394b68-af3d-4183-9866-57f8a4565743",
   "metadata": {},
   "source": [
    "- `select` will now return an empty array. Since `puts num` is now the last evaluated expression in the block, it is the return value of this expression which determines the return value of the block. \n",
    "- We know that `puts` always returns `nil`, therefore the return value of the block will now be `nil`, which is considered a \"falsey\" value. In other words, `select` won't select any elements because the return value will always be falsey."
   ]
  },
  {
   "cell_type": "markdown",
   "id": "f9f5e793-2d83-416c-9ab9-8d3156c4031c",
   "metadata": {},
   "source": [
    "### `map`"
   ]
  },
  {
   "cell_type": "markdown",
   "id": "29223e80-db45-4b69-bac1-854bee70becd",
   "metadata": {},
   "source": [
    "Similar to `select`, `map` also considers the return value of the block. The main difference between these two methods is that `map` uses the return value of the block to perform **transformation** instead of selection."
   ]
  },
  {
   "cell_type": "code",
   "execution_count": 40,
   "id": "acb6f6af-f0d6-426b-af11-171b451608e4",
   "metadata": {},
   "outputs": [
    {
     "data": {
      "text/plain": [
       "[2, 4, 6]"
      ]
     },
     "execution_count": 40,
     "metadata": {},
     "output_type": "execute_result"
    }
   ],
   "source": [
    "[1, 2, 3].map do |num|\n",
    "  num * 2\n",
    "end"
   ]
  },
  {
   "cell_type": "markdown",
   "id": "399565b7-a510-4c7b-af19-2bc42779673a",
   "metadata": {},
   "source": [
    "- In this example, the return value of the block is the product of `num * 2`. `map` then takes this value and places it in a new collection. This process is repeated for each element in the original collection."
   ]
  },
  {
   "cell_type": "code",
   "execution_count": 41,
   "id": "2608770b-0da2-4f58-884c-792c18c62fb8",
   "metadata": {},
   "outputs": [
    {
     "data": {
      "text/plain": [
       "[true, false, true]"
      ]
     },
     "execution_count": 41,
     "metadata": {},
     "output_type": "execute_result"
    }
   ],
   "source": [
    "[1, 2, 3].map do |num|\n",
    "  num.odd?\n",
    "end"
   ]
  },
  {
   "cell_type": "markdown",
   "id": "4c64457e-f593-44a5-952e-43955a15c5a7",
   "metadata": {},
   "source": [
    "- `map` always performs transformation based on the return value of the block. In this case, the return value of the block will be a `boolean`. This means that the collection returned by `map` will be an array of `booleans`."
   ]
  },
  {
   "cell_type": "code",
   "execution_count": 42,
   "id": "c10bbcc6-e8b5-49ab-a2c7-c89b66b2c5ca",
   "metadata": {},
   "outputs": [
    {
     "name": "stdout",
     "output_type": "stream",
     "text": [
      "1\n",
      "2\n",
      "3\n"
     ]
    },
    {
     "data": {
      "text/plain": [
       "[nil, nil, nil]"
      ]
     },
     "execution_count": 42,
     "metadata": {},
     "output_type": "execute_result"
    }
   ],
   "source": [
    "[1, 2, 3].map do |num|\n",
    "  num.odd?\n",
    "  puts num\n",
    "end"
   ]
  },
  {
   "cell_type": "markdown",
   "id": "ff6e8110-53f9-45ba-a6c6-940805a5e2b3",
   "metadata": {},
   "source": [
    "- By looking at the last expression within the block, we know that the return value of the block will always be `nil`. `map` doesn't care about truthiness, and takes this return value as the transformation criteria. Therefore, the collection returned by `map` is a new array of `nil`s."
   ]
  },
  {
   "cell_type": "code",
   "execution_count": 43,
   "id": "789724d2-5eb4-4470-9c32-94a791260a18",
   "metadata": {},
   "outputs": [
    {
     "data": {
      "text/plain": [
       "[\"hi\", \"hi\", \"hi\"]"
      ]
     },
     "execution_count": 43,
     "metadata": {},
     "output_type": "execute_result"
    }
   ],
   "source": [
    "[1, 2, 3].map do |num|\n",
    "  'hi'\n",
    "end"
   ]
  },
  {
   "cell_type": "markdown",
   "id": "0b56cdfd-7f92-4879-b423-f43f9c38af38",
   "metadata": {},
   "source": [
    "- Since `'hi'` is the only statement within the block, the return value of the block is `'hi'`, which `map` will use as the transformation criteria. Therefore, the above code will return an array where each element is `'hi'`."
   ]
  },
  {
   "cell_type": "markdown",
   "id": "f2eb5f89-d296-47bc-a176-d098279b3b06",
   "metadata": {},
   "source": [
    "### Summary"
   ]
  },
  {
   "cell_type": "markdown",
   "id": "e4d633c6-39eb-4cf1-940b-32406af6c917",
   "metadata": {},
   "source": [
    "![Methods Summary](../RB101/4_ruby_collections/methods_summary.png)"
   ]
  },
  {
   "cell_type": "markdown",
   "id": "f00d5b61-b4d0-4fe7-be77-90256d701190",
   "metadata": {
    "tags": [],
    "toc-hr-collapsed": true
   },
   "source": [
    "# Sort"
   ]
  },
  {
   "cell_type": "markdown",
   "id": "7b42c6e0-77e7-475d-a35c-4abc70e31f80",
   "metadata": {},
   "source": [
    "- Sorting is setting the order of items in a collection according to a certain criterion.  "
   ]
  },
  {
   "cell_type": "markdown",
   "id": "c545ef8c-e808-41b5-8df1-a2c69be4aed2",
   "metadata": {},
   "source": [
    "## Comparison"
   ]
  },
  {
   "cell_type": "markdown",
   "id": "65574872-a2d0-41c2-a9e6-14c550a7ab38",
   "metadata": {},
   "source": [
    "- Sorting is essentially carried out by comparing the items in a collection with each other, and ordering them based on the result of that comparison. "
   ]
  },
  {
   "cell_type": "markdown",
   "id": "9ad447eb-9fcb-47d7-a1a1-aeed8de0f696",
   "metadata": {
    "tags": [],
    "toc-hr-collapsed": true
   },
   "source": [
    "## The `<=>` Method"
   ]
  },
  {
   "cell_type": "markdown",
   "id": "91c441a5-42fc-4560-8096-4a92fe1ee82e",
   "metadata": {},
   "source": [
    "- Any object in a collection that we want to sort **must** implement a `<=>` method\n",
    "- This method performs comparison between two objects of the same type and returns a `-1`, `0`, or `1`, depending on whether the first object is `less than`, `equal to`, or `greater than` the second object; if the two objects cannot be compared then `nil` is returned.\n",
    "- The return value of the `<=>` method is used by `sort` to determine the order in which to place the items. If `<=>` returns `nil` to `sort` then it throws an argument error."
   ]
  },
  {
   "cell_type": "code",
   "execution_count": 47,
   "id": "ff50e77c-5139-4173-9ccf-7c8697358ef0",
   "metadata": {},
   "outputs": [
    {
     "ename": "ArgumentError",
     "evalue": "comparison of String with 1 failed",
     "output_type": "error",
     "traceback": [
      "\u001b[31mArgumentError\u001b[0m: comparison of String with 1 failed",
      "(irb):in `sort'",
      "(irb):in `irb_binding'"
     ]
    }
   ],
   "source": [
    "['a', 1].sort # => ArgumentError: comparison of String with 1 failed"
   ]
  },
  {
   "cell_type": "markdown",
   "id": "418b6058-25f3-4f1b-93fe-ee1d5a7d4ccb",
   "metadata": {},
   "source": [
    "- If you want to sort a collection that contains particular types of objects (e.g. strings or integers) you need to know two things:\n",
    "    - Does that object type implement a <=> comparison method?\n",
    "    - If yes, what is the specific implementation of that method for that object type (e.g. String#<=> will be implemented differently to Integer#<=>)."
   ]
  },
  {
   "cell_type": "markdown",
   "id": "441ce9ef-2918-476a-807a-5fcc04d34e92",
   "metadata": {},
   "source": [
    "### The ASCII Table"
   ]
  },
  {
   "cell_type": "markdown",
   "id": "38e66606-dac5-40e9-ba85-db839938eb4a",
   "metadata": {},
   "source": [
    "- Concepts like greater than, less than and equal to are fairly obvious when dealing with integers; but how does the `String#<=>` understand these concepts? The answer is that String order is determined by a character's position in the ASCII table.\n",
    "- It is this ASCII character order that determines the result if we compare one ASCII character with another using the `String#<=>` method.\n",
    "    - *For example comparing uppercase `'A'` with lowercase `'a'` returns `-1` because `'A'` precedes `'a'` in ASCIIbetical order.*\n",
    "    - *Similarly `'!'` precedes `'A'`*\n",
    "- You can determine a string's ASCII position by calling `ord` on the string.\n",
    "- Some useful rules to remember are:\n",
    "    - Uppercase letters come before lowercase letters\n",
    "    - Digits and (most) punctuation come before letters\n",
    "    - There is an extended ASCII table containing accented and other characters - this comes after the main ASCII table"
   ]
  },
  {
   "cell_type": "markdown",
   "id": "7918aeb8-6c93-420c-8abf-6128d113dbc8",
   "metadata": {},
   "source": [
    "## The `sort` method"
   ]
  },
  {
   "cell_type": "markdown",
   "id": "4602b125-ea08-458c-985e-daa627f58a73",
   "metadata": {},
   "source": [
    "- We can also call `sort` with a block; this gives us more control over how the items are sorted. The block needs two arguments passed to it (the two items to be compared) and the return value of the block has to be `-1`, `0`, `1` or `nil`."
   ]
  },
  {
   "cell_type": "code",
   "execution_count": 50,
   "id": "5eb9b25d-b277-4098-a0cd-74834fadc6c2",
   "metadata": {},
   "outputs": [
    {
     "data": {
      "text/plain": [
       "[1, 2, 3, 4, 5]"
      ]
     },
     "execution_count": 50,
     "metadata": {},
     "output_type": "execute_result"
    }
   ],
   "source": [
    "[2, 5, 3, 4, 1].sort do |a, b|\n",
    "  a <=> b\n",
    "end"
   ]
  },
  {
   "cell_type": "markdown",
   "id": "bec76c1a-6a14-495e-8b3c-cf2251befbc8",
   "metadata": {},
   "source": [
    "- In the above example, we're just using `Integer#<=>` in the block to perform the comparison, which is exactly what `sort` would have done by itself without the block of code."
   ]
  },
  {
   "cell_type": "code",
   "execution_count": 53,
   "id": "ce6ccf98-dd88-44e9-b557-c42fd375ada5",
   "metadata": {},
   "outputs": [
    {
     "data": {
      "text/plain": [
       "[5, 4, 3, 2, 1]"
      ]
     },
     "execution_count": 53,
     "metadata": {},
     "output_type": "execute_result"
    }
   ],
   "source": [
    "[2, 5, 3, 4, 1].sort do |a, b|\n",
    "  b <=> a\n",
    "end"
   ]
  },
  {
   "cell_type": "markdown",
   "id": "5eea0f22-47a9-4056-ac63-240a3dbfb6e3",
   "metadata": {},
   "source": [
    "- By switching the order in which the items are compared the new array returned is in descending order."
   ]
  },
  {
   "cell_type": "code",
   "execution_count": 54,
   "id": "d0a540f0-9c4b-4e2f-aa0a-ca6d29b8cb4c",
   "metadata": {},
   "outputs": [
    {
     "data": {
      "text/plain": [
       "[\"ants\", \"arc\", \"bat\", \"cap\", \"cape\"]"
      ]
     },
     "execution_count": 54,
     "metadata": {},
     "output_type": "execute_result"
    }
   ],
   "source": [
    "['arc', 'bat', 'cape', 'ants', 'cap'].sort"
   ]
  },
  {
   "cell_type": "markdown",
   "id": "e5cbd298-aa8e-4616-ae73-45afd5fe4023",
   "metadata": {},
   "source": [
    "- `String#<=>` compares multi-character strings character by character, so the strings beginning with `'a'` will come before those beginning with `'b'`; if both characters are the same then the next characters in the strings are compared, and so on.\n",
    "- In the case of `'cap'` and `'cape'`, the comparable characters are all equal, but `'cape'` is longer and so is considered greater by `String#<=>`."
   ]
  },
  {
   "cell_type": "code",
   "execution_count": 51,
   "id": "a1ac1688-6ebe-400d-b016-abd57e5b2d38",
   "metadata": {},
   "outputs": [
    {
     "data": {
      "text/plain": [
       "[[\"a\", \"car\", \"d\"], [\"a\", \"car\", \"d\", 3], [\"a\", \"cat\", \"b\", \"c\"], [\"b\", 2]]"
      ]
     },
     "execution_count": 51,
     "metadata": {},
     "output_type": "execute_result"
    }
   ],
   "source": [
    "[['a', 'cat', 'b', 'c'], ['b', 2], ['a', 'car', 'd', 3], ['a', 'car', 'd']].sort"
   ]
  },
  {
   "cell_type": "markdown",
   "id": "6bfc1e73-5d70-4c1e-a616-f67321885090",
   "metadata": {},
   "source": [
    "- Arrays are compared in an “element-wise” manner; the first element of array is compared with the first one of other_array using the` <=>` operator, then each of the second elements, etc… As soon as the result of any such comparison is non zero (i.e. the two corresponding elements are not equal), that result is returned for the whole array comparison.\n",
    "- If all the elements are equal, then the result is based on a comparison of the array lengths. Thus, two arrays are “equal” according to `Array#<=>` if, and only if, they have the same length and the value of each element is equal to the value of the corresponding element in the other array."
   ]
  },
  {
   "cell_type": "markdown",
   "id": "171d3507-ca1c-438d-954c-ebc16e67a132",
   "metadata": {},
   "source": [
    "- Each object in each array is compared... in an 'element-wise' manner\", so the first object in all of the arrays is compared initially. Since three of the arrays have the string 'a' at their first index, these all come before the array that has the string 'b' at its first index.\n",
    "- You will have noticed that the sub-array that has `'b'` at its first index has an integer `2` at its second index. We already know that comparing an integer with a string will return `nil`, which will cause sort to throw an error. \n",
    "- In this case, since `sort` did not need to compare the second item of that array to be able to establish its order, the integer does not come into play here and so no error is thrown. \n",
    "- If the first item in that array had been an `'a'`, like the other arrays, then the integer would have come into play and an error would have been thrown"
   ]
  },
  {
   "cell_type": "markdown",
   "id": "905e838d-1f17-43fd-bfac-64bcd743400a",
   "metadata": {},
   "source": [
    "## The `sort_by` method\n"
   ]
  },
  {
   "cell_type": "markdown",
   "id": "3cf60928-20ba-4907-9c87-5fbdf03c9362",
   "metadata": {},
   "source": [
    "- `sort_by` is similar to `sort` but is usually called with a block. The code in the block determines how the items are compared."
   ]
  },
  {
   "cell_type": "code",
   "execution_count": 56,
   "id": "6a8920a4-6c15-43cd-b24c-4f07582ae25b",
   "metadata": {},
   "outputs": [
    {
     "data": {
      "text/plain": [
       "[\"mat\", \"bed\", \"cot\"]"
      ]
     },
     "execution_count": 56,
     "metadata": {},
     "output_type": "execute_result"
    }
   ],
   "source": [
    "['cot', 'bed', 'mat'].sort_by do |word|\n",
    "  word[1]\n",
    "end"
   ]
  },
  {
   "cell_type": "markdown",
   "id": "4827eabf-e8d5-4fd5-bf9c-8cccd9123867",
   "metadata": {},
   "source": [
    "- Here we are sorting using the character at index `1` of each string, so only the characters` 'a'`, `'e'` and `'o'` are compared and the strings ordered according to the comparison of those characters. The other characters in the strings are ignored entirely."
   ]
  },
  {
   "cell_type": "code",
   "execution_count": 57,
   "id": "cfaff53e-f7c4-47e0-9746-3f4c39f616dd",
   "metadata": {},
   "outputs": [
    {
     "data": {
      "text/plain": [
       "[[:Mike, 18], [:john, 25], [:Kate, 27]]"
      ]
     },
     "execution_count": 57,
     "metadata": {},
     "output_type": "execute_result"
    }
   ],
   "source": [
    "people = { Kate: 27, john: 25, Mike:  18 }\n",
    "\n",
    "people.sort_by do |_, age|\n",
    "  age\n",
    "end"
   ]
  },
  {
   "cell_type": "markdown",
   "id": "c5558159-9e6a-4579-8e4c-b034b37a2927",
   "metadata": {},
   "source": [
    "- When calling `sort_by` on a hash, two arguments need to be passed to the block - the key and the value.\n",
    "- The last argument evaluated in the block should then be the thing by which we want to sort, so if we wanted the hash sorted by `age` then `age` should be the last line in the block."
   ]
  },
  {
   "cell_type": "code",
   "execution_count": 58,
   "id": "054ffbbe-0fec-4d7d-88c7-909af2283430",
   "metadata": {},
   "outputs": [
    {
     "data": {
      "text/plain": [
       "[[:john, 25], [:Kate, 27], [:Mike, 18]]"
      ]
     },
     "execution_count": 58,
     "metadata": {},
     "output_type": "execute_result"
    }
   ],
   "source": [
    "people = { Kate: 27, john: 25, Mike:  18 }\n",
    "\n",
    "people.sort_by do |name, _|\n",
    "  name.capitalize\n",
    "end"
   ]
  },
  {
   "cell_type": "markdown",
   "id": "2cfb2fb7-2bdd-4ed6-904e-a8b83d91afcc",
   "metadata": {},
   "source": [
    "- What if we want to order the hash by `name` rather than `age`? The names in this example are symbols.  \n",
    "- If we read the description for `Symbol#<=>` it explains that the symbols are compared after `to_s` is called on them, and if we then read the documentation for `Symbol#to_s` we see that it \"returns the name or string corresponding to\" the symbol.\n",
    "- By using `Symbol#<=>` we are effectively comparing strings.  We therefore know that we can sort our hash by `name`.\n",
    "- There's a problem though. `:john`, is not capitalized. Since strings are compared in 'ASCIIbetical' order, `:john` will come after `:Kate` and `:Mike`, which may not be what we want.  We can use the `Symbol#capitalize` method on each name within the block so that when the keys are compared they are all capitalized."
   ]
  },
  {
   "cell_type": "markdown",
   "id": "eee13465-8b2f-4102-b60a-392a81665cda",
   "metadata": {},
   "source": [
    "- Note: `Array#sort` and `Array#sort_by` have a equivalent destructive methods `Array#sort!` and `Array#sort_by!`. With these methods, rather than returning a new collection, the same collection is returned but sorted. These methods are specific to arrays and are not available to hashes. "
   ]
  },
  {
   "cell_type": "markdown",
   "id": "f08c070a-086b-405f-a17f-cc21213cc31c",
   "metadata": {},
   "source": [
    "# Nested Data Structures"
   ]
  },
  {
   "cell_type": "code",
   "execution_count": null,
   "id": "db6f9a88-0ad3-4576-bef5-011641c1dbd0",
   "metadata": {},
   "outputs": [],
   "source": []
  },
  {
   "cell_type": "markdown",
   "id": "6fbd257d-5732-4365-857a-83b533a91291",
   "metadata": {},
   "source": [
    "# `puts` vs. `return`"
   ]
  },
  {
   "cell_type": "markdown",
   "id": "bda0825f-e7a9-46f0-9a5f-1cd750d12af2",
   "metadata": {},
   "source": [
    "- In Ruby, **every methods returns the evaluated result of the last line that is exectuted**\n",
    "- Ruby always returns the evaluated result of the last line of the expression **unless an explicit return comes before it**.\n",
    "- If you want to explicity return a value you can use the `return` keyword.\n",
    "- The `return` reserved word is not required in order to return something from a method.  "
   ]
  },
  {
   "cell_type": "code",
   "execution_count": 4,
   "id": "432b2482-3dee-4b64-b1f5-6eb561dfdbfb",
   "metadata": {},
   "outputs": [
    {
     "data": {
      "text/plain": [
       "5"
      ]
     },
     "execution_count": 4,
     "metadata": {},
     "output_type": "execute_result"
    }
   ],
   "source": [
    "def just_assignment(number)\n",
    "  foo = number + 3\n",
    "end\n",
    "\n",
    "just_assignment(2)"
   ]
  },
  {
   "cell_type": "markdown",
   "id": "2911c3e5-54f4-49be-8494-c4ca22f41a6e",
   "metadata": {},
   "source": [
    "- The value of `just_assignment(2)` is going to be `5` because the assignment expression evaluates to 5, therefore that's what's returned."
   ]
  },
  {
   "cell_type": "markdown",
   "id": "645eae7a-03e5-4ca1-b9c6-ba8d6518dd3f",
   "metadata": {
    "toc-hr-collapsed": true
   },
   "source": [
    "# `false` vs `nil` and the idea of \"truthiness\""
   ]
  },
  {
   "cell_type": "markdown",
   "id": "6bc265d7-076d-418c-b449-1a55c1cd81a6",
   "metadata": {},
   "source": [
    "- Usually, the notion of whether a value is \"true\" or \"false\" is captured in a **boolean** data type. A boolean is an object whose only purpose is to convey whether it is \"true\" or \"false\".\n",
    "- In Ruby, booleans are represented by the `true` and `false` objects. Like everything else in Ruby, boolean objects also have real classes behind them, and you can call methods on true and false.\n",
    "```ruby\n",
    "true.class          # => TrueClass\n",
    "true.nil?           # => false\n",
    "true.to_s           # => \"true\"\n",
    "true.methods        # => list of methods you can call on the true object\n",
    "\n",
    "false.class         # => FalseClass\n",
    "false.nil?          # => false\n",
    "false.to_s          # => \"false\"\n",
    "false.methods       # => list of methods you can call on the false object\n",
    "```"
   ]
  },
  {
   "cell_type": "markdown",
   "id": "aaa40b13-5a72-4905-b6c2-d65406ee8563",
   "metadata": {},
   "source": [
    "- In real code, you won't use the `true` or `false` objects directly in a conditional. Instead, you'll likely be evaluating some expression or method call in a conditional. Whatever the expression, it should evaluate to a `true` or `false` object."
   ]
  },
  {
   "cell_type": "code",
   "execution_count": 16,
   "id": "1614c70f-a3dd-4c53-a6db-7f2a012a7080",
   "metadata": {},
   "outputs": [
    {
     "name": "stdout",
     "output_type": "stream",
     "text": [
      "small number\n"
     ]
    }
   ],
   "source": [
    "num = 5\n",
    "\n",
    "if (num < 10)\n",
    "  puts \"small number\"\n",
    "else\n",
    "  puts \"large number\"\n",
    "end"
   ]
  },
  {
   "cell_type": "markdown",
   "id": "940064fc-781d-4721-9e01-ac31f127d694",
   "metadata": {},
   "source": [
    "- The above outputs \"small number\" because the expression `num < 10` evaluates as `true`"
   ]
  },
  {
   "cell_type": "code",
   "execution_count": null,
   "id": "7ec5627e-2810-4a7b-ac9c-96fc286cf77d",
   "metadata": {},
   "outputs": [],
   "source": [
    "puts \"it's true!\" if some_method_call"
   ]
  },
  {
   "cell_type": "markdown",
   "id": "4ad85ad3-9cd2-4c40-978a-d76beb0db6b7",
   "metadata": {},
   "source": [
    "- When using method calls as a conditional expression in this way, you'll generally want the method to return a boolean rather than relying on the truthiness or falsyness of a non-boolean return value."
   ]
  },
  {
   "cell_type": "markdown",
   "id": "b9791a4e-a6d1-495f-b53e-f87611c404f3",
   "metadata": {},
   "source": [
    "## Logical Operators"
   ]
  },
  {
   "cell_type": "markdown",
   "id": "41ba2b10-a256-404d-8d08-5a572ba20c78",
   "metadata": {},
   "source": [
    "- Logical operators will return either a truthy or falsey value when evaluating two expressions.\n",
    "- `&&`: this operator is the \"and\" operator and, in the following examples, will return true only if both expressions being evaluated are true.\n",
    "- `||`: this operator is the \"or\" operator and, in the following examples, will return true if either one of the evaluated objects is true. It's less strict than the `&&` operator."
   ]
  },
  {
   "cell_type": "markdown",
   "id": "4404f6ec-513a-498a-bc38-c39c43a11deb",
   "metadata": {},
   "source": [
    "### Short Circuiting"
   ]
  },
  {
   "cell_type": "markdown",
   "id": "db4d5a91-d660-46f1-b3a9-7bd8bed024b1",
   "metadata": {},
   "source": [
    "- Short Circuiting: the `&&` and `||` operators exhibit a behavior called short circuiting, which means it will stop evaluating expressions once it can guarantee the return value.\n",
    "- the `&&` will short circuit when it encounters the first `false` expression."
   ]
  },
  {
   "cell_type": "code",
   "execution_count": 22,
   "id": "5e3ef852-9154-458a-ba47-4797948240f6",
   "metadata": {},
   "outputs": [
    {
     "data": {
      "text/plain": [
       "false"
      ]
     },
     "execution_count": 22,
     "metadata": {},
     "output_type": "execute_result"
    }
   ],
   "source": [
    "false && 3/0"
   ]
  },
  {
   "cell_type": "markdown",
   "id": "efa85eb6-974c-4650-8f2e-d8d970e59ddd",
   "metadata": {},
   "source": [
    "- Notice the above code doesn't generate a `ZeroDivisionError`. This is because the `&&` operator didn't even evaluate the second expression; since the first expression is `false`, it can short circuit and return `false`.\n",
    "- Also, notice that `false || 3/0` will generate an error."
   ]
  },
  {
   "cell_type": "code",
   "execution_count": 23,
   "id": "67242c14-69d5-4572-9da4-f57346d1770e",
   "metadata": {},
   "outputs": [
    {
     "ename": "ZeroDivisionError",
     "evalue": "divided by 0",
     "output_type": "error",
     "traceback": [
      "\u001b[31mZeroDivisionError\u001b[0m: divided by 0",
      "(irb):in `/'",
      "(irb):in `irb_binding'"
     ]
    }
   ],
   "source": [
    "false || 3/0"
   ]
  },
  {
   "cell_type": "markdown",
   "id": "8f9150c0-72d8-4a7a-af9a-8c36d1c0abc7",
   "metadata": {},
   "source": [
    "- the `||` will short circuit when it encounters the first `true` expression."
   ]
  },
  {
   "cell_type": "code",
   "execution_count": 24,
   "id": "2d90ff07-cd6a-426e-8964-c61a735f251f",
   "metadata": {},
   "outputs": [
    {
     "data": {
      "text/plain": [
       "true"
      ]
     },
     "execution_count": 24,
     "metadata": {},
     "output_type": "execute_result"
    }
   ],
   "source": [
    "true || 3/0"
   ]
  },
  {
   "cell_type": "markdown",
   "id": "4299a98f-3e8f-4a62-9c18-da9276891f2f",
   "metadata": {},
   "source": [
    "- The above code doesn't generate a `ZeroDivisionError` because `||` didn't evaluate the second expression; it short circuited after encountering `true`."
   ]
  },
  {
   "cell_type": "markdown",
   "id": "c399c1e7-2201-42f1-89af-cbe1b591ceef",
   "metadata": {},
   "source": [
    "## Truthiness"
   ]
  },
  {
   "cell_type": "markdown",
   "id": "afbb622c-ff96-4b4e-8856-63c4c7711e96",
   "metadata": {},
   "source": [
    "- Ruby is a very liberal language and considers everything to be truthy other than `false` and `nil`.\n",
    "- Note that an expression that Ruby considers `true` is not the same as the true object. This is what \"truthiness\" means. "
   ]
  },
  {
   "cell_type": "code",
   "execution_count": null,
   "id": "9f3be696-0b34-43ea-abbe-59736cf09f78",
   "metadata": {},
   "outputs": [],
   "source": [
    "num = 5\n",
    "\n",
    "if num\n",
    "  puts \"valid number\"\n",
    "else\n",
    "  puts \"error!\"\n",
    "end"
   ]
  },
  {
   "cell_type": "markdown",
   "id": "f0f4fd3a-3c81-4f2c-ae82-5b8b5f390a99",
   "metadata": {},
   "source": [
    "- Ruby considers any integer to be \"truthy\". It does not, however, mean that the `num` variable from above is equal to `true`\n",
    "- Sometimes you'll see assignment in a conditional or logical operator:"
   ]
  },
  {
   "cell_type": "code",
   "execution_count": null,
   "id": "b50c5505-0cf2-40cc-a26f-01a8bc6b9831",
   "metadata": {},
   "outputs": [],
   "source": [
    "if name = find_name\n",
    "  puts \"got a name\"\n",
    "else\n",
    "  puts \"couldn't find it\"\n",
    "end"
   ]
  },
  {
   "cell_type": "markdown",
   "id": "51db9d6c-cbea-4abd-9bf6-3e184966b3bd",
   "metadata": {},
   "source": [
    "- Presumably, the `find_name` method will either return a valid object, or it will return `nil` or `false`. Writing code like that is dangerous and can be easily misunderstood by others as equality comparison, rather than assignment."
   ]
  },
  {
   "cell_type": "code",
   "execution_count": 33,
   "id": "67adc111-cca9-47a0-96a8-e7f6aaf61272",
   "metadata": {},
   "outputs": [
    {
     "name": "stdout",
     "output_type": "stream",
     "text": [
      "Hello is truthy\n"
     ]
    }
   ],
   "source": [
    "a = \"Hello\"\n",
    "\n",
    "if a\n",
    "  puts \"Hello is truthy\"\n",
    "else\n",
    "  puts \"Hello is falsey\"\n",
    "end"
   ]
  },
  {
   "cell_type": "markdown",
   "id": "1acca811-5a54-444f-865d-fcd8669bd212",
   "metadata": {},
   "source": [
    "**Incorrect**\n",
    "- `a` is `true` and so 'Hello is truthy' is output would be incorrect\n",
    "- `a` is equal to `true` and so 'Hello is truthy' is output would be incorrect\n",
    "\n",
    "**Correct**\n",
    "- `a` evaluates as `true` in the conditional statement and so 'Hello is truthy' is output would be correct\n",
    "- `a` is truthy and so 'Hello is truthy' is output would be correct\n",
    "\n",
    "To sum up:\n",
    "- Use \"evaluates to `true`\", \"evaluates as `true`\", or \"is truthy\" when discussing an expression that evaluates as `true` in a boolean context\n",
    "- Do not use \"is `true`\" or \"is equal to `true`\" unless specifically discussing the boolean `true`\n",
    "- Use \"evaluates to `false`\", \"evaluates as `false`\", or \"is falsy\" when discussing an expression that evaluates as `false` in a boolean context\n",
    "- Do not use \"is `false`\" or \"is equal to `false`\" unless specifically discussing the boolean `false`"
   ]
  },
  {
   "cell_type": "markdown",
   "id": "81a68142-c58c-43c7-ba63-06039932e803",
   "metadata": {
    "toc-hr-collapsed": true
   },
   "source": [
    "# Precedence"
   ]
  },
  {
   "cell_type": "markdown",
   "id": "79c1e93b-569c-47ae-a358-73b3947531d5",
   "metadata": {},
   "source": [
    "- The meaning of an expression in Ruby is determined by what is called **operator precedence**. It’s a set of rules that dictate how Ruby determines what **operands** each operator takes. Operands are simply values -- the results of evaluating expressions -- that are used by the operator.\n",
    "- For most operators, there are two operands; however, there are also \"unary\" and \"ternary\" operators that take one or three operands:\n",
    "```Ruby\n",
    "2 + 5             # Two operands (2 and 5)\n",
    "!true             # Unary: One operand (true)\n",
    "value ? 1 : 2     # Ternary: Three operands (value, 1, 2)\n",
    "```"
   ]
  },
  {
   "cell_type": "code",
   "execution_count": 25,
   "id": "5ac8dc6c-2b28-4502-93ac-d47c3fa60384",
   "metadata": {},
   "outputs": [
    {
     "data": {
      "text/plain": [
       "38"
      ]
     },
     "execution_count": 25,
     "metadata": {},
     "output_type": "execute_result"
    }
   ],
   "source": [
    "3 + 5 * 7"
   ]
  },
  {
   "cell_type": "markdown",
   "id": "177527e0-2ce6-4968-836d-0194e711fc88",
   "metadata": {},
   "source": [
    "- Precedence determines whether the `+` operator uses `3` and `5` as operands or `3` and `35` `(5 * 7)`.\n",
    "- Likewise, it determines whether `*` uses `5` and `7` as operands or `8` `(3 + 5)` and `7`. \n",
    "- In short, precedence determines the meaning of an expression.\n",
    "- In an expression, **operators with higher precedence are prioritized over those with lower precedence**. I\n",
    "- In `3 + 5 * 7`, `*` has higher precedence than `+`, so `*` gets passed to `5` and `7` as operands, which returns `35` as a result. \n",
    "- Subsequently, `3` and `35` get passed to `+` for a final result of `38`."
   ]
  },
  {
   "cell_type": "code",
   "execution_count": 26,
   "id": "69569a64-7be9-4fc2-ad75-cad6d0e9df5d",
   "metadata": {},
   "outputs": [
    {
     "data": {
      "text/plain": [
       "56"
      ]
     },
     "execution_count": 26,
     "metadata": {},
     "output_type": "execute_result"
    }
   ],
   "source": [
    "(3 + 5) * 7"
   ]
  },
  {
   "cell_type": "markdown",
   "id": "d12fe5ed-9297-4836-976a-0e5cf239e6f5",
   "metadata": {},
   "source": [
    "- Parentheses override the default evaluation order, and can be thought of having the highest possible precedence.\n",
    "- **Precedence controls the order of evaluation**\n",
    "    - Operations involving operators with high precedence get evaluated before operations involving low precedence. \n",
    "    - When two operations involve operators of the same precedence, the operations occur left-to-right (or right-to-left in some cases).\n",
    "- An operator that has higher precedence than another is said to bind more tightly to its operands. In the expression `3 + 5 * 7`, the `*` operator binds more tightly to its operands, `5` and `7`, than does the `+` operator. Thus, `+` binds to `3` and the return value of `5 * 7` instead of `3` and `5`.\n",
    "- **Precedence in Ruby is only part of the story; the other parts are either left-to-right evaluation, right-to-left evaluation, short-circuiting, and ternary expressions.**"
   ]
  },
  {
   "cell_type": "markdown",
   "id": "3ece9dd4-bd51-450d-8451-473cc5ff5ddf",
   "metadata": {},
   "source": [
    "## Precedence with Blocks"
   ]
  },
  {
   "cell_type": "code",
   "execution_count": 27,
   "id": "0818c4f2-5c37-408d-843c-796204cbd213",
   "metadata": {},
   "outputs": [
    {
     "data": {
      "text/plain": [
       "[2, 3, 4]"
      ]
     },
     "execution_count": 27,
     "metadata": {},
     "output_type": "execute_result"
    }
   ],
   "source": [
    "array = [1, 2, 3]\n",
    "\n",
    "array.map { |num| num + 1 } "
   ]
  },
  {
   "cell_type": "code",
   "execution_count": 28,
   "id": "7d075713-9eae-4100-ba3c-517a6605854e",
   "metadata": {},
   "outputs": [
    {
     "name": "stdout",
     "output_type": "stream",
     "text": [
      "[2, 3, 4]\n"
     ]
    },
    {
     "data": {
      "text/plain": [
       "[2, 3, 4]"
      ]
     },
     "execution_count": 28,
     "metadata": {},
     "output_type": "execute_result"
    }
   ],
   "source": [
    "p array.map { |num| num + 1 }"
   ]
  },
  {
   "cell_type": "markdown",
   "id": "bc6ffefa-e81a-4ce1-8c4d-4879ab113a4d",
   "metadata": {},
   "source": [
    "- It’s pretty much the same as the first code. The difference is that the return value of `map` then gets passed into `p` as an argument, which outputs `[2, 3, 4]`."
   ]
  },
  {
   "cell_type": "code",
   "execution_count": 31,
   "id": "7cf99b2a-2d94-457f-922b-ec946bea44d0",
   "metadata": {},
   "outputs": [
    {
     "name": "stdout",
     "output_type": "stream",
     "text": [
      "#<Enumerator: [1, 2, 3]:map>\n"
     ]
    },
    {
     "data": {
      "text/plain": [
       "#<Enumerator: [1, 2, 3]:map>"
      ]
     },
     "execution_count": 31,
     "metadata": {},
     "output_type": "execute_result"
    }
   ],
   "source": [
    "p array.map do |num|\n",
    "  num + 1\n",
    "end"
   ]
  },
  {
   "cell_type": "markdown",
   "id": "6513aa48-a274-4df6-8c14-01e0eb7cb66a",
   "metadata": {},
   "source": [
    "- **Blocks have the lowest precedence of all operators. But between the two, `{ }` has slightly higher precedence than `do...end`. This has an effect on which method call the block gets passed to. That's why we get the unexpected result.**\n",
    "- With `do...end` being the “weakest” of all the operators, `array.map` gets bound to `p`, which first invokes `array.map`, returning an Enumerator object. The Enumerator is then passed to `p`, along with the block. `p` prints the Enumerator, but doesn't do anything with the block.\n",
    "- *`p`doesn’t take in a block. As with all methods called with a block that don’t accept one, the block just gets ignored.*\n",
    "- In other words, the binding between a method name and a method's argument (`p` and the return value of `array.map`) is slightly tighter than the binding between a method call and a `do...end` block. Thus, `array.map` gets executed first, then the return value and the block get passed to `p` as separate arguments."
   ]
  },
  {
   "cell_type": "markdown",
   "id": "cf768fc3-f272-47b0-a027-6d9efae53ed9",
   "metadata": {},
   "source": [
    "- A `{}` block, on the other hand, has higher priority which means that it binds more tightly to `array.map`. Therefore, when we use `{}`, array.map is called with the block, then the return value of `array.map` gets passed to `p`."
   ]
  }
 ],
 "metadata": {
  "kernelspec": {
   "display_name": "Ruby 2.7.5",
   "language": "ruby",
   "name": "ruby"
  },
  "language_info": {
   "file_extension": ".rb",
   "mimetype": "application/x-ruby",
   "name": "ruby",
   "version": "2.7.5"
  }
 },
 "nbformat": 4,
 "nbformat_minor": 5
}
