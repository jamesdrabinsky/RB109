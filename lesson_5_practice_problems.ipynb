{
 "cells": [
  {
   "cell_type": "markdown",
   "metadata": {},
   "source": [
    "## Working with Blocks"
   ]
  },
  {
   "cell_type": "markdown",
   "metadata": {},
   "source": [
    "<b>Example 1\n",
    "\n",
    "What's happening in this, seemingly simple, piece of code? Take it apart and try to describe every interaction with precision\n",
    "</b>"
   ]
  },
  {
   "cell_type": "code",
   "execution_count": 2,
   "metadata": {},
   "outputs": [
    {
     "name": "stdout",
     "output_type": "stream",
     "text": [
      "1\n",
      "3\n"
     ]
    },
    {
     "data": {
      "text/plain": [
       "[[1, 2], [3, 4]]"
      ]
     },
     "execution_count": 2,
     "metadata": {},
     "output_type": "execute_result"
    }
   ],
   "source": [
    "[[1, 2], [3, 4]].each do |arr|\n",
    "  puts arr.first\n",
    "end"
   ]
  },
  {
   "cell_type": "markdown",
   "metadata": {},
   "source": [
    "On line 1 `Array#each` is called on the multi-dimensional array `[[1, 2], [3, 4]]` and a `do..end` block is passed to the `each` method as an argument.  The `each` method passes each inner-array from the calling array to the block in the form of an argument, in this case `arr`. (assigned to the local variable `arr`) Within the block. on line two, the `Array#first` method is called on the current element in the calling array.  This is an example of element reference and this method returns the object at index 0 of the current array.  The `puts` method is then invoked and the return value of `arr.first` is passed to it as an argument.  `puts` returns `nil` and, since this is the last evaluated statement within the block, the return value of the block is therefore `nil`.  `puts` will output a string representation of `1` on the first iteration and `3` on the second iteration.  `each` does not consider the return value of the block and always returns the calling object.  So this code will return   `[[1, 2], [3, 4]]`."
   ]
  },
  {
   "cell_type": "markdown",
   "metadata": {},
   "source": [
    "**Example 2**"
   ]
  },
  {
   "cell_type": "code",
   "execution_count": 3,
   "metadata": {},
   "outputs": [
    {
     "name": "stdout",
     "output_type": "stream",
     "text": [
      "1\n",
      "3\n"
     ]
    },
    {
     "data": {
      "text/plain": [
       "[nil, nil]"
      ]
     },
     "execution_count": 3,
     "metadata": {},
     "output_type": "execute_result"
    }
   ],
   "source": [
    "[[1, 2], [3, 4]].map do |arr|\n",
    "  puts arr.first\n",
    "end"
   ]
  },
  {
   "cell_type": "markdown",
   "metadata": {},
   "source": [
    " On line 1 the `Array#map` is called on the multi-dimensional array `[[1, 2], [3, 4]]` and a `do..end` block is passed to `map` as an argumnet.  Each inner-array is passed to the block and assigned to the local variable `arr`.  Within the block, on line 2, the `Array#first` method is called on each inner-array which will return at index-0 from each inner-array, in this case `1` and `3`, respectively.  The `puts` method is called on the return value of `arr.first` and this will output a string representation of each integer.  `puts` returns `nil` and this is the only line executed within the block, so the block's return value will be `nil` on each iteration.  `map` uses the block's return value for transformation.  Therefore, `map` will return a new array with two elements that are both `nil`.\n",
    "\n",
    " `[nil, nil]`"
   ]
  },
  {
   "cell_type": "markdown",
   "metadata": {},
   "source": [
    "**Example 3**"
   ]
  },
  {
   "cell_type": "code",
   "execution_count": 4,
   "metadata": {},
   "outputs": [
    {
     "name": "stdout",
     "output_type": "stream",
     "text": [
      "1\n",
      "3\n"
     ]
    },
    {
     "data": {
      "text/plain": [
       "[1, 3]"
      ]
     },
     "execution_count": 4,
     "metadata": {},
     "output_type": "execute_result"
    }
   ],
   "source": [
    "[[1, 2], [3, 4]].map do |arr|\n",
    "  puts arr.first\n",
    "  arr.first\n",
    "end"
   ]
  },
  {
   "cell_type": "markdown",
   "metadata": {},
   "source": [
    "On line 1 `Array#map` is called on the multi-dimensional array `[[1, 2], [3, 4]]` and a `do..end` block is passed to `map` as an argument.  Each inner-array from the calling array is passed to the block and assigned a local variable `arr`.  Within the block, on line 2, `Array#first` is called on each inner-array referenced by the local variable `arr`.  This method call will return the element at index-0 from each inner-array, in this case `1` and `3` respectively.  The `puts` method is then invoked and the return value of `arr.first` is passed to it as an argument.  This will output a string representation of `1` and `3`.  \n",
    "\n",
    "On line 3 `Array#first` is once again called on each inner-array referenced by the local variable `arr`.  This method call will return the element at index-0 of each inner-array.  Since this is the last evaluated line in the block, the block's return values will be `1` and `3`.  `map` uses the block's return value for transformation.   Therefore, `map` will return a new array:<br><br>\n",
    "\n",
    "`[1, 3]`"
   ]
  },
  {
   "cell_type": "markdown",
   "metadata": {},
   "source": [
    "**Example 4**"
   ]
  },
  {
   "cell_type": "code",
   "execution_count": 5,
   "metadata": {},
   "outputs": [
    {
     "name": "stdout",
     "output_type": "stream",
     "text": [
      "18\n",
      "7\n",
      "12\n"
     ]
    },
    {
     "data": {
      "text/plain": [
       "[[18, 7], [3, 12]]"
      ]
     },
     "execution_count": 5,
     "metadata": {},
     "output_type": "execute_result"
    }
   ],
   "source": [
    "my_arr = [[18, 7], [3, 12]].each do |arr|\n",
    "  arr.each do |num|\n",
    "    if num > 5\n",
    "      puts num\n",
    "    end\n",
    "  end\n",
    "end"
   ]
  },
  {
   "cell_type": "markdown",
   "metadata": {},
   "source": [
    "On line 1 the local variable `my_arr` is initialized (variable assignment) to the return value of a method call, `Array#each`.  `Array#each` is called on the multi-dimensional array `[[18, 7], [3, 12]]` and a `do..end` block is passed to it as an argument.  Each sub-array from the calling array is passed to the block and assigned to a local variable `arr`.  \n",
    "\n",
    "Within the block, on line 2, `Array#each` is called on each sub-array and the `do..end` key words define an inner-block.  Each integer from the current sub-array is passed the inner-block and assigned to the local variable `num`.  Within the inner-block, on line 3, `Integer#>` is called on each integer referenced by the local variable `num` and the integer `5` is passed to this method as an argument.  If the current integer is greater than `5`, this comparison will evaluate to true and line 4 will be executed.  On line 4 `puts` is invoked and the current integer is passed to it as an argument.  This will output string representation of `18`, `7` and `12` since they are all greater than `5`.  \n",
    "\n",
    "`each` does not consider the block's return value and always returns the calling object.  Therefore, `each` will return:<br><br>\n",
    "\n",
    "`[[18, 7], [3, 12]]`"
   ]
  },
  {
   "cell_type": "markdown",
   "metadata": {},
   "source": [
    "**Example 5**"
   ]
  },
  {
   "cell_type": "code",
   "execution_count": 6,
   "metadata": {},
   "outputs": [
    {
     "data": {
      "text/plain": [
       "[[2, 4], [6, 8]]"
      ]
     },
     "execution_count": 6,
     "metadata": {},
     "output_type": "execute_result"
    }
   ],
   "source": [
    "[[1, 2], [3, 4]].map do |arr|\n",
    "  arr.map do |num|\n",
    "    num * 2\n",
    "  end\n",
    "end"
   ]
  },
  {
   "cell_type": "markdown",
   "metadata": {},
   "source": [
    "On line 1 `Array#map` is called on the multi-dimensional array `[[1, 2], [3, 4]]` and a `do..end` block is passed to `map` as an argument.  Each sub-array from the calling object is passed to the block and assigned to the local variable `arr`.  \n",
    "\n",
    "Within the block, on line 2, `map` is called on each sub-array and the `do..end` keywords on lines 2 and 4 define an inner-block.  Each interger from the current sub-array is passed to the inner-block and assigned to the local variable `num`.  On line 3 the integer referenced by the local variable `num` is multiplied by `3`.  \n",
    "\n",
    "`num * 2` is the last evaluated line in the inner-block, so the inner-block will return `2` and `4` on the first iteration and `6` and `8` on the second iteration.  `map` uses the block's return value for transformation.  Therefore, the second-level `map` call will return two new arrays: `[2, 4]` and `[6, 8]`.  These two arrays will be passed to the outer block and `map` will place them in a new array and return  a multi-dimensional array:\n",
    "\n",
    "`[[2, 4], [6, 8]]`"
   ]
  },
  {
   "cell_type": "markdown",
   "metadata": {},
   "source": [
    "**Example 6**"
   ]
  },
  {
   "cell_type": "code",
   "execution_count": 7,
   "metadata": {},
   "outputs": [
    {
     "data": {
      "text/plain": [
       "[{:c=>\"cat\"}]"
      ]
     },
     "execution_count": 7,
     "metadata": {},
     "output_type": "execute_result"
    }
   ],
   "source": [
    "[{ a: 'ant', b: 'elephant' }, { c: 'cat' }].select do |hash|\n",
    "  hash.all? do |key, value|\n",
    "    value[0] == key.to_s\n",
    "  end\n",
    "end"
   ]
  },
  {
   "cell_type": "markdown",
   "metadata": {},
   "source": [
    "On line 1 `Array#select` is called on the multi-dimensional array `[{ a: 'ant', b: 'elephant' }, { c: 'cat' }]` and a `do..end` block is passed to the `select` call as an argument.  Each hash in the calling object is passed to the block and assigned to the local variable `hash`.  \n",
    "\n",
    "Within the outer block, on line 2, the `Hash#all?` method is called on each hash referenced by the local variable `hash`.  The `do..end` keywords on lines 2 and 4 define an inner block.  Each key-value pair from the calling hash is passed to the inner block and assigned to the local variables `key` and `value`.  \n",
    "\n",
    "On line 3 indexed reference is used to access and return the character at index-0 from the current value string.  `Symbol#to_s` is called on the current key which converts the symbol to a string.  `String#==` is then called on the first character from the value string and the key string is passed in as an argument to the method.   If the character at index-0 from the value string is equal to the key string then this comparison will evaluate to true, otherwise it will evaluate to false.  \n",
    "\n",
    "`all?` will consider the truthiness of the inner block's return value and will only return `true` if the block's return value evluates to true on every iteration and this will be used to determine the outer block's return value. \n",
    "\n",
    "(or `all?` will return true if the block passed to it never returns a value of false or nil for every key/value pair in the hash)\n",
    "\n",
    "`select` will consider the truthiness of the outer block's return value and will return a new array containing only the hashes for which the outer block's return value is truthy.  In this code, the `all?` method call will return `false` for the first hash because one of it's key-value pairs does not evaluate as true according to the comparison on line 3 (or meets the criteria set out on line 3).  The second hash will return `true` since all of it's key-value pairs evaluate as true.  Therefore, `select` will return a new array:<br><br>\n",
    "\n",
    "`[{ c: 'cat' }]`"
   ]
  },
  {
   "cell_type": "markdown",
   "metadata": {},
   "source": [
    "<b>Example 7\n",
    "\n",
    "sort the outer array so that the inner arrays are ordered according to the numeric value of the strings they contain. \n",
    "</b>"
   ]
  },
  {
   "cell_type": "code",
   "execution_count": 8,
   "metadata": {},
   "outputs": [
    {
     "data": {
      "text/plain": [
       "[[\"1\", \"8\", \"11\"], [\"2\", \"6\", \"13\"], [\"2\", \"12\", \"15\"], [\"1\", \"8\", \"9\"]]"
      ]
     },
     "execution_count": 8,
     "metadata": {},
     "output_type": "execute_result"
    }
   ],
   "source": [
    "arr = [['1', '8', '11'], ['2', '6', '13'], ['2', '12', '15'], ['1', '8', '9']]"
   ]
  },
  {
   "cell_type": "code",
   "execution_count": 13,
   "metadata": {},
   "outputs": [
    {
     "data": {
      "text/plain": [
       "[[\"1\", \"8\", \"9\"], [\"1\", \"8\", \"11\"], [\"2\", \"6\", \"13\"], [\"2\", \"12\", \"15\"]]"
      ]
     },
     "execution_count": 13,
     "metadata": {},
     "output_type": "execute_result"
    }
   ],
   "source": [
    "arr.sort_by do |sub_arr|\n",
    "  sub_arr.map do |num|\n",
    "    num.to_i\n",
    "  end\n",
    "end\n",
    "\n",
    "# arr.sort_by do |sub_arr|\n",
    "#   sub_arr.map(&:to_i)\n",
    "# end"
   ]
  },
  {
   "cell_type": "markdown",
   "metadata": {},
   "source": [
    "On line 1 `Array#sort_by` is called on the multi-dimensional array assigned to the local variable `arr` and a `do..end` block is passed to it as an argument.  Each sub-array is passed to the outer block and assigned to the local variable sub_arr.  \n",
    "\n",
    "Within the outer block, on line 2, `map` is called on each inner-array referenced by the local variable sub_array.  The `do..end` keywords on lines 2 and 4 define an inner block.  Each integer from the current inner-array is passed to the inner block and assigned the local variable `num`.  On line 3 `String#to_i` is called on the current integer referenced by the local variable `num`.  This converts each string to an integer.   \n",
    "\n",
    "On each iteration, the inner block will return each string number converted to an integer and `map` will place the integer in a new array.  This new integer array will be passed to outer block and `sort_by` will compare the transformed integers in these new inner arrays.  \n",
    "\n",
    "Sorting is carried out by comparing the items in a collection with eachother, and ordering them based on the result of that comparison. The `<=>` method performs comparison between two objects of the same type and returns `-1`, `0` or `1` dependiong on whether the first object is less than, equal to, or greater than the second object.  If the two objects cannot be compared then `nil` is returned.  The return value of `<=>` is used by sort_by to determine the order in which to place the items.   \n",
    "\n",
    "Arrays are compared in an \"element-wise\" manner; the first element of one array is compared with the first one of another array using the `<=>` operator, then each of the second elements are compared and so on.  As soon as the result of any such comparison is non-zero, (i.e. the two corresponding elements are not equal), that result is returned for the whole array comparison.  In this example, the inner-arrays with a `1` as their index-0 element are placed before the inner-arrays with `2` as their index-0 element.  This element-wise comparison is continued for the elements at index-1.  "
   ]
  },
  {
   "cell_type": "markdown",
   "metadata": {},
   "source": [
    "**8.  Take the 2-element array below, where we only want to select integers greater than 13 but strings less than 6 characters.**"
   ]
  },
  {
   "cell_type": "code",
   "execution_count": 14,
   "metadata": {},
   "outputs": [
    {
     "data": {
      "text/plain": [
       "[[8, 13, 27], [\"apple\", \"banana\", \"cantaloupe\"]]"
      ]
     },
     "execution_count": 14,
     "metadata": {},
     "output_type": "execute_result"
    }
   ],
   "source": [
    "arr = [[8, 13, 27], ['apple', 'banana', 'cantaloupe']]"
   ]
  },
  {
   "cell_type": "code",
   "execution_count": 16,
   "metadata": {},
   "outputs": [
    {
     "data": {
      "text/plain": [
       "[[27], [\"apple\"]]"
      ]
     },
     "execution_count": 16,
     "metadata": {},
     "output_type": "execute_result"
    }
   ],
   "source": [
    "arr.map do |sub_arr|\n",
    "  sub_arr.select do |elem|\n",
    "    elem.is_a?(Integer) ? elem > 13 : elem.size < 6\n",
    "  end\n",
    "end"
   ]
  },
  {
   "cell_type": "markdown",
   "metadata": {},
   "source": [
    "On line 1 `Array#map` is called on the multi-dimensional array referenced by the local variable `arr`.  A `do..end` block is passed to `map` as an argument on lines 1 and 5 and this defines the outer block.  Each inner-array from the calling object is passed to the outer block and is assigned to the local variable `sub_arr`.  \n",
    "\n",
    "Within the outer block, on line 2, the `Array#select` method is called on the inner-array referenced by the local variable `sub_arr`.  The `do..end` keywords on line 2 and 4 define an inner block.  Each element in the current inner-array is passed to the inner block and assigned to the local variable `elem`. \n",
    "\n",
    "Within the inner block, on line 3, there is a ternary expression.  The `is_a` method is called on the current element and passed the class `Integer` as an argument.  If this returns `true`, `elem > 13` is executed.  If it returns `false`, `elem.size < 6` is executed.  \n",
    "\n",
    "The `select` method considers the truthiness of the block's return value.  The block's return value will only be truthy when an integer is greater than `13` or a string's length is less than 6 characters.  Only `27` meets that criteria in the first inner-array, and only `apple` meets the criteria in the second inner-array.  `select` will place these elements in new arrays and pass them to the outer block, and `map` will place them both in a new array.  So ultimately, `map` will return: \n",
    "\n",
    "`[[27], [\"apple\"]]`"
   ]
  },
  {
   "cell_type": "markdown",
   "metadata": {},
   "source": [
    "**Example 9**"
   ]
  },
  {
   "cell_type": "code",
   "execution_count": 17,
   "metadata": {},
   "outputs": [
    {
     "data": {
      "text/plain": [
       "[[[1], [2], [3], [4]], [[\"a\"], [\"b\"], [\"c\"]]]"
      ]
     },
     "execution_count": 17,
     "metadata": {},
     "output_type": "execute_result"
    }
   ],
   "source": [
    "arr = [\n",
    "  [[1], [2], [3], [4]], [['a'], ['b'], ['c']]\n",
    "]"
   ]
  },
  {
   "cell_type": "code",
   "execution_count": 19,
   "metadata": {},
   "outputs": [
    {
     "data": {
      "text/plain": [
       "[[[1], [2], [3], [4]], [[\"a\"], [\"b\"], [\"c\"]]]"
      ]
     },
     "execution_count": 19,
     "metadata": {},
     "output_type": "execute_result"
    }
   ],
   "source": [
    "arr.map do |element1|\n",
    "  element1.each do |element2|\n",
    "    element2.partition do |element3|\n",
    "      element3.size > 0\n",
    "    end\n",
    "  end\n",
    "end"
   ]
  },
  {
   "cell_type": "markdown",
   "metadata": {},
   "source": [
    "..."
   ]
  },
  {
   "cell_type": "markdown",
   "metadata": {},
   "source": [
    "<b>Example 10\n",
    "\n",
    "Let's say we have the following data structure of nested arrays and we want to increment every number by 1 without changing the data structure.\n",
    "</b>"
   ]
  },
  {
   "cell_type": "code",
   "execution_count": 20,
   "metadata": {},
   "outputs": [
    {
     "data": {
      "text/plain": [
       "[[[1, 2], [3, 4]], [5, 6]]"
      ]
     },
     "execution_count": 20,
     "metadata": {},
     "output_type": "execute_result"
    }
   ],
   "source": [
    "arr = [\n",
    "  [[1, 2], [3, 4]], [5, 6]\n",
    "]"
   ]
  },
  {
   "cell_type": "code",
   "execution_count": 23,
   "metadata": {},
   "outputs": [
    {
     "data": {
      "text/plain": [
       "[[[2, 3], [4, 5]], [6, 7]]"
      ]
     },
     "execution_count": 23,
     "metadata": {},
     "output_type": "execute_result"
    }
   ],
   "source": [
    "arr.map do |elem1|\n",
    "  elem1.map do |elem2|\n",
    "    if elem2.is_a?(Integer)\n",
    "      elem2 + 1\n",
    "    else\n",
    "      elem2.map do |elem3|\n",
    "        elem3 + 1\n",
    "      end\n",
    "    end\n",
    "  end\n",
    "end"
   ]
  },
  {
   "cell_type": "markdown",
   "metadata": {},
   "source": [
    "..."
   ]
  },
  {
   "cell_type": "markdown",
   "metadata": {},
   "source": [
    "## Practice Problems: Sorting, Nested Collections and Working with Blocks"
   ]
  },
  {
   "cell_type": "markdown",
   "metadata": {},
   "source": [
    "**1. How would you order this array of number strings by descending numeric value?**"
   ]
  },
  {
   "cell_type": "code",
   "execution_count": 31,
   "metadata": {},
   "outputs": [
    {
     "data": {
      "text/plain": [
       "[\"11\", \"10\", \"9\", \"8\", \"7\"]"
      ]
     },
     "execution_count": 31,
     "metadata": {},
     "output_type": "execute_result"
    }
   ],
   "source": [
    "arr = ['10', '11', '9', '7', '8']\n",
    "\n",
    "arr.sort_by { |str| -str.to_i}\n",
    "# arr.sort { |a, b| b.to_i <=> a.to_i }\n",
    "# arr.sort_by(&:to_i).reverse"
   ]
  },
  {
   "cell_type": "markdown",
   "metadata": {},
   "source": [
    "**2. How would you order this array of hashes based on the year of publication of each book, from the earliest to the latest?**"
   ]
  },
  {
   "cell_type": "code",
   "execution_count": 32,
   "metadata": {},
   "outputs": [
    {
     "data": {
      "text/plain": [
       "[{:title=>\"War and Peace\", :author=>\"Leo Tolstoy\", :published=>\"1869\"}, {:title=>\"Ulysses\", :author=>\"James Joyce\", :published=>\"1922\"}, {:title=>\"The Great Gatsby\", :author=>\"F. Scott Fitzgerald\", :published=>\"1925\"}, {:title=>\"One Hundred Years of Solitude\", :author=>\"Gabriel Garcia Marquez\", :published=>\"1967\"}]"
      ]
     },
     "execution_count": 32,
     "metadata": {},
     "output_type": "execute_result"
    }
   ],
   "source": [
    "books = [\n",
    "  {title: 'One Hundred Years of Solitude', author: 'Gabriel Garcia Marquez', published: '1967'},\n",
    "  {title: 'The Great Gatsby', author: 'F. Scott Fitzgerald', published: '1925'},\n",
    "  {title: 'War and Peace', author: 'Leo Tolstoy', published: '1869'},\n",
    "  {title: 'Ulysses', author: 'James Joyce', published: '1922'}\n",
    "]\n",
    "\n",
    "books.sort_by { |hsh| hsh[:published] }"
   ]
  },
  {
   "cell_type": "markdown",
   "metadata": {},
   "source": [
    "**3. For each of these collection objects demonstrate how you would reference the letter 'g'.**"
   ]
  },
  {
   "cell_type": "code",
   "execution_count": 35,
   "metadata": {},
   "outputs": [
    {
     "data": {
      "text/plain": [
       "\"g\""
      ]
     },
     "execution_count": 35,
     "metadata": {},
     "output_type": "execute_result"
    }
   ],
   "source": [
    "arr1 = ['a', 'b', ['c', ['d', 'e', 'f', 'g']]]\n",
    "\n",
    "arr1[-1][-1][-1]"
   ]
  },
  {
   "cell_type": "code",
   "execution_count": 42,
   "metadata": {},
   "outputs": [
    {
     "data": {
      "text/plain": [
       "\"g\""
      ]
     },
     "execution_count": 42,
     "metadata": {},
     "output_type": "execute_result"
    }
   ],
   "source": [
    "arr2 = [{first: ['a', 'b', 'c'], second: ['d', 'e', 'f']}, {third: ['g', 'h', 'i']}]\n",
    "\n",
    "arr2[-1][:third][0]"
   ]
  },
  {
   "cell_type": "code",
   "execution_count": 45,
   "metadata": {},
   "outputs": [
    {
     "data": {
      "text/plain": [
       "\"g\""
      ]
     },
     "execution_count": 45,
     "metadata": {},
     "output_type": "execute_result"
    }
   ],
   "source": [
    "arr3 = [['abc'], ['def'], {third: ['ghi']}]\n",
    "\n",
    "arr3[-1][:third][0][0]"
   ]
  },
  {
   "cell_type": "code",
   "execution_count": 47,
   "metadata": {},
   "outputs": [
    {
     "data": {
      "text/plain": [
       "\"g\""
      ]
     },
     "execution_count": 47,
     "metadata": {},
     "output_type": "execute_result"
    }
   ],
   "source": [
    "hsh1 = {'a' => ['d', 'e'], 'b' => ['f', 'g'], 'c' => ['h', 'i']}\n",
    "\n",
    "hsh1['b'][-1]"
   ]
  },
  {
   "cell_type": "code",
   "execution_count": 58,
   "metadata": {},
   "outputs": [
    {
     "data": {
      "text/plain": [
       "\"g\""
      ]
     },
     "execution_count": 58,
     "metadata": {},
     "output_type": "execute_result"
    }
   ],
   "source": [
    "hsh2 = {first: {'d' => 3}, second: {'e' => 2, 'f' => 1}, third: {'g' => 0}}\n",
    "\n",
    "hsh2[:third].key(0) # Hash#key method returns the key of an occurrence of a given value"
   ]
  },
  {
   "cell_type": "markdown",
   "metadata": {},
   "source": [
    "**4. For each of these collection objects where the value 3 occurs, demonstrate how you would change this to 4.**"
   ]
  },
  {
   "cell_type": "code",
   "execution_count": 62,
   "metadata": {},
   "outputs": [
    {
     "data": {
      "text/plain": [
       "[1, [2, 4], 4]"
      ]
     },
     "execution_count": 62,
     "metadata": {},
     "output_type": "execute_result"
    }
   ],
   "source": [
    "arr1 = [1, [2, 3], 4]\n",
    "\n",
    "arr1[1][1] = 4\n",
    "\n",
    "arr1"
   ]
  },
  {
   "cell_type": "code",
   "execution_count": 64,
   "metadata": {},
   "outputs": [
    {
     "data": {
      "text/plain": [
       "[{:a=>1}, {:b=>2, :c=>[7, 6, 5], :d=>4}, 4]"
      ]
     },
     "execution_count": 64,
     "metadata": {},
     "output_type": "execute_result"
    }
   ],
   "source": [
    "arr2 = [{a: 1}, {b: 2, c: [7, 6, 5], d: 4}, 3]\n",
    "\n",
    "arr2[-1] = 4\n",
    "\n",
    "arr2"
   ]
  },
  {
   "cell_type": "code",
   "execution_count": 67,
   "metadata": {},
   "outputs": [
    {
     "data": {
      "text/plain": [
       "{:first=>[1, 2, [4]]}"
      ]
     },
     "execution_count": 67,
     "metadata": {},
     "output_type": "execute_result"
    }
   ],
   "source": [
    "hsh1 = {first: [1, 2, [3]]}\n",
    "\n",
    "hsh1[:first][-1][0] = 4\n",
    "\n",
    "hsh1"
   ]
  },
  {
   "cell_type": "code",
   "execution_count": 69,
   "metadata": {},
   "outputs": [
    {
     "data": {
      "text/plain": [
       "{[\"a\"]=>{:a=>[\"1\", :two, 4], :b=>4}, \"b\"=>5}"
      ]
     },
     "execution_count": 69,
     "metadata": {},
     "output_type": "execute_result"
    }
   ],
   "source": [
    "hsh2 = {['a'] => {a: ['1', :two, 3], b: 4}, 'b' => 5}\n",
    "\n",
    "hsh2[['a']][:a][-1] = 4\n",
    "\n",
    "hsh2"
   ]
  },
  {
   "cell_type": "markdown",
   "metadata": {},
   "source": [
    "**5. Figure out the total age of just the male members of the family.**"
   ]
  },
  {
   "cell_type": "code",
   "execution_count": 79,
   "metadata": {},
   "outputs": [
    {
     "data": {
      "text/plain": [
       "444"
      ]
     },
     "execution_count": 79,
     "metadata": {},
     "output_type": "execute_result"
    }
   ],
   "source": [
    "munsters = {\n",
    "  \"Herman\" => { \"age\" => 32, \"gender\" => \"male\" },\n",
    "  \"Lily\" => { \"age\" => 30, \"gender\" => \"female\" },\n",
    "  \"Grandpa\" => { \"age\" => 402, \"gender\" => \"male\" },\n",
    "  \"Eddie\" => { \"age\" => 10, \"gender\" => \"male\" },\n",
    "  \"Marilyn\" => { \"age\" => 23, \"gender\" => \"female\"}\n",
    "}\n",
    "\n",
    "munsters.sum { |_, v| v['gender'] == 'male' ? v['age']: 0 }\n",
    "# munsters.values.select { |v| v['gender'] == 'male' }.sum { |v| v['age'] }\n",
    "# munsters.reduce(0) { |total, (_, v)| v['gender'] == 'male' ? total += v['age'] : total += 0 }"
   ]
  },
  {
   "cell_type": "markdown",
   "metadata": {},
   "source": [
    "**6.  Given this previously seen family hash, print out the `name`, `age` and `gender` of each family member:**"
   ]
  },
  {
   "cell_type": "code",
   "execution_count": 80,
   "metadata": {},
   "outputs": [
    {
     "name": "stdout",
     "output_type": "stream",
     "text": [
      "Herman is a 32-year-old male.\n",
      "Lily is a 30-year-old female.\n",
      "Grandpa is a 402-year-old male.\n",
      "Eddie is a 10-year-old male.\n",
      "Marilyn is a 23-year-old female.\n"
     ]
    },
    {
     "data": {
      "text/plain": [
       "{\"Herman\"=>{\"age\"=>32, \"gender\"=>\"male\"}, \"Lily\"=>{\"age\"=>30, \"gender\"=>\"female\"}, \"Grandpa\"=>{\"age\"=>402, \"gender\"=>\"male\"}, \"Eddie\"=>{\"age\"=>10, \"gender\"=>\"male\"}, \"Marilyn\"=>{\"age\"=>23, \"gender\"=>\"female\"}}"
      ]
     },
     "execution_count": 80,
     "metadata": {},
     "output_type": "execute_result"
    }
   ],
   "source": [
    "munsters.each do |k, v|\n",
    "  age, gender = v.values\n",
    "  puts \"#{k} is a #{age}-year-old #{gender}.\"\n",
    "end"
   ]
  },
  {
   "cell_type": "markdown",
   "metadata": {},
   "source": [
    "**7.  Given this code, what would be the final values of a and b? Try to work this out without running the code.**"
   ]
  },
  {
   "cell_type": "code",
   "execution_count": 83,
   "metadata": {},
   "outputs": [
    {
     "name": "stdout",
     "output_type": "stream",
     "text": [
      "2\n",
      "[3, 8]\n"
     ]
    }
   ],
   "source": [
    "a = 2\n",
    "b = [5, 8]\n",
    "arr = [a, b]\n",
    "\n",
    "arr[0] += 2\n",
    "arr[1][0] -= a\n",
    "\n",
    "puts a \n",
    "puts b.inspect"
   ]
  },
  {
   "cell_type": "markdown",
   "metadata": {},
   "source": [
    "On line 1 the local variable `a` is initialized to an integer object with the value `2`.  On line 2 the local variable `b` is initialized to an array object with the value `[5, 8]`.  On line 3 the local variable `arr` is initialized to an array object with it's first element pointing to the integer object referenced by local variable `a` and it's second element poiting to the array object assigned to local variable `b`.  \n",
    "\n",
    "On line 5 the element at index-0 is being reassigned to a new integer object `4`.  Element assignment mutates the caller, so this will mutate the calling object `arr`.  The first element in `arr` and the local variable `a` now point to different addresses in memory.\n",
    "(This code `arr[0] += 2` was modifying the array, `arr` not `a`. In effect we are assigning a new object at that index of the array so that instead of `arr[0]` containing `a` it now contains `4`)\n",
    "\n",
    "On line 6 element reference is first used to access the element in `arr` at index-1, which is the array object referenced by local variable `b`.  Then element assignment is used to reassign the element at index-0 of the array object assigned to `b` to a new integer object `6`.  \n",
    "(The value of `b` did change because `b` is an array and we are modifying that array by assigning a new value at index 0 of that array.)\n",
    "\n",
    "`a = 2`<br>\n",
    "`b = [3, 8]`"
   ]
  },
  {
   "cell_type": "markdown",
   "metadata": {},
   "source": [
    "**8. Using the each method, write some code to output all of the vowels from the strings.**"
   ]
  },
  {
   "cell_type": "code",
   "execution_count": 84,
   "metadata": {},
   "outputs": [
    {
     "data": {
      "text/plain": [
       "{:first=>[\"the\", \"quick\"], :second=>[\"brown\", \"fox\"], :third=>[\"jumped\"], :fourth=>[\"over\", \"the\", \"lazy\", \"dog\"]}"
      ]
     },
     "execution_count": 84,
     "metadata": {},
     "output_type": "execute_result"
    }
   ],
   "source": [
    "hsh = {first: ['the', 'quick'], second: ['brown', 'fox'], third: ['jumped'], fourth: ['over', 'the', 'lazy', 'dog']}"
   ]
  },
  {
   "cell_type": "code",
   "execution_count": 88,
   "metadata": {},
   "outputs": [
    {
     "name": "stdout",
     "output_type": "stream",
     "text": [
      "e\n",
      "u\n",
      "i\n",
      "o\n",
      "o\n",
      "u\n",
      "e\n",
      "o\n",
      "e\n",
      "e\n",
      "a\n",
      "o\n"
     ]
    },
    {
     "data": {
      "text/plain": [
       "{:first=>[\"the\", \"quick\"], :second=>[\"brown\", \"fox\"], :third=>[\"jumped\"], :fourth=>[\"over\", \"the\", \"lazy\", \"dog\"]}"
      ]
     },
     "execution_count": 88,
     "metadata": {},
     "output_type": "execute_result"
    }
   ],
   "source": [
    "hsh.each do |_, arr|\n",
    "  arr.each do |word|\n",
    "    word.chars.each do |letter|\n",
    "      puts letter if letter =~ /[aeiou]/\n",
    "    end\n",
    "  end\n",
    "end"
   ]
  },
  {
   "cell_type": "markdown",
   "metadata": {},
   "source": [
    "**9.  Given this data structure, return a new array of the same structure but with the sub arrays being ordered (alphabetically or numerically as appropriate) in descending order.**"
   ]
  },
  {
   "cell_type": "code",
   "execution_count": 89,
   "metadata": {},
   "outputs": [
    {
     "data": {
      "text/plain": [
       "[[\"b\", \"c\", \"a\"], [2, 1, 3], [\"blue\", \"black\", \"green\"]]"
      ]
     },
     "execution_count": 89,
     "metadata": {},
     "output_type": "execute_result"
    }
   ],
   "source": [
    "arr = [['b', 'c', 'a'], [2, 1, 3], ['blue', 'black', 'green']]"
   ]
  },
  {
   "cell_type": "code",
   "execution_count": 92,
   "metadata": {},
   "outputs": [
    {
     "data": {
      "text/plain": [
       "[[\"c\", \"b\", \"a\"], [3, 2, 1], [\"green\", \"blue\", \"black\"]]"
      ]
     },
     "execution_count": 92,
     "metadata": {},
     "output_type": "execute_result"
    }
   ],
   "source": [
    "arr.map do |sub_arr|\n",
    "  sub_arr.sort! { |a, b| b <=> a }\n",
    "end"
   ]
  },
  {
   "cell_type": "markdown",
   "metadata": {},
   "source": [
    "**10.  Given the following data structure and without modifying the original array, use the map method to return a new array identical in structure to the original but where the value of each integer is incremented by 1.**"
   ]
  },
  {
   "cell_type": "code",
   "execution_count": 93,
   "metadata": {},
   "outputs": [
    {
     "data": {
      "text/plain": [
       "[{:a=>1}, {:b=>2, :c=>3}, {:d=>4, :e=>5, :f=>6}]"
      ]
     },
     "execution_count": 93,
     "metadata": {},
     "output_type": "execute_result"
    }
   ],
   "source": [
    "arr = [{a: 1}, {b: 2, c: 3}, {d: 4, e: 5, f: 6}]"
   ]
  },
  {
   "cell_type": "code",
   "execution_count": 103,
   "metadata": {},
   "outputs": [
    {
     "data": {
      "text/plain": [
       "[{:a=>2}, {:b=>3, :c=>4}, {:d=>5, :e=>6, :f=>7}]"
      ]
     },
     "execution_count": 103,
     "metadata": {},
     "output_type": "execute_result"
    }
   ],
   "source": [
    "arr.map do |hsh|\n",
    "  hsh.each_with_object({}) do |(key, value), temp_hash|\n",
    "    temp_hash[key] = value + 1\n",
    "  end\n",
    "end\n",
    "\n",
    "# arr.map do |hsh|\n",
    "#   temp_hash = {}\n",
    "#   hsh.each do |(key, value)|\n",
    "#     temp_hash[key] = value + 1\n",
    "#   end\n",
    "#   temp_hash\n",
    "# end"
   ]
  },
  {
   "cell_type": "markdown",
   "metadata": {},
   "source": [
    "**11. Given the following data structure use a combination of methods, including either the select or reject method, to return a new array identical in structure to the original but containing only the integers that are multiples of 3.**"
   ]
  },
  {
   "cell_type": "code",
   "execution_count": 104,
   "metadata": {},
   "outputs": [
    {
     "data": {
      "text/plain": [
       "[[2], [3, 5, 7], [9], [11, 13, 15]]"
      ]
     },
     "execution_count": 104,
     "metadata": {},
     "output_type": "execute_result"
    }
   ],
   "source": [
    "arr = [[2], [3, 5, 7], [9], [11, 13, 15]]"
   ]
  },
  {
   "cell_type": "code",
   "execution_count": 122,
   "metadata": {},
   "outputs": [
    {
     "data": {
      "text/plain": [
       "[[], [3], [9], [15]]"
      ]
     },
     "execution_count": 122,
     "metadata": {},
     "output_type": "execute_result"
    }
   ],
   "source": [
    "arr.map do |sub_arr|\n",
    "  sub_arr.select do |num|\n",
    "    num % 3 == 0\n",
    "  end\n",
    "end\n",
    "\n",
    "# arr.each_with_object([]) do |sub_arr, multiples|\n",
    "#   temp_arr = sub_arr.select do |num|\n",
    "#     num % 3 == 0\n",
    "#   end\n",
    "#   multiples << temp_arr unless temp_arr.empty?\n",
    "# end\n",
    "\n",
    "# arr.each_with_object([]) do |sub_arr, multiples|\n",
    "#   temp_arr = []\n",
    "#   sub_arr.each do |num|\n",
    "#     temp_arr << num if (num % 3 == 0)\n",
    "#   end\n",
    "#   multiples << temp_arr unless temp_arr.empty?\n",
    "# end"
   ]
  },
  {
   "cell_type": "markdown",
   "metadata": {},
   "source": [
    "**12. Given the following data structure, and without using the `Array#to_h` method, write some code that will return a hash where the key is the first item in each sub array and the value is the second item.**"
   ]
  },
  {
   "cell_type": "code",
   "execution_count": 123,
   "metadata": {},
   "outputs": [
    {
     "data": {
      "text/plain": [
       "[[:a, 1], [\"b\", \"two\"], [\"sea\", {:c=>3}], [{:a=>1, :b=>2, :c=>3, :d=>4}, \"D\"]]"
      ]
     },
     "execution_count": 123,
     "metadata": {},
     "output_type": "execute_result"
    }
   ],
   "source": [
    "arr = [[:a, 1], ['b', 'two'], ['sea', {c: 3}], [{a: 1, b: 2, c: 3, d: 4}, 'D']]\n",
    "# expected return value: {:a=>1, \"b\"=>\"two\", \"sea\"=>{:c=>3}, {:a=>1, :b=>2, :c=>3, :d=>4}=>\"D\"}"
   ]
  },
  {
   "cell_type": "code",
   "execution_count": 127,
   "metadata": {},
   "outputs": [
    {
     "data": {
      "text/plain": [
       "{:a=>1, \"b\"=>\"two\", \"sea\"=>{:c=>3}, {:a=>1, :b=>2, :c=>3, :d=>4}=>\"D\"}"
      ]
     },
     "execution_count": 127,
     "metadata": {},
     "output_type": "execute_result"
    }
   ],
   "source": [
    "arr.each_with_object({}) do |(key, value), hsh|\n",
    "  hsh[key] = value\n",
    "end"
   ]
  },
  {
   "cell_type": "markdown",
   "metadata": {},
   "source": [
    "**13. Given the following data structure, return a new array containing the same sub-arrays as the original but ordered logically by only taking into consideration the odd numbers they contain.**"
   ]
  },
  {
   "cell_type": "code",
   "execution_count": 129,
   "metadata": {},
   "outputs": [
    {
     "data": {
      "text/plain": [
       "[[1, 6, 9], [6, 1, 7], [1, 8, 3], [1, 5, 9]]"
      ]
     },
     "execution_count": 129,
     "metadata": {},
     "output_type": "execute_result"
    }
   ],
   "source": [
    "arr = [[1, 6, 9], [6, 1, 7], [1, 8, 3], [1, 5, 9]]\n",
    "\n",
    "# [[1, 8, 3], [1, 5, 9], [6, 1, 7], [1, 6, 9]]"
   ]
  },
  {
   "cell_type": "code",
   "execution_count": 133,
   "metadata": {},
   "outputs": [
    {
     "data": {
      "text/plain": [
       "[[1, 8, 3], [1, 5, 9], [6, 1, 7], [1, 6, 9]]"
      ]
     },
     "execution_count": 133,
     "metadata": {},
     "output_type": "execute_result"
    }
   ],
   "source": [
    "arr.sort_by do |sub_arr|\n",
    "  sub_arr.select(&:odd?)\n",
    "end\n",
    "\n",
    "# arr.sort_by { |sub_arr| sub_arr.select(&:odd?) }"
   ]
  },
  {
   "cell_type": "markdown",
   "metadata": {},
   "source": [
    "Since the sub-arrays are compared in an 'element-wise' manner when being sorted, when looking at the first element of each they are all equal. If we were to include the even integers in our comparison, the order would be different, since 6 is less than 8.\n",
    "\n",
    "By performing selection on the sub-arrays that we are comparing, we can compare them based on the value of the odd integers alone."
   ]
  },
  {
   "cell_type": "markdown",
   "metadata": {},
   "source": [
    "**14. Given this data structure write some code to return an array containing the colors of the fruits, and the sizes of the vegetables. The sizes should be uppercase and the colors should be capitalized.**"
   ]
  },
  {
   "cell_type": "code",
   "execution_count": 134,
   "metadata": {},
   "outputs": [
    {
     "data": {
      "text/plain": [
       "{\"grape\"=>{:type=>\"fruit\", :colors=>[\"red\", \"green\"], :size=>\"small\"}, \"carrot\"=>{:type=>\"vegetable\", :colors=>[\"orange\"], :size=>\"medium\"}, \"apple\"=>{:type=>\"fruit\", :colors=>[\"red\", \"green\"], :size=>\"medium\"}, \"apricot\"=>{:type=>\"fruit\", :colors=>[\"orange\"], :size=>\"medium\"}, \"marrow\"=>{:type=>\"vegetable\", :colors=>[\"green\"], :size=>\"large\"}}"
      ]
     },
     "execution_count": 134,
     "metadata": {},
     "output_type": "execute_result"
    }
   ],
   "source": [
    "hsh = {\n",
    "  'grape' => {type: 'fruit', colors: ['red', 'green'], size: 'small'},\n",
    "  'carrot' => {type: 'vegetable', colors: ['orange'], size: 'medium'},\n",
    "  'apple' => {type: 'fruit', colors: ['red', 'green'], size: 'medium'},\n",
    "  'apricot' => {type: 'fruit', colors: ['orange'], size: 'medium'},\n",
    "  'marrow' => {type: 'vegetable', colors: ['green'], size: 'large'},\n",
    "}\n",
    "\n",
    "# [[\"Red\", \"Green\"], \"MEDIUM\", [\"Red\", \"Green\"], [\"Orange\"], \"LARGE\"]"
   ]
  },
  {
   "cell_type": "code",
   "execution_count": 139,
   "metadata": {},
   "outputs": [
    {
     "data": {
      "text/plain": [
       "[[\"Red\", \"Green\"], \"MEDIUM\", [\"Red\", \"Green\"], [\"Orange\"], \"LARGE\"]"
      ]
     },
     "execution_count": 139,
     "metadata": {},
     "output_type": "execute_result"
    }
   ],
   "source": [
    "hsh.values.map do |v|\n",
    "  type, colors, size = v.values\n",
    "  type == 'fruit' ? colors.map(&:capitalize) : size.upcase\n",
    "end\n",
    "\n",
    "# hsh.values.each_with_object([]) do |v, arr|\n",
    "#   arr << v[:colors].map(&:capitalize) if v[:type] == 'fruit'\n",
    "#   arr << v[:size].upcase if v[:type] == 'vegetable'\n",
    "# end"
   ]
  },
  {
   "cell_type": "markdown",
   "metadata": {},
   "source": [
    "**15. Given this data structure write some code to return an array which contains only the hashes where all the integers are even.**"
   ]
  },
  {
   "cell_type": "code",
   "execution_count": 179,
   "metadata": {},
   "outputs": [
    {
     "data": {
      "text/plain": [
       "[{:a=>[1, 2, 3]}, {:b=>[2, 4, 6], :c=>[3, 6], :d=>[4]}, {:e=>[8], :f=>[6, 10]}]"
      ]
     },
     "execution_count": 179,
     "metadata": {},
     "output_type": "execute_result"
    }
   ],
   "source": [
    "arr = [{a: [1, 2, 3]}, {b: [2, 4, 6], c: [3, 6], d: [4]}, {e: [8], f: [6, 10]}]"
   ]
  },
  {
   "cell_type": "code",
   "execution_count": 184,
   "metadata": {},
   "outputs": [
    {
     "data": {
      "text/plain": [
       "[{:e=>[8], :f=>[6, 10]}]"
      ]
     },
     "execution_count": 184,
     "metadata": {},
     "output_type": "execute_result"
    }
   ],
   "source": [
    "arr.select do |hsh|\n",
    "  hsh.all? do |_, value|\n",
    "    value.all? do |num|\n",
    "      num.even?\n",
    "    end\n",
    "  end\n",
    "end"
   ]
  },
  {
   "cell_type": "code",
   "execution_count": 185,
   "metadata": {},
   "outputs": [
    {
     "data": {
      "text/plain": [
       "[{:e=>[8], :f=>[6, 10]}]"
      ]
     },
     "execution_count": 185,
     "metadata": {},
     "output_type": "execute_result"
    }
   ],
   "source": [
    "arr.select do |hsh|\n",
    "  hsh.values.flatten.all?(&:even?)\n",
    "end"
   ]
  },
  {
   "cell_type": "markdown",
   "metadata": {},
   "source": [
    "<b>16. A UUID is a type of identifier often used as a way to uniquely identify items...which may not all be created by the same system. That is, without any form of synchronization, two or more separate computer systems can create new items and label them with a UUID with no significant chance of stepping on each other's toes.\n",
    "\n",
    "It accomplishes this feat through massive randomization. The number of possible UUID values is approximately 3.4 X 10E38.\n",
    "\n",
    "Each UUID consists of 32 hexadecimal characters, and is typically broken into 5 sections like this 8-4-4-4-12 and represented as a string.\n",
    "\n",
    "It looks like this: \"f65c57f6-a6aa-17a8-faa1-a67f2dc9fa91\"\n",
    "\n",
    "Write a method that returns one UUID when called with no parameters.\n",
    "</b>"
   ]
  },
  {
   "cell_type": "code",
   "execution_count": 229,
   "metadata": {},
   "outputs": [
    {
     "data": {
      "text/plain": [
       "[\"a\", \"b\", \"c\", \"d\", \"e\", \"f\", \"1\", \"2\", \"3\", \"4\", \"5\", \"6\", \"7\", \"8\", \"9\"]"
      ]
     },
     "execution_count": 229,
     "metadata": {},
     "output_type": "execute_result"
    }
   ],
   "source": [
    "sections = [8, 4, 4, 4, 12]\n",
    "hex_chars = [*('a'..'f'), *('1'..'9')]"
   ]
  },
  {
   "cell_type": "code",
   "execution_count": 233,
   "metadata": {},
   "outputs": [
    {
     "data": {
      "text/plain": [
       "\"475f1371-9cac-7828-e92b-e3ded12577df-\""
      ]
     },
     "execution_count": 233,
     "metadata": {},
     "output_type": "execute_result"
    }
   ],
   "source": [
    "uuid = ''\n",
    "\n",
    "section.each do |num|\n",
    "  num.times do |count|\n",
    "    uuid << hex_chars.sample\n",
    "    uuid << '-' if count == (num - 1)\n",
    "  end\n",
    "end\n",
    "\n",
    "uuid"
   ]
  },
  {
   "cell_type": "code",
   "execution_count": 228,
   "metadata": {},
   "outputs": [
    {
     "data": {
      "text/plain": [
       "\"ac9c1877f-2f17d-4ee4a-a5bf2-4c5a3ce4d1a6c\""
      ]
     },
     "execution_count": 228,
     "metadata": {},
     "output_type": "execute_result"
    }
   ],
   "source": [
    "uuid_arrays = sections.map do |num|\n",
    "  (0..num).map { hex_chars.sample }\n",
    "end\n",
    "\n",
    "uuid_arrays.map(&:join).join('-')"
   ]
  },
  {
   "cell_type": "code",
   "execution_count": 223,
   "metadata": {},
   "outputs": [
    {
     "data": {
      "text/plain": [
       "\"fb579228-4a93-f79e-66a2-99df99288745\""
      ]
     },
     "execution_count": 223,
     "metadata": {},
     "output_type": "execute_result"
    }
   ],
   "source": [
    "# section_strings = []\n",
    "\n",
    "# sections.each do |num|\n",
    "#   temp_str = ''\n",
    "#   num.times do\n",
    "#     temp_str << hex_chars.sample\n",
    "#   end\n",
    "#   section_strings << temp_str\n",
    "# end\n",
    "\n",
    "# section_strings.join('-')"
   ]
  }
 ],
 "metadata": {
  "kernelspec": {
   "display_name": "Ruby 2.7.5",
   "language": "ruby",
   "name": "ruby"
  },
  "language_info": {
   "file_extension": ".rb",
   "mimetype": "application/x-ruby",
   "name": "ruby",
   "version": "2.7.5"
  },
  "orig_nbformat": 4
 },
 "nbformat": 4,
 "nbformat_minor": 2
}
