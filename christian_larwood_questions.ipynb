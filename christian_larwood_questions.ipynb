{
 "cells": [
  {
   "cell_type": "markdown",
   "id": "18719c9a-1c19-4302-bdf7-091fa1b01d03",
   "metadata": {},
   "source": [
    "# Variable Scope"
   ]
  },
  {
   "cell_type": "code",
   "execution_count": 1,
   "id": "c3dcdc0b-1530-4221-98c0-2e0b8042bdf9",
   "metadata": {},
   "outputs": [
    {
     "name": "stdout",
     "output_type": "stream",
     "text": [
      "[1, 2, 3, 4, 5, 6, 7, 8, 9, 10]\n"
     ]
    },
    {
     "data": {
      "text/plain": [
       "[1, 2, 3, 4, 5, 6, 7, 8, 9, 10]"
      ]
     },
     "execution_count": 1,
     "metadata": {},
     "output_type": "execute_result"
    }
   ],
   "source": [
    "arr = [1, 2, 3, 4, 5, 6, 7, 8, 9, 10]\n",
    "\n",
    "new_array = arr.select do |n| \n",
    " n + 1\n",
    "end\n",
    "\n",
    "p new_array"
   ]
  },
  {
   "cell_type": "markdown",
   "id": "cce52e25-fb96-4569-8593-831dd893cc70",
   "metadata": {
    "jupyter": {
     "source_hidden": true
    },
    "tags": []
   },
   "source": [
    "On line 1 the local variable `arr` is initialized to an array object with the value `[1, 2, 3, 4, 5, 6, 7, 8, 9, 10]`.  On line 3 the local variable `new_array` is initialized to the return value of invoking `Array#select` on the object referenced by local variable `arr`.  A `do..end` block is passed to the `select` method call as an argument spanning lines 3 - 5.  Each element from the calling array is passed to the block in the form of an argument, in this case `n`.  \n",
    "\n",
    "Within the block, `Integer#+` is called on the current element with 1 passed as an argument.  This will return the current integer incremented by 1.  `#select` considers the truthiness of the block's return value.  The block's return value will be truthy on every iteration because `n + 1` will always return an integer, which evaluates as true.  Therefore, `select` will select every element in the original array and return it in a new array.  \n",
    "\n",
    "`#p` is invoked on line 7 which will output and return `[1, 2, 3, 4, 5, 6, 7, 8, 9, 10]`.  \n",
    "\n",
    "This code demonstrates the concept of truthiness and how all objects in Ruby evaluate as true with the exception of `nil` and `false`.  "
   ]
  },
  {
   "cell_type": "code",
   "execution_count": 3,
   "id": "59e2c435-02fe-4a1c-aa54-e692f8f3df4c",
   "metadata": {},
   "outputs": [
    {
     "name": "stdout",
     "output_type": "stream",
     "text": [
      "Goodbye\n",
      "Hello\n"
     ]
    }
   ],
   "source": [
    "a = \"Hello\"\n",
    "b = a\n",
    "a = \"Goodbye\"\n",
    "\n",
    "puts a\n",
    "puts b"
   ]
  },
  {
   "cell_type": "markdown",
   "id": "d36745c0-df38-467c-bf35-147774fd02c9",
   "metadata": {
    "jupyter": {
     "source_hidden": true
    },
    "tags": []
   },
   "source": [
    "Local variable `a` is initialized on line 1 to a string object with the value \"Hello\".  Local variable `b` is initialized on line 2 to the string object referenced by local variable `a`.  Local variable `a` is reassinged to a string object with the value \"Goodbye\".  \n",
    "\n",
    "`#puts` is invoked on line 5 and the object referenced by local variable `a` passed in as an argument.  Because `a` was reassigned to point to a different string object on line 3, this method call will output \"Goodbye\".  `#puts` is invoked on line 6 and the object referenced by local variable `b` passed in as an argument.  Local variable `b` is still pointing to the original string that local variable `a` was assigned to, so this method call will output \"Hello\".  `puts b` is the last evaluated line so this code will return `nil`.\n",
    "\n",
    "This code demonstrates the concept of variable as pointers.  After local variable `b` was initialized on line 2 both `a` and `b` pointed to the same object, but when `a` was reassigned on line 3, the two variables pointed to different object or spaces in memory.  "
   ]
  },
  {
   "cell_type": "code",
   "execution_count": 1,
   "id": "0334224d-1c29-4f2d-bd0e-1024f5f04630",
   "metadata": {},
   "outputs": [
    {
     "name": "stdout",
     "output_type": "stream",
     "text": [
      "5\n"
     ]
    },
    {
     "ename": "NameError",
     "evalue": "undefined local variable or method `b' for #<Object:0x00007fb48b891c40>",
     "output_type": "error",
     "traceback": [
      "\u001b[31mNameError\u001b[0m: undefined local variable or method `b' for #<Object:0x00007fb48b891c40>",
      "(irb):9:in `irb_binding'"
     ]
    }
   ],
   "source": [
    "a = 4\n",
    "\n",
    "loop do\n",
    "  a = 5\n",
    "  b = 3\n",
    "  break\n",
    "end\n",
    "\n",
    "puts a\n",
    "puts b"
   ]
  },
  {
   "cell_type": "markdown",
   "id": "1e60fe58-f1ce-4be5-a2da-6c8731589c34",
   "metadata": {
    "jupyter": {
     "source_hidden": true
    },
    "tags": []
   },
   "source": [
    "On line 1 local variable `a` is initialized on line 1 to an integer object with the value 4.  The `#loop` method is invoked on line 3 and a `do..end` block is passed in as an argument spanning lines 3 - 7.  Within the block's scope, local variable `a` is reassigned to a new string object with the value 5 and local variable `b` is intialized to a string object with value 3.  The `break` keyword on line 6 is used to exit the loop.  \n",
    "\n",
    "On line 9 the `#puts` method invocation with the object referenced by local variable `a` will output 5 and return `nil`.  On line 10 the `#puts` method invocation with the object referenced by local variable `b` will output a `NameError` message.  \n",
    "\n",
    "This code demonstrates the concept of local variable scope.  Variables initialized in the outer scope can be accessed inside a block's scope, but variables initialized inside a block's scope cannot be accessed in the outer scope.  In this code, we are able to reassign local variable `a` because it was initialized outside the block's scope.  However, we are not able to access local variable `b` and pass it as an argument to `#puts` because it was initialized inside the block's scope.  "
   ]
  },
  {
   "cell_type": "code",
   "execution_count": 1,
   "id": "76047363-77ac-4573-aaa7-a4c9643e0393",
   "metadata": {},
   "outputs": [
    {
     "name": "stdout",
     "output_type": "stream",
     "text": [
      "3\n",
      "2\n"
     ]
    }
   ],
   "source": [
    "a = 4\n",
    "b = 2\n",
    "\n",
    "loop do\n",
    "  c = 3\n",
    "  a = c\n",
    "  break\n",
    "end\n",
    "\n",
    "puts a\n",
    "puts b"
   ]
  },
  {
   "cell_type": "markdown",
   "id": "93300ae2-6e8e-44dd-9ca2-e416a587ec0f",
   "metadata": {
    "jupyter": {
     "source_hidden": true
    },
    "tags": []
   },
   "source": [
    "Local variables `a` and `b` are intialized on lines 1 and 2 to integer objects with the values 4 and 2, respectively.  The `#loop` method is invoked on line 4 with a `do..end` block passed in as an argument spanning lines 4 - 8.  Inside the block's scope, local variable `c` is initialized to an integer object with the value 3 and local variable `a` is reassigned to the integer object referenced by local variable `c`.  The `break` keyword is used on line 7 to exit out of the loop.  \n",
    "\n",
    "The `#puts` method invocation on line 10 with the object referenced by local variable `a` passed in as an argument will output 3 and return `nil`.  The `#puts` method invocation on line 11 with the object referenced by local variable `b` passed in as an argument will output 2 and return `nil`.  \n",
    "\n",
    "This code demonstrates the concept of local variable scope.  Variables intialized in the outer scope can be access inside a block's scope.  This is why we are able to access local variable `a` inside the block's scope and reassign it to a new integer object.  The code also demonstrates the concept of variables as pointers.  Local variable `c` initialized within the block's scope pointed to integer object with the value 3.  On the next line local variable `a` is reassigned to point to the same string object that local variable `c` is pointing to.  So both variables point to the same space in memory.  `a` can still be accessed outside the block's scope even though its referencing an integer object that is assigned to a variable initialized inside the block's scope.   "
   ]
  },
  {
   "cell_type": "code",
   "execution_count": 2,
   "id": "72c54efc-9628-466c-b252-9c8193a35039",
   "metadata": {},
   "outputs": [
    {
     "name": "stdout",
     "output_type": "stream",
     "text": [
      "hello\n",
      "hello\n",
      "hello\n"
     ]
    }
   ],
   "source": [
    "def example(str)\n",
    "  i = 3\n",
    "  loop do\n",
    "    puts str\n",
    "    i -= 1\n",
    "    break if i == 0\n",
    "  end\n",
    "end\n",
    "\n",
    "example('hello')"
   ]
  },
  {
   "cell_type": "markdown",
   "id": "71f6dcb3-77fc-4e4d-a70b-4c5b36feeb53",
   "metadata": {
    "jupyter": {
     "source_hidden": true
    },
    "tags": []
   },
   "source": [
    "On line 10 the method `example` is called with the string literal \"hello\" passed in as an argument and it is bound to the paramete `str` in the method definition for `example` spanning lines 1 - 8.  On line 2 the local variable `i` is initialized to the integer object 3.  On line 4 the `#loop` method is invoked with a `do..end` block spanning lines 4 - 7.  Inside the block's scope the `#puts` method is invoked and the local variable `str` is passed to it as an argument.  On line 5 the local variable `i` is reassigned to an integer object equal to `i - 1` and the break keyword is used on line 6 to exit out of the loop if the integer object assigned to `i` is equal to 0. \n",
    "\n",
    "The loop will iterate three times before `i` is equal 0, so the `#puts` method on line 2 will be executed three times and output \"hello\" on each iteration.  \n",
    "\n",
    "This code demonstrates local variable scope.  Local variables intialized in the outer scope can be accessed within a block's inner scope.  Local variable `i` was initialized outside of the block's scope in the `example` method definition and was reassigned within the block's scope.  It also shows how the rules of local variable scope still apply within the scope of a method.  "
   ]
  },
  {
   "cell_type": "code",
   "execution_count": 3,
   "id": "c9c30783-59a6-48e1-875a-2a95494d9c77",
   "metadata": {},
   "outputs": [
    {
     "name": "stdout",
     "output_type": "stream",
     "text": [
      "Hello\n",
      "Goodbye\n"
     ]
    }
   ],
   "source": [
    "def greetings(str)\n",
    "  puts str\n",
    "  puts \"Goodbye\"\n",
    "end\n",
    "\n",
    "word = \"Hello\"\n",
    "\n",
    "greetings(word)"
   ]
  },
  {
   "cell_type": "markdown",
   "id": "4ee76800-cb44-4e63-a8e5-54aa9e27e0ea",
   "metadata": {
    "jupyter": {
     "source_hidden": true
    },
    "tags": []
   },
   "source": [
    "On line 6 the local variable `word` is initialized to a string object with the value \"Hello\".  On line 8 the `greetings` method is invoked and the string object referenced by local variable `word` is passed in as an argument.  This binds the string assigned to `word` to the parameter `str` in the method definition for `greetings` spanning lines 1 - 4.  Within the method `#puts` is invoked and the string object referenced by local variable `str` is passed in as an argument.  This will output \"Hello\" and return `nil`.  On line 3 `#puts` is invoked and the string literal \"Goodbye\" is passed in as an argument.  This will output \"Goodbye\" and return `nil`.  Since `puts \"Goodbye\"` is the last line evaluated in this method, the method call on line 8 will return `nil`.  \n",
    "\n",
    "This code demonstrates how methods are able to access variables that are not initialized inside the method definition if they are defined as parameters.  In this example, `greetings` has a method parameter `str` which allows the method to access the string \"Hello\" since it is passed in as an argument at method invocation in the form of the local variable `word`.  "
   ]
  },
  {
   "cell_type": "code",
   "execution_count": 4,
   "id": "9859f70d-7d02-4171-a4f5-a66b98b02b1b",
   "metadata": {},
   "outputs": [
    {
     "name": "stdout",
     "output_type": "stream",
     "text": [
      "Your total is 10\n"
     ]
    }
   ],
   "source": [
    "arr = [1, 2, 3, 4]\n",
    "\n",
    "counter = 0\n",
    "sum = 0\n",
    "\n",
    "loop do\n",
    "  sum += arr[counter]\n",
    "  counter += 1\n",
    "  break if counter == arr.size\n",
    "end \n",
    "\n",
    "puts \"Your total is #{sum}\""
   ]
  },
  {
   "cell_type": "markdown",
   "id": "67af8e94-e383-40b8-881f-8d32301ef2bf",
   "metadata": {
    "jupyter": {
     "source_hidden": true
    },
    "tags": []
   },
   "source": [
    "On line 1 the local variable `arr` is initialized to an array object with the value `[1, 2, 3, 4]`.  On lines 3 and 4 the local variables `counter` and `sum` are both initialized to an integer object with the value 0.  On line 6 `#loop` is invoked and a `do..end` block is passed to it as an argument spanning lines 6 - 10.  \n",
    "\n",
    "Within the block, line 7 translates to `sum = sum + arr[counter]`.   `arr[counter]` is using element reference and returns the element in the array object referenced by `arr` at the index of the integer object assigned to `counter`.  This return value is then added to the integer object referenced by `sum` and this new integer object is assigned to local variable `sum`.  Similarly, line 8 translates to `counter = counter + 1`.  `counter + 1` is incrementing the integer assigned to `counter` by 1 and assigning that new integer object to `counter`.  The `break` keyword is used on line 9 to exit out of the loop if the integer object referenced by local variable `counter` is equal to the length of the array object referenced by local variable `arr`.  \n",
    "\n",
    "On line 12 `#puts` is invoked and a string is passed in as an argument.  This string uses string interpolation to append the string object referenced by `sum` at the end of the string.  The loop invocation and accompanying block on lines 6 - 10 are essentially cumulatively adding each element in the array object assigned to `arr` to the integer object referenced by `sum`.  Therefore, the `#puts` method call on line 12 will output \"Your total is 10\" and will return `nil`.  \n",
    "\n",
    "This code demonstrates the concept of variable scope.  ..."
   ]
  },
  {
   "cell_type": "code",
   "execution_count": 5,
   "id": "43acf970-3cf1-40fb-9700-608708b3e5b6",
   "metadata": {},
   "outputs": [
    {
     "name": "stdout",
     "output_type": "stream",
     "text": [
      "\"Bill\"\n"
     ]
    },
    {
     "data": {
      "text/plain": [
       "\"Bill\""
      ]
     },
     "execution_count": 5,
     "metadata": {},
     "output_type": "execute_result"
    }
   ],
   "source": [
    "a = 'Bob'\n",
    "\n",
    "5.times do |x|\n",
    "  a = 'Bill'\n",
    "end\n",
    "\n",
    "p a"
   ]
  },
  {
   "cell_type": "markdown",
   "id": "d8192c17-e935-47ab-bb7b-57f580d1536a",
   "metadata": {
    "jupyter": {
     "source_hidden": true
    },
    "tags": []
   },
   "source": [
    "Local variable `a` is initialized on line 1 to a string object with the value \"Bob\".  On line 3 `Integer#times` is called on the integer 5 and a `do..end` block is passed in as an argument spanning lines 3 - 5.  The values from 0 to 4 are passed to the block in the form of an argument, in this case `x`.  However, this argument is not used within the block's scope and the best practice would be to replace the `x` with a `_` or leave out the block argument entirely.  \n",
    "\n",
    "Within the block's scope, local variable `a` is reassigned to a string object with the value \"Bill\".  This reassignment is done 5 times.  On line 7 `#p` is invoked with the string object referenced by local variable `a` passed in as an argument.  This will output \"Bill\" and return \"Bil\".  \n",
    "\n",
    "This code demonstrates the concept of local variable scope.  Local variables initialized in the outer scope can be accessed within a block's inner scope.  In this code, local variable `a` is intialized in the outer scope and accessed within the block's scope where it is reassigned on each iteration of the block. "
   ]
  },
  {
   "cell_type": "code",
   "execution_count": 6,
   "id": "2f25226d-d88e-4372-99c7-5c7e93fea7ff",
   "metadata": {},
   "outputs": [
    {
     "name": "stdout",
     "output_type": "stream",
     "text": [
      "cat\n"
     ]
    },
    {
     "ename": "NameError",
     "evalue": "undefined local variable or method `var' for #<Object:0x00007fd2f8b45dc0>",
     "output_type": "error",
     "traceback": [
      "\u001b[31mNameError\u001b[0m: undefined local variable or method `var' for #<Object:0x00007fd2f8b45dc0>",
      "(irb):9:in `irb_binding'"
     ]
    }
   ],
   "source": [
    "animal = \"dog\"\n",
    "\n",
    "loop do |_|\n",
    "  animal = \"cat\"\n",
    "  var = \"ball\"\n",
    "  break\n",
    "end\n",
    "\n",
    "puts animal\n",
    "puts var"
   ]
  },
  {
   "cell_type": "markdown",
   "id": "8fe4d217-9fa5-43fc-bb1a-7bd60a4041f4",
   "metadata": {
    "jupyter": {
     "source_hidden": true
    },
    "tags": []
   },
   "source": [
    "Local variable `animal` is initialized on line 1 to a string object with the value \"dog\".  On line 3 `#loop` is invoked and a `do..end` block is passed to it as an argument spanning lines 3 -7.  The block argument `_` that is provided serves no purpose within the block and could be left out entirely.   Within the block's scope local variable `animal` is reassigned to a string object with the value \"cat\" on line 4.  On line 5 the local variable `var` is initialized to a string object with the value \"ball\".  The `break` keyword is used on line 6 to exit out of the loop.  \n",
    "\n",
    "`#puts` is invoked on line 9 and the string object referenced by local variable `animal` is passed in as an argument.  Because `animal` is reassigned to a new string object within the block, this method call will output \"cat\" and return `nil`.  The `#puts` method call on line 10 with the string object referenced by local variable `var` passed in as an argument will output a `NameError` message.  \n",
    "\n",
    "This demonstrates the concept local variable scope.  Local variables initialized in the outer scope can be accessed within a block's inner scope, but local variables initialized within a block's scope cannot be accessed in the outer scope.  In this code, the local variable `animal` was initialized in the outer scope so it was accessible within the block's scope.  However, local variable `var` was initialized within the block's scope so it cannot be accessed in the outer scope."
   ]
  },
  {
   "cell_type": "markdown",
   "id": "bd1f907b-8c93-4ca5-83a1-7940b3f134b2",
   "metadata": {},
   "source": [
    "# Variable Shadowing"
   ]
  },
  {
   "cell_type": "code",
   "execution_count": 7,
   "id": "2932b21d-769b-4457-855f-0dfc8dc878c4",
   "metadata": {},
   "outputs": [
    {
     "name": "stdout",
     "output_type": "stream",
     "text": [
      "5\n",
      "5\n",
      "4\n",
      "2\n"
     ]
    }
   ],
   "source": [
    "a = 4\n",
    "b = 2\n",
    "\n",
    "2.times do |a|\n",
    "  a = 5\n",
    "  puts a\n",
    "end\n",
    "\n",
    "puts a\n",
    "puts b"
   ]
  },
  {
   "cell_type": "markdown",
   "id": "45ce1089-587b-4b7c-ba32-3e060ce825a6",
   "metadata": {},
   "source": [
    "On line 1 local variable `a` is initialized to an integer object with the value 4.  On line 2 local variable `b` is initialized to an integer object with the value 2.  On line 4 `Integer#times` is called on the integer 2 and a `do..end` block is passed to it as an argument.  The `#times` method passed each value from 0 to 1 (2 - 1) into the block in the form of an argument, in this case `a`.  \n",
    "\n",
    "Within the block, the local variable `a` is initialized to the integer object `5`.  The reason local variable `a` is initialized and not reassigned is because the block parameter, `a`, shares a name with lcoal variable `a` initialized in the outer scope.  This is called variable shadowing and it prevents the block from accessing the variable initialized in the outer scope.  So local variable `a` intiailized on line 1 still points to the integer 4.   On line 6 `#puts` is invoked and the integer referenced by local variable `a` is passed in as an argument.  The `#times` method iterates the block twice, so a string representation of 5 is output twice.  \n",
    "\n",
    "On line 9 `#puts` is invoked with the integer object referenced by local variable `a` passed in as an argument.   This will output a string representation of 4 because the variable `a` that was initialized in the outer scope could not be accessed by the block and therefore was never reassigned.  On line 10 `#puts` is invoked with the integer object referenced by local variable `b` passed in as an argument.   This will output a string representation of 2.  "
   ]
  },
  {
   "cell_type": "code",
   "execution_count": 8,
   "id": "e298fe5b-6bc7-4d81-ac9d-c8e108598092",
   "metadata": {},
   "outputs": [
    {
     "name": "stdout",
     "output_type": "stream",
     "text": [
      "10\n"
     ]
    }
   ],
   "source": [
    "n = 10\n",
    "\n",
    "1.times do |n|\n",
    "  n = 11\n",
    "end\n",
    "\n",
    "puts n"
   ]
  },
  {
   "cell_type": "markdown",
   "id": "f7333179-4e86-4a73-afd5-2d761ef9a113",
   "metadata": {},
   "source": [
    "On line 1 local variable `n` is initialized to an integer object with the value 10.  On line 3 `Integer#times` is called on integer 1 and a `do..end` block is passed to it as an argument spanning lines 3 - 5.  The block is provided with a parameter `n`.  The block paramter shares a name with the local variable initialized on line 1.  This is called variable shadowing and it prevents the the block from  accessing the local variable in the outer scope.  Therefore, instead of reassigning `n`, the local variable `n` within the block's scope is being initialized to an integer object with the value 11.  \n",
    "\n",
    "`#puts` is invoked on line 7 and the integer object referenced by local variable `n` is passed to it as an argument.  Because local variable `n` in the outer scope was never reassigned to a different integer object within the block's inner scope, it still points to the integer object it was initialized to, so this method call will output a string representation of 10 and return `nil`.  \n",
    "\n",
    "In additional to variable shadowing, this code also demonstrates the concept of local variable scope.  Local variables initialzied within a block's scope cannot be accessed in the outer scope.  Because the local variable `n` on line 4 was initialized within the block's scope it is not recognized in the outer scope."
   ]
  },
  {
   "cell_type": "code",
   "execution_count": 9,
   "id": "06ea53f8-f638-4afd-9244-91f90ffdacaf",
   "metadata": {},
   "outputs": [
    {
     "name": "stdout",
     "output_type": "stream",
     "text": [
      "dog\n"
     ]
    }
   ],
   "source": [
    "animal = \"dog\"\n",
    "\n",
    "loop do |animal|\n",
    "  animal = \"cat\"\n",
    "  break\n",
    "end\n",
    "\n",
    "puts animal"
   ]
  },
  {
   "cell_type": "markdown",
   "id": "c8ee0893-67b0-4b9d-a195-f3114db9d8ea",
   "metadata": {},
   "source": [
    "On line 1 the local variable `animal` is initialized to a string object with the value \"dog\".  On line 3 `#loop` is invoked and a `do..end` block is passed to it as an argument spanning lines 3 to 6.  The block is provided with a parameter, `animal`.  The block's parameter shares a name with the local variable initialized on line 1.  This is called variable shadowing and it prevents the block from accessing the local variable in the outer scope.  Therefore, instead of reassigning the outer scope `animal` to a different string object within the block, `animal` is actually being initialized to a string object with the value \"cat\" on line 4.  The `break` keyword is used on line 5 to exit the loop.  \n",
    "\n",
    "On line 8 `#puts` is invoked and the string object referenced by local variable `animal` is passed in as an argument.  Because the block could not access the outer scope variable `animal`, it never reassigned it to a different string object, so the `animal` initialized on line 1 still points to the string object with the value \"dog\".  Therefore, this method call will output \"dog\" and return `nil`.  \n",
    "\n",
    "In addition to variable shadowing, this code also demonstrates the concept of local variable scope.  Variables initialized within a block's scope cannot be accessed in the outer scope.  Because the local variable `animals` on line 4 was initialized within the block's inner scope it is not recognized in the outer scope."
   ]
  },
  {
   "cell_type": "markdown",
   "id": "e6c792f4-aec3-4b51-81a9-f08d6f2a9d1e",
   "metadata": {},
   "source": [
    "# Object Passing/Variables As Pointers"
   ]
  },
  {
   "cell_type": "code",
   "execution_count": null,
   "id": "a0c5f661-4a12-48a5-beab-8200102a39d0",
   "metadata": {},
   "outputs": [],
   "source": []
  }
 ],
 "metadata": {
  "kernelspec": {
   "display_name": "Ruby 2.7.5",
   "language": "ruby",
   "name": "ruby"
  },
  "language_info": {
   "file_extension": ".rb",
   "mimetype": "application/x-ruby",
   "name": "ruby",
   "version": "2.7.5"
  }
 },
 "nbformat": 4,
 "nbformat_minor": 5
}
