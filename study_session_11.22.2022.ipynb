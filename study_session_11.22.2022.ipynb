{
 "cells": [
  {
   "cell_type": "code",
   "execution_count": 1,
   "metadata": {},
   "outputs": [],
   "source": [
    "# Have the method letter_changes(str) take the str parameter being passed and\n",
    "# modify it using the following algorithm. Replace every letter in the string\n",
    "# with the 3rd letter following it in the alphabet (ie. c becomes f, Z becomes C).\n",
    "# Then return this modified string."
   ]
  },
  {
   "cell_type": "code",
   "execution_count": 22,
   "metadata": {},
   "outputs": [
    {
     "data": {
      "text/plain": [
       ":letter_changes"
      ]
     },
     "execution_count": 22,
     "metadata": {},
     "output_type": "execute_result"
    }
   ],
   "source": [
    "def letter_changes(string)\n",
    "  new_string = ''\n",
    "\n",
    "  (0...string.size).each do |idx|\n",
    "    if string[idx] =~ /[A-Za-z]/\n",
    "      new_string += (string[idx].ord + 3).chr\n",
    "    else\n",
    "      new_string += string[idx]\n",
    "    end\n",
    "  end\n",
    "  new_string\n",
    "end"
   ]
  },
  {
   "cell_type": "code",
   "execution_count": 24,
   "metadata": {},
   "outputs": [
    {
     "name": "stdout",
     "output_type": "stream",
     "text": [
      "\"HPDLO]@jpdlo.frp\"\n"
     ]
    },
    {
     "data": {
      "text/plain": [
       "\"HPDLO]@jpdlo.frp\""
      ]
     },
     "execution_count": 24,
     "metadata": {},
     "output_type": "execute_result"
    }
   ],
   "source": [
    "# p letter_changes(\"this long cake@&\") == \"wklv orqj fdnh@&\"\n",
    "# p letter_changes(\"Road trip9\") == \"Urdg wuls9\"\n",
    "p letter_changes(\"EMAILZ@gmail.com\") #== \"HPDLOC@jpdlo.frp\"\n",
    "# p letter_changes('xyz') == ('abc')"
   ]
  },
  {
   "cell_type": "code",
   "execution_count": 21,
   "metadata": {},
   "outputs": [
    {
     "data": {
      "text/plain": [
       "[\"d\", \"e\", \"f\", \"g\", \"h\", \"i\", \"j\", \"k\", \"l\", \"m\", \"n\", \"o\", \"p\", \"q\", \"r\", \"s\", \"t\", \"u\", \"v\", \"w\", \"x\", \"y\", \"z\", \"a\", \"b\", \"c\"]"
      ]
     },
     "execution_count": 21,
     "metadata": {},
     "output_type": "execute_result"
    }
   ],
   "source": [
    "[*\"a\"..\"z\"].rotate(3)"
   ]
  },
  {
   "cell_type": "code",
   "execution_count": null,
   "metadata": {},
   "outputs": [],
   "source": [
    "# https://gist.github.com/matugm/db363c7131e6af27716c\n",
    "# https://stackoverflow.com/questions/31489800/rotating-letters-in-a-string-so-that-each-letter-is-shifted-to-another-letter-by"
   ]
  },
  {
   "cell_type": "code",
   "execution_count": null,
   "metadata": {},
   "outputs": [],
   "source": [
    "=begin\n",
    "# For \"x\", determine how many positive integers less than or equal to \"x\" are odd but not prime. Assume \"x\" is an integer between 1 and 10000.\n",
    "\n",
    "# Example: 5 has three odd numbers (1,3,5) and only the number 1 is not prime, so the answer is 1\n",
    "# Example: 10 has five odd numbers (1,3,5,7,9) and only 1 and 9 are not prime, so the answer is 2\n",
    "\n",
    "# A prime number (or a prime) is a natural number greater than 1 that has no positive divisors other than 1 and itself.\n",
    "=\n",
    "\n",
    "p odd_not_prime(15) == 3\n",
    "p odd_not_prime(48) == 10\n",
    "p odd_not_prime(82) == 20"
   ]
  },
  {
   "cell_type": "code",
   "execution_count": 29,
   "metadata": {},
   "outputs": [
    {
     "data": {
      "text/plain": [
       "11"
      ]
     },
     "execution_count": 29,
     "metadata": {},
     "output_type": "execute_result"
    }
   ],
   "source": [
    "n = 11"
   ]
  },
  {
   "cell_type": "code",
   "execution_count": 9,
   "metadata": {},
   "outputs": [
    {
     "data": {
      "text/plain": [
       ":prime?"
      ]
     },
     "execution_count": 9,
     "metadata": {},
     "output_type": "execute_result"
    }
   ],
   "source": [
    "c"
   ]
  },
  {
   "cell_type": "code",
   "execution_count": 10,
   "metadata": {},
   "outputs": [
    {
     "data": {
      "text/plain": [
       ":odd_not_prime"
      ]
     },
     "execution_count": 10,
     "metadata": {},
     "output_type": "execute_result"
    }
   ],
   "source": [
    "def odd_not_prime(number)\n",
    "  res = number.downto(0).select do |num|\n",
    "    num.odd? && !prime?(num)\n",
    "  end\n",
    "  res.size\n",
    "end"
   ]
  },
  {
   "cell_type": "code",
   "execution_count": 11,
   "metadata": {},
   "outputs": [
    {
     "name": "stdout",
     "output_type": "stream",
     "text": [
      "true\n",
      "true\n",
      "true\n"
     ]
    },
    {
     "data": {
      "text/plain": [
       "true"
      ]
     },
     "execution_count": 11,
     "metadata": {},
     "output_type": "execute_result"
    }
   ],
   "source": [
    "p odd_not_prime(15) == 3\n",
    "p odd_not_prime(48) == 10\n",
    "p odd_not_prime(82) == 20"
   ]
  },
  {
   "cell_type": "code",
   "execution_count": 13,
   "metadata": {},
   "outputs": [
    {
     "ename": "NoMethodError",
     "evalue": "undefined method `prime?' for 1:Integer",
     "output_type": "error",
     "traceback": [
      "\u001b[31mNoMethodError\u001b[0m: undefined method `prime?' for 1:Integer",
      "(irb):in `irb_binding'"
     ]
    }
   ],
   "source": [
    "1.prime?"
   ]
  },
  {
   "cell_type": "code",
   "execution_count": 43,
   "metadata": {},
   "outputs": [
    {
     "ename": "SyntaxError",
     "evalue": "(irb):12: embedded document meets end of file",
     "output_type": "error",
     "traceback": [
      "\u001b[31mSyntaxError\u001b[0m: (irb):12: embedded document meets end of file"
     ]
    }
   ],
   "source": [
    "=begin\n",
    "# For \"x\", determine how many positive integers less than or equal to \"x\" are odd but not prime. Assume \"x\" is an integer between 1 and 10000.\n",
    "\n",
    "# Example: 5 has three odd numbers (1,3,5) and only the number 1 is not prime, so the answer is 1\n",
    "# Example: 10 has five odd numbers (1,3,5,7,9) and only 1 and 9 are not prime, so the answer is 2\n",
    "\n",
    "# A prime number (or a prime) is a natural number greater than 1 that has no positive divisors other than 1 and itself.\n",
    "=\n",
    "\n",
    "p odd_not_prime(15) == 3\n",
    "p odd_not_prime(48) == 10\n",
    "p odd_not_prime(82) == 20\n",
    "\n"
   ]
  },
  {
   "cell_type": "code",
   "execution_count": 14,
   "metadata": {},
   "outputs": [
    {
     "data": {
      "text/plain": [
       "0"
      ]
     },
     "execution_count": 14,
     "metadata": {},
     "output_type": "execute_result"
    }
   ],
   "source": [
    "0**3"
   ]
  },
  {
   "cell_type": "code",
   "execution_count": 16,
   "metadata": {},
   "outputs": [
    {
     "data": {
      "text/plain": [
       "8"
      ]
     },
     "execution_count": 16,
     "metadata": {},
     "output_type": "execute_result"
    }
   ],
   "source": []
  },
  {
   "cell_type": "code",
   "execution_count": 17,
   "metadata": {},
   "outputs": [
    {
     "data": {
      "text/plain": [
       "64"
      ]
     },
     "execution_count": 17,
     "metadata": {},
     "output_type": "execute_result"
    }
   ],
   "source": [
    "4**3"
   ]
  },
  {
   "cell_type": "code",
   "execution_count": 18,
   "metadata": {},
   "outputs": [
    {
     "data": {
      "text/plain": [
       "64"
      ]
     },
     "execution_count": 18,
     "metadata": {},
     "output_type": "execute_result"
    }
   ],
   "source": [
    "4**3"
   ]
  },
  {
   "cell_type": "code",
   "execution_count": 19,
   "metadata": {},
   "outputs": [
    {
     "data": {
      "text/plain": [
       "256"
      ]
     },
     "execution_count": 19,
     "metadata": {},
     "output_type": "execute_result"
    }
   ],
   "source": [
    "4**4"
   ]
  },
  {
   "cell_type": "code",
   "execution_count": 20,
   "metadata": {},
   "outputs": [
    {
     "data": {
      "text/plain": [
       "125"
      ]
     },
     "execution_count": 20,
     "metadata": {},
     "output_type": "execute_result"
    }
   ],
   "source": [
    "5**3"
   ]
  },
  {
   "cell_type": "code",
   "execution_count": null,
   "metadata": {},
   "outputs": [],
   "source": []
  }
 ],
 "metadata": {
  "kernelspec": {
   "display_name": "Ruby 2.7.5",
   "language": "ruby",
   "name": "ruby"
  },
  "language_info": {
   "file_extension": ".rb",
   "mimetype": "application/x-ruby",
   "name": "ruby",
   "version": "2.7.5"
  },
  "orig_nbformat": 4
 },
 "nbformat": 4,
 "nbformat_minor": 2
}
