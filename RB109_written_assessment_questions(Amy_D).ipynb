{
 "cells": [
  {
   "cell_type": "markdown",
   "metadata": {},
   "source": [
    "**1. Explain what `line 9` will return and what underlying concept is being demonstrated on `lines 2-6`.**"
   ]
  },
  {
   "cell_type": "code",
   "execution_count": 2,
   "metadata": {},
   "outputs": [
    {
     "data": {
      "text/plain": [
       "\"HHeelllloo\""
      ]
     },
     "execution_count": 2,
     "metadata": {},
     "output_type": "execute_result"
    }
   ],
   "source": [
    "def repeater(string)\n",
    "  result = ''\n",
    "  string.each_char do |char|\n",
    "    result << char << char\n",
    "  end\n",
    "  result\n",
    "end\n",
    "\n",
    "repeater(\"Hello\")"
   ]
  },
  {
   "cell_type": "markdown",
   "metadata": {},
   "source": [
    "On line 9 the `repeater` method is invoked and the value `\"Hello` is passed to it.  This binds `\"Hello\"` to `string` within the `repeater` method definition.  `string` is now an alias for \"Hello\".  \n",
    "\n",
    "Lines 1-7 make up the `repeater` method defintion.   Within the method, on line 2 local variable `result` is initialized to the value `''`.  One line 3 the `String#each_char` method is called on the string object reference by the local variable `string`.  The `each_char` method passes each character of the calling string to the given `do..end` block.  The code within the block is exectuted on each element in the string.  For each iteration, `each_char` sends the value of the current character to the block in the form of an argument, in this case `char`. \n",
    "\n",
    "As the method invocation iterates over the string object assigned to `string`, on line 4, the mutating method `String#<<` is called on the string object bound to local variable `result` and the `<<` method is given the argument `char`.  This will append the value of the current character to the string object bound to `result`.  `String#<<` is called again on the return value of `result << char`.  This will once again append the value of the current character in the string to the string object assigned to `result.`  Once iteration is complete, the string object bound to `result` is implicitly returned.  \n",
    "\n",
    "\n",
    "This code demonstrates the concept of variable scope because, with the `repeater` method definition, `result` is initialized outside the block passed to `each_char`, but it is accessed within that block's scope.  This shows that local variables initialized outside of a block's scope can be accessed within the scope of a block.  The concept of mutating methods is also demonstrated in this code.  The `String#<<` method is used to change the state of the string object referenced by `result` but it does not create a new string object."
   ]
  },
  {
   "cell_type": "markdown",
   "metadata": {},
   "source": [
    "______"
   ]
  },
  {
   "cell_type": "markdown",
   "metadata": {},
   "source": [
    "**2. Explain what the concept being demonstrated in the following code is.**"
   ]
  },
  {
   "cell_type": "code",
   "execution_count": 5,
   "metadata": {},
   "outputs": [
    {
     "data": {
      "text/plain": [
       "{\"hi there\"=>\"some value\"}"
      ]
     },
     "execution_count": 5,
     "metadata": {},
     "output_type": "execute_result"
    }
   ],
   "source": [
    "x = \"hi there\"\n",
    "my_hash = { x: \"some value\" }\n",
    "my_hash2 = { x => \"some value\" }"
   ]
  },
  {
   "cell_type": "markdown",
   "metadata": {},
   "source": [
    "On line 1, the local variable `x` is initialized to a string object wit the value \"hi there\".  On line 2, the local variable `my_hash` is initialized to a hash object `{ x: \"some value\" }`.  The key in this hash is a symbol `:x` and the value is a string `\"some value:`. On line 3, the local variabel `my_hash2` is initialized to a hash object.  The key in this hash is the string object assigned to local variable `x` and the value is a string `\"some value\"`.  \n",
    "\n",
    "This code demonstrates ..."
   ]
  },
  {
   "cell_type": "markdown",
   "metadata": {},
   "source": [
    "_______"
   ]
  },
  {
   "cell_type": "markdown",
   "metadata": {},
   "source": [
    "**3. Examine the following code and explain why line 7 outputs `6`.  What underlying concept is being demonstrated?**"
   ]
  },
  {
   "cell_type": "code",
   "execution_count": 6,
   "metadata": {},
   "outputs": [
    {
     "name": "stdout",
     "output_type": "stream",
     "text": [
      "6\n"
     ]
    }
   ],
   "source": [
    "total = 0\n",
    "\n",
    "[1, 2, 3].each do |number|\n",
    "  total += number\n",
    "end\n",
    "\n",
    "puts total"
   ]
  },
  {
   "cell_type": "markdown",
   "metadata": {},
   "source": [
    "On line 1 the local variable `total` is initialized to an integer object with the value `0`.  On line 3, the `Array#each` method is called on an array object with the value `[1, 2, 3]`.  A `do..end` block is passed to `each` and `each` iterates through the calling array, passing each element to the block in the form of an argument, in this case `number`.  \n",
    "\n",
    "Within the block, the variable `total` is incremented by the value of the current element on each iteration.  On line 6 the `puts` method is invoked and passed the integer object referenced by the local variable `total`.  This will output a string representation of the integer `6` and it will return `nil` since `puts` always returns `nil.`\n",
    "\n",
    "This code demonstrates the concept of variable scope.  `total` is initialized outside of the `each` block but is accessed within the scope of that block because variables initialzied in the main scope are accessible within a block's scope.  This code also demonstrates the concept of immutability.  In Ruby, numbers are immutable. So on every iteration on the `each` invocation, `total += number` returns a new integer and binds that integer to `total`.  The integer object initially referenced by `total` is untouched.  "
   ]
  },
  {
   "cell_type": "markdown",
   "metadata": {},
   "source": [
    "______"
   ]
  },
  {
   "cell_type": "markdown",
   "metadata": {},
   "source": [
    "**4. Use the following code to explain the method `map`.**"
   ]
  },
  {
   "cell_type": "code",
   "execution_count": 13,
   "metadata": {},
   "outputs": [
    {
     "data": {
      "text/plain": [
       "[\"I like the letter: a\", \"I like the letter: b\", \"I like the letter: c\"]"
      ]
     },
     "execution_count": 13,
     "metadata": {},
     "output_type": "execute_result"
    }
   ],
   "source": [
    "def test(b)\n",
    "  b.map { |letter| \"I like the letter: #{letter}\" }\n",
    "end\n",
    "\n",
    "a = ['a', 'b', 'c']\n",
    "\n",
    "test(a)"
   ]
  },
  {
   "cell_type": "markdown",
   "metadata": {},
   "source": [
    "On line 5 the local variable `a` is initialized to an array object with the value `['a', 'b', 'c']`.  On line 7 the `test` method is invoked and the array object referenced by `a` is passed to it as an argument.  Line 1 - 3 contain the method defintion for test.  The method argument `b` is bound to the `a` within the repeater method.  `a` and `b` are both aliases for the array object `['a', 'b', 'c']`.  \n",
    "\n",
    "On line 2 the `map` method is called on the array object referenced by the local variable `b`.  A block, defined by the `{}` is passed to the `map` method call.  The `map` method iterates through each element of the calling array and passed current element to the block in the form of an argument, in this case `letter`.  `map` considers the return value of the last line in evaluated in the block to perform transformation.  It takes the block's return value and places it in a new array.  The block is using string interpolation to insert the current element of the calling array into a string with the value \"I like the letter:\".  \n",
    "\n",
    "Therefore, the `test` method call on line 7 will return the new array: \n",
    "`[\"I like the letter: a\", \"I like the letter: b\", \"I like the letter: c\"]`"
   ]
  },
  {
   "cell_type": "markdown",
   "metadata": {},
   "source": [
    "_____"
   ]
  },
  {
   "cell_type": "markdown",
   "metadata": {},
   "source": [
    "**5. Explain what line 5 will return and what concept this demonstrates.**"
   ]
  },
  {
   "cell_type": "code",
   "execution_count": 18,
   "metadata": {},
   "outputs": [
    {
     "data": {
      "text/plain": [
       "false"
      ]
     },
     "execution_count": 18,
     "metadata": {},
     "output_type": "execute_result"
    }
   ],
   "source": [
    "def include?(arr, search_item)\n",
    "  !arr.each { |item| return true if item == search_item }\n",
    "end\n",
    "\n",
    "include?([1, 2, 3, 4, 5], 6)"
   ]
  },
  {
   "cell_type": "markdown",
   "metadata": {},
   "source": [
    "On line 5 the `include?` method is invoked and the array object with the value `[1, 2, 3, 4, 5]` and the integer object with the value `6` are passed to it.  Lines 1 - 3 contain `include?` method definition.  The `arr` argument is bound to the array object `[1, 2, 3, 4, 5]` and the `search_item` argument is bound to the integer object `6`.  \n",
    "\n",
    "On line 2, `each` is called on the array object referenced by `arr` and a block is passed to the method call.  The `each` method iterates through the calling collection and passed the current element to the block in the form of an argument, in this case `item`.  `each` does not consider the return value of the block but, instead, returns the original collection.  Therefore,  the return value of `arr.each { |item| return true if item == search_item }` will be `[1, 2, 3, 4, 5]`.  In ruby, prepending the `!` or bang operator to an object negates it, which means it forces it into a boolean context and then it is negated.  So `[1, 2, 3, 4, 5]` evaluates as `true` because everything in Ruby are truthy with the excpetion of `false` and `nil`.  And then the boolean value is negated, so ultimately it returns `false`.  \n",
    "\n",
    "This code demonstrates the concept of `each` returning the collection that is is invoked by.  It also demonstrates the concept of truthiness because every value evalutes to `true` except for `false` and `nil`.  So `[1, 2, 3, 4, 5]` evaluates as `true` before it is negated by the `!` operator."
   ]
  },
  {
   "cell_type": "markdown",
   "metadata": {},
   "source": [
    "**6. What will line 9 return and what concept is this demonstrating?**"
   ]
  },
  {
   "cell_type": "code",
   "execution_count": 21,
   "metadata": {},
   "outputs": [
    {
     "data": {
      "text/plain": [
       "\"abcdefghabc\""
      ]
     },
     "execution_count": 21,
     "metadata": {},
     "output_type": "execute_result"
    }
   ],
   "source": [
    "def short_long_short(string1, string2)\n",
    "  if string1.length > string2.length\n",
    "    string2 + string1 + string2\n",
    "  else\n",
    "    string1 + string2 + string1\n",
    "  end\n",
    "end\n",
    "\n",
    "c = short_long_short('abc', 'defgh')"
   ]
  },
  {
   "cell_type": "markdown",
   "metadata": {},
   "source": [
    "The `short_lon_short` method is called on line 9 with the `\"abc\"` and `\"defg\"` passed as arguments.  Lines 1 - 7 contain `short_long_short`'s method definition.  The `string1` argument is bound to the string object with the value `abc` and the `string2` is bound to the string onbject `defg`.  On line 2, the `length` method is called on the string object referenced by `string1.`  This will return the legth of the string.  The `Integer#>` is then called on this return value and compared to the string length of the string objecgt referenced by `string2`.  \n",
    "\n",
    "If the length of the string object assigned to `string1` is greater than the length of the string object assigned to `string2`, then the `if` statement will evaluate to `true` and the code on line 3 is executed.  This code concatenates the value of the string object bound to `string2` to the value of the string object bound to `string1` and then concatenates this new string to the value of the string object bound to `string2`.  Otherwise, the code on line `5` will be executed, which concatenates the value of the string object bound to `string1` to the value of the string object bound to `string2` and the concatenates this new string to the value of the string object bound to `string1`.\n",
    "\n",
    "The method call on line 9 will return a new string object with the value`abcdefgabc` because the length of `string1` is less than the length of `defg`, so the method returns the resutl of `string1 + string2 + string1`.  \n",
    "\n",
    "This code demonstrates the concept of a pass by value object passing strategy.  With pass by value, a copy of the object is created and gets passed around.  Since it is merely a copy, it is impossible to change the original object.  Within the `short_long_short` method, the `String#+` method is used which is a non-mutating method.  This method creates a copy of the argument string without mutating the original object.  Therefore, the object ID of the string returned on line 9 will be different than the object ID of either argument string.  "
   ]
  },
  {
   "cell_type": "markdown",
   "metadata": {},
   "source": [
    "_____"
   ]
  },
  {
   "cell_type": "markdown",
   "metadata": {},
   "source": [
    "**7. Using the following code, explain how the method `each` functions.**"
   ]
  },
  {
   "cell_type": "code",
   "execution_count": null,
   "metadata": {},
   "outputs": [],
   "source": [
    "[1, 2, 3].each do |num|\n",
    "  puts num\n",
    "end"
   ]
  },
  {
   "cell_type": "markdown",
   "metadata": {},
   "source": [
    "On line 1 the `each` method is called on the array object `[1, 2, 3]`.  A `do..end` block is passed to the method call.  The `each` method passes each element of the calling collection to the block in the form of an argument.  Since `each` is being called on an array, it knows that there is only one element per iteration, so it send the block only one argument, `num`.  On each iteration, the code within the block is executed on current element.  The `each` method does not consider the block's return value.  It returns the calling collection.  The `each` method will disregard the block's returning `nil` on every iteration as a result of the `puts` method invocation.  This code will output a string representation of each integer element in the calling array as a result of the `puts` method call."
   ]
  },
  {
   "cell_type": "markdown",
   "metadata": {},
   "source": [
    "____"
   ]
  },
  {
   "cell_type": "markdown",
   "metadata": {},
   "source": [
    "**8. Explain what line 9 outputs and is the underlying concept.**"
   ]
  },
  {
   "cell_type": "code",
   "execution_count": 23,
   "metadata": {},
   "outputs": [
    {
     "name": "stdout",
     "output_type": "stream",
     "text": [
      "1\n",
      "2\n"
     ]
    }
   ],
   "source": [
    "a = 1\n",
    "\n",
    "loop do\n",
    "  puts a\n",
    "  a = a + 1\n",
    "  break\n",
    "end\n",
    "\n",
    "puts a"
   ]
  },
  {
   "cell_type": "markdown",
   "metadata": {},
   "source": [
    "On line 1, the local variable `a` is initialized to an integer object with the value `1`.  On line 3 the `loop` method is invoked and it is passed a `do..end` block.  Within the block, on line 4, the `puts` method is called with `a` passed in as an argument.  On line 5, the `Integer#+` method is called on the integer object referenced by `a` and `1` is passed in as an argument.  This increments the  value of the integer assigned to `a` by 1 and creates a new integer which is then bound to `a`.  `a` now points to a different space in memoty then it did initially.  On line 6 a break statement is executed which exits the loop.  The `puts` method call on line 9 will output `2` since `a` was reassigned within the loop.  \n",
    "\n",
    "This code demonstrates the concept of local variable scope because `a` was initialized outside the `loop` block's scope but was accessible within the block's inner scope.  It also shows how you can change variables from an inner scope and have that change affect the outer scope. This also demonstrates the immutability of integer objects in Ruby.  `a` originally points to an integer object with the value `1`.  It is then reassinged within the loop and bound to a new integer object.  The original integer object is not mutated or changed in any way."
   ]
  },
  {
   "cell_type": "markdown",
   "metadata": {},
   "source": [
    "_____"
   ]
  },
  {
   "cell_type": "markdown",
   "metadata": {},
   "source": [
    "**9. Examine the code below.  What is the return value of line 7 and what is the underlying concept demonstrated on lines 3-5?**"
   ]
  },
  {
   "cell_type": "code",
   "execution_count": 24,
   "metadata": {},
   "outputs": [
    {
     "name": "stdout",
     "output_type": "stream",
     "text": [
      "[false, true, true, true, true, true, true, true, true, true]\n"
     ]
    },
    {
     "data": {
      "text/plain": [
       "[false, true, true, true, true, true, true, true, true, true]"
      ]
     },
     "execution_count": 24,
     "metadata": {},
     "output_type": "execute_result"
    }
   ],
   "source": [
    "arr = [1, 2, 3, 4, 5, 6, 7, 8, 9, 10]\n",
    "\n",
    "new_array = arr.map do |n|\n",
    "  n > 1\n",
    "end\n",
    "\n",
    "p new_array"
   ]
  },
  {
   "cell_type": "markdown",
   "metadata": {},
   "source": [
    "On line 1 the local variable `arr` is initiailized to the value `[1, 2, 3, 4, 5, 6, 7, 8, 9, 10]`.  On line 3 the local variable `new_arr` is initialized to the return value of the `map` method call on the array object referenced by `arr`.  The `map` method passes each element in the calling collection to the block in the form of an argument.  `map` knows that the array only has one element per iteration, so its sends the block only one argument, `n`.  \n",
    "\n",
    "The code within the block is executed on the current element on each iteration.  In this code, the `Integer#>` method is called on the current element and `1` is passed to the method as an argument.  The block will return the result of the comparison; if the current elemnent is greater than `1` it will return `true`, otherwise it will return `false`.  `map` will take the block's return value and place it in a new array.  The `p` method is called on line 9 and `new_array` is passed as an argument.  This will return `[false, true, true, true, true, true, true, true, true]`\n",
    "\n",
    "This code demonstrates that the `map` method only considers the block's return value for transformation; it does not look at the truthiness of the return value like `select` does.  It also shows that the `map` will always return a new array because it is a non-destructive or non-mutating method."
   ]
  },
  {
   "cell_type": "markdown",
   "metadata": {},
   "source": [
    "_____"
   ]
  },
  {
   "cell_type": "markdown",
   "metadata": {},
   "source": [
    "**10. What do lines 9, 10, and 11 output and what are the underlying concepts influencing this behavior?**"
   ]
  },
  {
   "cell_type": "code",
   "execution_count": 27,
   "metadata": {},
   "outputs": [
    {
     "name": "stdout",
     "output_type": "stream",
     "text": [
      "[\"Jello\", \"world\"]\n"
     ]
    },
    {
     "data": {
      "text/plain": [
       "[\"Jello\", \"world\"]"
      ]
     },
     "execution_count": 27,
     "metadata": {},
     "output_type": "execute_result"
    }
   ],
   "source": [
    "def merge(array_1, array_2)\n",
    "  array_1 | array_2\n",
    "end\n",
    "\n",
    "arr1, arr2 = ['hello'], ['hello', 'world']\n",
    "merged = merge(arr1, arr2)\n",
    "merged[0][0] = 'J' \n",
    "\n",
    "p merged \n",
    "p arr1  \n",
    "p arr2 "
   ]
  },
  {
   "cell_type": "markdown",
   "metadata": {},
   "source": [
    "On line 5 the local variables `arr1` and `arr2` are initialized to array objects with the values `['hello']` and `['hello', 'world']`, respectively.  This is an example of multiple assignment.  On line 6 the local variable `merged` is initialized to the return value of calling `merged` on the array objects referenced by `arr1` and `arr2`.  \n",
    "\n",
    "Lines 1 - 3 contain the method definition for the `merge` method.  In this code, the argument `array_1` is bound to the array object assigned to `arr1` and the argument `array_2` is bound to the array object assigned to `arr2`.  Within the method, the Set union operator `|` is used to join the object assigned to `array_1` to the object assigned to `array_2`.  This returns a new array which excludes duplicates.  \n",
    "\n",
    "Therefore, the `merge` method call on line 6 will returns `['hello', 'world']` and this new object will be assigned to `merged.` On line 7 element reference is used to access the first string in the array object assigned to `merged`, `\"hello\"`.  Then, indexed assignment is used to update the string value at the first index position of `\"Hello\"`. After this, the first element in `merged` will be `\"Jello\"`.   \n",
    "\n",
    "The `p` method call on line 9 will output `[\"Jello\", \"world\"]`.  The `p` method call on lines 10 and 11 will output `['hello']` and `['hello', 'world']`.\n",
    "\n",
    "- pass by value object passing strategy\n",
    "- Indexed assignment is a mutating method\n",
    "- mutability of strings\n",
    "..."
   ]
  },
  {
   "cell_type": "markdown",
   "metadata": {},
   "source": []
  }
 ],
 "metadata": {
  "kernelspec": {
   "display_name": "Ruby 2.7.5",
   "language": "ruby",
   "name": "ruby"
  },
  "language_info": {
   "file_extension": ".rb",
   "mimetype": "application/x-ruby",
   "name": "ruby",
   "version": "2.7.5"
  },
  "orig_nbformat": 4,
  "vscode": {
   "interpreter": {
    "hash": "aee8b7b246df8f9039afb4144a1f6fd8d2ca17a180786b69acc140d282b71a49"
   }
  }
 },
 "nbformat": 4,
 "nbformat_minor": 2
}
