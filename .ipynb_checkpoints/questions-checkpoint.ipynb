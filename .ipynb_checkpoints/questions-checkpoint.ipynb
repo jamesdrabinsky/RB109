{
 "cells": [
  {
   "cell_type": "markdown",
   "id": "ce4a3d2b-d51d-47dc-b3c6-65c4c3c55ce6",
   "metadata": {},
   "source": [
    "<b>\n",
    "    \n",
    "```ruby\n",
    "1 a = 5\n",
    "2 puts a\n",
    "```\n",
    "    \n",
    "</b>\n",
    "<br>\n",
    "Is it:\n",
    "\n",
    "- The `puts` method is invoked and the local variable `a` is passed to it as an argument.\n",
    "\n",
    "OR \n",
    "\n",
    "- The `puts` method is invoked and integer object assigned to local variable `a` is passed to it as an argument"
   ]
  },
  {
   "cell_type": "markdown",
   "id": "d6bb2b32-8774-448e-8dfc-0269b7ea03ef",
   "metadata": {},
   "source": [
    "_____"
   ]
  },
  {
   "cell_type": "code",
   "execution_count": null,
   "id": "d4beefba-e862-4283-b3d1-d8333ba00ea0",
   "metadata": {},
   "outputs": [],
   "source": [
    "a = 4\n",
    "\n",
    "loop do\n",
    "  a = 5\n",
    "  b = 3\n",
    "  break\n",
    "end\n",
    "\n",
    "puts a\n",
    "puts b"
   ]
  },
  {
   "cell_type": "markdown",
   "id": "aba2624f-31ad-4202-9a48-1a227d567bfa",
   "metadata": {},
   "source": [
    "What does the last line return if an error message is output?"
   ]
  },
  {
   "cell_type": "markdown",
   "id": "49c98e88-7707-4181-8d83-539a02a3ab7f",
   "metadata": {},
   "source": [
    "_____"
   ]
  },
  {
   "cell_type": "code",
   "execution_count": null,
   "id": "1dfa5ce3-d83d-4acf-9393-bd4f16f38bf4",
   "metadata": {},
   "outputs": [],
   "source": [
    "2.times do\n",
    "  a = 'hi'\n",
    "  puts a \n",
    "end\n",
    "\n",
    "loop do \n",
    "  puts a # Does the code run beyond this error?\n",
    "  break\n",
    "end\n",
    "\n",
    "puts a "
   ]
  },
  {
   "cell_type": "markdown",
   "id": "2815b238-55cd-4d6e-b020-f6be464cfb49",
   "metadata": {},
   "source": [
    "_____"
   ]
  },
  {
   "cell_type": "code",
   "execution_count": null,
   "id": "65bb1af6-a562-4cbc-b4c2-82e9fc5bfb9f",
   "metadata": {},
   "outputs": [],
   "source": []
  }
 ],
 "metadata": {
  "kernelspec": {
   "display_name": "Ruby 2.7.5",
   "language": "ruby",
   "name": "ruby"
  },
  "language_info": {
   "file_extension": ".rb",
   "mimetype": "application/x-ruby",
   "name": "ruby",
   "version": "2.7.5"
  }
 },
 "nbformat": 4,
 "nbformat_minor": 5
}
