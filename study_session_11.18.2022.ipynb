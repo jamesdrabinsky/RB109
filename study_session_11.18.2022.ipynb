{
 "cells": [
  {
   "cell_type": "code",
   "execution_count": 1,
   "metadata": {},
   "outputs": [],
   "source": [
    "# Find the missing letter\n",
    "# Write a method that takes an array of consecutive (increasing) letters as input and that returns the missing letter in the array.\n",
    "#\n",
    "# You will always get an valid array. And it will be always exactly one letter be missing. The length of the array will always be at least 2.\n",
    "#\n",
    "# The array will always contain letters in only one case.\n",
    "\n",
    "# Example:\n",
    "#\n",
    "# ['a','b','c','d','f'] -> 'e'\n",
    "# ['O','Q','R','S'] -> 'P'\n",
    "\n",
    "# Use the English alphabet with 26 letters."
   ]
  },
  {
   "cell_type": "markdown",
   "metadata": {},
   "source": [
    "P:\n",
    "    Input: arr\n",
    "    Output: str\n",
    "\n",
    "    Explicit requirements:\n",
    "         -  consecutive (increasing) letters\n",
    "         - Return the letter that is missing\n",
    "\n",
    "D:\n",
    "    Input: arr\n",
    "    Output: str\n",
    "\n",
    "A:\n",
    "    - Convert all letters to numbers and get sum\n",
    "    - Get sum of range from starting number to length of array\n",
    "    - Subtract second sum from first\n",
    "    - Return the result"
   ]
  },
  {
   "cell_type": "code",
   "execution_count": 26,
   "metadata": {},
   "outputs": [
    {
     "data": {
      "text/plain": [
       ":find_missing_letter"
      ]
     },
     "execution_count": 26,
     "metadata": {},
     "output_type": "execute_result"
    }
   ],
   "source": [
    "def find_missing_letter(arr)\n",
    "  real_range = [*arr[0]..arr[-1]]\n",
    "  (real_range - arr)[0]\n",
    "end"
   ]
  },
  {
   "cell_type": "code",
   "execution_count": 27,
   "metadata": {},
   "outputs": [],
   "source": [
    "# def find_missing_letter(arr)\n",
    "#   num_arr = arr.map(&:ord)\n",
    "#   real_range = [*num_arr[0]..(num_arr[0] + arr.size)]\n",
    "#   ((real_range - num_arr)[0]).chr\n",
    "# end"
   ]
  },
  {
   "cell_type": "code",
   "execution_count": 28,
   "metadata": {},
   "outputs": [
    {
     "name": "stdout",
     "output_type": "stream",
     "text": [
      "true\n",
      "true\n",
      "true\n",
      "true\n",
      "true\n"
     ]
    },
    {
     "data": {
      "text/plain": [
       "true"
      ]
     },
     "execution_count": 28,
     "metadata": {},
     "output_type": "execute_result"
    }
   ],
   "source": [
    "p find_missing_letter([\"a\",\"b\",\"c\",\"d\",\"f\"]) == \"e\"\n",
    "p find_missing_letter([\"O\",\"Q\",\"R\",\"S\"]) == \"P\"\n",
    "p find_missing_letter([\"b\",\"d\"]) == \"c\"\n",
    "p find_missing_letter([\"a\",\"b\",\"d\"]) == \"c\"\n",
    "p find_missing_letter([\"b\",\"d\",\"e\"]) == \"c\""
   ]
  },
  {
   "cell_type": "code",
   "execution_count": null,
   "metadata": {},
   "outputs": [],
   "source": [
    "# A substring is a contiguous (non-empty) sequence of characters within a string.\n",
    "  \n",
    "# A vowel substring is a substring that only consists of vowels ('a', 'e', 'i', 'o', and 'u') and has all five vowels present in it.\n",
    "  \n",
    "# Given a string word, return the number of vowel substrings in word."
   ]
  },
  {
   "cell_type": "markdown",
   "metadata": {},
   "source": [
    "P:\n",
    "    Input: str\n",
    "    Output: integer\n",
    "\n",
    "    Explicit requirements:\n",
    "        - Given a string\n",
    "        - Return the number of vowel substrings\n",
    "        - aeiou\n",
    "\n",
    "D:\n",
    "    Input: str\n",
    "    Output: integer\n",
    "\n",
    "A:\n",
    "    - initialize max as 0\n",
    "    - Iterate through a range from 0 to string.size - 1 |idx1|\n",
    "        - Iterate through a range from idx1 + 4 to string.size = 1 |idx2|\n",
    "             - For each substring check if all vowels are incuded in the substring\n",
    "             - if the substring length is greater than max then max = substring length\n",
    "    - return max"
   ]
  },
  {
   "cell_type": "code",
   "execution_count": 74,
   "metadata": {},
   "outputs": [
    {
     "data": {
      "text/plain": [
       ":count_vowel_substrings"
      ]
     },
     "execution_count": 74,
     "metadata": {},
     "output_type": "execute_result"
    }
   ],
   "source": [
    "def substring?(string)\n",
    "  string.chars.all? { |char| char =~ /[aeiou]/ } &&\\\n",
    "  %w[a e i o u].all? { |vowel| string.chars.include?(vowel) }\n",
    "end\n",
    "\n",
    "def count_vowel_substrings(string)\n",
    "  count = 0\n",
    "\n",
    "  (0...string.size).each do |idx1|\n",
    "    (idx1 + 4...string.size).each do |idx2|\n",
    "      current_str = string[idx1..idx2]\n",
    "      count += 1 if substring?(current_str)\n",
    "    end\n",
    "  end\n",
    "  count\n",
    "end"
   ]
  },
  {
   "cell_type": "code",
   "execution_count": 75,
   "metadata": {},
   "outputs": [
    {
     "name": "stdout",
     "output_type": "stream",
     "text": [
      "true\n",
      "true\n",
      "true\n",
      "true\n"
     ]
    },
    {
     "data": {
      "text/plain": [
       "true"
      ]
     },
     "execution_count": 75,
     "metadata": {},
     "output_type": "execute_result"
    }
   ],
   "source": [
    "p count_vowel_substrings(\"abcde\") == 0\n",
    "p count_vowel_substrings(\"cuaieuouac\") == 7\n",
    "p count_vowel_substrings(\"aeiouu\") == 2\n",
    "p count_vowel_substrings(\"unicornarihan\") == 0"
   ]
  }
 ],
 "metadata": {
  "kernelspec": {
   "display_name": "Ruby 2.7.5",
   "language": "ruby",
   "name": "ruby"
  },
  "language_info": {
   "file_extension": ".rb",
   "mimetype": "application/x-ruby",
   "name": "ruby",
   "version": "2.7.5"
  },
  "orig_nbformat": 4
 },
 "nbformat": 4,
 "nbformat_minor": 2
}
