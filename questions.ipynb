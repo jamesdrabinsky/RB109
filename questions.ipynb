{
 "cells": [
  {
   "cell_type": "markdown",
   "id": "ce4a3d2b-d51d-47dc-b3c6-65c4c3c55ce6",
   "metadata": {},
   "source": [
    "<b>\n",
    "    \n",
    "```ruby\n",
    "1 a = 5\n",
    "2 puts a\n",
    "```\n",
    "    \n",
    "</b>\n",
    "<br>\n",
    "Is it:\n",
    "\n",
    "- The `puts` method is invoked and the local variable `a` is passed to it as an argument.\n",
    "\n",
    "OR \n",
    "\n",
    "- The `puts` method is invoked and integer object assigned to local variable `a` is passed to it as an argument"
   ]
  },
  {
   "cell_type": "markdown",
   "id": "d6bb2b32-8774-448e-8dfc-0269b7ea03ef",
   "metadata": {},
   "source": [
    "_____"
   ]
  },
  {
   "cell_type": "code",
   "execution_count": null,
   "id": "d4beefba-e862-4283-b3d1-d8333ba00ea0",
   "metadata": {},
   "outputs": [],
   "source": [
    "a = 4\n",
    "\n",
    "loop do\n",
    "  a = 5\n",
    "  b = 3\n",
    "  break\n",
    "end\n",
    "\n",
    "puts a\n",
    "puts b"
   ]
  },
  {
   "cell_type": "markdown",
   "id": "aba2624f-31ad-4202-9a48-1a227d567bfa",
   "metadata": {},
   "source": [
    "What does the last line return if an error message is output?"
   ]
  },
  {
   "cell_type": "markdown",
   "id": "49c98e88-7707-4181-8d83-539a02a3ab7f",
   "metadata": {},
   "source": [
    "_____"
   ]
  },
  {
   "cell_type": "code",
   "execution_count": null,
   "id": "1dfa5ce3-d83d-4acf-9393-bd4f16f38bf4",
   "metadata": {},
   "outputs": [],
   "source": [
    "2.times do\n",
    "  a = 'hi'\n",
    "  puts a \n",
    "end\n",
    "\n",
    "loop do \n",
    "  puts a # Does the code run beyond this error?\n",
    "  break\n",
    "end\n",
    "\n",
    "puts a "
   ]
  },
  {
   "cell_type": "markdown",
   "id": "2815b238-55cd-4d6e-b020-f6be464cfb49",
   "metadata": {},
   "source": [
    "_____"
   ]
  },
  {
   "cell_type": "code",
   "execution_count": 1,
   "id": "c2613c66-d9d0-4e8f-93a2-9ff123764e72",
   "metadata": {},
   "outputs": [
    {
     "name": "stdout",
     "output_type": "stream",
     "text": [
      "Hello\n",
      "Goodbye\n"
     ]
    }
   ],
   "source": [
    "def greetings(str)\n",
    "  puts str\n",
    "  puts \"Goodbye\"\n",
    "end\n",
    "\n",
    "word = \"Hello\"\n",
    "\n",
    "greetings(word)"
   ]
  },
  {
   "cell_type": "markdown",
   "id": "2d2796be-b3de-4c63-8b80-0895be94a928",
   "metadata": {},
   "source": [
    "What does this demonstrate??"
   ]
  },
  {
   "cell_type": "markdown",
   "id": "f1a63318-70e2-4272-94e0-39336c6bb25b",
   "metadata": {},
   "source": [
    "______"
   ]
  },
  {
   "cell_type": "markdown",
   "id": "a9f7623d-dffd-4f23-b429-12720d4aa54a",
   "metadata": {},
   "source": [
    "Does break exit of `loop` or out of the block?"
   ]
  },
  {
   "cell_type": "markdown",
   "id": "ff8366de-d2f8-462a-a9b3-34c80739f2fc",
   "metadata": {},
   "source": [
    "_____"
   ]
  },
  {
   "cell_type": "code",
   "execution_count": null,
   "id": "ce0a8282-b2ea-40db-8e9a-50633abd0b99",
   "metadata": {},
   "outputs": [],
   "source": [
    "animal = \"dog\"\n",
    "\n",
    "loop do |animal|\n",
    "  animal = \"cat\"\n",
    "  break\n",
    "end\n",
    "\n",
    "puts animal"
   ]
  },
  {
   "cell_type": "markdown",
   "id": "f146a751-ecc0-414c-a768-9fbe3e386473",
   "metadata": {},
   "source": [
    "Does this also demonstrate local variable scope?"
   ]
  },
  {
   "cell_type": "markdown",
   "id": "a793b2d2-dcd9-4318-b87e-82b081516ff1",
   "metadata": {},
   "source": [
    "_____"
   ]
  },
  {
   "cell_type": "code",
   "execution_count": null,
   "id": "912c78d0-b1f2-4f31-acbd-d1d797e45148",
   "metadata": {},
   "outputs": [],
   "source": [
    "arr = [1, 2, 3]\n",
    "\n",
    "arr.map do |el|\n",
    "  el = \n",
    "end"
   ]
  },
  {
   "cell_type": "markdown",
   "id": "8256b40b-7e08-4e59-9796-2386fcad6d1d",
   "metadata": {},
   "source": [
    "- A block parameter when it's designated\n",
    "- It is a local variable in the body of the block."
   ]
  },
  {
   "cell_type": "markdown",
   "id": "b6731ffb-5501-475a-8b4c-ff4c8ebcf599",
   "metadata": {},
   "source": [
    "_____"
   ]
  },
  {
   "cell_type": "code",
   "execution_count": null,
   "id": "1d668cc3-ad97-4909-a537-ff03c4216572",
   "metadata": {},
   "outputs": [],
   "source": [
    "a = 'hello'\n",
    "\n",
    "def some_method(arg)\n",
    "  arg = 'goodbye'\n",
    "  arg.upcase!\n",
    "end\n",
    "\n",
    "b = some_method(a)"
   ]
  },
  {
   "cell_type": "markdown",
   "id": "e07940e9-6971-412e-b8d1-56900f454a39",
   "metadata": {},
   "source": [
    "Does the body of the method change the value of the original object that was passed to the method invocation.  "
   ]
  },
  {
   "cell_type": "markdown",
   "id": "d67de70a-ebc2-4f9f-b4af-1dcf00519954",
   "metadata": {},
   "source": [
    "_____"
   ]
  },
  {
   "cell_type": "markdown",
   "id": "27112c7e-2831-40b6-8116-784293322788",
   "metadata": {},
   "source": [
    "Look up definition of string interpolation in Ruby."
   ]
  },
  {
   "cell_type": "markdown",
   "id": "97a9b9f8-450e-482f-b7c6-9525998b8538",
   "metadata": {},
   "source": [
    "Look up definition of method chaining"
   ]
  },
  {
   "cell_type": "code",
   "execution_count": null,
   "id": "ec2a4256-610a-4fb7-8c16-9c749e6739cf",
   "metadata": {},
   "outputs": [],
   "source": []
  }
 ],
 "metadata": {
  "kernelspec": {
   "display_name": "Ruby 2.7.5",
   "language": "ruby",
   "name": "ruby"
  },
  "language_info": {
   "file_extension": ".rb",
   "mimetype": "application/x-ruby",
   "name": "ruby",
   "version": "2.7.5"
  }
 },
 "nbformat": 4,
 "nbformat_minor": 5
}
