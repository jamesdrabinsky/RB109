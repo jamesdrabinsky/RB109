{
 "cells": [
  {
   "cell_type": "markdown",
   "id": "18719c9a-1c19-4302-bdf7-091fa1b01d03",
   "metadata": {},
   "source": [
    "# Variable Scope"
   ]
  },
  {
   "cell_type": "code",
   "execution_count": 1,
   "id": "c3dcdc0b-1530-4221-98c0-2e0b8042bdf9",
   "metadata": {},
   "outputs": [
    {
     "name": "stdout",
     "output_type": "stream",
     "text": [
      "[1, 2, 3, 4, 5, 6, 7, 8, 9, 10]\n"
     ]
    },
    {
     "data": {
      "text/plain": [
       "[1, 2, 3, 4, 5, 6, 7, 8, 9, 10]"
      ]
     },
     "execution_count": 1,
     "metadata": {},
     "output_type": "execute_result"
    }
   ],
   "source": [
    "arr = [1, 2, 3, 4, 5, 6, 7, 8, 9, 10]\n",
    "\n",
    "new_array = arr.select do |n| \n",
    " n + 1\n",
    "end\n",
    "\n",
    "p new_array"
   ]
  },
  {
   "cell_type": "markdown",
   "id": "cce52e25-fb96-4569-8593-831dd893cc70",
   "metadata": {
    "jupyter": {
     "source_hidden": true
    },
    "tags": []
   },
   "source": [
    "On line 1 the local variable `arr` is initialized to an array object with the value `[1, 2, 3, 4, 5, 6, 7, 8, 9, 10]`.  On line 3 the local variable `new_array` is initialized to the return value of invoking `Array#select` on the object referenced by local variable `arr`.  A `do..end` block is passed to the `select` method call as an argument spanning lines 3 - 5.  Each element from the calling array is passed to the block in the form of an argument, in this case `n`.  \n",
    "\n",
    "Within the block, `Integer#+` is called on the current element with 1 passed as an argument.  This will return the current integer incremented by 1.  `#select` considers the truthiness of the block's return value.  The block's return value will be truthy on every iteration because `n + 1` will always return an integer, which evaluates as true.  Therefore, `select` will select every element in the original array and return it in a new array.  \n",
    "\n",
    "`#p` is invoked on line 7 which will output and return `[1, 2, 3, 4, 5, 6, 7, 8, 9, 10]`.  \n",
    "\n",
    "This code demonstrates the concept of truthiness and how all objects in Ruby evaluate as true with the exception of `nil` and `false`.  "
   ]
  },
  {
   "cell_type": "code",
   "execution_count": 3,
   "id": "59e2c435-02fe-4a1c-aa54-e692f8f3df4c",
   "metadata": {},
   "outputs": [
    {
     "name": "stdout",
     "output_type": "stream",
     "text": [
      "Goodbye\n",
      "Hello\n"
     ]
    }
   ],
   "source": [
    "a = \"Hello\"\n",
    "b = a\n",
    "a = \"Goodbye\"\n",
    "\n",
    "puts a\n",
    "puts b"
   ]
  },
  {
   "cell_type": "markdown",
   "id": "d36745c0-df38-467c-bf35-147774fd02c9",
   "metadata": {
    "jupyter": {
     "source_hidden": true
    },
    "tags": []
   },
   "source": [
    "Local variable `a` is initialized on line 1 to a string object with the value \"Hello\".  Local variable `b` is initialized on line 2 to the string object referenced by local variable `a`.  Local variable `a` is reassinged to a string object with the value \"Goodbye\".  \n",
    "\n",
    "`#puts` is invoked on line 5 and the object referenced by local variable `a` passed in as an argument.  Because `a` was reassigned to point to a different string object on line 3, this method call will output \"Goodbye\".  `#puts` is invoked on line 6 and the object referenced by local variable `b` passed in as an argument.  Local variable `b` is still pointing to the original string that local variable `a` was assigned to, so this method call will output \"Hello\".  `puts b` is the last evaluated line so this code will return `nil`.\n",
    "\n",
    "This code demonstrates the concept of variable as pointers.  After local variable `b` was initialized on line 2 both `a` and `b` pointed to the same object, but when `a` was reassigned on line 3, the two variables pointed to different object or spaces in memory.  "
   ]
  },
  {
   "cell_type": "code",
   "execution_count": 1,
   "id": "0334224d-1c29-4f2d-bd0e-1024f5f04630",
   "metadata": {},
   "outputs": [
    {
     "name": "stdout",
     "output_type": "stream",
     "text": [
      "5\n"
     ]
    },
    {
     "ename": "NameError",
     "evalue": "undefined local variable or method `b' for #<Object:0x00007fb48b891c40>",
     "output_type": "error",
     "traceback": [
      "\u001b[31mNameError\u001b[0m: undefined local variable or method `b' for #<Object:0x00007fb48b891c40>",
      "(irb):9:in `irb_binding'"
     ]
    }
   ],
   "source": [
    "a = 4\n",
    "\n",
    "loop do\n",
    "  a = 5\n",
    "  b = 3\n",
    "  break\n",
    "end\n",
    "\n",
    "puts a\n",
    "puts b"
   ]
  },
  {
   "cell_type": "markdown",
   "id": "1e60fe58-f1ce-4be5-a2da-6c8731589c34",
   "metadata": {
    "jupyter": {
     "source_hidden": true
    },
    "tags": []
   },
   "source": [
    "On line 1 local variable `a` is initialized on line 1 to an integer object with the value 4.  The `#loop` method is invoked on line 3 and a `do..end` block is passed in as an argument spanning lines 3 - 7.  Within the block's scope, local variable `a` is reassigned to a new string object with the value 5 and local variable `b` is intialized to a string object with value 3.  The `break` keyword on line 6 is used to exit the loop.  \n",
    "\n",
    "On line 9 the `#puts` method invocation with the object referenced by local variable `a` will output 5 and return `nil`.  On line 10 the `#puts` method invocation with the object referenced by local variable `b` will output a `NameError` message.  \n",
    "\n",
    "This code demonstrates the concept of local variable scope.  Variables initialized in the outer scope can be accessed inside a block's scope, but variables initialized inside a block's scope cannot be accessed in the outer scope.  In this code, we are able to reassign local variable `a` because it was initialized outside the block's scope.  However, we are not able to access local variable `b` and pass it as an argument to `#puts` because it was initialized inside the block's scope.  "
   ]
  },
  {
   "cell_type": "code",
   "execution_count": 1,
   "id": "76047363-77ac-4573-aaa7-a4c9643e0393",
   "metadata": {},
   "outputs": [
    {
     "name": "stdout",
     "output_type": "stream",
     "text": [
      "3\n",
      "2\n"
     ]
    }
   ],
   "source": [
    "a = 4\n",
    "b = 2\n",
    "\n",
    "loop do\n",
    "  c = 3\n",
    "  a = c\n",
    "  break\n",
    "end\n",
    "\n",
    "puts a\n",
    "puts b"
   ]
  },
  {
   "cell_type": "markdown",
   "id": "93300ae2-6e8e-44dd-9ca2-e416a587ec0f",
   "metadata": {
    "jupyter": {
     "source_hidden": true
    },
    "tags": []
   },
   "source": [
    "Local variables `a` and `b` are intialized on lines 1 and 2 to integer objects with the values 4 and 2, respectively.  The `#loop` method is invoked on line 4 with a `do..end` block passed in as an argument spanning lines 4 - 8.  Inside the block's scope, local variable `c` is initialized to an integer object with the value 3 and local variable `a` is reassigned to the integer object referenced by local variable `c`.  The `break` keyword is used on line 7 to exit out of the loop.  \n",
    "\n",
    "The `#puts` method invocation on line 10 with the object referenced by local variable `a` passed in as an argument will output 3 and return `nil`.  The `#puts` method invocation on line 11 with the object referenced by local variable `b` passed in as an argument will output 2 and return `nil`.  \n",
    "\n",
    "This code demonstrates the concept of local variable scope.  Variables intialized in the outer scope can be access inside a block's scope.  This is why we are able to access local variable `a` inside the block's scope and reassign it to a new integer object.  The code also demonstrates the concept of variables as pointers.  Local variable `c` initialized within the block's scope pointed to integer object with the value 3.  On the next line local variable `a` is reassigned to point to the same string object that local variable `c` is pointing to.  So both variables point to the same space in memory.  `a` can still be accessed outside the block's scope even though its referencing an integer object that is assigned to a variable initialized inside the block's scope.   "
   ]
  },
  {
   "cell_type": "code",
   "execution_count": 2,
   "id": "72c54efc-9628-466c-b252-9c8193a35039",
   "metadata": {},
   "outputs": [
    {
     "name": "stdout",
     "output_type": "stream",
     "text": [
      "hello\n",
      "hello\n",
      "hello\n"
     ]
    }
   ],
   "source": [
    "def example(str)\n",
    "  i = 3\n",
    "  loop do\n",
    "    puts str\n",
    "    i -= 1\n",
    "    break if i == 0\n",
    "  end\n",
    "end\n",
    "\n",
    "example('hello')"
   ]
  },
  {
   "cell_type": "markdown",
   "id": "71f6dcb3-77fc-4e4d-a70b-4c5b36feeb53",
   "metadata": {
    "jupyter": {
     "source_hidden": true
    },
    "tags": []
   },
   "source": [
    "On line 10 the method `example` is called with the string literal \"hello\" passed in as an argument and it is bound to the paramete `str` in the method definition for `example` spanning lines 1 - 8.  On line 2 the local variable `i` is initialized to the integer object 3.  On line 4 the `#loop` method is invoked with a `do..end` block spanning lines 4 - 7.  Inside the block's scope the `#puts` method is invoked and the local variable `str` is passed to it as an argument.  On line 5 the local variable `i` is reassigned to an integer object equal to `i - 1` and the break keyword is used on line 6 to exit out of the loop if the integer object assigned to `i` is equal to 0. \n",
    "\n",
    "The loop will iterate three times before `i` is equal 0, so the `#puts` method on line 2 will be executed three times and output \"hello\" on each iteration.  \n",
    "\n",
    "This code demonstrates local variable scope.  Local variables intialized in the outer scope can be accessed within a block's inner scope.  Local variable `i` was initialized outside of the block's scope in the `example` method definition and was reassigned within the block's scope.  It also shows how the rules of local variable scope still apply within the scope of a method.  "
   ]
  },
  {
   "cell_type": "code",
   "execution_count": 3,
   "id": "c9c30783-59a6-48e1-875a-2a95494d9c77",
   "metadata": {},
   "outputs": [
    {
     "name": "stdout",
     "output_type": "stream",
     "text": [
      "Hello\n",
      "Goodbye\n"
     ]
    }
   ],
   "source": [
    "def greetings(str)\n",
    "  puts str\n",
    "  puts \"Goodbye\"\n",
    "end\n",
    "\n",
    "word = \"Hello\"\n",
    "\n",
    "greetings(word)"
   ]
  },
  {
   "cell_type": "markdown",
   "id": "4ee76800-cb44-4e63-a8e5-54aa9e27e0ea",
   "metadata": {
    "jupyter": {
     "source_hidden": true
    },
    "tags": []
   },
   "source": [
    "On line 6 the local variable `word` is initialized to a string object with the value \"Hello\".  On line 8 the `greetings` method is invoked and the string object referenced by local variable `word` is passed in as an argument.  This binds the string assigned to `word` to the parameter `str` in the method definition for `greetings` spanning lines 1 - 4.  Within the method `#puts` is invoked and the string object referenced by local variable `str` is passed in as an argument.  This will output \"Hello\" and return `nil`.  On line 3 `#puts` is invoked and the string literal \"Goodbye\" is passed in as an argument.  This will output \"Goodbye\" and return `nil`.  Since `puts \"Goodbye\"` is the last line evaluated in this method, the method call on line 8 will return `nil`.  \n",
    "\n",
    "This code demonstrates how methods are able to access variables that are not initialized inside the method definition if they are defined as parameters.  In this example, `greetings` has a method parameter `str` which allows the method to access the string \"Hello\" since it is passed in as an argument at method invocation in the form of the local variable `word`.  "
   ]
  },
  {
   "cell_type": "code",
   "execution_count": 4,
   "id": "9859f70d-7d02-4171-a4f5-a66b98b02b1b",
   "metadata": {},
   "outputs": [
    {
     "name": "stdout",
     "output_type": "stream",
     "text": [
      "Your total is 10\n"
     ]
    }
   ],
   "source": [
    "arr = [1, 2, 3, 4]\n",
    "\n",
    "counter = 0\n",
    "sum = 0\n",
    "\n",
    "loop do\n",
    "  sum += arr[counter]\n",
    "  counter += 1\n",
    "  break if counter == arr.size\n",
    "end \n",
    "\n",
    "puts \"Your total is #{sum}\""
   ]
  },
  {
   "cell_type": "markdown",
   "id": "67af8e94-e383-40b8-881f-8d32301ef2bf",
   "metadata": {
    "jupyter": {
     "source_hidden": true
    },
    "tags": []
   },
   "source": [
    "On line 1 the local variable `arr` is initialized to an array object with the value `[1, 2, 3, 4]`.  On lines 3 and 4 the local variables `counter` and `sum` are both initialized to an integer object with the value 0.  On line 6 `#loop` is invoked and a `do..end` block is passed to it as an argument spanning lines 6 - 10.  \n",
    "\n",
    "Within the block, line 7 translates to `sum = sum + arr[counter]`.   `arr[counter]` is using element reference and returns the element in the array object referenced by `arr` at the index of the integer object assigned to `counter`.  This return value is then added to the integer object referenced by `sum` and this new integer object is assigned to local variable `sum`.  Similarly, line 8 translates to `counter = counter + 1`.  `counter + 1` is incrementing the integer assigned to `counter` by 1 and assigning that new integer object to `counter`.  The `break` keyword is used on line 9 to exit out of the loop if the integer object referenced by local variable `counter` is equal to the length of the array object referenced by local variable `arr`.  \n",
    "\n",
    "On line 12 `#puts` is invoked and a string is passed in as an argument.  This string uses string interpolation to append the string object referenced by `sum` at the end of the string.  The loop invocation and accompanying block on lines 6 - 10 are essentially cumulatively adding each element in the array object assigned to `arr` to the integer object referenced by `sum`.  Therefore, the `#puts` method call on line 12 will output \"Your total is 10\" and will return `nil`.  \n",
    "\n",
    "This code demonstrates the concept of variable scope.  ..."
   ]
  },
  {
   "cell_type": "code",
   "execution_count": 5,
   "id": "43acf970-3cf1-40fb-9700-608708b3e5b6",
   "metadata": {},
   "outputs": [
    {
     "name": "stdout",
     "output_type": "stream",
     "text": [
      "\"Bill\"\n"
     ]
    },
    {
     "data": {
      "text/plain": [
       "\"Bill\""
      ]
     },
     "execution_count": 5,
     "metadata": {},
     "output_type": "execute_result"
    }
   ],
   "source": [
    "a = 'Bob'\n",
    "\n",
    "5.times do |x|\n",
    "  a = 'Bill'\n",
    "end\n",
    "\n",
    "p a"
   ]
  },
  {
   "cell_type": "markdown",
   "id": "d8192c17-e935-47ab-bb7b-57f580d1536a",
   "metadata": {
    "jupyter": {
     "source_hidden": true
    },
    "tags": []
   },
   "source": [
    "Local variable `a` is initialized on line 1 to a string object with the value \"Bob\".  On line 3 `Integer#times` is called on the integer 5 and a `do..end` block is passed in as an argument spanning lines 3 - 5.  The values from 0 to 4 are passed to the block in the form of an argument, in this case `x`.  However, this argument is not used within the block's scope and the best practice would be to replace the `x` with a `_` or leave out the block argument entirely.  \n",
    "\n",
    "Within the block's scope, local variable `a` is reassigned to a string object with the value \"Bill\".  This reassignment is done 5 times.  On line 7 `#p` is invoked with the string object referenced by local variable `a` passed in as an argument.  This will output \"Bill\" and return \"Bil\".  \n",
    "\n",
    "This code demonstrates the concept of local variable scope.  Local variables initialized in the outer scope can be accessed within a block's inner scope.  In this code, local variable `a` is intialized in the outer scope and accessed within the block's scope where it is reassigned on each iteration of the block. "
   ]
  },
  {
   "cell_type": "code",
   "execution_count": 6,
   "id": "2f25226d-d88e-4372-99c7-5c7e93fea7ff",
   "metadata": {},
   "outputs": [
    {
     "name": "stdout",
     "output_type": "stream",
     "text": [
      "cat\n"
     ]
    },
    {
     "ename": "NameError",
     "evalue": "undefined local variable or method `var' for #<Object:0x00007fd2f8b45dc0>",
     "output_type": "error",
     "traceback": [
      "\u001b[31mNameError\u001b[0m: undefined local variable or method `var' for #<Object:0x00007fd2f8b45dc0>",
      "(irb):9:in `irb_binding'"
     ]
    }
   ],
   "source": [
    "animal = \"dog\"\n",
    "\n",
    "loop do |_|\n",
    "  animal = \"cat\"\n",
    "  var = \"ball\"\n",
    "  break\n",
    "end\n",
    "\n",
    "puts animal\n",
    "puts var"
   ]
  },
  {
   "cell_type": "markdown",
   "id": "8fe4d217-9fa5-43fc-bb1a-7bd60a4041f4",
   "metadata": {
    "jupyter": {
     "source_hidden": true
    },
    "tags": []
   },
   "source": [
    "Local variable `animal` is initialized on line 1 to a string object with the value \"dog\".  On line 3 `#loop` is invoked and a `do..end` block is passed to it as an argument spanning lines 3 -7.  The block argument `_` that is provided serves no purpose within the block and could be left out entirely.   Within the block's scope local variable `animal` is reassigned to a string object with the value \"cat\" on line 4.  On line 5 the local variable `var` is initialized to a string object with the value \"ball\".  The `break` keyword is used on line 6 to exit out of the loop.  \n",
    "\n",
    "`#puts` is invoked on line 9 and the string object referenced by local variable `animal` is passed in as an argument.  Because `animal` is reassigned to a new string object within the block, this method call will output \"cat\" and return `nil`.  The `#puts` method call on line 10 with the string object referenced by local variable `var` passed in as an argument will output a `NameError` message.  \n",
    "\n",
    "This demonstrates the concept local variable scope.  Local variables initialized in the outer scope can be accessed within a block's inner scope, but local variables initialized within a block's scope cannot be accessed in the outer scope.  In this code, the local variable `animal` was initialized in the outer scope so it was accessible within the block's scope.  However, local variable `var` was initialized within the block's scope so it cannot be accessed in the outer scope."
   ]
  },
  {
   "cell_type": "markdown",
   "id": "bd1f907b-8c93-4ca5-83a1-7940b3f134b2",
   "metadata": {},
   "source": [
    "# Variable Shadowing"
   ]
  },
  {
   "cell_type": "code",
   "execution_count": 7,
   "id": "2932b21d-769b-4457-855f-0dfc8dc878c4",
   "metadata": {},
   "outputs": [
    {
     "name": "stdout",
     "output_type": "stream",
     "text": [
      "5\n",
      "5\n",
      "4\n",
      "2\n"
     ]
    }
   ],
   "source": [
    "a = 4\n",
    "b = 2\n",
    "\n",
    "2.times do |a|\n",
    "  a = 5\n",
    "  puts a\n",
    "end\n",
    "\n",
    "puts a\n",
    "puts b"
   ]
  },
  {
   "cell_type": "markdown",
   "id": "45ce1089-587b-4b7c-ba32-3e060ce825a6",
   "metadata": {
    "jupyter": {
     "source_hidden": true
    },
    "tags": []
   },
   "source": [
    "On line 1 local variable `a` is initialized to an integer object with the value 4.  On line 2 local variable `b` is initialized to an integer object with the value 2.  On line 4 `Integer#times` is called on the integer 2 and a `do..end` block is passed to it as an argument.  The `#times` method passed each value from 0 to 1 (2 - 1) into the block in the form of an argument, in this case `a`.  \n",
    "\n",
    "Within the block, the local variable `a` is initialized to the integer object `5`.  The reason local variable `a` is initialized and not reassigned is because the block parameter, `a`, shares a name with lcoal variable `a` initialized in the outer scope.  This is called variable shadowing and it prevents the block from accessing the variable initialized in the outer scope.  So local variable `a` intiailized on line 1 still points to the integer 4.   On line 6 `#puts` is invoked and the integer referenced by local variable `a` is passed in as an argument.  The `#times` method iterates the block twice, so a string representation of 5 is output twice.  \n",
    "\n",
    "On line 9 `#puts` is invoked with the integer object referenced by local variable `a` passed in as an argument.   This will output a string representation of 4 because the variable `a` that was initialized in the outer scope could not be accessed by the block and therefore was never reassigned.  On line 10 `#puts` is invoked with the integer object referenced by local variable `b` passed in as an argument.   This will output a string representation of 2.  "
   ]
  },
  {
   "cell_type": "code",
   "execution_count": 8,
   "id": "e298fe5b-6bc7-4d81-ac9d-c8e108598092",
   "metadata": {},
   "outputs": [
    {
     "name": "stdout",
     "output_type": "stream",
     "text": [
      "10\n"
     ]
    }
   ],
   "source": [
    "n = 10\n",
    "\n",
    "1.times do |n|\n",
    "  n = 11\n",
    "end\n",
    "\n",
    "puts n"
   ]
  },
  {
   "cell_type": "markdown",
   "id": "f7333179-4e86-4a73-afd5-2d761ef9a113",
   "metadata": {
    "jupyter": {
     "source_hidden": true
    },
    "tags": []
   },
   "source": [
    "On line 1 local variable `n` is initialized to an integer object with the value 10.  On line 3 `Integer#times` is called on integer 1 and a `do..end` block is passed to it as an argument spanning lines 3 - 5.  The block is provided with a parameter `n`.  The block paramter shares a name with the local variable initialized on line 1.  This is called variable shadowing and it prevents the the block from  accessing the local variable in the outer scope.  Therefore, instead of reassigning `n`, the local variable `n` within the block's scope is being initialized to an integer object with the value 11.  \n",
    "\n",
    "`#puts` is invoked on line 7 and the integer object referenced by local variable `n` is passed to it as an argument.  Because local variable `n` in the outer scope was never reassigned to a different integer object within the block's inner scope, it still points to the integer object it was initialized to, so this method call will output a string representation of 10 and return `nil`.  \n",
    "\n",
    "In additional to variable shadowing, this code also demonstrates the concept of local variable scope.  Local variables initialzied within a block's scope cannot be accessed in the outer scope.  Because the local variable `n` on line 4 was initialized within the block's scope it is not recognized in the outer scope."
   ]
  },
  {
   "cell_type": "code",
   "execution_count": 9,
   "id": "06ea53f8-f638-4afd-9244-91f90ffdacaf",
   "metadata": {},
   "outputs": [
    {
     "name": "stdout",
     "output_type": "stream",
     "text": [
      "dog\n"
     ]
    }
   ],
   "source": [
    "animal = \"dog\"\n",
    "\n",
    "loop do |animal|\n",
    "  animal = \"cat\"\n",
    "  break\n",
    "end\n",
    "\n",
    "puts animal"
   ]
  },
  {
   "cell_type": "markdown",
   "id": "c8ee0893-67b0-4b9d-a195-f3114db9d8ea",
   "metadata": {
    "jupyter": {
     "source_hidden": true
    },
    "tags": []
   },
   "source": [
    "On line 1 the local variable `animal` is initialized to a string object with the value \"dog\".  On line 3 `#loop` is invoked and a `do..end` block is passed to it as an argument spanning lines 3 to 6.  The block is provided with a parameter, `animal`.  The block's parameter shares a name with the local variable initialized on line 1.  This is called variable shadowing and it prevents the block from accessing the local variable in the outer scope.  Therefore, instead of reassigning the outer scope `animal` to a different string object within the block, `animal` is actually being initialized to a string object with the value \"cat\" on line 4.  The `break` keyword is used on line 5 to exit the loop.  \n",
    "\n",
    "On line 8 `#puts` is invoked and the string object referenced by local variable `animal` is passed in as an argument.  Because the block could not access the outer scope variable `animal`, it never reassigned it to a different string object, so the `animal` initialized on line 1 still points to the string object with the value \"dog\".  Therefore, this method call will output \"dog\" and return `nil`.  \n",
    "\n",
    "In addition to variable shadowing, this code also demonstrates the concept of local variable scope.  Variables initialized within a block's scope cannot be accessed in the outer scope.  Because the local variable `animals` on line 4 was initialized within the block's inner scope it is not recognized in the outer scope."
   ]
  },
  {
   "cell_type": "markdown",
   "id": "e6c792f4-aec3-4b51-81a9-f08d6f2a9d1e",
   "metadata": {},
   "source": [
    "# Object Passing/Variables As Pointers"
   ]
  },
  {
   "cell_type": "code",
   "execution_count": 1,
   "id": "a0c5f661-4a12-48a5-beab-8200102a39d0",
   "metadata": {},
   "outputs": [
    {
     "name": "stdout",
     "output_type": "stream",
     "text": [
      "not here\n",
      "hi there\n"
     ]
    }
   ],
   "source": [
    "a = \"hi there\"\n",
    "b = a\n",
    "a = \"not here\"\n",
    "\n",
    "puts a\n",
    "puts b"
   ]
  },
  {
   "cell_type": "markdown",
   "id": "1ea0d1f3-4525-4b2e-b256-fae3af359030",
   "metadata": {
    "jupyter": {
     "source_hidden": true
    },
    "tags": []
   },
   "source": [
    "Local variable `a` is initialized on line 1 to a string object with the value \"hi there\".  On line 2 local variable `b` is initialized to the string object referenced by local variable `a`.  At this point local variable `a` and `b` point to the same string object.  On line 3 local variable `a` is reassigned to a different string object with the value \"not here\".  \n",
    "\n",
    "`#puts` is invoked on line 5 with the string object referenced by local variable `a` passed in as an argument.  This will output \"not here\" and return `nil`.  `#puts` is invoked on line 6 with local variable `b` passed in as an argument.  This will output \"hi there\" and return `nil`.  \n",
    "\n",
    "This code demonstrates the concept of variables as pointers.  Local variable `b` was initialized to the same string object assigned to `a` so they initially both pointed to the same string object.  However, local variable `a` was reassigned on line 3 and, therefore, pointed to a different string object than local variable `b`.  "
   ]
  },
  {
   "cell_type": "code",
   "execution_count": 2,
   "id": "a61b7f65-6250-4a9b-b56a-e2e07b337ef9",
   "metadata": {},
   "outputs": [
    {
     "name": "stdout",
     "output_type": "stream",
     "text": [
      "hi there, Bob\n",
      "hi there, Bob\n"
     ]
    }
   ],
   "source": [
    "a = \"hi there\"\n",
    "b = a\n",
    "a << \", Bob\"\n",
    "\n",
    "puts a\n",
    "puts b"
   ]
  },
  {
   "cell_type": "markdown",
   "id": "703ba21a-a79e-409b-886e-6b1e19dfcb17",
   "metadata": {
    "jupyter": {
     "source_hidden": true
    },
    "tags": []
   },
   "source": [
    "On line 1 Local variable `a` is initialized on line 1 to a string object with the value \"hi there\".  On line 2 Local variable `b` is initialized to the string object referenced by local variable `a`.  On line 3 `String#<<` is called on the string object referenced by local variable `a` with the string literal \", Bob\" passed in as an argument.  This is a destructive method which mutates the calling object and appends the string argument to the end of the calling object.  This method call affects the string obejct bound to both local variables `a` and `b`.  So the `#puts` invocations on lines 5 and 6 will both output `\"hi there, Bob\"` because both `a` and `b` reference the same string which was mutated on line 3.  The method calls on line 5 and 6 will return `nil`.  \n",
    "\n",
    "This code demonstrates the concept of variables as pointers.  Because both local variables `a` and `b` both pointed to the same string object, the destructive method call on line 3 affected the object bound to both variables.  "
   ]
  },
  {
   "cell_type": "code",
   "execution_count": 4,
   "id": "40532d81-50ca-4314-bee8-26b042272325",
   "metadata": {},
   "outputs": [
    {
     "name": "stdout",
     "output_type": "stream",
     "text": [
      "[1, 2, 3, 3]\n",
      "[1, 2, 3, 3]\n",
      "[1, 2, 3]\n"
     ]
    }
   ],
   "source": [
    "a = [1, 2, 3, 3]\n",
    "b = a\n",
    "c = a.uniq\n",
    "\n",
    "puts a.inspect\n",
    "puts b.inspect\n",
    "puts c.inspect"
   ]
  },
  {
   "cell_type": "markdown",
   "id": "5e34996f-d3b2-4eeb-bd2a-435f97e9a3c3",
   "metadata": {
    "jupyter": {
     "source_hidden": true
    },
    "tags": []
   },
   "source": [
    "On line 1 local variable `a` is initialized to an array object with the value `[1, 2, 3, 3]`.  On line 2 local variable `b` is initialized to the array object referenced by local variable `a`.  On line 3 `Array#uniq` is called on the array object referenced by local variable `a`.  This is a non-mutating method which returns a new array object containing only unique elements.  Local variable `c` is initialzied to the new array object returned by `a.uniq`.  \n",
    "Because `#uniq` is a non-mutating method, it did not change the value of either local variable `a` or local variable `b`, which point to the same array object.  So the `#puts` method invocations on lines 5 and 6 with the array object referenced by local variables `a` and `b` passed in as argument, will output the original array both `a` and `b` were initialized to  - `[1, 2, 3, 3]`.  The `#puts` method call on line 7 with the array object referenced by `c` passed in as an argument will output `[1, 2, 3]`.  All `#puts` method calls will return `nil`.  \n",
    "\n",
    "This code demonstrates how non-mutating method calls do not change the value of the calling object but, instead, return a new object pointing to a different address in memory.  This is why the `a.uniq` method call did not affect the string object referenced by both local variables `a` and `b`.  "
   ]
  },
  {
   "cell_type": "code",
   "execution_count": 5,
   "id": "8fde239c-c3b3-4eb7-9fc4-b648548f43cb",
   "metadata": {},
   "outputs": [
    {
     "data": {
      "text/plain": [
       "[\"I like the letter: a\", \"I like the letter: b\", \"I like the letter: c\"]"
      ]
     },
     "execution_count": 5,
     "metadata": {},
     "output_type": "execute_result"
    }
   ],
   "source": [
    "def test(b)\n",
    "  b.map {|letter| \"I like the letter: #{letter}\"}\n",
    "end\n",
    "\n",
    "a = ['a', 'b', 'c']\n",
    "test(a)\n",
    "\n",
    "# What is `a`? What if we called `map!` instead of `map`?"
   ]
  },
  {
   "cell_type": "markdown",
   "id": "ea6bb6e2-ad55-4fd5-b711-22b97a143e80",
   "metadata": {
    "jupyter": {
     "source_hidden": true
    },
    "tags": []
   },
   "source": [
    "On line 5 local variable `a` is initialzed to an array object with the value `['a', 'b', 'c']`.  On line 6 `test` is invoked with the array object referenced by local variable `a` passed in as an argument.  This binds the array object assigned to local variable `a` to the parameter `b` in the `test` method definition on lines 1 - 3.  \n",
    "\n",
    "Within the method `#map` is called on the array object referenced by local variable `b` and a `do..end` block is passed in as an argument.  Each element from the calling array is passed to the block and assigned to the block variabel `letter`.  Within the block, each element is appended to the end of the string `\"I like the letter: \"` using string interpolation.  The `#map` invocation will return a new array with the new values returned by the block on each iteration.  \n",
    "\n",
    "The `#map` method invoked within `test` is non-mutating and it does not change the value of the original object passed to the method.  So the value of the array object referenced by local variable `a` remains the same. The `test` method call on line 7 will return the last evaluated line within `test` which is the return value of the `#map` invocation: `[\"I like the letter: a\", \"I like the letter: b\", \"I like the letter: c\"]`\n",
    "\n",
    "`#map!` is a mutating method.  So if it was called on the array object object instead of `#map` it would mutate the original object referenced by local variable `a` that was passed in as an argument to `test` and `a` would now reference an array object with the value `[\"I like the letter: a\", \"I like the letter: b\", \"I like the letter: c\"]`\n"
   ]
  },
  {
   "cell_type": "code",
   "execution_count": 6,
   "id": "608d7191-e076-4176-ad39-32a8562d410c",
   "metadata": {},
   "outputs": [
    {
     "name": "stdout",
     "output_type": "stream",
     "text": [
      "7.3\n",
      "8.4\n"
     ]
    }
   ],
   "source": [
    "a = 5.2\n",
    "b = 7.3\n",
    "\n",
    "a = b\n",
    "\n",
    "b += 1.1\n",
    "\n",
    "puts a\n",
    "puts b"
   ]
  },
  {
   "cell_type": "markdown",
   "id": "3739351e-9f3a-4260-ba13-3f6d9fb1fbf9",
   "metadata": {
    "jupyter": {
     "source_hidden": true
    },
    "tags": []
   },
   "source": [
    "Local variabel `a` is initialized on line 1 to an integer object with the value 5.2.  On line 2 local variable `b` is initialized to an integer object with the value 7.3.  On line 4 local variable `a` is reassigned to the integer object bound to local variable `b`.  Line 6 translates to `b = b + 1.1`.   local variable `b` is reassigned to the return value of adding 1.1 to the integer referenced by `b`.  \n",
    "\n",
    "`#puts` is invoked on line 8 with the integer referenced by local variable `a` passed in as an argument.  This will output `7.3` because `a` it was reassigned on line 5 to the integer referenced by local variable `b`.  `#puts` is invoked on line 9 with the integer referenced by local variable `b` passed in as an argument.  This will output `8.4` since `b` was reassigned onb line 6 to point to a new integer object equal to initial value plus 1.1. Both method calls will return `nil`.  \n",
    "\n",
    "This code demonstrates how non-mutating methods do not change the value of their caller but, instead, create a new object.  Local variable `b` was reassigned on line 6 and, even though it pointed to the same integer as local variable `a`, that integer's value was not changed.  "
   ]
  },
  {
   "cell_type": "code",
   "execution_count": null,
   "id": "b79483aa-2791-488e-a7dc-155398215ad9",
   "metadata": {},
   "outputs": [],
   "source": [
    "def test(str)\n",
    "  str  += '!'\n",
    "  str.downcase!\n",
    "end\n",
    "\n",
    "test_str = 'Written Assessment'\n",
    "return_value = test(test_str)\n",
    "\n",
    "puts test_str\n",
    "puts return_value"
   ]
  },
  {
   "cell_type": "markdown",
   "id": "f6f27b09-0ef6-446f-90a4-bdcc05251c40",
   "metadata": {
    "jupyter": {
     "source_hidden": true
    },
    "tags": []
   },
   "source": [
    "Local variable `test_str` is initialized on line 6 to a string object with the value \"Written Assessment\".  On line 7 the `test` method is invoked and the string object referenced by local variable `test_str` is passed in as an argument.  This binds the object assigned to `test_str` to the local variable `str` within the `test` method.   \n",
    "\n",
    "Within the `test` method definion on lins 1 to 4, the local variable `str` is reassigned to the return value of concatenating the string object referencved by `str` to the string literal \"!\".  Then on line 3 `String#downcase!` is called on this new string.  `#downcase!` is a destructive method which mutates its caller.  However, this method call will not mutate the object referenced by the outer scoped `test_str` that was passed to the method, but, instead, it will mutate the new string that was returned as a result of the reassignment on the previous line.  \n",
    "\n",
    "Therefore, `puts test_str` will output the original value of the string object bound to the local variable `test_str` - `\"Written Assessment\"` and `puts return_value` will output the return value of the last line evaluated within `test` - `\"written assessment!\"`\n",
    "\n",
    "This example demonstrates what appears to be a pass by value object passing strategy.  A copy of the original string referenced by `test_str` is passed to the `test` method so it can't mutate the original object in an way.  ..."
   ]
  },
  {
   "cell_type": "code",
   "execution_count": 7,
   "id": "6b1c4236-b999-4542-9c9e-1b3d63f06233",
   "metadata": {},
   "outputs": [
    {
     "name": "stdout",
     "output_type": "stream",
     "text": [
      "3\n",
      "5\n"
     ]
    }
   ],
   "source": [
    "def plus(x, y)\n",
    "  x = x + y\n",
    "end\n",
    "\n",
    "a = 3\n",
    "b = plus(a, 2)\n",
    "\n",
    "puts a\n",
    "puts b"
   ]
  },
  {
   "cell_type": "markdown",
   "id": "754ce497-96e0-46e9-9995-c1d1560faac4",
   "metadata": {
    "jupyter": {
     "source_hidden": true
    },
    "tags": []
   },
   "source": [
    "On line 5 local variable `a` is initialized to an integer with the value 3.  On line 6 local variable `b` is initialized to the return value of a `plus` invocation with the integer referenced by local variable `a` and the integer 2 passed in as arguments.  This binds the integer referenced by local variable `a` and 2 to local variables `x` and `y` within the `plus` method definition on lines 1 to 3.  \n",
    "\n",
    "Within the method local variable `x` is reassigned to the return value of adding together the integer assigned to local variable `x` and the integer assigned to local variable `y`.  So `x` will now reference a different integer object with the value 5 and this will be the return value of `plus`, and this value is assigned to local variable `b`.  \n",
    "\n",
    "`#puts` is invoked on line 8 and the integer referenced by local variable `a` is passed in as an argument.  This will output 3 and return `nil`.   `#puts` is invoked on line 9 and the integer referenced by local variable `b` is passed in as an argument. this will output 5 and return `nil`.  \n",
    "\n",
    "This code demonstrates the immutability of integer objects.  Variables referencing integers can be reassigned, but there are no mutating methods available to integers that will mutate their value.   The `Integer#+` method called on the integer referenced by `x` in `plus` returns a new string and does not mutate the original object passed to the method.  "
   ]
  },
  {
   "cell_type": "code",
   "execution_count": null,
   "id": "a20cca3c-f74b-4c88-baac-e0233d31774c",
   "metadata": {},
   "outputs": [],
   "source": [
    "def increment(x)\n",
    "  x << 'b'\n",
    "end\n",
    "\n",
    "y = 'a'\n",
    "increment(y) \n",
    "\n",
    "puts y"
   ]
  },
  {
   "cell_type": "markdown",
   "id": "ef9e3a30-b1d0-4627-9e32-cad25917278c",
   "metadata": {
    "jupyter": {
     "source_hidden": true
    },
    "tags": []
   },
   "source": [
    "Local variable `y` is initialized on line 5 to a string object with the value \"a\".  `increment` is invoked on line 6 and the string referenced by locak variable `y` is passed in as an argument.  This binds the string assigned to local variable `y` to the local variable `x` within the `increment` method definition on lines 1 - 3.\n",
    "\n",
    "Within the method, `String#<<` is called on the string referenced by local variable `x` and string literal \"b\" is passed in as an argument.  This is a mutating method which appends \"b\" to the string assigned to local variable `x`.  Therefore, when the `#puts` invocation on line 8 with the string referenced by local variable `y` passed in as an argument will otuput `\"ab\"` and return `nil`.  \n",
    "\n",
    "This code demonstrates the concept of mutating methods and how a destructive method like `#<<` within a method can change the state of the original object passed to the method.  Here the `increment` method mutates the `y` string through. the alias `x`, so it appears that Ruby is employing a pass by reference object passing strategy here."
   ]
  },
  {
   "cell_type": "code",
   "execution_count": 8,
   "id": "1e0e72f8-b706-40d2-8156-581d7a3b7d1c",
   "metadata": {},
   "outputs": [
    {
     "name": "stdout",
     "output_type": "stream",
     "text": [
      "jim\n"
     ]
    }
   ],
   "source": [
    "def change_name(name)\n",
    "  name = 'bob'      # does this reassignment change the object outside the method?\n",
    "end\n",
    "\n",
    "name = 'jim'\n",
    "change_name(name)\n",
    "\n",
    "puts name "
   ]
  },
  {
   "cell_type": "markdown",
   "id": "33c42b7a-6801-4d22-b2ba-0243ec094df1",
   "metadata": {
    "jupyter": {
     "source_hidden": true
    },
    "tags": []
   },
   "source": [
    "Local variable `name` is initialized to a string object with the value \"jim\" and this string is passed to the `change_name` invocation as an argument on line 7.  This establishes an alias between the `name` argument in the `change_name` definition and the string referenced by local variable `name` in the outer scope.  \n",
    "\n",
    "Within the method definition on lines 1 to 3 the local variable `name` is reassigned to a different string with the value \"bob\".  However, reassignment is non-mutating so it will not change the value of the original string passed to `change_name`.  Therefore, the `#puts` invocation on line 8 with the string referenced by local variable `name` as an argument will output \"jim\".  \n",
    "\n",
    "In this code, Ruby appears to be employing a pass by value object passing strategy, in which a copy of the is passed to the method and any changes or mutations that occur within the method will have not change the original string. "
   ]
  },
  {
   "cell_type": "code",
   "execution_count": null,
   "id": "68915f42-bce1-4173-be84-ae4a77b917b0",
   "metadata": {},
   "outputs": [],
   "source": [
    "def cap(str)\n",
    "  str.capitalize!   # does this affect the object outside the method?\n",
    "end\n",
    "\n",
    "name = \"jim\"\n",
    "cap(name)\n",
    "puts name "
   ]
  },
  {
   "cell_type": "markdown",
   "id": "99922b36-57a1-4517-bf07-d71e4de4ea8c",
   "metadata": {
    "tags": []
   },
   "source": [
    "Local variable `name` is initialized on line 5 to a string with the value \"jim\" and this strinbg object is passed to the invocation of `cap` as an argument on line 6.  This establishes an alias between the string bound to local variable `name` in the outer scope and the `str` argument in the `cqp` method definition on lines 1 - 3.  \n",
    "\n",
    "Within the method `String#capitalize!` is called on the string object referenced by `str`.  This is destructive method which mutates the caller.  Since the outer scoped `name` referenced the same string as `str` within the method, the original string object's value will be changed.  Therefore, the `puts` method invocation with the string referenced by `name` as an argument will output \"Jim\" and return `nil`.  \n",
    "\n",
    "In this code Ruby appears to be employing a pass by reference object passing strategy.  A reference to the object referenced by local variable `name` is passed to the method through the argument `str` so any mutations called on the argument will mutate the original object."
   ]
  },
  {
   "cell_type": "code",
   "execution_count": 9,
   "id": "ca57bd08-a906-4f18-a786-051191c11d33",
   "metadata": {},
   "outputs": [
    {
     "name": "stdout",
     "output_type": "stream",
     "text": [
      "[[1, 3], [2]]\n",
      "[[1, 5], [2]]\n"
     ]
    }
   ],
   "source": [
    "a = [1, 3]\n",
    "b = [2]\n",
    "arr = [a, b]\n",
    "puts arr.inspect\n",
    "\n",
    "a[1] = 5\n",
    "puts arr.inspect"
   ]
  },
  {
   "cell_type": "markdown",
   "id": "bf2ba2ae-be6f-49f5-9115-b96169ff0dcc",
   "metadata": {
    "jupyter": {
     "source_hidden": true
    },
    "tags": []
   },
   "source": [
    "Local variable `a` is initialized on line 1 to an array object with the value `[1, 3]`.  Local variable `b` is initialized to an array object with the value `[2]`.  Local variable `arr` is initialized on line 3 to an array object containing two elements - the first an array referenced by local variable `a` and the second an array referenced by local variable `b`.   \n",
    "\n",
    "On line 6 `a[1]` is using indexed assignment to assign the value 5 to the element at index 1 in the array bound to local variable `a`.  Indexed assignment is a destructive method that mutates its caller so this will change the value of the array object referenced by `a` to `[1, 5]`.  Because the element at index position 0 in `arr` is also bound to `a`, its value will also be mutated by this indexed assignment.  So the `puts` method invocation on line 7 with the array referenced by `arr` as its argument will output `[[1, 5], [2]]`.\n",
    "\n",
    "This demonstrates that indexed assignment is a mutating method as `a[1] = 5` mutated the value of its caller from `[1, 3]` to `[1, 5]`.  It also demonstrates the concept of variables as pointers as the element at index position 0 of `arr` pointed to the same object as local variable `a`.  "
   ]
  },
  {
   "cell_type": "code",
   "execution_count": null,
   "id": "7ccb46e7-6d23-47ad-8082-c6fb18e6886e",
   "metadata": {},
   "outputs": [],
   "source": [
    "arr1 = [\"a\", \"b\", \"c\"]\n",
    "arr2 = arr1.dup\n",
    "arr2.map! do |char|\n",
    "  char.upcase\n",
    "end\n",
    "\n",
    "puts arr1 \n",
    "puts arr2"
   ]
  },
  {
   "cell_type": "markdown",
   "id": "58fbb29f-8347-4e1b-93c9-2468d6689282",
   "metadata": {},
   "source": [
    "... (Review)"
   ]
  },
  {
   "cell_type": "markdown",
   "id": "17e222ae-aba2-4e27-ad91-e9d1e7cc5a28",
   "metadata": {},
   "source": [
    "# Object Mutability/Mutating Methods"
   ]
  },
  {
   "cell_type": "code",
   "execution_count": 10,
   "id": "a5734544-12af-4d52-abda-058122c8ecc5",
   "metadata": {},
   "outputs": [
    {
     "name": "stdout",
     "output_type": "stream",
     "text": [
      "HELLO!\n",
      "HELLO!\n"
     ]
    }
   ],
   "source": [
    "def fix(value)\n",
    "  value.upcase!\n",
    "  value.concat('!')\n",
    "  value\n",
    "end\n",
    "\n",
    "s = 'hello'\n",
    "t = fix(s)\n",
    "\n",
    "puts s\n",
    "puts t"
   ]
  },
  {
   "cell_type": "markdown",
   "id": "80f39e3d-e6c8-40b9-bbd0-82cf0859691a",
   "metadata": {
    "jupyter": {
     "source_hidden": true
    },
    "tags": []
   },
   "source": [
    "On line 7 local variable `s` is initialized to the string object with the value \"hello\" and this string is passed to the `fix` method invocation as an argument.  An alias is established between the string referenced by the outer scoped local variable `s` and the argument `value` in the `fix` method.  \n",
    "\n",
    "Within the method definition for `fix` spanning lines 1 - 5 two methods are called on the string referenced by local variable `value`: `#upcase!` and `#concat`.  These are destructive methods that mutate the caller.  `value` is the last line evaluated in `fix` method so that is what local variable `t` will be initialized to on line 8.  Both local variables `s` and `t` now reference the same string object with the value \"HELLO!\".\n",
    "\n",
    "Ruby appears to be employing a pass by reference object passing strategy in this example. A reference to the object referenced by local variable `s` is passed to the method through the argument `value` so any mutations called on the argument will also mutate the original object.  "
   ]
  },
  {
   "cell_type": "code",
   "execution_count": 2,
   "id": "881d5df3-19ec-4b5d-a3d7-a27fb90670b3",
   "metadata": {},
   "outputs": [
    {
     "name": "stdout",
     "output_type": "stream",
     "text": [
      "hello\n",
      "HELLO!\n"
     ]
    }
   ],
   "source": [
    "def fix(value)\n",
    "  value = value.upcase\n",
    "  value.concat('!')\n",
    "end\n",
    "\n",
    "s = 'hello'\n",
    "t = fix(s)\n",
    "\n",
    "puts s \n",
    "puts t"
   ]
  },
  {
   "cell_type": "markdown",
   "id": "ee8be7ef-7fff-4cdc-875c-32e8b4ec5489",
   "metadata": {
    "jupyter": {
     "source_hidden": true
    },
    "tags": []
   },
   "source": [
    "Local variable `s` is initialized on line 6 to a string object with the value \"hello\".   On line 7 the string object referenced by local variable `s` is passed as an argument to the `fix` method invocation.  This binds the string referenced by local variable `s` to the `value` parameter in the `fix` method defintion.\n",
    "\n",
    "Within the `fix` method, `String#upcase` is called on the string referenced by local method variable `value`.  This is a non-mutating method which returns a new string with all uppercase letters.   Local variable `value` is reassigned to this new string.  On line 3 `String#concat` is called on the string referenced by local variable `value` and the string literal \"!\" is passed in as an argument.  This is a destructive method which changes the value of the calling object in place and appends a \"!\" to the end of the string.  \n",
    "\n",
    "On line 7 local variable `t` is initialized to the return value of the `fix` invocation.  `t` will equal \"HELLO!\" while local variable `s` still reference the original string object with the value \"hello\".  Ruby appears to using a pass by value object passing strategy in this code.  A copy of the string passed to the object is made when local variable `value` is reassigned on line 2, so the mutating method that is called on this new copy does not affect the original object referenced by local variable `s` in the outer scope.  "
   ]
  },
  {
   "cell_type": "code",
   "execution_count": 4,
   "id": "e3954472-3bf7-4fce-8bf7-8baf6910b1f4",
   "metadata": {},
   "outputs": [
    {
     "name": "stdout",
     "output_type": "stream",
     "text": [
      "helloxyz\n",
      "HELLOXYZ!\n"
     ]
    }
   ],
   "source": [
    "def fix(value)\n",
    "  value << 'xyz'\n",
    "  value = value.upcase\n",
    "  value.concat('!')\n",
    "end\n",
    "\n",
    "s = 'hello'\n",
    "t = fix(s)\n",
    "\n",
    "puts s\n",
    "puts t"
   ]
  },
  {
   "cell_type": "markdown",
   "id": "10e2b13d-af28-4bf1-9388-0f1e317943be",
   "metadata": {
    "jupyter": {
     "source_hidden": true
    },
    "tags": []
   },
   "source": [
    "Local variable `s` is initialized to a string object with the value \"hello\" and this object is passed as an argument to the `fix` method invocation on line 8, which establises an alias between the string referenced by `s` and the `value` parameter in the `fix` method definition on lines  1 - 5.\n",
    "\n",
    "Within the method, `String#<<` is called on the string object referenced by local method variable `value` and the string literal \"xyz\" is passed in as an argument.  This is a mutating method which changes the value of the calling object in place and appends \"xyx\" to the end of the string.  The string referenced by local variable `s` and local method variable `value` is now \"helloxyz\".  \n",
    "\n",
    "On line the local method variable `value` is reassigned to the return value of calling `String#upcase` on the string referenced by local variable `value`.  This is a non-mutating method that returns a new string.  So `value` is now pointing to a different string than the one that was originally passed in.  Therefore, the mutating method call `concat` on line 4 will only affect the new string object and not the original one referenced by local variable `s` in the outer scope.   \n",
    "\n",
    "Local variable `t` is initialized to the return value of the `fix` method invocation on line 8, which returns \"HELLOXYZ!\", while local variable `s` points to a string with the value \"helloxyz\".  \n",
    "\n",
    "Ruby appears to be employing a combination of pass by referenced and pass by value object passing strategies in this code because the first operation within the `fix` method definition mutates the original object, while the second and third operation affect copies of the original object.  "
   ]
  },
  {
   "cell_type": "code",
   "execution_count": 5,
   "id": "9d964167-b634-4277-81c1-841b2b6a03ce",
   "metadata": {},
   "outputs": [
    {
     "name": "stdout",
     "output_type": "stream",
     "text": [
      "HELLO!\n",
      "HELLO!\n"
     ]
    }
   ],
   "source": [
    "def fix(value)\n",
    "  value = value.upcase!\n",
    "  value.concat('!')\n",
    "end\n",
    "\n",
    "s = 'hello'\n",
    "t = fix(s)\n",
    "\n",
    "puts s\n",
    "puts t"
   ]
  },
  {
   "cell_type": "markdown",
   "id": "a08e6fe2-902a-4a05-81fb-9a86a8f682fc",
   "metadata": {
    "jupyter": {
     "source_hidden": true
    },
    "tags": []
   },
   "source": [
    "Local variable `s` is intialized on line 6 to a string object with the value \"hello\" and this object is passed as an argument to the `fix` method invocation on line 7.  This establishes an alias between the string referenced by local variable `s` and the `value` parameter in the `fix` method defintion.  \n",
    "\n",
    "Within the `fix` method, `String#upcase!` is called on the string referenced by local method variable `value`.  This is a mutating method which changes the value of the calling object in place.  Local method variable `value` is reassigned to the return value of this method call.  Since `#upcase!` returns a reference to the caller, `value` is essentially reassigned to itself, so `value`, and by extension `s`, still point to the same, albeit mutated, string object.  On line 3 `String#concat!` is called on the string referenced by `value` and the string literal \"!\" is passed in as an argument.  This is destructive method which mutates the caller and appends a \"!\" to the end of the string.  \n",
    "\n",
    "On line 10 local variable `t` is initialized to the return valiue of the `fix` method invocation, which is \"HELLO!\".  Local variable `s` will reference the same string \"HELLO!\".  Ruby appears to be using a pass by reference object passing strategy in this code.  A reference to the original string is passed to the method and it is mutated through the `value` variable within the method.  "
   ]
  },
  {
   "cell_type": "markdown",
   "id": "1ec46616-e9ca-4234-a564-82f398eec028",
   "metadata": {},
   "source": [
    "# Collections"
   ]
  },
  {
   "cell_type": "code",
   "execution_count": 7,
   "id": "06a23222-2b94-413d-86f5-1e75ede7d4fd",
   "metadata": {},
   "outputs": [
    {
     "name": "stdout",
     "output_type": "stream",
     "text": [
      "1\n",
      "3\n",
      "5\n"
     ]
    },
    {
     "data": {
      "text/plain": [
       "[]"
      ]
     },
     "execution_count": 7,
     "metadata": {},
     "output_type": "execute_result"
    }
   ],
   "source": [
    "array = [1, 2, 3, 4, 5]\n",
    "\n",
    "array.select do |num|\n",
    "   puts num if num.odd?\n",
    "end"
   ]
  },
  {
   "cell_type": "markdown",
   "id": "f416a89d-555d-4df4-a175-49ab1a63608b",
   "metadata": {
    "jupyter": {
     "source_hidden": true
    },
    "tags": []
   },
   "source": [
    "Local variable `array` is initialized on line 1 to the array object `[1, 2, 3, 4, 5]`.  On line 3 `#select` is called on the object referenced by local variable `array` and a `do..end` block is passed in as an argument.  Each element of the calling array is assigned to the block parameter, `num`.  On each iteration, if the current number from the calling array is odd the if conditional will evaluate as true and `#puts` will be invoked with the integer referenced by local block variable passed it as an argument.  As a result, 1, 3 and 5 will be output.  The block's return value will be `nil` on every iteration; for the odd integers the `#puts` method call will return `nil` and for the even integers the unexecuted `if` conditional will return `nil`.   `#select` considers the truthiness of the block's return value and since `nil` evaluates as false, the `#select` method call will return a new array that is empty.  \n",
    "\n",
    "This code demonstrates the concept of truthiness and how all objects in Ruby are considered truthy except for `nil` and `false`.  "
   ]
  },
  {
   "cell_type": "code",
   "execution_count": 8,
   "id": "c036bcfb-3532-49a4-9067-ef8ff4b26ff7",
   "metadata": {},
   "outputs": [
    {
     "data": {
      "text/plain": [
       "[1, 3, 5, 7, 9]"
      ]
     },
     "execution_count": 8,
     "metadata": {},
     "output_type": "execute_result"
    }
   ],
   "source": [
    "arr = [1, 2, 3, 4, 5, 6, 7, 8, 9, 10]\n",
    "\n",
    "arr.select { |n| n.odd? }"
   ]
  },
  {
   "cell_type": "markdown",
   "id": "633fa39e-7408-420e-bf73-a789c5207f41",
   "metadata": {
    "jupyter": {
     "source_hidden": true
    },
    "tags": []
   },
   "source": [
    "Local variable `arr` is initialized to an array object with the intefers 1 through 10.  `#select` is invoked on the object referenced by local variable `arr` and a block, denoted by the `{}` is passed in as an argument.  On every iteration, `Integer#odd?` is called on the current integer.  The block's return value will be truthy for all odd integers and falsy for the even integers.  Since `#select` considers the truthiness of the block's return value, the method call will return a new array with integers 1, 3, 5, 7, 9.  "
   ]
  },
  {
   "cell_type": "code",
   "execution_count": 9,
   "id": "81cd7869-c255-4bcb-9bb8-d675791775d6",
   "metadata": {},
   "outputs": [
    {
     "name": "stdout",
     "output_type": "stream",
     "text": [
      "[1, 2, 3, 4, 5, 6, 7, 8, 9, 10]\n"
     ]
    },
    {
     "data": {
      "text/plain": [
       "[1, 2, 3, 4, 5, 6, 7, 8, 9, 10]"
      ]
     },
     "execution_count": 9,
     "metadata": {},
     "output_type": "execute_result"
    }
   ],
   "source": [
    "arr = [1, 2, 3, 4, 5, 6, 7, 8, 9, 10]\n",
    "\n",
    "new_array = arr.select do |n| \n",
    "  n + 1\n",
    "end\n",
    "\n",
    "p new_array"
   ]
  },
  {
   "cell_type": "markdown",
   "id": "2be62efc-e0a2-4f3b-8601-7cedb478699a",
   "metadata": {
    "jupyter": {
     "source_hidden": true
    },
    "tags": []
   },
   "source": [
    "Local variable `arr` is initialized on line 1 to the array object with integers 1 through 10.  On line 3 the local variable `new_array` is initialized to the return value of invoked `#select` on the object referenced by local variable `arr`.  A `do..end` block is passed to the `#select` invocation and each element of the calling array is assigned to the block parameter `n`.  On every iteration, the current integer from the calling array is incremented by 1.  This will return a new integer which evaluates as true.  Therefore, the block's return value will be truthy for every element and `#select` will return a new array will all elements from the original array.  "
   ]
  },
  {
   "cell_type": "code",
   "execution_count": 12,
   "id": "04f2d5d4-6617-4b66-b70c-e6ef00cd6f8e",
   "metadata": {},
   "outputs": [
    {
     "name": "stdout",
     "output_type": "stream",
     "text": [
      "1\n",
      "2\n",
      "3\n",
      "4\n",
      "5\n",
      "6\n",
      "7\n",
      "8\n",
      "9\n",
      "10\n",
      "[]\n"
     ]
    },
    {
     "data": {
      "text/plain": [
       "[]"
      ]
     },
     "execution_count": 12,
     "metadata": {},
     "output_type": "execute_result"
    }
   ],
   "source": [
    "arr = [1, 2, 3, 4, 5, 6, 7, 8, 9, 10]\n",
    "\n",
    "new_array = arr.select do |n| \n",
    "  n + 1\n",
    "  puts n\n",
    "end\n",
    "\n",
    "p new_array"
   ]
  },
  {
   "cell_type": "markdown",
   "id": "3988bfd1-de44-44e2-a94f-998aab5f8858",
   "metadata": {
    "jupyter": {
     "source_hidden": true
    },
    "tags": []
   },
   "source": [
    "The local variable `arr` is initialized to an array object with the integers 1 through 10.  On line 3 local variable `new_array` is initialized to the return value of invoking `#select` on the array referenced by local variable `arr`.  A `do..end` block is passed to the method call and each element from the calling array is assigned to the block parameter `n`.  \n",
    "\n",
    "On every iteration, the block's return value will be determined by the last evaluated line within the block, which is `puts n`.  This method invocation will output each element passed to it as an argument, so numbers 1 through 10.   The block's return value will be falsy for each element because `#puts` always returns `nil`.  So `#select` will return a new array that is empty. "
   ]
  },
  {
   "cell_type": "code",
   "execution_count": 13,
   "id": "7feb7f17-9113-4cf1-bf09-ab4effff0442",
   "metadata": {},
   "outputs": [
    {
     "name": "stdout",
     "output_type": "stream",
     "text": [
      "[false, true, false, false, true]\n"
     ]
    },
    {
     "data": {
      "text/plain": [
       "[false, true, false, false, true]"
      ]
     },
     "execution_count": 13,
     "metadata": {},
     "output_type": "execute_result"
    }
   ],
   "source": [
    "words = %w(jump trip laugh run talk)\n",
    "\n",
    "new_array = words.map do |word|\n",
    "  word.start_with?(\"t\")\n",
    "end\n",
    "\n",
    "p new_array"
   ]
  },
  {
   "cell_type": "markdown",
   "id": "66007e23-0260-43bc-a00c-09bb174e9077",
   "metadata": {
    "jupyter": {
     "source_hidden": true
    },
    "tags": []
   },
   "source": [
    "Local variable `words` is initialized on line 1 to an array object contains string values.  Local variable `new_array` is invoked on line 3 to the return value of invoking `#map` on the object referenced by local variable `words`.  A `do..end` block is passed to the method call as an argument and each element from the calling array is assigned to the block parameter `word`.  On each iteration, `#star_with?` is called on the current element of the calling array and \"t\" is passed in as an argument.  This method call will return a boolean value; `true` if the curremt element starts with the letter \"t\", otherwise it will return `false`.\n",
    "\n",
    "`#map` considers the block's return value for transformation.  Therefore, the block's return value will be `true` for words that star with \"t\" and `false` for those that don't, and `#select` will return a new array with the values `[false, true, false, false, true]`. "
   ]
  },
  {
   "cell_type": "code",
   "execution_count": 14,
   "id": "b5eb4f01-6814-4dbb-ae3b-1d3da15d825d",
   "metadata": {
    "collapsed": true,
    "jupyter": {
     "outputs_hidden": true
    },
    "tags": []
   },
   "outputs": [
    {
     "name": "stdout",
     "output_type": "stream",
     "text": [
      "1\n",
      "2\n",
      "3\n",
      "4\n",
      "5\n",
      "6\n",
      "7\n",
      "8\n",
      "9\n",
      "10\n"
     ]
    },
    {
     "data": {
      "text/plain": [
       "[1, 2, 3, 4, 5, 6, 7, 8, 9, 10]"
      ]
     },
     "execution_count": 14,
     "metadata": {},
     "output_type": "execute_result"
    }
   ],
   "source": [
    "arr = [1, 2, 3, 4, 5, 6, 7, 8, 9, 10]\n",
    "\n",
    "arr.each { |n| puts n }"
   ]
  },
  {
   "cell_type": "markdown",
   "id": "692cf625-1c74-4f7c-bff6-67294314e968",
   "metadata": {},
   "source": [
    "The local variable `arr` is initialized on line 1 to an array object with the numbers 1 through 10.  The `#each` method is called on the array referenced by local variable `arr` and a block, denoted by the `{}` is passed in as an argument.  Each element from the calling array is assigned to the block parameter `n` which passed to `#puts` on invocation.  So this code will output all numbers 1 through 10.  `#each` disregards the block's return value and returns the original collection.  So this code will return `[1, 2, 3, 4, 5, 6, 7, 8, 9, 10]`."
   ]
  },
  {
   "cell_type": "code",
   "execution_count": 15,
   "id": "5da567d1-5ff3-447e-9aa1-8e7873038e54",
   "metadata": {},
   "outputs": [
    {
     "name": "stdout",
     "output_type": "stream",
     "text": [
      "[false, true, true, true, true, true, true, true, true, true]\n"
     ]
    },
    {
     "data": {
      "text/plain": [
       "[false, true, true, true, true, true, true, true, true, true]"
      ]
     },
     "execution_count": 15,
     "metadata": {},
     "output_type": "execute_result"
    }
   ],
   "source": [
    "arr = [1, 2, 3, 4, 5, 6, 7, 8, 9, 10]\n",
    "\n",
    "new_array = arr.map do |n| \n",
    "  n > 1\n",
    "end\n",
    "\n",
    "p new_array"
   ]
  },
  {
   "cell_type": "markdown",
   "id": "ee141bb0-142f-4147-bb7f-0ea715e97c0d",
   "metadata": {
    "jupyter": {
     "source_hidden": true
    },
    "tags": []
   },
   "source": [
    "Local variable `arr` is initialized to an array object with integers 1 through 10.   On line 3 local variable `new_arr` is initialized to the return value of invoking `#map` on the array referenced by local variable `arr`.  A `do..end` block is passed  to the method call and each element from the calling array is assigned to the block parameter `n`.  \n",
    "\n",
    "On each iteration, `Integer#>` is called on the current number from the calling array and 1 is passed in as an argument.  This will return `true` if the current number is greater than 1. `#map` considers the block's return value for transformation.  The block's return value will be `false` for the first element in the calling array and `true` for the rest, so the `#map` method call will return `[false, true, true, true, true, true, true, true, true, true]`.  "
   ]
  },
  {
   "cell_type": "code",
   "execution_count": 17,
   "id": "c2671b50-7c6c-4c91-ae1b-6e02756a873b",
   "metadata": {
    "tags": []
   },
   "outputs": [
    {
     "name": "stdout",
     "output_type": "stream",
     "text": [
      "1\n",
      "2\n",
      "3\n",
      "4\n",
      "5\n",
      "6\n",
      "7\n",
      "8\n",
      "9\n",
      "10\n",
      "[nil, nil, nil, nil, nil, nil, nil, nil, nil, nil]\n"
     ]
    },
    {
     "data": {
      "text/plain": [
       "[nil, nil, nil, nil, nil, nil, nil, nil, nil, nil]"
      ]
     },
     "execution_count": 17,
     "metadata": {},
     "output_type": "execute_result"
    }
   ],
   "source": [
    "arr = [1, 2, 3, 4, 5, 6, 7, 8, 9, 10]\n",
    "\n",
    "new_array = arr.map do |n| \n",
    "  n > 1\n",
    "  puts n\n",
    "end\n",
    "\n",
    "p new_array"
   ]
  },
  {
   "cell_type": "markdown",
   "id": "c6355726-0ae2-4cca-9bf0-d2a22ed87855",
   "metadata": {
    "jupyter": {
     "source_hidden": true
    },
    "tags": []
   },
   "source": [
    "Local variable `arr` is initialized on line 1 to an array with the integers 1 through 10.  On line 3 local variable `new_array` is initialized to the return value of invoking `#map` on the array object referenced by local variable `arr`.  A `do..end` block is passed in as an argument to the method call and each element from the calling array is assigned to the block parameter `n`.  \n",
    "\n",
    "The block's return value will be determined by its last evaluated line.  On every iteration, `puts` is invoked and the current number is passed in as an argument.  This will output all numbers from the calling collection and the block's return value will be `nil` because `#puts` return `nil`.  `#map` considers the block's return value for transformation so it will return a new array will 10 `nil`s.  "
   ]
  },
  {
   "cell_type": "code",
   "execution_count": 18,
   "id": "ad7f22cf-389b-4de8-b9b8-a3b552e4e856",
   "metadata": {},
   "outputs": [
    {
     "data": {
      "text/plain": [
       "[\"hello\", \"hello\", \"hello\"]"
      ]
     },
     "execution_count": 18,
     "metadata": {},
     "output_type": "execute_result"
    }
   ],
   "source": [
    "a = \"hello\"\n",
    "\n",
    "[1, 2, 3].map { |num| a }"
   ]
  },
  {
   "cell_type": "markdown",
   "id": "4696c0cb-40a1-49e4-8259-dd5c319ac3a7",
   "metadata": {
    "jupyter": {
     "source_hidden": true
    },
    "tags": []
   },
   "source": [
    "Local variable `a` is initialized on line 1 to a string object with the value \"hello\".  On line 3 `#map` is invoked on the an array containing the values 1, 2, 3 and a block is passed in as an argument, denoted by the `{}`.  Each value from the calling collection is passed to the block parameter `num`.  On each iteration, the block's return value will be the string referenced by local variable `a`.  `#map` considers the block's return value for transformation so it will return a new array containing three strings with the value \"hello\".  "
   ]
  },
  {
   "cell_type": "code",
   "execution_count": 20,
   "id": "0dba4af0-d799-4fb2-b0dc-7d9bf5d09290",
   "metadata": {},
   "outputs": [
    {
     "data": {
      "text/plain": [
       "true"
      ]
     },
     "execution_count": 20,
     "metadata": {},
     "output_type": "execute_result"
    }
   ],
   "source": [
    "[1, 2, 3].any? do |num|\n",
    "  num > 2\n",
    "end"
   ]
  },
  {
   "cell_type": "markdown",
   "id": "9e632c67-b1bd-43f3-b5b1-85bf0f5baab0",
   "metadata": {
    "jupyter": {
     "source_hidden": true
    },
    "tags": []
   },
   "source": [
    "The `#any` method is called on the array `[1, 2, 3]` and a `do..end` block is passed in as an argument.  Each number from the calling array is assigned to the block parameter `num`.  On each iteration, if the current integer is greater than 2, the comparison within the block will return `true`. \n",
    "\n",
    "`#any?` returns `true` if at least one of the block's return values is truthy.   In this code, the block's return value will be truthy on the last iteration because 3 > `true`.  Therefore, `#any?` will return `true`."
   ]
  },
  {
   "cell_type": "code",
   "execution_count": 21,
   "id": "e8270fd3-9636-4ff9-8b92-9c6c099f929d",
   "metadata": {},
   "outputs": [
    {
     "data": {
      "text/plain": [
       "false"
      ]
     },
     "execution_count": 21,
     "metadata": {},
     "output_type": "execute_result"
    }
   ],
   "source": [
    "{ a: \"ant\", b: \"bear\", c: \"cat\" }.any? do |key, value|\n",
    "  value.size > 4\n",
    "end"
   ]
  },
  {
   "cell_type": "markdown",
   "id": "19161a6d-aae1-4bf0-9abf-d6f426bbada9",
   "metadata": {
    "jupyter": {
     "source_hidden": true
    },
    "tags": []
   },
   "source": [
    "The `#any` method is called on a hash and a `do..end` block is passed in as an argument.  Each key and value from the calling hash are assigned to the block parameters `key` and `value`, respectively.  On each iteration, `Integer#>` is called on the return value of invoking `#size` on the current value and passing in 4 as an argument.  This will return `true` is the current value has a length greater than 4, otherwise it will return `false`.  \n",
    "\n",
    "`#any?` considers the truthiness of the block's return value and will return `true` if any of the block's return values is truthy.  In this case, the block's will return falsy values on every iteration because all values from the calling hash are less or equal to 4 characters in length.  Therefore, `any?` will return `false`."
   ]
  },
  {
   "cell_type": "code",
   "execution_count": 22,
   "id": "8f319d21-dd17-4a9a-9d86-f6c0899eb015",
   "metadata": {},
   "outputs": [
    {
     "data": {
      "text/plain": [
       "false"
      ]
     },
     "execution_count": 22,
     "metadata": {},
     "output_type": "execute_result"
    }
   ],
   "source": [
    "[1, 2, 3].all? do |num|\n",
    "  num > 2\n",
    "end"
   ]
  },
  {
   "cell_type": "markdown",
   "id": "ca2156df-eded-4844-b9c0-dd321a9682f1",
   "metadata": {
    "jupyter": {
     "source_hidden": true
    },
    "tags": []
   },
   "source": [
    "On line 1, the `#all?` method is invoked on the array object `[1, 2, 3]` and a `do..end` block is passed in as an argument.  Each element from the calling collection is assigned to the block parameter `num`.  On each iteration, `Integer#>` is called on the current integer with 2 passed in as an argument.  This will return `true` if the current number is greater than 2, otherwise it will return `false`.  \n",
    "\n",
    "`#all?` considers the truthiness of the block's return value and will return `true` is all the block's return values are truthy.  In this case, the block will only return a truthy value on the third iterations, since 1 and 2 are not greater than 2.  Therefore, `#all?` will return `false`.  "
   ]
  }
 ],
 "metadata": {
  "kernelspec": {
   "display_name": "Ruby 2.7.5",
   "language": "ruby",
   "name": "ruby"
  },
  "language_info": {
   "file_extension": ".rb",
   "mimetype": "application/x-ruby",
   "name": "ruby",
   "version": "2.7.5"
  }
 },
 "nbformat": 4,
 "nbformat_minor": 5
}
