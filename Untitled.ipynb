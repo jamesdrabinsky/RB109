{
 "cells": [
  {
   "cell_type": "code",
   "execution_count": 1,
   "id": "251804d5-7be1-48ec-b510-ac5d639b3408",
   "metadata": {},
   "outputs": [],
   "source": [
    "=begin\n",
    "Given a list of integers and a single sum value, return the first two values (parse from the left please) in order of appearance that add up to form the sum.\n",
    "\n",
    "If there are two or more pairs with the required sum, the pair whose second element has the smallest index is the solution.\n",
    "=end"
   ]
  },
  {
   "cell_type": "code",
   "execution_count": 16,
   "id": "632a3194",
   "metadata": {},
   "outputs": [
    {
     "data": {
      "text/plain": [
       "[4, 4, 5, 3, 3, 3, 5, 5, 4]"
      ]
     },
     "execution_count": 16,
     "metadata": {},
     "output_type": "execute_result"
    }
   ],
   "source": [
    "array = (3..5).map { |idx| 3.times.map { idx } }.flatten.shuffle\n",
    "target = 9\n",
    "\n",
    "array"
   ]
  },
  {
   "cell_type": "code",
   "execution_count": 23,
   "id": "9e14a345",
   "metadata": {},
   "outputs": [
    {
     "data": {
      "text/plain": [
       ":sum_of_pairs"
      ]
     },
     "execution_count": 23,
     "metadata": {},
     "output_type": "execute_result"
    }
   ],
   "source": [
    "# def sum_of_pairs(arr, target)\n",
    "#   indexes = []\n",
    "  \n",
    "#   arr.each_index do |idx1|\n",
    "#     (idx1 + 1...arr.size).each do |idx2|\n",
    "#       values = arr.values_at(idx1, idx2)\n",
    "#       indexes << [idx1, idx2] if values.sum == target\n",
    "#     end\n",
    "#   end\n",
    "#   pair_idx = indexes.min_by(&:last)\n",
    "#   arr.values_at(*pair_idx)\n",
    "# end"
   ]
  },
  {
   "cell_type": "code",
   "execution_count": 29,
   "id": "f7135d6b",
   "metadata": {},
   "outputs": [
    {
     "data": {
      "text/plain": [
       ":sum_pairs"
      ]
     },
     "execution_count": 29,
     "metadata": {},
     "output_type": "execute_result"
    }
   ],
   "source": [
    "# def sum_pairs(arr, target)\n",
    "#   arr.each_index do |idx1|\n",
    "#     (idx1 + 1...arr.size).each do |idx2|\n",
    "#       values = arr.values_at(idx1, idx2)\n",
    "#       return arr.values_at(idx1, idx2) if values.sum == target\n",
    "#     end\n",
    "#   end\n",
    "#   nil\n",
    "# end"
   ]
  },
  {
   "cell_type": "code",
   "execution_count": 41,
   "id": "e9a241d2",
   "metadata": {},
   "outputs": [
    {
     "data": {
      "text/plain": [
       "10"
      ]
     },
     "execution_count": 41,
     "metadata": {},
     "output_type": "execute_result"
    }
   ],
   "source": [
    "l5 = [10, 5, 2, 3, 7, 5]\n",
    "target = 10"
   ]
  },
  {
   "cell_type": "code",
   "execution_count": 48,
   "id": "c2994632",
   "metadata": {},
   "outputs": [
    {
     "data": {
      "text/plain": [
       ":sum_pairs"
      ]
     },
     "execution_count": 48,
     "metadata": {},
     "output_type": "execute_result"
    }
   ],
   "source": [
    "def sum_pairs(arr, target)\n",
    "  seen = Set.new()\n",
    "\n",
    "  arr.each do |num|\n",
    "    complement = target - num\n",
    "    return [complement, num] if seen.include?(complement)\n",
    "    seen << num\n",
    "  end\n",
    "end"
   ]
  },
  {
   "cell_type": "code",
   "execution_count": 49,
   "id": "ad6dac8f",
   "metadata": {},
   "outputs": [
    {
     "name": "stdout",
     "output_type": "stream",
     "text": [
      "[3, 7]\n"
     ]
    },
    {
     "data": {
      "text/plain": [
       "[3, 7]"
      ]
     },
     "execution_count": 49,
     "metadata": {},
     "output_type": "execute_result"
    }
   ],
   "source": [
    "l1 = [1, 4, 8, 7, 3, 15]\n",
    "l2 = [1, -2, 3, 0, -6, 1]\n",
    "l3 = [20, -13, 40]\n",
    "l4 = [1, 2, 3, 4, 1, 0]\n",
    "l5 = [10, 5, 2, 3, 7, 5]\n",
    "l6 = [4, -2, 3, 3, 4]\n",
    "l7 = [0, 2, 0]\n",
    "l8 = [5, 9, 13, -3]\n",
    "\n",
    "# p sum_pairs(l1, 8) == [1, 7]\n",
    "# p sum_pairs(l2, -6) == [0, -6]\n",
    "# p sum_pairs(l3, -7) == nil\n",
    "# p sum_pairs(l4, 2) == [1, 1]\n",
    "l5 = [10, 5, 2, 3, 7, 5]\n",
    "p sum_pairs(l5, 10) #== [3, 7]\n",
    "# p sum_pairs(l6, 8) == [4, 4]\n",
    "# p sum_pairs(l7, 0) == [0, 0]\n",
    "# p sum_pairs(l8, 10) == [13, -3]"
   ]
  },
  {
   "cell_type": "code",
   "execution_count": null,
   "id": "ea452a22",
   "metadata": {},
   "outputs": [],
   "source": []
  }
 ],
 "metadata": {
  "kernelspec": {
   "display_name": "Ruby 2.7.5",
   "language": "ruby",
   "name": "ruby"
  },
  "language_info": {
   "file_extension": ".rb",
   "mimetype": "application/x-ruby",
   "name": "ruby",
   "version": "2.7.5"
  }
 },
 "nbformat": 4,
 "nbformat_minor": 5
}
