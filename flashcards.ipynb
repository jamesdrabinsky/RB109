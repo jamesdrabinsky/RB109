{
 "cells": [
  {
   "cell_type": "markdown",
   "id": "2d949953-a6b7-4999-929a-c6a4542be63f",
   "metadata": {},
   "source": [
    "# Sort"
   ]
  },
  {
   "cell_type": "markdown",
   "id": "25ed03bf-63bc-4a93-9ff1-0373c5b4cf05",
   "metadata": {},
   "source": [
    "<b>\n",
    "\n",
    "Given the code below:\n",
    "    \n",
    "```ruby\n",
    "arr = ['340', '15', '1', '3400']\n",
    "arr.sort # => ['1', '15', '340', '3400']\n",
    "```\n",
    "<br>\n",
    "Which of the following statements most accurately describes why that particular return value is produced?\n",
    "\n",
    "</b>"
   ]
  },
  {
   "cell_type": "markdown",
   "id": "49d5f1c0-0fd8-4eaf-b39d-01acb5e6695d",
   "metadata": {
    "jupyter": {
     "source_hidden": true
    },
    "tags": []
   },
   "source": [
    "The local variable `arr` is initialized to an array object with value `['340', '15', '1', '3400']`.  `Array#sort` is called on the array object referenced by `arr`.  In ruby, sorting is essentially carried out by comparing the items in a collection with each other, and ordering them based on the result of that comparison.  The comparison is carried out using the appropriate comparison method for the item type, in this case the `String<=>` method.\n",
    "\n",
    "`String<=>` will return `-1`, `0` or `1` depending on whether the first item is less than, equal to or greater than the second item.   In case that the two items are of different data types, `String<=>` will return `nil` and `sort` will output an `ArgumentError` message.  `String<=>` compares multi-character strings character by character.  If all characters are equal, then the result is based on a comparison of the string lengths.  Thus, two strings are equal according to `String<=>` if they have the same length and the value of each character is equal to the value of the corresponding character in the other string.\n",
    "\n",
    "String order is determined by a character's position in the ASCII table.  Therefore, it isi this ASCII character order that determines the result when we compare one ASCII character with another using the `String<=>` method.  "
   ]
  },
  {
   "cell_type": "markdown",
   "id": "7a81897c-1697-4c69-ab78-679a891f4d47",
   "metadata": {
    "tags": []
   },
   "source": [
    "_____"
   ]
  },
  {
   "cell_type": "markdown",
   "id": "975ab77b-4014-4ccd-8f8e-e922caa2509a",
   "metadata": {},
   "source": [
    "<b>\n",
    "    \n",
    "```ruby\n",
    "arr = [['a', 'cat', 'b', 'c'], ['b', 2], ['a', 'car', 'd', 3], ['a', 'car', 'd']]\n",
    "arr.sort # => [[\"a\", \"car\", \"d\"], [\"a\", \"car\", \"d\", 3], [\"a\", \"cat\", \"b\", \"c\"], [\"b\", 2]]\n",
    "```\n",
    "\n",
    "</b>"
   ]
  },
  {
   "cell_type": "markdown",
   "id": "c9b9cfbb-ec56-4d0c-af77-6a14083cda96",
   "metadata": {
    "jupyter": {
     "source_hidden": true
    },
    "tags": []
   },
   "source": [
    "The local variable `arr` is initialized to a multi-dimensional array object with the value `[['a', 'cat', 'b', 'c'], ['b', 2], ['a', 'car', 'd', 3], ['a', 'car', 'd']]`.  `Array#sort` is called on the object reference by `arr`. \n",
    "\n",
    "In Ruby, sorting is essentially carried out by comparing the items in a collection with each other, and ordering them based on the result of that comparison.  The comparison is carried out using the appropriatre comparison method for the item type, in this case the `Array#<=>` method.  `Array<=>` will return `-1`, `0` or `1` depending on whether the first item is less than, equal to or greater than the second item.  In the case that the two items are of different data types, `Array<=>` will return `nil` and `sort` will output an `ArgumentError` message.  \n",
    "\n",
    "Arrays are compared in an element-wise manner.  As soon as the result of any such comparison is non zero (i.e. the two corresponding elements are not equal), that result is returned for the whole array comparison.  If all elements are equal, then the result is based on a comparison of the array lengths.  Thus, two arrays are equal according to `Array<=>` if they have the same length and each element is equal to the corresponding element of the other array.  \n",
    "\n",
    "Since three of the arrays have string `a` at their first index, these all come befroe the array that has the string `b` at its first index.  The array with `b` at its first index has an integer 2 at its second index.  Comparing this integer with the other corresponding elements in the other arrays would return `nil` since you would be comparing an integer with a string.  In this case, since `sort` didnot need to compare the second item of that array to be able to establish its order, the integer does not come into play here and so no error is thrown.  "
   ]
  },
  {
   "cell_type": "markdown",
   "id": "a4b7ebc8-75e1-4dcb-a091-7c6b9361e8d4",
   "metadata": {
    "tags": []
   },
   "source": [
    "______"
   ]
  },
  {
   "cell_type": "markdown",
   "id": "8031f32f-622c-454a-b263-40d7f8c8c43b",
   "metadata": {},
   "source": [
    "<b>\n",
    "    \n",
    "```ruby\n",
    "['cot', 'bed', 'mat'].sort_by do |word|\n",
    "  word[1]\n",
    "end   \n",
    "# => ['mat', 'bed', 'cot']\n",
    "```\n",
    "    \n",
    "</b>"
   ]
  },
  {
   "cell_type": "markdown",
   "id": "442fbdf5-224b-4c5d-bc16-b289cca03b80",
   "metadata": {
    "jupyter": {
     "source_hidden": true
    },
    "tags": []
   },
   "source": [
    "`Array#sort_by` is called on the array object `['cot', 'bed', 'mat']`.  A `do..end` block is passed to the method call as an argument and each element from the array object is passed to the block and assigned to the local variable `word`.  Sorting is carried out by comparing the items in a collection with each other, and ordering them based on the result of that comparison.  The comparison is done using the appropriate method for the item type, in this case the `String<=>` method.  \n",
    "\n",
    "`String<=>` will return `-1`, `0` or `1` depending on whether the first item is less than, equal to or greater than the second item.  If the two items are of different data types and they can't be compared then `String<=>` will return `nil` and `sort` will output an `ArgumentError` message.  `String<=>` compares multi-character strings character by character.  If each character in one string is equal to the corresponding character in the other string then strings will be compared by their lengths.  The longer string will be considered greater than the shorter string.  \n",
    "\n",
    "String order is determined by a character's position in the ASCII table.  This ASCII character order determines the result when we compare one ASCII character with another using the `String<=>` method.  \n",
    "\n",
    "In this case, `sort_by` is called with a block.  The code in the block determines how the items are compared.  Here we are sorting using the character at index 1 of each string, so only the character `o`, `e` and `a` are compared and the strings are ordered according to the comparison of those characters.  The other characters in the strings are ignored entirely.  "
   ]
  },
  {
   "cell_type": "markdown",
   "id": "1601ce49-5e72-461e-9461-6257e0910199",
   "metadata": {},
   "source": [
    "______"
   ]
  },
  {
   "cell_type": "markdown",
   "id": "cfea66bc-fbe1-4957-9faf-9e00a1879b78",
   "metadata": {},
   "source": [
    "<b>\n",
    "    \n",
    "```ruby\n",
    "people = { Kate: 27, john: 25, Mike:  18 }\n",
    "\n",
    "people.sort_by do |name, _|\n",
    "  name.capitalize\n",
    "end\n",
    "# => [[:john, 25], [:Kate, 27], [:Mike, 18]]\n",
    "```\n",
    "    \n",
    "</b>"
   ]
  },
  {
   "cell_type": "markdown",
   "id": "32d0648c-e384-4a58-9f21-2f50fed78322",
   "metadata": {
    "jupyter": {
     "source_hidden": true
    },
    "tags": []
   },
   "source": [
    "The local variable `people` is initialized to a hash with the value `{ Kate: 27, john: 25, Mike:  18 }`.  `#Hash.sort_by` is called on the hash object referenced by the local variable `people`.  A `do..end` block is passed to method call as an argument and each key-value pair from the calling object is passed to the block and assigned the local variable names `name` and `_`, respectively.  `_` is used in this case to represent each value because the values are not used within the block.  \n",
    "\n",
    "Sorting is carried out by comparing items in a collection and ordering them based on the result of that comparison.  The comparison is done using the method appropriate for the item's data type.  In this case, the code in the block determines how the items are compared.  Here we are sorting the capitalized version of each hash key, which are symbols.  `Symbol<=>` first converts a symbol to a string before doing the comparison.  \n",
    "\n",
    "Therefore, similar to `String<=>`, `Symbol<=>` will return `-1`, `0`, `1` depending on whether the first item is less than, equal to or greater than the second item.  If the two items are of different data types and cannot be compared, `<=>` returns `nil` and `sort_by` outputs an `ArgumentError` message.  \n",
    "\n",
    "Strings are compared character by characrter.  If each character in a string is equal to the corresponding character in the other string then the two strings are compared by length, with the longer string considered to be greater.  String order is dertermined by a character's position in the ASCII table (strings are compared in 'ASCIIbetical' order).   Because uppercase characters come before lowercase characters in the ASCII table, we invoke the `capitalize` method on the hash key assigned to the block variable `name` on each iteration so that when the keys are compared they are all capitalized.  "
   ]
  },
  {
   "cell_type": "markdown",
   "id": "8dfa6647-70e5-46a8-ae04-9b32651648b1",
   "metadata": {},
   "source": [
    "_____"
   ]
  },
  {
   "cell_type": "markdown",
   "id": "773f68e8-dbde-4fbb-91a1-62578ad14115",
   "metadata": {},
   "source": [
    "# Variable Scope"
   ]
  },
  {
   "cell_type": "code",
   "execution_count": 8,
   "id": "828dea72-4288-49c4-b702-f88ed2b12515",
   "metadata": {},
   "outputs": [
    {
     "name": "stdout",
     "output_type": "stream",
     "text": [
      "1\n",
      "2\n"
     ]
    }
   ],
   "source": [
    "a = 1\n",
    "\n",
    "loop do \n",
    "  puts a \n",
    "  a += 1\n",
    "  break\n",
    "end\n",
    "\n",
    "puts a"
   ]
  },
  {
   "cell_type": "markdown",
   "id": "03f39955-b735-4423-975c-22ad25a09cb0",
   "metadata": {
    "jupyter": {
     "source_hidden": true
    },
    "tags": []
   },
   "source": [
    "Local variable `a` is initialized on line 1 to an integer object wit the value 1.  The `loop` method is invoked on line 3 and a `do..end` block is passed to it as an argument.  On line 4 the `puts` method is invoked and the integer referenced by local variable `a` is passed to it as an argument.   This will output `1`.  On line 5 the local variable `a` is reassigned to the return value of the `Integer#+` method called on the local variable `a` with the integer `1` passed to it as an argument.  So now `a` points to an integer object with the value `2`.  On line 6 we break out of the loop with the keyword `break`.  On line 9 the `puts` method is invoked and the local variable `a` is passed to it as an argument.  Since `a` was reassigned within the block this will output `2`.  Since `puts a` is the last evaluated line, this code will return since the puts method invocation always returns nil.\n",
    "\n",
    "This code demonstrates that local variables initialized outside of a block's scope can be accessed within the block's scope and that you can change variables within an inner scope and have that change affect the outer scope.  "
   ]
  },
  {
   "cell_type": "markdown",
   "id": "87f7b526-89e3-445d-9a2e-1aa554d12abe",
   "metadata": {},
   "source": [
    "_____"
   ]
  },
  {
   "cell_type": "code",
   "execution_count": 1,
   "id": "041b647b-cd6e-4b33-bc37-15a21fba9040",
   "metadata": {},
   "outputs": [
    {
     "name": "stdout",
     "output_type": "stream",
     "text": [
      "3\n",
      "2\n"
     ]
    }
   ],
   "source": [
    "a = 4\n",
    "b = 2\n",
    "\n",
    "loop do\n",
    "  c = 3\n",
    "  a = c\n",
    "  break\n",
    "end\n",
    "\n",
    "puts a\n",
    "puts b"
   ]
  },
  {
   "cell_type": "markdown",
   "id": "e8965edc-2969-4694-8383-5cfe73e0b5ec",
   "metadata": {
    "jupyter": {
     "source_hidden": true
    },
    "tags": []
   },
   "source": [
    "The local variable `a` is initialized on line 1 to the integer `4`.  The local variable `b` is initialized on line 2 to the local variable `b`.  \n",
    "\n",
    "The `loop` method is invoked on line 4 and a `do..end` block is passed to it as an argument.  Within the block, on line 5, local variable `c` is initialized to the integer `3`.  This variable has the block as its scope. On line 6 local variable `a` is ressigned to the same integer object that local variable `c` is referencing.  On line 7 the `break` keyword is used to exit out of the loop.  \n",
    "\n",
    "The `puts` method is invoked on line 10 and the local variable `a` is passed in as an argument. Since `a` was reassigned within the block to the integer object `3`, this will output `3` and return `nil`.  The `puts` method is invoked on line 11 and the local variable `b` is passed to it as an argument.   This will output `2` and return `nil`.  \n",
    "\n",
    "This code demonstrates that variables initialized within the outer scope can be accessed in a block's inner scope.  It also demonstrates the concept of variables as pointers; when local variable `a` is reassigned to the object bound to local variable `c`, both variables point to the same object and address in memory.  \n",
    "\n",
    "Since `puts b` is the last evaluated line, this code will return since the `puts` method invocation always returns `nil`.  \n",
    "\n",
    "`3`<br>\n",
    "`2`"
   ]
  },
  {
   "cell_type": "markdown",
   "id": "f7abc237-7718-47aa-8e02-35f0be207cb3",
   "metadata": {},
   "source": [
    "_____"
   ]
  },
  {
   "cell_type": "code",
   "execution_count": 3,
   "id": "59ea3a1d-7303-4e39-8b5e-038e8be82a59",
   "metadata": {},
   "outputs": [
    {
     "name": "stdout",
     "output_type": "stream",
     "text": [
      "5\n"
     ]
    },
    {
     "ename": "NameError",
     "evalue": "undefined local variable or method `b' for #<Object:0x00007f99362496f0>",
     "output_type": "error",
     "traceback": [
      "\u001b[31mNameError\u001b[0m: undefined local variable or method `b' for #<Object:0x00007f99362496f0>",
      "(irb):9:in `irb_binding'"
     ]
    }
   ],
   "source": [
    "a = 4\n",
    "\n",
    "loop do\n",
    "  a = 5\n",
    "  b = 3\n",
    "  break\n",
    "end\n",
    "\n",
    "puts a\n",
    "puts b"
   ]
  },
  {
   "cell_type": "markdown",
   "id": "8473696d-0742-4e0b-af76-2c91f2adb555",
   "metadata": {
    "jupyter": {
     "source_hidden": true
    },
    "tags": []
   },
   "source": [
    "The local variable `a` is initialized on line 1 to an integer object with the value `4` within the outer scope.  The `loop` method is called on line 3 and a `do..end` block is passed to it as an argument.  Within the block's scope, `a` is reassigned to a new integer object with the value `5` on line 4.  The local variable `b` is initialized on line 5 to an integer object with the value `3.`.  This variable has the block as it's scope.  On line 6 the `break` keyword is used to exit out of the loop.  \n",
    "\n",
    "The `puts` method is invoked on line 9 and the integer object referenced by `a` is passed in as an argument. Since `a` was reassigned to the integer `5` this method call will output `5`.  The `puts` method is invoked again on line 10 and the integer object referenced by local variable `b` is passed in as an argument.  Because local variable `b` was initialized within the block's scope, it cannot be accessed outside of that scope.  Therefore, this method call will output a `NameError` message.\n",
    "\n",
    "This code demonstrates the concept of local variable scope, specifically how variables initialized within a block's inner scope cannot be accessed in the outer scope."
   ]
  },
  {
   "cell_type": "code",
   "execution_count": 1,
   "id": "1744245c-f534-4e44-a81d-a2775faa3a8c",
   "metadata": {},
   "outputs": [
    {
     "name": "stdout",
     "output_type": "stream",
     "text": [
      "hi\n",
      "hi\n"
     ]
    },
    {
     "ename": "NameError",
     "evalue": "undefined local variable or method `a' for #<Object:0x00007fd8d0a4c698>",
     "output_type": "error",
     "traceback": [
      "\u001b[31mNameError\u001b[0m: undefined local variable or method `a' for #<Object:0x00007fd8d0a4c698>",
      "(irb):6:in `block in irb_binding'",
      "(irb):5:in `loop'",
      "(irb):5:in `irb_binding'"
     ]
    }
   ],
   "source": [
    "2.times do\n",
    "  a = 'hi'\n",
    "  puts a \n",
    "end\n",
    "\n",
    "loop do \n",
    "  puts a \n",
    "  break\n",
    "end\n",
    "\n",
    "puts a "
   ]
  },
  {
   "cell_type": "markdown",
   "id": "7bf5bb59-e2a5-4ecc-b952-8cae46dd5dfd",
   "metadata": {
    "jupyter": {
     "source_hidden": true
    },
    "tags": []
   },
   "source": [
    "The `times` method is invoked on the integer `2` on line 1 and a `do..end` block is passed to it as an argumetn.  Within the block, on line 2, the local variable `a` is initialized to a string object with the value `2`.  On line 3 the `puts` method is invoked and the string object referenced by local variable `a` is passed to it as an argument.  This will output `\"hi\"` and `\"hi\"` will be output twice because the `times` method will iterate the given block 2 times. \n",
    "\n",
    "The `loop` method is invoked on line 6 and a `do..end` block is passed to it as an argument.  Within this block's scope, on line 7, the `puts` method is invoked and the variable `a` is passed to it as an argument.  This will output a `NameError` message because `a` was initialized in a separate block's scope, so it is no accessible in the block's scope defined by the `do..end` keywords on line 6 and 9.  \n",
    "\n",
    "This code demonstrates that peer scopes do not conflict and peer blocks cannot reference variables initialized in other blcoks.  The variables initializeed in the scope of the block passed to the `times` invocation on lines 1-4 are not accessbile in the scope of the block passed to `loop` call on lines 6-9.  "
   ]
  },
  {
   "cell_type": "code",
   "execution_count": 2,
   "id": "e4413b64-d11d-45f4-b084-b565eb95e365",
   "metadata": {},
   "outputs": [
    {
     "name": "stdout",
     "output_type": "stream",
     "text": [
      "5\n",
      "5\n",
      "4\n",
      "2\n"
     ]
    }
   ],
   "source": [
    "a = 4\n",
    "b = 2\n",
    "\n",
    "2.times do |a|\n",
    "  a = 5\n",
    "  puts a\n",
    "end\n",
    "\n",
    "puts a\n",
    "puts b"
   ]
  },
  {
   "cell_type": "markdown",
   "id": "6dc678ac-0966-42d5-b27f-3a265bf46443",
   "metadata": {
    "jupyter": {
     "source_hidden": true
    },
    "tags": []
   },
   "source": [
    "Local variable `a` is intialized on line 1 to an integer object with the value `4` in the outer scope.  Local variable `b` is initialized on line 2 to an integer object with the value `2`.  On line 4 the `times` method is called on the integer `2` and a `do..end` block is passed to the method it as an argument.  The `times` method passes each value from `0` to `1` (`2 - 1`) to the block and assigns the values to the local variable `a`. \n",
    "\n",
    "Within the block's scope, the local variable `a` is intialized to the value `5`.  This variable has the block as its scope.  **We are assiging the integer 5 to the local variable `a` which was passed in as a parameter of the `do..end` block and the value of local variable `a` intialized outside of the block remains `4`.**  The `puts` method is invoked. on line 6 and the integer object referenced by local variable `a` will be output.  `5` will be output twice since the `times` method will iterate the given block 2 times.  \n",
    "\n",
    "The `puts` method is invoked on line 9 with the integer object referenced by local variable `a` passed in as an argument.  This will output `4` because `a` is still referencing the same integer object it was assigned to on line 1.  The `puts` method call is invoked on line 10 with the integer object reference by local variable `b` passed to it as an argument.  This will output `2`.  \n",
    "\n",
    "This code demonstrates the concept of variable shadowing.  In this case, the local variable `a` initialized on line 1 shares a name with the block parameter `a` on line 4.  This prevents the block from accessing the variable in the outer scope and reassigning it within the block's inner scope.\n",
    "\n",
    "`5`<br>\n",
    "`5`<br>\n",
    "`4`<br>\n",
    "`2`"
   ]
  },
  {
   "cell_type": "code",
   "execution_count": 4,
   "id": "2d26b9f9-6430-4c36-b88e-074d22e07366",
   "metadata": {},
   "outputs": [
    {
     "name": "stdout",
     "output_type": "stream",
     "text": [
      "hello\n",
      "hello\n",
      "hello\n"
     ]
    }
   ],
   "source": [
    "def example(str)\n",
    "  i = 3\n",
    "  loop do\n",
    "    puts str\n",
    "    i -= 1\n",
    "    break if i == 0\n",
    "  end\n",
    "end\n",
    "\n",
    "a = example('hello')"
   ]
  },
  {
   "cell_type": "markdown",
   "id": "6cb843a4-f367-4f44-96d7-cf67c29fa3f4",
   "metadata": {
    "jupyter": {
     "source_hidden": true
    },
    "tags": []
   },
   "source": [
    "Lines 1-8 contain the the `example` method definition, which takes one parameter. The local variable `i` is intialized on line 2 to the integer object with the value `3`.  The `loop` method is invoked on line 3 and a `do..end` block is passed to it as an argument.  \n",
    "\n",
    "Within the block's scope, on line 4, the `puts` method is invoked and the object referenced by local variable `str` is passed in as an argument.  On line 5 `Integer#-` is called on the local variable `i` and the integer `1` is passed to it as an argument.  This reassigns local variable `i` so it now points to the return value of `i.-(1)`.  On line 6 the `break` keyword is used to exit out of the loop if value of the interger object that local variable `i` is referencing is equal to `0`.\n",
    "\n",
    "On line 10 `example` is invoked and `\"hello\"` is passed in as an argument.  This will output `\"hello\"` three times because within the method `loop` will iterate three times before `i` is equal to `0`. The code outputs `\"hello\"` 3 times and returns `nil`. The last evaluated line in the method is returned since there is no explicit return inside of the method definition. The last evaluated expression is `break if i == 0`, which returns `nil`."
   ]
  },
  {
   "cell_type": "code",
   "execution_count": 7,
   "id": "a2ad9dc2-2f10-4372-9ebb-c6792634dc94",
   "metadata": {},
   "outputs": [
    {
     "ename": "NameError",
     "evalue": "undefined local variable or method `a' for #<Object:0x00007fd8d0a4c698>",
     "output_type": "error",
     "traceback": [
      "\u001b[31mNameError\u001b[0m: undefined local variable or method `a' for #<Object:0x00007fd8d0a4c698>",
      "(irb):3:in `some_method'",
      "(irb):6:in `irb_binding'"
     ]
    }
   ],
   "source": [
    "a = 'hi'\n",
    "\n",
    "def some_method\n",
    "  puts a\n",
    "end\n",
    "\n",
    "some_method"
   ]
  },
  {
   "cell_type": "markdown",
   "id": "ad4ab62f-bd2e-4376-a651-df276f150122",
   "metadata": {
    "jupyter": {
     "source_hidden": true
    },
    "tags": []
   },
   "source": [
    "Local variable `a` is initialized to a string object with the value \"hi\" on line 1.  The method definition for `some_method` is on lines 1-3.  Within the method definition, on line 4, the `puts` method is invoked and the variable `a` is passed in as an argument.  The method invocation on line 7 will output a `NameError` message because variables initialized in an outer scope cannot be accessed within a method scope.  Local variables that are not initialized within a method definition must be defined as parameters."
   ]
  },
  {
   "cell_type": "code",
   "execution_count": 8,
   "id": "27deef73-63c8-47d6-87ed-7311b0397369",
   "metadata": {},
   "outputs": [
    {
     "name": "stdout",
     "output_type": "stream",
     "text": [
      "hi\n"
     ]
    }
   ],
   "source": [
    "hello = 'hi'\n",
    "\n",
    "def hello\n",
    "  \"Saying hello!\"\n",
    "end\n",
    "\n",
    "puts hello"
   ]
  },
  {
   "cell_type": "markdown",
   "id": "d86f5cc1-9096-4634-a55d-23982def7984",
   "metadata": {
    "jupyter": {
     "source_hidden": true
    },
    "tags": []
   },
   "source": [
    "If variable and method share a name, Ruby will first search for variable.  Ruby will first search for the local variable, and if is not found, then Ruby tries to find a method with the given name.  If neither local variable nor method is found, then a `NameError` message will be thrown.  \n",
    "\n",
    "To remove some of the ambiguity in a situation like this, we can indicate that we want to call the method by including a set of empty argument parentheses with the method invocation.  For example, replacing `puts hello` with `puts hello()` will indicate to Ruby that we want to call the `hello` method and not the local variable."
   ]
  },
  {
   "cell_type": "markdown",
   "id": "1ecb2e8b-7755-4372-8375-eefc6b7058dc",
   "metadata": {},
   "source": [
    "#  Mutating vs. Non-Mutating Methods  (Pass by Value vs. Pass by Reference)"
   ]
  },
  {
   "cell_type": "code",
   "execution_count": 9,
   "id": "30f309b7-f934-40d3-bca3-0453e7918455",
   "metadata": {},
   "outputs": [
    {
     "name": "stdout",
     "output_type": "stream",
     "text": [
      "\"hello\"\n"
     ]
    },
    {
     "data": {
      "text/plain": [
       "\"hello\""
      ]
     },
     "execution_count": 9,
     "metadata": {},
     "output_type": "execute_result"
    }
   ],
   "source": [
    "def amethod(param)       # param = str\n",
    "    param += ' universe' # param = param + ' universe'\n",
    "    param << ' world'\n",
    "end\n",
    "\n",
    "str = 'hello'\n",
    "amethod(str)\n",
    "\n",
    "p str"
   ]
  },
  {
   "cell_type": "markdown",
   "id": "39316d23-a3ea-40e6-a1a1-c3382b3c8d79",
   "metadata": {
    "jupyter": {
     "source_hidden": true
    },
    "tags": []
   },
   "source": [
    "The local variable `str` is initialized on line 6 to a string object with the value `\"hello\"`.  The string obect referenced by the local variable `str` is then passed into the `amethod` call as an argument.  The method defintion for `amethod` is on lines 1 - 4 and it takes one parameter. (`param` is assigned to `str` at this point.  Line 1 is where the `param` local method variable is initialized.) \n",
    "\n",
    "Line 2 within the `amethod` definition is reassignment and it translates to `param = param + \" universe\"`.  The `String#+` method is called on the argument string object assigned to the local variable `param` and the string `\" universe\"` is passed to the method as an argument.  This is a non-mutating method which returns a new string.  This new string is then assigned to a local variable `param`.  (The string object that this variable references is now different than the string object that the local variable `str` references.)\n",
    "\n",
    "On line 3 the `String#<<` method is called on the **new** string object referenced by the local variable `param`.  This is a destructive method which will mutate the value of the string assigned to `param`.  \n",
    "\n",
    "On line 9 the `p` method is invoked and the string object bound to local variable `str` is passed in as an argument.  This will out `\"hello\".`\n",
    "\n",
    "This code demonstrates the concept of a pass by value object passing strategy in Ruby.  The `String#+` method that is called on the argument string is a non-mutating method so it does not modify the value of the original object.  "
   ]
  },
  {
   "cell_type": "code",
   "execution_count": 10,
   "id": "6b1e2aea-dbf5-40e8-b4e6-5df728a16486",
   "metadata": {},
   "outputs": [
    {
     "name": "stdout",
     "output_type": "stream",
     "text": [
      "hi there, Bob\n"
     ]
    }
   ],
   "source": [
    "a = \"hi there\"\n",
    "b = a\n",
    "a << \", Bob\"\n",
    "\n",
    "puts b"
   ]
  },
  {
   "cell_type": "markdown",
   "id": "81fc4254-b9e8-4c83-9c3f-ffc3fe9e3113",
   "metadata": {
    "jupyter": {
     "source_hidden": true
    },
    "tags": []
   },
   "source": [
    "Local variable `a` is initialized on line 1 to a string object with the value \"hi there\".  Local variable `b` is initialized on line 2 to the string object that is referenced by local variable `a`.  `String#<<` is called on local variable `a` and the string `\", Bob\"` is passed to the method as an argument.  This is a destructive method that mutates the caller and modifies the value of the string object assigned to both `a` and `b`. The string value is now \"hi there, Bob\".  \n",
    "\n",
    "The `puts` method is invoked on line 5 which will output \"hi there, Bob\" and return `nil`.  \n",
    "\n",
    "This code demonstrates the concept of variables as pointers. `b` reflects the changes made to `a` because both variables are poitning to the same string object and space in memory.  The code also demonstrates how mutating method, rather than returning a new string, change or mutate the state of the object referenced by the caller.  "
   ]
  },
  {
   "cell_type": "code",
   "execution_count": 17,
   "id": "4b36dd6c-0d79-4a14-baa2-36b6db32a74a",
   "metadata": {},
   "outputs": [
    {
     "name": "stdout",
     "output_type": "stream",
     "text": [
      "[\"I like the letter: a\", \"I like the letter: b\", \"I like the letter: c\"]\n",
      "[\"a\", \"b\", \"c\"]\n",
      "\n"
     ]
    }
   ],
   "source": [
    "def test(b)\n",
    "  b.map {|letter| \"I like the letter: #{letter}\"}\n",
    "end\n",
    "\n",
    "a = ['a', 'b', 'c']\n",
    "p test(a)\n",
    "p a"
   ]
  },
  {
   "cell_type": "markdown",
   "id": "5f888813-1660-499d-98ef-dd7cd22e6dd9",
   "metadata": {
    "jupyter": {
     "source_hidden": true
    },
    "tags": []
   },
   "source": [
    "The local variable `a` is initialized on line 5 to an array object with the value `['a', 'b', 'c']`.  The `test` method is invoked on line 6 and the object referenced by `a` is passed in as an argument.  When variables are passed to methods as arguments, their values are essentially assigned to a variable inside the method.  In this case, the local method variable `b` in the `test` method definition on lines 1-3, is pointing to the same array object as local variable `a`.\n",
    "\n",
    "Within the method, `Array#map` is called on `b` and a block is passed to it as an argument, denoted. by the `{ }`.  `map` passes each element from the calling collection into the block in the form of an argument, in this case `letter`.  Within the block, string interpolation is used on each iteration to insert the current element from the calling collection to the end of a string.  \n",
    "\n",
    "`map` is a non-mutating method which returns a new array.  Therefore, when `test` is invoked on line 6 and `a` is passed to it as an argument, the return value will be a new array object and local variable `a`'s value will not be changed.  \n",
    "\n",
    "This code demonstrates the concept of a pass by value object passing strategy. `map` is a non-mutating method so it does not change the state of the array object referenced by both local method variable `b` and the original local variable `a`.  "
   ]
  },
  {
   "cell_type": "code",
   "execution_count": null,
   "id": "c1c9ad5d-c4dc-4283-98b1-d1fdec73966e",
   "metadata": {},
   "outputs": [],
   "source": [
    "a = 'hello'\n",
    "b = a\n",
    "\n",
    "b << ' world'\n",
    "\n",
    "a = 'hey'\n",
    "b << ' universe'\n",
    "\n",
    "puts a\n",
    "puts b"
   ]
  },
  {
   "cell_type": "markdown",
   "id": "05289547-83d0-4267-a1e9-94000857a336",
   "metadata": {
    "jupyter": {
     "source_hidden": true
    },
    "tags": []
   },
   "source": [
    "The local variable `a` is initialized to a string object with the value \"hello\" on line 1.  On line 2, the local variable `b` is initialized to the string object referenced by local variable `a`.  On line 3 `String#<<` is called on the string object assigned to local variable `b` and the string \" world\" is passed in as an argument.  This is a destructive method which mutates the value of the string object referenced by both `b` and `a`.  At this point, both variables point to the string \"hello world\".  \n",
    "\n",
    "On line 6 local variable `a` is reassigned to a different string object with the value \"hey\".  On line 7 `String#<<` is called on local variable `b` and the string \"universe\" is passed in as an argument. This is a mutating method which will change the value of the string assigned to `b` to \"hello world universe\". Because local variable `a` was reassigned on line 6, it now points to a different string object than local variable `b` so the string bound to `a` will not be affected by the method call on line 7.  \n",
    "\n",
    "On line 9 the `puts` method is invoked and the string object referenced by local variable `a` is passed in as an argument.  This will output \"hey\".  On line 10 the `puts` method is invoked and the string object referenced by local variable `b` is passed in as an argument.  This will output \"hello world universe\".  Because `puts b` is the last evaluated line in this code, it will return `nil` because `puts` always returns `nil`. \n",
    "\n",
    "This code demonstrates the concept of variables as pointers.  When `a` and `b` are first initialized, they are poiting to the same string object or address in memory.  So there existed two variables and one object.  When `a` is reassigned to a different string object on line 6, it pointed to a different string object, so now there exists two variables each pointing to a different string object or address in memory.  "
   ]
  },
  {
   "cell_type": "code",
   "execution_count": null,
   "id": "2e25ecdd-97be-4d04-8b7d-60c743af32ed",
   "metadata": {
    "tags": []
   },
   "outputs": [],
   "source": [
    "number = 3\n",
    "puts number\n",
    "\n",
    "number *= 2\n",
    "puts number"
   ]
  },
  {
   "cell_type": "markdown",
   "id": "e2c32759-7a65-4f14-a372-b2f58ac1aaa1",
   "metadata": {
    "jupyter": {
     "source_hidden": true
    },
    "tags": []
   },
   "source": [
    "On line 1 local variable `number` is initialized to the integer object 3.  Line 4 translates to `number = number * 2.`. `Integer#*` is called on the integer objected referenced by number and 2 is passed to the method as an argument.  This is non-mutating method which returns a new integer object, 6, and assigns/binds it it to the variable `number.`\n",
    "\n",
    "This demonstrates the immutability of integers in Ruby.  There are no methods available to the Integer class that allow you to mutate or change the state of an integer object.  You can only disconnect one integer from a variable and bind another integer to that variable.  "
   ]
  },
  {
   "cell_type": "code",
   "execution_count": null,
   "id": "23907746-34a0-4c55-acba-1650aa5801db",
   "metadata": {},
   "outputs": [],
   "source": [
    "def increment(a)\n",
    "  a = a + 1\n",
    "end\n",
    "\n",
    "b = 3\n",
    "puts increment(b)\n",
    "puts b              "
   ]
  },
  {
   "cell_type": "markdown",
   "id": "d67096aa-e41a-43b4-a4fe-7f1c68ab483c",
   "metadata": {
    "jupyter": {
     "source_hidden": true
    },
    "tags": []
   },
   "source": [
    "On line 5 local variable `b` is initialized to the integer object with the value `3`.  On line 6 the `increment` method is invoked and the integer object referenced by local variable `b` is passed to it as an argument.  The method definition for `increment` is on lines 1 - 3.  The method takes one parameter, `a`.  When the object referenced by `b` is passed to `increment` it is bound to variable `a`.  So `a` and `b` are both aliases for the integer object 3.  \n",
    "\n",
    "Within the method, `Integer#+` is called on the argument local variable `a`, and 1 is passed in as an argument.  This method call will return a new integer with the value 4.  This new integer is then assigned to local variable `a`. This variable is now pointing to a different integer object than the local variable `b`.  \n",
    "\n",
    "On line 6 the `puts` method is invoked and the return value of `increment(b)` is passed in as an argument.  This will output a string representation of 4.  \n",
    "\n",
    "On line 7 the `puts` method is invoked and the integer referenced by local variable `b` is passed to it as an argument.  This will output `3`.   \n",
    "\n",
    "This code demonstrates the immutability of integers and a pass by value object passing strategy.  You can reasonably say that `b`'s value is not mutated by `#increment` since `3` is passed by value to `#increment` where it is bound to variable `a`. Even though `a` is assigned to `4` inside the method and returned to the caller, the original object referenced by `b` is untouched."
   ]
  },
  {
   "cell_type": "code",
   "execution_count": 18,
   "id": "ff899cdf-afc9-4fbc-b87a-cb153fd47bf0",
   "metadata": {},
   "outputs": [
    {
     "name": "stdout",
     "output_type": "stream",
     "text": [
      "abc*\n",
      "abc*\n"
     ]
    }
   ],
   "source": [
    "def append(s)\n",
    "  s << '*'\n",
    "end\n",
    "\n",
    "t = 'abc'\n",
    "puts append(t)    # prints abc*\n",
    "puts t            # prints abc*"
   ]
  },
  {
   "cell_type": "markdown",
   "id": "0e5f9102-490f-4ed2-a7c5-c7f5063b2609",
   "metadata": {
    "jupyter": {
     "source_hidden": true
    },
    "tags": []
   },
   "source": [
    "The local variable `t` is initialized on line 5 to a string object with the value \"abc\".  On line 6 the `append` method is called and the string object referenced by local variable `t` is passed in as an argument.  `t`'s value is passed to `append` and bound to the local method variable `s`.  Within the method, `String#<<` is called on local variable `s` and `\"*\"` is passed to the method as an arguemnt.  This is a destructive method and will mutate the value of the string object bound to local variable `s` and local variable `t`.  \n",
    "\n",
    "Therefore, when `puts` is invoked on line 6 and the return value of `append(t)` is passed as an argument, it will output `\"abc*\"` because the `append` mutates the string object that was passed to it.  \n",
    "\n",
    "This code demonstrates a pass by reference object passing strategy because a reference to the original string object is passed to the method and the mutating method that is called on the object within the method alters the outside object as well.  "
   ]
  },
  {
   "cell_type": "code",
   "execution_count": 36,
   "id": "10310faf-6a57-4085-8383-2de7897c18f7",
   "metadata": {},
   "outputs": [
    {
     "name": "stdout",
     "output_type": "stream",
     "text": [
      "HELLO!\n",
      "HELLO!\n"
     ]
    }
   ],
   "source": [
    "def fix(value)\n",
    "  value.upcase!\n",
    "  value.concat('!')\n",
    "  value\n",
    "end\n",
    "\n",
    "s = 'hello'\n",
    "t = fix(s)\n",
    "\n",
    "puts s\n",
    "puts t"
   ]
  },
  {
   "cell_type": "markdown",
   "id": "91d4249e-193f-4314-94e4-bb0bfdfb890e",
   "metadata": {
    "jupyter": {
     "source_hidden": true
    },
    "tags": []
   },
   "source": [
    "Local variable `s` is initialized on line 7 to the string object with the value \"hello\".  On line 8 local variable `t` is initialized to the return value of invoking the `fix` method and passing in the object referenced by local variable `s` as an argument.  \n",
    "\n",
    "this binds the String represented by `'hello'` to `value`. In addition, `s` and `value` are now aliases for the String.\n",
    "\n",
    "The method definitioin for `fix` spans lines 1 - 5.  The object referenced by local variable `s` is passed to `fix` .  This binds the String represented by `'hello'` to `value`.  On line 2, the `String#upcase` method is invoked on the object assigned to local variable `value`.  This is a destructive method which mutates the value of the string object in place.  The String that is referenced by both `s` and `value` now contains the value \"HELLO\". On line 3 `String#concat` is called on the string object referenced by local variable `value`. This is also a mutating method which changes the state of the string object.  The String now has a value of \"HELLO!\", and both `s` and `value` still reference that object.  On line 4 the string object refereced by local variable `value` is implicitly returned.\n",
    "\n",
    "`#puts` is invoked on line 10 and the string object referenced by local variable `s` is passed in as an argument.  This will output \"HELLO!\".  `#puts` is invoked again on line 11 and the string object referenced by local variable `t` is passed in as an argument.  This will also output \"HELLO!\".  Since `puts t` is the last evaluated line, this code will return `nil` because `puts` always returns `nil`.  \n",
    "\n",
    "This code demonstrates the concept of mutating methods.  The mutating methods called on the string object passed to `fix` altered the state of the outside object as well.  Variables `s` and `t` both point to the the same object because the methods called within `fix` only mutated it and never disconnected it from reassigned it to a different variable.  This code also demonstrates a pass by reference object passing stategy ... "
   ]
  },
  {
   "cell_type": "code",
   "execution_count": 37,
   "id": "5456a4ae-f4d6-4301-8207-6a2d3df34f68",
   "metadata": {},
   "outputs": [
    {
     "name": "stdout",
     "output_type": "stream",
     "text": [
      "hello\n",
      "HELLO!\n"
     ]
    }
   ],
   "source": [
    "def fix(value)\n",
    "  value = value.upcase\n",
    "  value.concat('!')\n",
    "end\n",
    "\n",
    "s = 'hello'\n",
    "t = fix(s)\n",
    "\n",
    "puts s \n",
    "puts t"
   ]
  },
  {
   "cell_type": "markdown",
   "id": "f43e922b-e47e-43dc-af5f-4869b8612c36",
   "metadata": {
    "jupyter": {
     "source_hidden": true
    },
    "tags": []
   },
   "source": [
    "Local variable `s` is intialized on line 6 to a string object with the value \"hello\".  On line 7 local variable `t` is initialized to the return value of invoking `fix` with the object referenced by `s` passed in as an argument.  This binds the string assigned to `s` to the local variable `value` in `fix`.  \n",
    "The method definition for `fix` spans lines 1 to 4.  On line 2 `String#upcase` is called on the string object referenced by `value`.  This is a non-mutating method which returns a new string.   This new string is then assigned to a variable named `value`.  At this point, local variable `value` is no longer bound to the same string as local variable `s` and the string referenced by `value` now has the value `HELLO`.  \n",
    "\n",
    "On line 3 `String#concat` is called on the string object referenced by local variable `value`.  This is a mutating method which changes the value of the string object assigned to `value` in place.  The string object bound to `value` now has the value `HELLO!`.  This string object is implicitly returned by the method as it is the last evaluated line.  \n",
    "\n",
    "The `#puts` method is invoked on line 9 with the string object referenced by local variable `s` passed in as an argument. This will output \"hello\".  The `#puts` method is invoked on line 10 with the string object referenced by local variable `t` passed in as an argument.  This will output \"HELLO!\".  \n",
    "\n",
    "This code demonstrates a pass by value object passing strategy.  Because local variable `value` was reassigned to a new string object on line 2, the mutation which occurs on line 3 does not affect the original string object that local variable `s` is referencing.  ..."
   ]
  },
  {
   "cell_type": "code",
   "execution_count": 38,
   "id": "2f705818-4893-4316-bdb0-c20db2312cba",
   "metadata": {},
   "outputs": [
    {
     "name": "stdout",
     "output_type": "stream",
     "text": [
      "HELLO!\n",
      "HELLO!\n"
     ]
    }
   ],
   "source": [
    "def fix(value)\n",
    "  value = value.upcase!\n",
    "  value.concat('!')\n",
    "end\n",
    "\n",
    "s = 'hello'\n",
    "t = fix(s)\n",
    "\n",
    "puts s\n",
    "puts t"
   ]
  },
  {
   "cell_type": "markdown",
   "id": "682b3117-a5e6-421e-89c1-e9297d799675",
   "metadata": {
    "jupyter": {
     "source_hidden": true
    },
    "tags": []
   },
   "source": [
    "On line 1 the local variable `s` is initialized to a string object with the value \"hello\".  On line 7 the local variable `t` is initialized to the return value of calling `fix` and passing the string object referenced by local variable `s` in as an argument.  This binds the string assigned to `s` to the local variable `value` in the `fix` method definition on lines 1 -4. \n",
    "\n",
    "Within `fix`, `String#upcase!` is called on the string object referenced by `value` and the return value of this method call is assigned back to the variable `value`.  Because `#upcase!` is a mutating method which returns a reference to its caller.  Since the reference returned by `value.upcase!` is the same, alebit mutated, string that the method started with, the assignment effectively rebinds `value` back to the objecty it was previously bound.  At this point, `value` still points to the same string object as `s`. `value` now contains th value \"HELLO\".  \n",
    "\n",
    "On line 3 `String#concant` is called on the string object referenced by local variable `value` and \"!\" is passed in as an argument to the method call.  `concat#` is also a destructive method which mutates the value of the string object assigned to `value`.  `value` now contains th value \"HELLO!\".  \n",
    "\n",
    "`#puts` is invoked on lines 9 and 10 with the string objects referenced by local variables `s` and `t` passed in as arguments.  Since `s` and `t` still point to the same sting object, both method calls will output \"HELLO!\".  Since `puts t` is the last line evaluated, this code will return `nil` because `#puts` always returns `nil`.  \n",
    "\n",
    "This code demonstrates a pass by reference object passign stategy.  Both methods invoked within the `fix` method are destructive methods which returns the a reference to its caller ..."
   ]
  },
  {
   "cell_type": "code",
   "execution_count": 40,
   "id": "652389ad-8a4c-43f8-9f8f-d82a61dcd58f",
   "metadata": {},
   "outputs": [
    {
     "name": "stdout",
     "output_type": "stream",
     "text": [
      "[\"apple\", \"x\", \"peanut butter\"]\n",
      "[\"apple\", \"x\", \"peanut butter\"]\n"
     ]
    }
   ],
   "source": [
    "def fix(value)\n",
    "  value[1] = 'x'\n",
    "  value\n",
    "end\n",
    "\n",
    "arr = ['apple', 'carrots', 'peanut butter']\n",
    "new_arr = fix(arr)\n",
    "\n",
    "puts arr.inspect\n",
    "puts new_arr.inspect"
   ]
  },
  {
   "cell_type": "markdown",
   "id": "2ab17a7f-7740-43ba-9478-0feb2d884c8f",
   "metadata": {
    "tags": []
   },
   "source": [
    "On line 6 the local variable `arr` is initialized to an array object with the value `['apple', 'carrots', 'peanut butter']`.  On line 7 the local variable `new_arr` is initialized to the return value of calling `fix` and passing in the array object referenced by local variable `arr` in as an argument.  This binds the value assigned to `arr` to the local variable `value` in the `fix` method definition.  \n",
    "\n",
    "Within the `fix` method definition on lines 1 - 4, the `Array#[]` method is called on the array object referenced by `value` and \"x\" is passed in as an argument.  This is a mutating method which sets the element at index 1 in the object referenced by `value` to 1.  At this point `value` and `arr` are still poiting to the same array object.  On line 3 the array object referenced by local variable `value` is implicitly returned since it's the last evaluated line of code in the method.  \n",
    "\n",
    "The `#puts` method is invoked on lines 9 and 10 with the array objects referenced by local variables `arr` and `new_arr`, respectively, passed in as arguments.  Since `arr` and `new_arr` reference the same array object they will both output `['apple', 'x', 'peanut butter']`.  "
   ]
  },
  {
   "cell_type": "markdown",
   "id": "56bd9416-f5ad-42c8-a1c5-09962a0a2cc7",
   "metadata": {},
   "source": [
    "# Collections"
   ]
  },
  {
   "cell_type": "code",
   "execution_count": 53,
   "id": "ab1a29fb-dc0b-452c-83c9-22c737e4e87e",
   "metadata": {},
   "outputs": [
    {
     "data": {
      "text/plain": [
       "[4, 7, 10]"
      ]
     },
     "execution_count": 53,
     "metadata": {},
     "output_type": "execute_result"
    }
   ],
   "source": [
    "arr = [*(1..20).step(3)]\n",
    "arr[1..3]"
   ]
  },
  {
   "cell_type": "code",
   "execution_count": 64,
   "id": "66be07d8-e0ab-4e50-a39a-7699715bc797",
   "metadata": {},
   "outputs": [
    {
     "data": {
      "text/plain": [
       "[5, 4, 3, 1, 5, 5, 1, 5, 2, 3]"
      ]
     },
     "execution_count": 64,
     "metadata": {},
     "output_type": "execute_result"
    }
   ],
   "source": [
    "hsh = Hash.new { |h, k| h[k] = [] }\n",
    "arr = 10.times.map { [*1..5].sample }"
   ]
  },
  {
   "cell_type": "code",
   "execution_count": 66,
   "id": "cd9b547d-99f7-444f-b327-d8e3c4190789",
   "metadata": {},
   "outputs": [
    {
     "data": {
      "text/plain": [
       "[5, 4, 3, 1, 5, 5, 1, 5, 2, 3]"
      ]
     },
     "execution_count": 66,
     "metadata": {},
     "output_type": "execute_result"
    }
   ],
   "source": [
    "arr.each do |num|\n",
    "    hsh[num.to_s] << num\n",
    "end"
   ]
  },
  {
   "cell_type": "code",
   "execution_count": 67,
   "id": "7944e2a5-04d5-44e2-ad64-6125a547c3e9",
   "metadata": {},
   "outputs": [
    {
     "data": {
      "text/plain": [
       "{\"5\"=>[5, 5, 5, 5], \"4\"=>[4], \"3\"=>[3, 3], \"1\"=>[1, 1], \"2\"=>[2]}"
      ]
     },
     "execution_count": 67,
     "metadata": {},
     "output_type": "execute_result"
    }
   ],
   "source": [
    "hsh"
   ]
  },
  {
   "cell_type": "code",
   "execution_count": null,
   "id": "43c08de6-f68e-47d7-a213-9875851c4a71",
   "metadata": {},
   "outputs": [],
   "source": []
  }
 ],
 "metadata": {
  "kernelspec": {
   "display_name": "Ruby 2.7.5",
   "language": "ruby",
   "name": "ruby"
  },
  "language_info": {
   "file_extension": ".rb",
   "mimetype": "application/x-ruby",
   "name": "ruby",
   "version": "2.7.5"
  },
  "toc-showcode": false
 },
 "nbformat": 4,
 "nbformat_minor": 5
}
