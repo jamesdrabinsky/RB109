{
 "cells": [
  {
   "cell_type": "markdown",
   "metadata": {},
   "source": [
    "## Local Variable Scope"
   ]
  },
  {
   "cell_type": "markdown",
   "metadata": {},
   "source": [
    "#### 1. What does the following code return? What does it output? Why? What concept does it demonstrate?"
   ]
  },
  {
   "cell_type": "code",
   "execution_count": null,
   "metadata": {},
   "outputs": [],
   "source": [
    "a = “Hello”\n",
    "b = a\n",
    "a = “Goodbye”\n",
    "\n",
    "puts a\n",
    "puts b"
   ]
  },
  {
   "cell_type": "markdown",
   "metadata": {},
   "source": [
    "On line 1 the local variable `a` is initialized to the value `\"Hello\"`.  On line 2 the local variable `b` is initialized to the string object that is bound to local variable `a`, which is `\"Hello\"`.  On line 3 the local variable `a` is reassigned and bound to a new string object, `\"Goodbye\"`.  Local variables `a` and `b` are not poiting to different addresses in memory.   \n",
    "\n",
    "On line 5 the `puts` method is invoked and the string object assigned to local variable `a` is passed to it as an argument.  This method call will output  `\"Goodbye\"` and return `nil` because `puts` always returns `nil`.  On line 5 the `puts` method is invoked and the string object assigned to local variable `b` is passed to it as an argument.  This method call will output  `\"Hello\"` and return `nil` because `puts` always returns `nil`.  \n",
    "\n",
    "This code demonstrates the concept of variables as pointers because before the code on line 3 is exectuted, local variables `a` and `b` are pointing to the same string object.  However, after local variable `a` is reassigned to the string object with the value `\"Hello\"`, they now reference different objects and spaces in memory."
   ]
  },
  {
   "cell_type": "markdown",
   "metadata": {},
   "source": []
  }
 ],
 "metadata": {
  "kernelspec": {
   "display_name": "Ruby 2.7.5",
   "language": "ruby",
   "name": "ruby"
  },
  "language_info": {
   "name": "ruby"
  },
  "orig_nbformat": 4
 },
 "nbformat": 4,
 "nbformat_minor": 2
}
