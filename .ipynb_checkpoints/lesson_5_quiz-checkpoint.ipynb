{
 "cells": [
  {
   "cell_type": "markdown",
   "metadata": {},
   "source": [
    "<b>1.\n",
    "\n",
    "Given the code below:\n",
    "```Ruby\n",
    "arr = ['340', '15', '1', '3400']\n",
    "\n",
    "arr.sort # => ['1', '15', '340', '3400']\n",
    "```\n",
    "\n",
    "Which of the following statements most accurately describes why that particular return value is produced?\n",
    "</b>"
   ]
  },
  {
   "cell_type": "markdown",
   "metadata": {},
   "source": [
    "`Array#sort` is called on the array object referenced by `arr`.  The comparison is carried out using the appropriate comparison method for the item type, in this case the `String#<=>` method. \n",
    "\n",
    "`sort` orders strings by comparing one string to another using the `String#<=>` method.  `String#<=>` will return `-1`, `0`, `1` depending on whether the first object is `less than`, `equal to`, or `greater than` the second object.  In the case that the two objects being compared are of different data types, the comparison will return `nil`, and `sort` will output an error message.  \n",
    "\n",
    "`String#<=>` compares multi-character strings character by character.  If all characters are equal, then the result is based on a compairson of the string lengths.  Thus, two strings are \"equal\" according to `String<=>` if they have the same length and the value of each characrter is equal to the value of the corresponding character in the other array.  \n",
    "\n",
    "String order is determined by a character's position in the ASCII table.  THerefore, it is this ASCII character order that determines the result when we compare one ASCII character with another using the `String<=>` method.  It is this ASCII character order that determines the result if we compare one ASCII character with another using the `String#<=>` method."
   ]
  },
  {
   "cell_type": "markdown",
   "metadata": {},
   "source": [
    "_______"
   ]
  },
  {
   "cell_type": "markdown",
   "metadata": {},
   "source": [
    "<b>\n",
    "2.\n",
    "\n",
    "In the following array, a, b, c and d are variables representing objects to be sorted:\n",
    "\n",
    "`[a, b, c, d]`\n",
    "\n",
    "Given the following return values when we compare these variables:\n",
    "\n",
    "```ruby\n",
    "a <=> b # => -1\n",
    "c <=> b # => 0\n",
    "d <=> c # => 1\n",
    "```\n",
    "\n",
    "In what order would we expect the items in the array to be if we called `sort` on the array? (Assume that the objects in question are defined in such a way that they have a set, linear order).\n",
    "</b>"
   ]
  },
  {
   "cell_type": "markdown",
   "metadata": {},
   "source": [
    "a < (b, c) < d"
   ]
  },
  {
   "cell_type": "markdown",
   "metadata": {},
   "source": [
    "`a` is first in `sort` order since it returns a `-1` when compared with `b`. \n",
    "\n",
    "`d` is last in `sort` order since it returns a `1` when compared with `c`. \n",
    "\n",
    "`b` and `c` are equal in sort order since a `0` is returned when they are compared; given this fact `[a, c, b, d]` would also be a valid order since **when comparison of two elements returns `0`, the order of the elements is unpredictable**."
   ]
  },
  {
   "cell_type": "markdown",
   "metadata": {},
   "source": [
    "_______"
   ]
  },
  {
   "cell_type": "markdown",
   "metadata": {},
   "source": [
    "<b>\n",
    "3.\n",
    "Given the code below, select all the valid ways to return the value for the hash key :three.\n",
    "</b>"
   ]
  },
  {
   "cell_type": "code",
   "execution_count": 1,
   "metadata": {},
   "outputs": [
    {
     "data": {
      "text/plain": [
       "[{:one=>\"1\", :two=>2}, [{:four=>5, :three=>6}, :three], :three, {2=>:two, 3=>:three}]"
      ]
     },
     "execution_count": 1,
     "metadata": {},
     "output_type": "execute_result"
    }
   ],
   "source": [
    "arr = [\n",
    "  {one: '1', two: 2},\n",
    "  [{four: 5, three: 6}, :three],\n",
    "  :three,\n",
    "  {2=>:two, 3=>:three}\n",
    "]"
   ]
  },
  {
   "cell_type": "code",
   "execution_count": 7,
   "metadata": {},
   "outputs": [
    {
     "data": {
      "text/plain": [
       "6"
      ]
     },
     "execution_count": 7,
     "metadata": {},
     "output_type": "execute_result"
    }
   ],
   "source": [
    "arr[1][0].values[-1]\n",
    "arr[1][0][:three]\n",
    "arr[1][0].max_by { |_, v| v }[-1]"
   ]
  },
  {
   "cell_type": "markdown",
   "metadata": {},
   "source": [
    "<b>\n",
    "4. \n",
    "\n",
    "Given the following nested data structure, and without running the code, select the correct option to change the string `'Apple Juice'` to `'Orange Juice'`.\n",
    "</b>"
   ]
  },
  {
   "cell_type": "code",
   "execution_count": 25,
   "metadata": {},
   "outputs": [
    {
     "data": {
      "text/plain": [
       "[{:id=>1, :list_name=>\"Groceries\", :todos=>[{:id=>1, :name=>\"Bread\", :completed=>false}, {:id=>2, :name=>\"Milk\", :completed=>false}, {:id=>3, :name=>\"Apple Juice\", :completed=>false}]}]"
      ]
     },
     "execution_count": 25,
     "metadata": {},
     "output_type": "execute_result"
    }
   ],
   "source": [
    "todo_lists = [\n",
    "  {\n",
    "    id: 1,\n",
    "    list_name: 'Groceries',\n",
    "    todos: [\n",
    "      { id: 1, name: 'Bread', completed: false },\n",
    "      { id: 2, name: 'Milk', completed: false },\n",
    "      { id: 3, name: 'Apple Juice', completed: false }\n",
    "    ]\n",
    "  }\n",
    "]"
   ]
  },
  {
   "cell_type": "code",
   "execution_count": 24,
   "metadata": {},
   "outputs": [
    {
     "data": {
      "text/plain": [
       "[{:id=>1, :name=>\"Bread\", :completed=>false}, {:id=>2, :name=>\"Milk\", :completed=>false}, {:id=>3, :name=>\"Orange Juice\", :completed=>false}]"
      ]
     },
     "execution_count": 24,
     "metadata": {},
     "output_type": "execute_result"
    }
   ],
   "source": [
    "todo_lists[0][:todos][-1][:name] = 'Orange Juice'\n",
    "todo_lists[0][:todos]"
   ]
  },
  {
   "cell_type": "markdown",
   "metadata": {},
   "source": [
    "________"
   ]
  },
  {
   "cell_type": "markdown",
   "metadata": {},
   "source": [
    "<b>\n",
    "5.\n",
    "\n",
    "Given the following nested data structure, and without running the code, select all the options that would set the value for `:completed` to `true` for all of the todos in the 'Homework' list.\n",
    "</b>"
   ]
  },
  {
   "cell_type": "code",
   "execution_count": 38,
   "metadata": {},
   "outputs": [
    {
     "data": {
      "text/plain": [
       "[{:id=>1, :list_name=>\"Groceries\", :todos=>[{:id=>1, :name=>\"Bread\", :completed=>false}, {:id=>2, :name=>\"Milk\", :completed=>false}, {:id=>3, :name=>\"Apple Juice\", :completed=>false}]}, {:id=>2, :list_name=>\"Homework\", :todos=>[{:id=>1, :name=>\"Math\", :completed=>false}, {:id=>2, :name=>\"English\", :completed=>false}]}]"
      ]
     },
     "execution_count": 38,
     "metadata": {},
     "output_type": "execute_result"
    }
   ],
   "source": [
    "todo_lists = [\n",
    "  {\n",
    "    id: 1,\n",
    "    list_name: 'Groceries',\n",
    "    todos: [\n",
    "      { id: 1, name: 'Bread', completed: false },\n",
    "      { id: 2, name: 'Milk', completed: false },\n",
    "      { id: 3, name: 'Apple Juice', completed: false }\n",
    "    ]\n",
    "  },\n",
    "  {\n",
    "    id: 2,\n",
    "    list_name: 'Homework',\n",
    "    todos: [\n",
    "      { id: 1, name: 'Math', completed: false },\n",
    "      { id: 2, name: 'English', completed: false }\n",
    "    ]\n",
    "  }\n",
    "]"
   ]
  },
  {
   "cell_type": "code",
   "execution_count": 39,
   "metadata": {},
   "outputs": [
    {
     "data": {
      "text/plain": [
       "[{:id=>1, :name=>\"Math\", :completed=>true}, {:id=>2, :name=>\"English\", :completed=>true}]"
      ]
     },
     "execution_count": 39,
     "metadata": {},
     "output_type": "execute_result"
    }
   ],
   "source": [
    "# For Homework todos\n",
    "\n",
    "todo_lists[1][:todos].each do |hsh|\n",
    "  hsh[:completed] = !hsh[:completed]\n",
    "end"
   ]
  },
  {
   "cell_type": "code",
   "execution_count": 37,
   "metadata": {},
   "outputs": [
    {
     "data": {
      "text/plain": [
       "[{:id=>1, :list_name=>\"Groceries\", :todos=>[{:id=>1, :name=>\"Bread\", :completed=>true}, {:id=>2, :name=>\"Milk\", :completed=>true}, {:id=>3, :name=>\"Apple Juice\", :completed=>true}]}, {:id=>2, :list_name=>\"Homework\", :todos=>[{:id=>1, :name=>\"Math\", :completed=>true}, {:id=>2, :name=>\"English\", :completed=>true}]}]"
      ]
     },
     "execution_count": 37,
     "metadata": {},
     "output_type": "execute_result"
    }
   ],
   "source": [
    "# For all todos\n",
    "\n",
    "todo_lists.each do |hsh|\n",
    "  hsh[:todos].each do |sub_hsh|\n",
    "    sub_hsh[:completed] = !sub_hsh[:completed]\n",
    "  end\n",
    "end"
   ]
  },
  {
   "cell_type": "markdown",
   "metadata": {},
   "source": [
    "_____"
   ]
  },
  {
   "cell_type": "markdown",
   "metadata": {},
   "source": [
    "<b>\n",
    "6.\n",
    "\n",
    "Without running the code attempt to work out what the last three lines will output.\n",
    "</b>"
   ]
  },
  {
   "cell_type": "code",
   "execution_count": 44,
   "metadata": {},
   "outputs": [
    {
     "name": "stdout",
     "output_type": "stream",
     "text": [
      "hi\n",
      "HEY\n",
      "HEY\n"
     ]
    }
   ],
   "source": [
    "a = 'hi'\n",
    "english_greetings = ['hello', a, 'good morning'] # Element at index-1 is poiting to same string object as `a`\n",
    "\n",
    "greetings = {\n",
    "  french: ['bonjour', 'salut', 'allo'],\n",
    "  english: english_greetings, # Array containing string object reference by `a` at index-1\n",
    "  italian: ['buongiorno', 'buonasera', 'ciao']\n",
    "}\n",
    "\n",
    "greetings[:english][1] = 'hey' # Mutated the calling array. `english_greetings` is mutated, but `a` \n",
    "                               # is still pointing to the object with value`hi`.\n",
    "\n",
    "greetings.each do |language, greeting_list|\n",
    "  greeting_list.each { |greeting| greeting.upcase! }  # The values associated with the key :english are poiting to the same object as \n",
    "                                                      # the array object assigned to `english_greetings`.  So mutating each element in the\n",
    "                                                      # values associated with the :english key will be mutate the same string objects in \n",
    "                                                      # `english_greetings`. `a` is still `hi`.\n",
    "end\n",
    "\n",
    "puts a  # `hi`\n",
    "puts english_greetings[1] # `hey`\n",
    "puts greetings[:english][1] # 'HEY'"
   ]
  },
  {
   "cell_type": "markdown",
   "metadata": {},
   "source": [
    "<b>7. \n",
    "\n",
    "Examine closely the following code:\n",
    "\n",
    "Without running the code, identify the matching description.\n",
    "</b>"
   ]
  },
  {
   "cell_type": "code",
   "execution_count": 45,
   "metadata": {},
   "outputs": [
    {
     "data": {
      "text/plain": [
       "[[\"A\", \"B\"], [\"C\", \"D\"], [\"E\", \"F\"]]"
      ]
     },
     "execution_count": 45,
     "metadata": {},
     "output_type": "execute_result"
    }
   ],
   "source": [
    "[['a', 'b'], ['c', 'd'], ['e', 'f']].map do |sub_arr|\n",
    "  sub_arr.map do |letter|\n",
    "    letter.upcase\n",
    "  end\n",
    "end"
   ]
  },
  {
   "cell_type": "markdown",
   "metadata": {},
   "source": [
    "The return value of the `String#upcase` method is returned by the inner block to the inner call to `Array#map`; this adds the uppercase string to a new array in place of the lowercase version. This new array is returned by the outer block to the outer call to `Array#map`. This call to `map` also creates a new array, populated by the new inner arrays (containing the uppercase strings), which it then returns."
   ]
  },
  {
   "cell_type": "markdown",
   "metadata": {},
   "source": [
    "<b>8.\n",
    "\n",
    "Your team is working on some reporting functionality for the Sales Department. Your brief is to produce code that lets the Sales Department report on the value of orders per customer. Each order is represented by a hash within an array, but there may be more than one order per customer. The Sales Department wants to report two things:\n",
    "\n",
    "1. The total value of orders for each customer\n",
    "2. The total value of fulfilled orders for each customer\n",
    "\n",
    "This is an example of the provided data:\n",
    "\n",
    "```ruby\n",
    "order_data = [\n",
    "  {customer_id: 12, customer_name: 'Emma Lopez', order_id: 351, order_date: '12/04/16', order_fulfilled: true, order_value: 135.99},\n",
    "  {customer_id: 12, customer_name: 'Emma Lopez', order_id: 383, order_date: '12/04/16', order_fulfilled: true, order_value: 289.49},\n",
    "  {customer_id: 12, customer_name: 'Emma Lopez', order_id: 392, order_date: '01/10/17', order_fulfilled: false, order_value: 58.00},\n",
    "  {customer_id: 32, customer_name: 'Michael Richards', order_id: 241, order_date: '11/10/16', order_fulfilled: true, order_value: 120.00},\n",
    "  {customer_id: 32, customer_name: 'Michael Richards', order_id: 395, order_date: '01/10/17', order_fulfilled: false, order_value: 85.65},\n",
    "  # rest of data...\n",
    "]\n",
    "```\n",
    "\n",
    "You agree that the restructured data should look like this:\n",
    "\n",
    "```ruby\n",
    "customer_orders = [\n",
    "  {\n",
    "    customer_id: 12,\n",
    "    customer_name: 'Emma Lopez',\n",
    "    orders: [\n",
    "      { order_fulfilled: true, order_value: 135.99 },\n",
    "      { order_fulfilled: true, order_value: 289.49 },\n",
    "      { order_fulfilled: false, order_value: 58.00 }\n",
    "    ]\n",
    "  },\n",
    "  {\n",
    "    customer_id: 32,\n",
    "    customer_name: 'Michael Richards',\n",
    "    orders: [\n",
    "      { order_fulfilled: true, order_value: 120.00 },\n",
    "      { order_fulfilled: false, order_value: 85.65 }\n",
    "    ]\n",
    "  },\n",
    "  # rest of data...\n",
    "]\n",
    "```\n",
    "</b>"
   ]
  },
  {
   "cell_type": "code",
   "execution_count": 89,
   "metadata": {},
   "outputs": [
    {
     "data": {
      "text/plain": [
       "[{:customer_id=>12, :customer_name=>\"Emma Lopez\", :order_id=>351, :order_date=>\"12/04/16\", :order_fulfilled=>true, :order_value=>135.99}, {:customer_id=>12, :customer_name=>\"Emma Lopez\", :order_id=>383, :order_date=>\"12/04/16\", :order_fulfilled=>true, :order_value=>289.49}, {:customer_id=>12, :customer_name=>\"Emma Lopez\", :order_id=>392, :order_date=>\"01/10/17\", :order_fulfilled=>false, :order_value=>58.0}, {:customer_id=>32, :customer_name=>\"Michael Richards\", :order_id=>241, :order_date=>\"11/10/16\", :order_fulfilled=>true, :order_value=>120.0}, {:customer_id=>32, :customer_name=>\"Michael Richards\", :order_id=>395, :order_date=>\"01/10/17\", :order_fulfilled=>false, :order_value=>85.65}]"
      ]
     },
     "execution_count": 89,
     "metadata": {},
     "output_type": "execute_result"
    }
   ],
   "source": [
    "order_data = [\n",
    "  {customer_id: 12, customer_name: 'Emma Lopez', order_id: 351, order_date: '12/04/16', order_fulfilled: true, order_value: 135.99},\n",
    "  {customer_id: 12, customer_name: 'Emma Lopez', order_id: 383, order_date: '12/04/16', order_fulfilled: true, order_value: 289.49},\n",
    "  {customer_id: 12, customer_name: 'Emma Lopez', order_id: 392, order_date: '01/10/17', order_fulfilled: false, order_value: 58.00},\n",
    "  {customer_id: 32, customer_name: 'Michael Richards', order_id: 241, order_date: '11/10/16', order_fulfilled: true, order_value: 120.00},\n",
    "  {customer_id: 32, customer_name: 'Michael Richards', order_id: 395, order_date: '01/10/17', order_fulfilled: false, order_value: 85.65},\n",
    "  # rest of data...\n",
    "]"
   ]
  },
  {
   "cell_type": "code",
   "execution_count": 99,
   "metadata": {},
   "outputs": [
    {
     "data": {
      "text/plain": [
       "[{:customer_id=>12, :customer_name=>\"Emma Lopez\", :orders=>[{:order_fulfilled=>true, :order_value=>135.99}, {:order_fulfilled=>true, :order_value=>289.49}, {:order_fulfilled=>false, :order_value=>58.0}]}, {:customer_id=>32, :customer_name=>\"Michael Richards\", :orders=>[{:order_fulfilled=>true, :order_value=>120.0}, {:order_fulfilled=>false, :order_value=>85.65}]}]"
      ]
     },
     "execution_count": 99,
     "metadata": {},
     "output_type": "execute_result"
    }
   ],
   "source": [
    "def new_customer(order)\n",
    "  customer_hash = {}\n",
    "\n",
    "  customer_hash[:customer_id] = order[:customer_id]\n",
    "  customer_hash[:customer_name] = order[:customer_name]\n",
    "  customer_hash[:orders] = [{ order_fulfilled: order[:order_fulfilled], order_value: order[:order_value] }]\n",
    "  customer_hash\n",
    "end\n",
    "\n",
    "def existing_customer(order, customer_hash)\n",
    "  customer_hash[:orders] << { order_fulfilled: order[:order_fulfilled], order_value: order[:order_value] }\n",
    "end\n",
    "\n",
    "def add_entries(orders)\n",
    "  customer_orders = []\n",
    "\n",
    "  orders.each do |order|\n",
    "    customer_hash = customer_orders.find { |hsh| hsh[:customer_id] == order[:customer_id] }\n",
    "    if customer_hash\n",
    "      existing_customer(order, customer_hash)\n",
    "    else\n",
    "      customer_orders << new_customer(order)\n",
    "    end\n",
    "  end\n",
    "  customer_orders\n",
    "end\n",
    "\n",
    "customer_orders = add_entries(order_data)"
   ]
  },
  {
   "cell_type": "markdown",
   "metadata": {},
   "source": [
    "__________"
   ]
  },
  {
   "cell_type": "markdown",
   "metadata": {},
   "source": [
    "<b>9.\n",
    "\n",
    "For the second part of the solution, extracting the data, the format that is required in each case is as follows:\n",
    "\n",
    "```ruby\n",
    "all_orders =[\n",
    "  {customer_id: 12, customer_name: 'Emma Lopez', total_order_value: 483.48},\n",
    "  {customer_id: 32, customer_name: 'Michael Richards', total_order_value: 205.65},\n",
    "  # rest of data\n",
    "]\n",
    "\n",
    "fulfilled_orders =[\n",
    "  {customer_id: 12, customer_name: 'Emma Lopez', order_value: 425.48},\n",
    "  {customer_id: 32, customer_name: 'Michael Richards', order_value: 120.00},\n",
    "  # rest of data\n",
    "]\n",
    "```\n",
    "\n",
    "For the unfiltered totals, the team again comes up with four possible solutions. Select all those that correctly implement the requirements.\n",
    "</b>"
   ]
  },
  {
   "cell_type": "code",
   "execution_count": 104,
   "metadata": {},
   "outputs": [
    {
     "data": {
      "text/plain": [
       "[{:customer_id=>12, :customer_name=>\"Emma Lopez\", :total_order_value=>483.48}, {:customer_id=>32, :customer_name=>\"Michael Richards\", :total_order_value=>205.65}]"
      ]
     },
     "execution_count": 104,
     "metadata": {},
     "output_type": "execute_result"
    }
   ],
   "source": [
    "all_orders = customer_orders.map do |customer|\n",
    "  total = customer[:orders].reduce(0) { |total, order| total += order[:order_value]}\n",
    "  { customer_id: customer[:customer_id], customer_name: customer[:customer_name], total_order_value: total }\n",
    "end"
   ]
  },
  {
   "cell_type": "code",
   "execution_count": 105,
   "metadata": {},
   "outputs": [
    {
     "data": {
      "text/plain": [
       "[{:customer_id=>12, :customer_name=>\"Emma Lopez\", :total_order_value=>425.48}, {:customer_id=>32, :customer_name=>\"Michael Richards\", :total_order_value=>120.0}]"
      ]
     },
     "execution_count": 105,
     "metadata": {},
     "output_type": "execute_result"
    }
   ],
   "source": [
    "fulfilled_orders = customer_orders.map do |customer|\n",
    "  total = 0\n",
    "  customer[:orders].each { |order| total += order[:order_value] if order[:order_fulfilled]}\n",
    "  { customer_id: customer[:customer_id], customer_name: customer[:customer_name], total_order_value: total }\n",
    "end"
   ]
  }
 ],
 "metadata": {
  "kernelspec": {
   "display_name": "Ruby 2.7.5",
   "language": "ruby",
   "name": "ruby"
  },
  "language_info": {
   "file_extension": ".rb",
   "mimetype": "application/x-ruby",
   "name": "ruby",
   "version": "2.7.5"
  },
  "orig_nbformat": 4
 },
 "nbformat": 4,
 "nbformat_minor": 2
}
