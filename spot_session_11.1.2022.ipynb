{
 "cells": [
  {
   "cell_type": "markdown",
   "metadata": {},
   "source": [
    "Longest vowel chain\n",
    "\n",
    "The vowel substrings in the word codewarriors are o,e,a,io. The longest of these has a length of 2. Given a lowercase\n",
    "string that has alphabetic characters only and no spaces, return the length of the longest vowel substring. Vowels are\n",
    "any of aeiou.\n",
    "\n",
    "```ruby\n",
    "p solve(\"ultrarevolutionariees\") == 3\n",
    "p solve(\"strengthlessnesses\") == 1\n",
    "p solve(\"cuboideonavicuare\") == 2\n",
    "p solve(\"chrononhotonthuooaos\") == 5\n",
    "p solve(\"iiihoovaeaaaoougjyaw\") == 8\n",
    "p solve('pltyxz') == 0\n",
    "```"
   ]
  },
  {
   "cell_type": "code",
   "execution_count": 39,
   "metadata": {},
   "outputs": [
    {
     "data": {
      "text/plain": [
       ":solve"
      ]
     },
     "execution_count": 39,
     "metadata": {},
     "output_type": "execute_result"
    }
   ],
   "source": [
    "def solve(str)\n",
    "  max_ = 0\n",
    "  (0..str.size - 1).each do |idx1|\n",
    "    (idx1..str.size-1).each do |idx2|\n",
    "      current_str = str[idx1..idx2]\n",
    "      if (current_str.chars.all? { |char| char =~ /[aeiou]/ }) && (current_str.size > max_)\n",
    "        max_ = current_str.size\n",
    "      end\n",
    "    end\n",
    "  end\n",
    "  max_\n",
    "end"
   ]
  },
  {
   "cell_type": "code",
   "execution_count": 42,
   "metadata": {},
   "outputs": [
    {
     "name": "stdout",
     "output_type": "stream",
     "text": [
      "1\n"
     ]
    },
    {
     "data": {
      "text/plain": [
       "1"
      ]
     },
     "execution_count": 42,
     "metadata": {},
     "output_type": "execute_result"
    }
   ],
   "source": [
    "# p solve(\"ultrarevolutionariees\") == 3\n",
    "p solve(\"strengthlessnesses\") #== 1\n",
    "# p solve(\"cuboideonavicuare\") == 2\n",
    "# p solve(\"chrononhotonthuooaos\") == 5\n",
    "# p solve(\"iiihoovaeaaaoougjyaw\") == 8\n",
    "# p solve('pltyxz') == 0"
   ]
  },
  {
   "cell_type": "code",
   "execution_count": null,
   "metadata": {},
   "outputs": [],
   "source": [
    "def substrings(str)\n",
    "  substring_vowel_arr = []\n",
    "  substr = ''\n",
    "  vowel_arr = ['a', 'e', 'i', 'o', 'u']\n",
    "\n",
    "  str.chars.each do |char|\n",
    "    if vowel_arr.include?(char)\n",
    "      substr << char\n",
    "    else\n",
    "      substring_vowel_arr << substr\n",
    "      substr = ''\n",
    "    end\n",
    "  end\n",
    "  substring_vowel_arr << substr\n",
    "end\n",
    "\n",
    "def solve(str)\n",
    "  substrings = substrings(str)\n",
    "\n",
    "  substrings.max_by { |substr| substr.size }.size\n",
    "end"
   ]
  },
  {
   "cell_type": "code",
   "execution_count": 27,
   "metadata": {},
   "outputs": [
    {
     "data": {
      "text/plain": [
       "[\"aaa\", \"eeee\"]"
      ]
     },
     "execution_count": 27,
     "metadata": {},
     "output_type": "execute_result"
    }
   ],
   "source": [
    "['aaa', 'kkkk', 'eeee'].select { |word| word =~ /[aeiou]/ }"
   ]
  },
  {
   "cell_type": "code",
   "execution_count": null,
   "metadata": {},
   "outputs": [],
   "source": []
  }
 ],
 "metadata": {
  "kernelspec": {
   "display_name": "Ruby 2.7.5",
   "language": "ruby",
   "name": "ruby"
  },
  "language_info": {
   "file_extension": ".rb",
   "mimetype": "application/x-ruby",
   "name": "ruby",
   "version": "2.7.5"
  },
  "orig_nbformat": 4
 },
 "nbformat": 4,
 "nbformat_minor": 2
}
