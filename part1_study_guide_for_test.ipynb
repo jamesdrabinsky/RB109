{
 "cells": [
  {
   "cell_type": "markdown",
   "metadata": {
    "toc-hr-collapsed": true
   },
   "source": [
    "## Specific Topics of Interest"
   ]
  },
  {
   "cell_type": "markdown",
   "metadata": {},
   "source": [
    "In general, you should be familiar with Ruby syntax and operators. You should also be able to clearly explain the following topics:\n",
    "\n",
    "- local variable scope, especially how local variables interact with method invocations with blocks and method definitions\n",
    "- mutating vs non-mutating methods, pass-by-reference vs pass-by-value\n",
    "- working with collections (Array, Hash, String), and popular collection methods (each, map, select, etc). Review the two lessons on these topics thoroughly.\n",
    "- [variables as pointers](https://launchschool.com/books/ruby/read/more_stuff#variables_as_pointers)\n",
    "- [puts vs return](https://launchschool.com/books/ruby/read/methods#putsvsreturnthesequel)\n",
    "- false vs nil and the idea of \"truthiness\"\n",
    "- method definition and method invocation\n",
    "- implicit return value of method invocations and blocks\n",
    "- how the Array#sort method works\n",
    "\n",
    "When answering the questions, you should:\n",
    "\n",
    "- Explain your reasoning with reference to specific lines in the program. You can use line numbers to refer to specific lines of code where necessary.\n",
    "- Answer with precision. For example, say \"method declaration\" or \",method invocation\" as opposed to just \"method\" when the distinction is important.\n",
    "- Highlight any specific syntactical conventions or technical observations where relevant.\n",
    "- Identify the key fundamental concept or concepts being demonstrated in the question."
   ]
  },
  {
   "cell_type": "markdown",
   "metadata": {},
   "source": [
    "### Example"
   ]
  },
  {
   "cell_type": "code",
   "execution_count": 1,
   "metadata": {
    "tags": []
   },
   "outputs": [
    {
     "name": "stdout",
     "output_type": "stream",
     "text": [
      "Hi\n"
     ]
    }
   ],
   "source": [
    "greeting = 'Hello'\n",
    "\n",
    "loop do\n",
    "  greeting = 'Hi'\n",
    "  break\n",
    "end\n",
    "\n",
    "puts greeting"
   ]
  },
  {
   "cell_type": "markdown",
   "metadata": {
    "tags": []
   },
   "source": [
    "**LS Answer**\n",
    "\n",
    "- The local variable `greeting` is assigned to the String `'Hello'` on line 1.\n",
    "- The `do..end` alongside the `loop` method invocation on lines 3 to 6 defines a block, within which `greeting` is reassigned to the String `'Hi'` on line 4. \n",
    "- The `puts` method is called on line 8 with the variable `greeting` passed to it as an argument; since `greeting` is now assigned to `'Hi'`, this is what is output. \n",
    "- This example demonstrates **local variable scoping** rules in Ruby; specifically the fact that a local variable initialized outside of a block is accessible inside the block."
   ]
  },
  {
   "cell_type": "markdown",
   "metadata": {},
   "source": [
    "### Assignments"
   ]
  },
  {
   "cell_type": "markdown",
   "metadata": {},
   "source": [
    "Most of the Launch School material describes this statement as:\n",
    "\n",
    "`The greeting variable is assigned to the string 'Hello'.`\n",
    "\n",
    "However, there are places where we describe this code as:\n",
    "\n",
    "`The string 'Hello' is assigned to the greeting variable.`\n",
    "\n",
    "Both of these are acceptable in the assessment. Try to be consistent though -- if you aren't consistent, your meaning may be confused."
   ]
  },
  {
   "cell_type": "markdown",
   "metadata": {},
   "source": [
    "### Truthiness\n",
    "\n",
    "In the assessment we want you to be very clear about the distinction between *truthy* and the boolean `true` (and similarly the distinction between *falsey* and the boolean `false`).\n",
    "\n",
    "In Ruby, every value except for `false` and `nil` evaluates as `true.`  We can therefore say that in Ruby, every value apart from `false` and `nil` is *truthy*.\n",
    "\n",
    "We can also say that `false` and `nil` are *falsey*. \n",
    "\n",
    "**This is not the same as saying every value apart from `false` and `nil` is `true`, or is equal to `true`. These may seem like subtle distinctions but they are important ones.**"
   ]
  },
  {
   "cell_type": "code",
   "execution_count": 2,
   "metadata": {},
   "outputs": [
    {
     "name": "stdout",
     "output_type": "stream",
     "text": [
      "Hello is truthy\n"
     ]
    }
   ],
   "source": [
    "a = \"Hello\"\n",
    "\n",
    "if a\n",
    "  puts \"Hello is truthy\"\n",
    "else\n",
    "  puts \"Hello is falsey\"\n",
    "end"
   ]
  },
  {
   "cell_type": "markdown",
   "metadata": {},
   "source": [
    "**Incorrect**\n",
    "- `a` is `true` and so 'Hello is truthy' is output would be incorrect\n",
    "- `a` is equal to `true` and so 'Hello is truthy' is output would be incorrect\n",
    "\n",
    "**Correct**\n",
    "- `a` evaluates as `true` in the conditional statement and so 'Hello is truthy' is output would be correct\n",
    "- `a` is truthy and so 'Hello is truthy' is output would be correct\n",
    "\n",
    "To sum up:\n",
    "- Use \"evaluates to `true`\", \"evaluates as `true`\", or \"is truthy\" when discussing an expression that evaluates as `true` in a boolean context\n",
    "- Do not use \"is `true`\" or \"is equal to `true`\" unless specifically discussing the boolean `true`\n",
    "- Use \"evaluates to `false`\", \"evaluates as `false`\", or \"is falsy\" when discussing an expression that evaluates as `false` in a boolean context\n",
    "- Do not use \"is `false`\" or \"is equal to `false`\" unless specifically discussing the boolean `false`"
   ]
  },
  {
   "cell_type": "markdown",
   "metadata": {},
   "source": [
    "### Method Definition and Method Invocation\n",
    "\n",
    "When discussing methods, particularly in terms of how blocks and methods interact with local variables, we want you to explain this in terms of method definition and method invocation. \n",
    "\n",
    "Review [this assignment](https://launchschool.com/lessons/a0f3cd44/assignments/9e9e907c) for an outline of the mental model to use."
   ]
  },
  {
   "cell_type": "markdown",
   "metadata": {},
   "source": [
    "### Variable References and Object Mutability Articles\n",
    "\n",
    "- [Variable References and Mutability of Ruby Objects](https://launchschool.medium.com/variable-references-and-mutability-of-ruby-objects-4046bd5b6717)\n",
    "- [Mutating and Non-Mutating Methods in Ruby](https://launchschool.medium.com/ruby-objects-mutating-and-non-mutating-methods-78023d849a5f)\n",
    "- [Object Passing in Ruby - Pass by Reference or Pass by Value](https://launchschool.medium.com/object-passing-in-ruby-pass-by-reference-or-pass-by-value-6886e8cdc34a)"
   ]
  },
  {
   "cell_type": "markdown",
   "metadata": {},
   "source": [
    "### Assessment Prep Videos\n",
    "\n",
    "- [Part 1](https://launchschool.medium.com/launch-school-live-session-beginning-ruby-c6432494ab34)\n",
    "- [Part 2](https://launchschool.medium.com/live-session-beginning-ruby-part-2-f87d821ce926)\n",
    "- [Part 3](https://launchschool.medium.com/live-session-beginning-ruby-part-3-61180782f721)"
   ]
  },
  {
   "cell_type": "markdown",
   "metadata": {},
   "source": [
    "### Additional Tips"
   ]
  },
  {
   "cell_type": "markdown",
   "metadata": {},
   "source": [
    "[Passing Launch School’s First Assessments: RB109](https://medium.com/launch-school/passing-launch-schools-first-assessments-rb109-4b2b047060dc)"
   ]
  },
  {
   "cell_type": "markdown",
   "metadata": {
    "tags": [],
    "toc-hr-collapsed": true
   },
   "source": [
    "## [Advice for Ruby Programming Foundations Written Assessment](https://medium.com/how-i-started-learning-coding-from-scratch/advices-for-109-written-assessment-part-1-6f7fa821cf84)\n",
    "\n",
    "### Learn to use programming terms"
   ]
  },
  {
   "cell_type": "code",
   "execution_count": 4,
   "metadata": {},
   "outputs": [
    {
     "data": {
      "text/plain": [
       "\"goodbye\""
      ]
     },
     "execution_count": 4,
     "metadata": {},
     "output_type": "execute_result"
    }
   ],
   "source": [
    "a = 'hello'\n",
    "b = a\n",
    "a = 'goodbye'"
   ]
  },
  {
   "cell_type": "markdown",
   "metadata": {},
   "source": [
    "On line 1 of this code, local variable `a` is **initialized**.  \n",
    "\n",
    "On line 1, you are **assigning** the string object with a value `'hello'` to the local variable `a`.  (Object are just physical spaces in memory and local variables are referencing them.)\n",
    "\n",
    "Local variable `a` is **referencing** that string object with the value name.   \n",
    "\n",
    "```\n",
    "We are INITIALIZING a local variable `a` to a string object.  Now the local variable `a` REFERENCES the string object\n",
    "```\n",
    "\n",
    "On line 2 local variable `b` is initialized.\n",
    "\n",
    "On line 3 we are **reassigning** local variable `a` so now it references a different string object with a different value `'goodbye'`.\n",
    "\n",
    "A summary:\n",
    "\n",
    "- On `line 1` local variable `a` is initialized to a string object with value `'hello'` to it.\n",
    "- On `line 2` local variable `b` is initialized to a string object that the local variable `a` is referencing\n",
    "- On `line 3` local variable `a` is reassigned to a different string object with value `goodbye` to it.  \n",
    "    - So now local vairbale `a` is pointing to one string object with value `goodbye` and the local variable `b` is pointing to a string object with value `hello`."
   ]
  },
  {
   "cell_type": "code",
   "execution_count": 5,
   "metadata": {},
   "outputs": [
    {
     "name": "stdout",
     "output_type": "stream",
     "text": [
      "hello\n",
      "hello\n",
      "hello\n"
     ]
    }
   ],
   "source": [
    "def example(str)\n",
    "  i = 3\n",
    "  loop do\n",
    "    puts str\n",
    "    i -= 1\n",
    "    break if i == 0\n",
    "  end\n",
    "end\n",
    "\n",
    "example('hello')"
   ]
  },
  {
   "cell_type": "markdown",
   "metadata": {},
   "source": [
    "**LS Answer**\n",
    "\n",
    "On `lines 1 - 8` we are defining the method `example` which takes 1 parameter.  \n",
    "\n",
    "On `line 10` we are calling the method `example` and the passing the string `hello` as an argument to it.  \n",
    "    - **Methods are defined with parameters but they are called with arguments.**\n",
    "\n",
    "On `line 2` we are initializing the local variable `i` and assigning to it an integer with value `3`.  \n",
    "\n",
    "On `line 3` we are calling the method `loop` (`loop` is a method from the `Kernel` module) and **passing in** the `do...end` block as an argument.  The block is passed to the method call as an argument.  \n",
    "\n",
    "On `line 4` we are calling the method `puts` and passing in local variable `str` to it as an argument.  \n",
    "\n",
    "On `line 5` the local variable `i` is reassigned \n",
    "- `-=` is actually reassignment and is syntatical sugar for `i = i - 1`\n",
    "- `-` is not an operator but a method that can also be written as `i = i.-(1)`.  So inside of this code we are actually reassigning the local variable `i` to the return value of method call `Integer#-` on local variable `i` with integer `1`  passed to it as an argument.  \n",
    "\n",
    "On `line 6` we are breaking out of the loop by using the keyword `break` if the value of the object that the local variable `i` is referencing is equal to 0.  \n",
    "\n",
    "On `line 10` we are calling the method `example` and passing in string `hello` as an argument.  \n",
    "\n",
    "The code outputs `hello` 3 times and returns `nil`.  The last evaluated line in the method is returned since there is no explicit `return` inside of the method definition.  The last evaluated expression is `break if i == 0`, which returns `nil.`"
   ]
  },
  {
   "cell_type": "markdown",
   "metadata": {},
   "source": [
    "_____________"
   ]
  },
  {
   "cell_type": "markdown",
   "metadata": {},
   "source": [
    "### Variable Scoping"
   ]
  },
  {
   "cell_type": "code",
   "execution_count": 1,
   "metadata": {},
   "outputs": [
    {
     "name": "stdout",
     "output_type": "stream",
     "text": [
      "5\n"
     ]
    },
    {
     "ename": "NameError",
     "evalue": "undefined local variable or method `b' for #<Object:0x00007fbea028c600>",
     "output_type": "error",
     "traceback": [
      "\u001b[31mNameError\u001b[0m: undefined local variable or method `b' for #<Object:0x00007fbea028c600>",
      "(irb):9:in `irb_binding'"
     ]
    }
   ],
   "source": [
    "a = 4\n",
    "\n",
    "loop do\n",
    "  a = 5\n",
    "  b = 3\n",
    "  break\n",
    "end\n",
    "\n",
    "puts a\n",
    "puts b"
   ]
  },
  {
   "cell_type": "markdown",
   "metadata": {},
   "source": [
    "There are two scopes in this code:\n",
    "- An inner scope which is defined by the `do..end` block \n",
    "- An outer scope which includes everythinf else.  \n",
    "\n",
    "**Local variables that are initialized in an inner scope CANNOT be accessed in the outer scope**\n",
    "\n",
    "**But local variables initialized in the outer scope CAN be accessed in an inner scope**\n",
    "\n",
    "This is why we can reassign the local variable `a` on `line 4`, but if we try to initialize the variabel `b` it is not accessible in the outer scope.   "
   ]
  },
  {
   "cell_type": "markdown",
   "metadata": {},
   "source": [
    "One way to make the code output the value of local variable `b`:"
   ]
  },
  {
   "cell_type": "code",
   "execution_count": 1,
   "metadata": {},
   "outputs": [
    {
     "name": "stdout",
     "output_type": "stream",
     "text": [
      "5\n",
      "3\n"
     ]
    }
   ],
   "source": [
    "a = 4\n",
    "b = nil\n",
    "\n",
    "loop do\n",
    "  a = 5\n",
    "  b = 3\n",
    "  break\n",
    "end\n",
    "\n",
    "puts a\n",
    "puts b"
   ]
  },
  {
   "cell_type": "markdown",
   "metadata": {},
   "source": [
    "On `line 2` (in the outer scope) we have initialized the local variable `b` so now it is available in the inner scope defined by the block and when the `puts` method is called on `line 11`.  \n",
    "\n",
    "It outputs `3` since the variable was reassigned on `line 6` and returns `nil`."
   ]
  },
  {
   "cell_type": "code",
   "execution_count": 4,
   "metadata": {},
   "outputs": [
    {
     "name": "stdout",
     "output_type": "stream",
     "text": [
      "3\n",
      "2\n"
     ]
    }
   ],
   "source": [
    "a = 4\n",
    "b = 2\n",
    "\n",
    "loop do\n",
    "  c = 3\n",
    "  a = c\n",
    "  break\n",
    "end\n",
    "\n",
    "puts a\n",
    "puts b"
   ]
  },
  {
   "cell_type": "markdown",
   "metadata": {},
   "source": [
    "On `line 1` local variable `a` is initialized to the value `4` **within the outer scope**.\n",
    "\n",
    "One `line 2` local variable `b` is initialized to the value `2`.  \n",
    "\n",
    "On `line 4` the `loop` method is called and a `do..end` block is passed to it as an argument.  \n",
    "\n",
    "Inside the block, on `line 5` local variable `c` is initialized to the value `3`.  This variable has the block as its scope.\n",
    "\n",
    "On `line 6` local variable `a` is reassigned so that it now points to the same object that local variable `c` is referencing. Since we are still in the inner scope defined by the block, local variable `c` is accessible. \n",
    "\n",
    "On `line 10` the `puts` method is invoked and local variable `a` is passed to it as an argument.  Since `a` was reassigned within the block, this method call will output `3`.\n",
    "\n",
    "On `line 11` the `puts` method is invoked and `b` is passed to it.  This will output `2`.  \n",
    "\n",
    "Since `puts b` is the last line evaluated, this code will return `nil` because `puts` always returns `nil`."
   ]
  },
  {
   "cell_type": "markdown",
   "metadata": {},
   "source": [
    "**What would happen if on line 12 we added `puts c`?**\n",
    "\n",
    "It would return an error of course just like in the previous example, since this variable is not available in the outer scope."
   ]
  },
  {
   "cell_type": "markdown",
   "metadata": {},
   "source": [
    "### Variable Shadowing"
   ]
  },
  {
   "cell_type": "code",
   "execution_count": 6,
   "metadata": {},
   "outputs": [
    {
     "name": "stdout",
     "output_type": "stream",
     "text": [
      "5\n",
      "5\n",
      "4\n",
      "2\n"
     ]
    }
   ],
   "source": [
    "a = 4\n",
    "b = 2\n",
    "\n",
    "2.times do |a|\n",
    "  a = 5\n",
    "  puts a\n",
    "end\n",
    "\n",
    "puts a\n",
    "puts b"
   ]
  },
  {
   "cell_type": "markdown",
   "metadata": {},
   "source": [
    "On `line 1` local variable `a` is initialized to the value `4`.  \n",
    "\n",
    "On `line 2` local variable `b` is initialized to the value `2`.  \n",
    "\n",
    "On `line 4` the `times` method is called on integer `2` and a `do..end` block is passed to it with one paramter `a`.\n",
    "  \n",
    "Within the block, on `line 5`, local variable `a` is initialized to the value `5`.  **We are assiging the integer 5 to the local variable `a` which was passed in as a parameter of the `do..end` block and the value of local variable `a` intialized outside of the block remains `4`.**\n",
    "\n",
    "On `line 6`, the `puts` method is called and local variable `a` is passed to it.  This block will output `5` twice.\n",
    "  \n",
    "On `line 9` the `puts` method is called and local variable `a` is passed to it as an argument.  This will output `4`. \n",
    "\n",
    "On `line 10` the `puts` method is called and local varibale `b` is passed to it as an argument.  This will output `2`.\n",
    "  \n",
    "`puts b` is the last evaluated line in this code and it will return `nil` because `puts` always returns `nil`."
   ]
  },
  {
   "cell_type": "markdown",
   "metadata": {},
   "source": [
    "**Variable shadowing** happens when a parameter name of the block is the same as the name of the local variable which was initialized outside of the block.\n",
    "\n",
    "The consequence of variable shadowing is that it prevents access to variables of the same name initialized outside of trhe block.  "
   ]
  },
  {
   "cell_type": "markdown",
   "metadata": {},
   "source": [
    "**How could we fix this code so it actually reassigns local variable `a` inside of the `do..end` block?**\n",
    "\n",
    "Change the name of the parameter of the `do..end` block."
   ]
  },
  {
   "cell_type": "code",
   "execution_count": 7,
   "metadata": {},
   "outputs": [
    {
     "name": "stdout",
     "output_type": "stream",
     "text": [
      "5\n",
      "5\n",
      "5\n",
      "2\n"
     ]
    }
   ],
   "source": [
    "a = 4\n",
    "b = 2\n",
    "\n",
    "2.times do |_|\n",
    "  a = 5\n",
    "  puts a\n",
    "end\n",
    "\n",
    "puts a\n",
    "puts b"
   ]
  },
  {
   "cell_type": "markdown",
   "metadata": {},
   "source": [
    "### `each`, `map`, and `select` methods"
   ]
  },
  {
   "cell_type": "code",
   "execution_count": 8,
   "metadata": {},
   "outputs": [
    {
     "name": "stdout",
     "output_type": "stream",
     "text": [
      "1\n",
      "2\n",
      "3\n",
      "4\n"
     ]
    },
    {
     "data": {
      "text/plain": [
       "[1, 2, 3, 4]"
      ]
     },
     "execution_count": 8,
     "metadata": {},
     "output_type": "execute_result"
    }
   ],
   "source": [
    "[1, 2, 3, 4].each { |num| puts num }"
   ]
  },
  {
   "cell_type": "markdown",
   "metadata": {},
   "source": [
    "The `each` method:\n",
    "- iterates through the array object passing each element of the array to the block\n",
    "- runs the block \n",
    "    - in this case outputting the value of the paramter `num`\n",
    "- And when it finished iterating it returns the original array.\n",
    "\n",
    "**The `each` method doesn't care about the return value of the block**"
   ]
  },
  {
   "cell_type": "code",
   "execution_count": 9,
   "metadata": {},
   "outputs": [
    {
     "name": "stdout",
     "output_type": "stream",
     "text": [
      "1\n",
      "2\n",
      "3\n",
      "4\n"
     ]
    },
    {
     "data": {
      "text/plain": [
       "[nil, nil, nil, nil]"
      ]
     },
     "execution_count": 9,
     "metadata": {},
     "output_type": "execute_result"
    }
   ],
   "source": [
    "[1, 2, 3, 4].map { |num| puts num }"
   ]
  },
  {
   "cell_type": "markdown",
   "metadata": {},
   "source": [
    "The `map` method:\n",
    "- iterates through the array object passing each element of the array to the block\n",
    "- runs the block\n",
    "- `map` method takes the return value of the block and moves it into a new array and when it finishes every iteration it returns that new array with the elements that were passed in it.\n",
    "\n",
    "**Since we are calling the `puts` method inside the block, which always returns `nil`, the map method call would return a new array of 4 `nil`s**\n",
    "\n",
    "It will also output all values from the original array since the `puts` method is called in the block"
   ]
  },
  {
   "cell_type": "code",
   "execution_count": 10,
   "metadata": {
    "scrolled": true
   },
   "outputs": [
    {
     "name": "stdout",
     "output_type": "stream",
     "text": [
      "1\n",
      "2\n",
      "3\n",
      "4\n"
     ]
    },
    {
     "data": {
      "text/plain": [
       "[]"
      ]
     },
     "execution_count": 10,
     "metadata": {},
     "output_type": "execute_result"
    }
   ],
   "source": [
    "[1, 2, 3, 4].select { |num| puts num }"
   ]
  },
  {
   "cell_type": "markdown",
   "metadata": {},
   "source": [
    "The `select` method:\n",
    "- Iterates through the array object passing each element of the array to the block \n",
    "- runs the block\n",
    "- The `select` method considers whether or not block's return value evaluates to `true`. If the block's return evaluates to `true` then it takes that element and puts it in the new array.\n",
    "\n",
    "**The return value of the `select` method call would be an empty array because `puts` is invoked on each iteration, which would cause the block return value to evaluate to `false` since `puts` always return `nil`. So none of the elements from the original array would be put in the new array**"
   ]
  },
  {
   "cell_type": "markdown",
   "metadata": {},
   "source": [
    "### Mutating/Non-mutating Ruby methods"
   ]
  },
  {
   "cell_type": "markdown",
   "metadata": {},
   "source": [
    "#### Mutating/Non-mutating Ruby methods"
   ]
  },
  {
   "cell_type": "markdown",
   "metadata": {},
   "source": [
    "Mutating methods in Ruby are those that change the value of a calling object."
   ]
  },
  {
   "cell_type": "code",
   "execution_count": 1,
   "metadata": {},
   "outputs": [
    {
     "name": "stdout",
     "output_type": "stream",
     "text": [
      "hello\n",
      "49260\n",
      "HELLO\n",
      "49260\n"
     ]
    }
   ],
   "source": [
    "a = 'hello'\n",
    "\n",
    "puts a # -> hello\n",
    "puts a.object_id # -> 70368527757720 (this number will be different for you)\n",
    "\n",
    "a.upcase! \n",
    "\n",
    "puts a # -> HELLO\n",
    "puts a.object_id  # -> 70368527757720 (this number will be the same as the one above)"
   ]
  },
  {
   "cell_type": "markdown",
   "metadata": {},
   "source": [
    "On `line 1` we are intializing local variable `a` to the string object `'hello'`\n",
    "\n",
    "On `line 3` we are invoking the `puts` method and passing in `a` as an argument.  This will output `'hello'` and return `nil`.\n",
    "\n",
    "On `line 4` we are calling the method `object_id` on local variable `a` to check what the id is of the object this variable is referencing.\n",
    "\n",
    "One `line 6` we are calling the method `String#upcase!` on the string object assigned to local variable `a`.  This is a mutating method which means its changing the value of the object that is calling it, but the object id stays the same.\n",
    "\n",
    "On `line 8` the puts method is invoked and `a` is passed in as an argument.  This will output `'HELLO'`\n",
    "\n",
    "One `line 9` the method `object_id` is called on `a` and its return value is passed to the `puts` method.  This will output the same object_id as `line 4.`. "
   ]
  },
  {
   "cell_type": "code",
   "execution_count": 4,
   "metadata": {},
   "outputs": [
    {
     "name": "stdout",
     "output_type": "stream",
     "text": [
      "hello\n",
      "49340\n",
      "hello\n",
      "49340\n"
     ]
    }
   ],
   "source": [
    "a = 'hello'\n",
    "\n",
    "puts a # -> hello\n",
    "puts a.object_id # -> 70368468160540 (this number will be different for you)\n",
    "\n",
    "a.upcase \n",
    "\n",
    "puts a # -> hello\n",
    "puts a.object_id  # -> 70368468160540 (this number will be the same as the one above)"
   ]
  },
  {
   "cell_type": "markdown",
   "metadata": {},
   "source": [
    "On `line 1` we are initializing local variable `a`.  \n",
    "\n",
    "One `line 3` we are invoking the `puts` method and passing in local variable `a` as an argument.  This will output `'hello'` and return `nil`.\n",
    "\n",
    "One `line 4` the `object_id` method is called on the string object that is referenced by local variable `a`to check what is the id of the object this variable is referencing. \n",
    "\n",
    "On `line 6` we call the `String#upcase` method on the string object that local variable `a` is referencing.  This method call returns a new string but does not change or mutate the value of our calling object.  \n",
    "\n",
    "We could have assigned the return value of the `upcase` method call to another local variable `b` for example (`b = a.upcase`) and in that case local variable `b` would point to a different string object with the value `'HELLO'` and it would have a different object_id."
   ]
  },
  {
   "cell_type": "code",
   "execution_count": 11,
   "metadata": {},
   "outputs": [
    {
     "name": "stdout",
     "output_type": "stream",
     "text": [
      "49620\n",
      "49640\n",
      "49660\n",
      "49660\n",
      "49660\n",
      "49660\n",
      "11\n",
      "11\n",
      "11\n"
     ]
    }
   ],
   "source": [
    "a = 'name'\n",
    "b = 'name'\n",
    "c = 'name'\n",
    "\n",
    "# Are these three local variables pointing to the same object?\n",
    "\n",
    "puts a.object_id\n",
    "puts b.object_id\n",
    "puts c.object_id\n",
    "\n",
    "a = c\n",
    "b = a\n",
    "\n",
    "puts a.object_id\n",
    "puts b.object_id\n",
    "puts c.object_id\n",
    "\n",
    "a = 5\n",
    "b = 5\n",
    "c = 5\n",
    "\n",
    "puts a.object_id\n",
    "puts b.object_id\n",
    "puts c.object_id"
   ]
  },
  {
   "cell_type": "markdown",
   "metadata": {},
   "source": [
    "On `lines 1-3` we are intializing three local variables `a, b, and c` which all have the same value `'name'` but they are not pointing to the same object.\n",
    "\n",
    "On `lines 11-12` we are reassinging the local variable `a` to point to the same object as local variable `c` is pointing to.  So now local variables `a and c` are poiting to one object while local variable `b` is pointing to another.  \n",
    "\n",
    "Then we are reassigning local variable `b` to point to the same object as local variable `a`, which is pointing to the same object as local variable `c`.  So all three variables are now pointing to the same object and, thus, will have the same object id's.\n",
    "\n",
    "On `lines 18-20` we are reassigning local variables `a, b and c` to the value `5`.  **Integers and symbols in Ruby with same values occupy the same physical space in memory (they are the same objects)**. So now `a`, `b` and `c` are all pointing to the same object with the same object_id"
   ]
  },
  {
   "cell_type": "code",
   "execution_count": 12,
   "metadata": {},
   "outputs": [
    {
     "name": "stdout",
     "output_type": "stream",
     "text": [
      "hello \n",
      "49680\n",
      "hello world\n",
      "49700\n"
     ]
    }
   ],
   "source": [
    "a = 'hello '\n",
    "puts a\n",
    "puts a.object_id\n",
    "\n",
    "a += 'world'\n",
    "puts a\n",
    "puts a.object_id"
   ]
  },
  {
   "cell_type": "markdown",
   "metadata": {},
   "source": [
    "`+=` operator and `-=` , `*=` etc. are all reassignment operators and `line 5` can be written like this `a = a + 'world'`\n",
    "\n",
    "So we are reassigning the local variable `a` to the a different string object with the value `'hello world'` and the outputs on line 3 and 7 will be different."
   ]
  },
  {
   "cell_type": "markdown",
   "metadata": {},
   "source": [
    "## Assessment Prep Videos"
   ]
  },
  {
   "cell_type": "markdown",
   "metadata": {},
   "source": [
    "### Part 1"
   ]
  },
  {
   "cell_type": "markdown",
   "metadata": {},
   "source": [
    "#### Variable Scope"
   ]
  },
  {
   "cell_type": "code",
   "execution_count": 29,
   "metadata": {},
   "outputs": [
    {
     "name": "stdout",
     "output_type": "stream",
     "text": [
      "world\n"
     ]
    }
   ],
   "source": [
    "str = 'hello'\n",
    "\n",
    "loop do \n",
    "    str = 'world'\n",
    "    break\n",
    "end\n",
    "\n",
    "puts str"
   ]
  },
  {
   "cell_type": "markdown",
   "metadata": {},
   "source": [
    "On `line 1` we are initializing local variable `str` to the value `'hello'` in the main/outside scope.\n",
    "\n",
    "One `line 3` we are invoking the `loop` method and passing in a `do..end` block.  Within the block' scope we are reassigning the variable `str` to the value `'world'`.  So now `str` points to a different string object.  \n",
    "\n",
    "On `line 8` we invoke the `puts` method and pass in `str` as an argument.  This will output `'world'` and return `nil`."
   ]
  },
  {
   "cell_type": "markdown",
   "metadata": {},
   "source": [
    "In ruby, variable reassignment and variable initialization look the same.\n",
    "\n",
    "**Variables that are intitialized in the main scope are accessible within a block's scope.  But local variables initialized inside a block's scope are not accessible in the main scope.**"
   ]
  },
  {
   "cell_type": "markdown",
   "metadata": {},
   "source": [
    "### Part 2"
   ]
  },
  {
   "cell_type": "markdown",
   "metadata": {},
   "source": [
    "#### Pass by Reference vs. Pass by Value"
   ]
  },
  {
   "cell_type": "code",
   "execution_count": 32,
   "metadata": {},
   "outputs": [
    {
     "name": "stdout",
     "output_type": "stream",
     "text": [
      "\"hello\"\n"
     ]
    },
    {
     "data": {
      "text/plain": [
       "\"hello\""
      ]
     },
     "execution_count": 32,
     "metadata": {},
     "output_type": "execute_result"
    }
   ],
   "source": [
    "def amethod(param)\n",
    "    param += ' world' # String reassignment\n",
    "    param + ' world' # String concatenation\n",
    "end\n",
    "\n",
    "str = 'hello'\n",
    "amethod(str)\n",
    "\n",
    "p str"
   ]
  },
  {
   "cell_type": "markdown",
   "metadata": {},
   "source": [
    "`amethod` will return a new string object and it will have no effect on `str`\n",
    "\n",
    "`amethod` is reassigning the local variable `param` to a new string value."
   ]
  },
  {
   "cell_type": "code",
   "execution_count": 33,
   "metadata": {},
   "outputs": [
    {
     "name": "stdout",
     "output_type": "stream",
     "text": [
      "\"hello world\"\n"
     ]
    },
    {
     "data": {
      "text/plain": [
       "\"hello world\""
      ]
     },
     "execution_count": 33,
     "metadata": {},
     "output_type": "execute_result"
    }
   ],
   "source": [
    "def amethod(param)\n",
    "    param << ' world'\n",
    "end\n",
    "\n",
    "str = 'hello'\n",
    "amethod(str)\n",
    "\n",
    "p str"
   ]
  },
  {
   "cell_type": "markdown",
   "metadata": {},
   "source": [
    "`str` is modified or mutated in this example.\n",
    "\n",
    "When there is a method that is destructive and mutates the calling object, you will see the change outside the scope of the method too."
   ]
  },
  {
   "cell_type": "code",
   "execution_count": 36,
   "metadata": {},
   "outputs": [
    {
     "name": "stdout",
     "output_type": "stream",
     "text": [
      "\"hello\"\n"
     ]
    },
    {
     "data": {
      "text/plain": [
       "\"hello\""
      ]
     },
     "execution_count": 36,
     "metadata": {},
     "output_type": "execute_result"
    }
   ],
   "source": [
    "def amethod(param)       # param = str\n",
    "    param += ' universe' # param = param + ' universe'\n",
    "    param << ' world'\n",
    "end\n",
    "\n",
    "str = 'hello'\n",
    "amethod(str)\n",
    "\n",
    "p strstr"
   ]
  },
  {
   "cell_type": "markdown",
   "metadata": {},
   "source": [
    "`line 2` is reassignment.  `param = param + ' world'`.  This creates a new string object and assigns it to the local variable `param`.  \n",
    "\n",
    "Therefore, on `line 4`, the destructive method is being performed on the **new** string object.  This new string object is pointing to a different space in memory than the object referenced by the `str` local variable.  \n",
    "\n",
    "On `line 6` we are passing the object assigned to `str` to `amethod`.  `param` is assigned to `str` at this point.  Line 1 is where the `param` local method variable is initialized.\n",
    "\n",
    "Therefore, on `line 2`, `param += ' universe'` is reassignment.  `param` now references a new object.  From this point, we can do anything we want to `param` but it won't affect the object that `str` is pointing to."
   ]
  },
  {
   "cell_type": "code",
   "execution_count": 38,
   "metadata": {},
   "outputs": [
    {
     "name": "stdout",
     "output_type": "stream",
     "text": [
      "49740\n",
      "49760\n"
     ]
    }
   ],
   "source": [
    "a = 'hello'\n",
    "b = a\n",
    "a = 'not here'\n",
    "\n",
    "puts a.object_id\n",
    "puts b.object_id"
   ]
  },
  {
   "cell_type": "markdown",
   "metadata": {},
   "source": [
    "Variables point to objects.   \n",
    "\n",
    "Objects take up space in memory. \n",
    "\n",
    "Local variable `a` is initialized to the value `'hello'`.  \n",
    "\n",
    "Local variable `b` is initialized and references or points to the same object that is assigned to local variable `a`.\n",
    "\n",
    "Then, local variable `a` is reassigned to reference or point to a different string object with the value `'not here'`.  Now local variables `a` and `b` point to different objects.\n",
    "\n",
    "In this example, there are **2 variables, 1 object**"
   ]
  },
  {
   "cell_type": "code",
   "execution_count": 39,
   "metadata": {},
   "outputs": [
    {
     "name": "stdout",
     "output_type": "stream",
     "text": [
      "hello world\n",
      "hello world\n"
     ]
    }
   ],
   "source": [
    "a = 'hello'\n",
    "b = a\n",
    "\n",
    "b << ' world'\n",
    "\n",
    "puts a\n",
    "puts b"
   ]
  },
  {
   "cell_type": "markdown",
   "metadata": {},
   "source": [
    "Local variable `a` is initialized to the value `'hello'`.\n",
    "\n",
    "Local variable `b` is initialized to reference or point to the same string object as `a`, which has the value `'hello'`.  \n",
    "The shovel operator is then called on the string object assigned to local variable `b`.  This is a destructive method which means it is mutating the object itself and not returning a new object.  Since `a` and `b` both point to the same string object they will now both have the value `'hello world'` "
   ]
  },
  {
   "cell_type": "code",
   "execution_count": 40,
   "metadata": {},
   "outputs": [
    {
     "name": "stdout",
     "output_type": "stream",
     "text": [
      "hey\n",
      "hello world universe\n"
     ]
    }
   ],
   "source": [
    "a = 'hello'\n",
    "b = a\n",
    "\n",
    "b << ' world'\n",
    "\n",
    "a = 'hey'\n",
    "b << ' universe'\n",
    "\n",
    "puts a\n",
    "puts b"
   ]
  },
  {
   "cell_type": "markdown",
   "metadata": {},
   "source": [
    "On `line 6` `a` is reassigned to the value `'hey'`.  The local variable `a` now points to a different string object than local variable `b`.  \n",
    "\n",
    "When the shovel method is called on the object assigned to `b` on `line 7` it mutates that object, which is different than the object that local variable `a` is referencing.  Mutations or manipulations on the object assigned to `b` will no longer affect the object referenced by `a`.\n",
    "\n",
    "Therefore, this code will output<br>\n",
    "`hey`<br>\n",
    "`hello world universe`"
   ]
  },
  {
   "cell_type": "markdown",
   "metadata": {},
   "source": [
    "#### Method Return Value vs. Side Effect "
   ]
  },
  {
   "cell_type": "code",
   "execution_count": 41,
   "metadata": {},
   "outputs": [
    {
     "name": "stdout",
     "output_type": "stream",
     "text": [
      "Joe\n"
     ]
    }
   ],
   "source": [
    "def prefix(str)\n",
    "    'Mr. ' + str\n",
    "end\n",
    "    \n",
    "name = 'Joe'\n",
    "prefix(name)\n",
    "puts(name)"
   ]
  },
  {
   "cell_type": "markdown",
   "metadata": {},
   "source": [
    "In its current form, this code will not mutate the calling object because `String#+` is a non-mutating method that returns a new string.\n",
    "\n",
    "This code will output `Joe`"
   ]
  },
  {
   "cell_type": "code",
   "execution_count": 43,
   "metadata": {},
   "outputs": [
    {
     "name": "stdout",
     "output_type": "stream",
     "text": [
      "Mr. Joe\n"
     ]
    }
   ],
   "source": [
    "def prefix(str)\n",
    "    'Mr. ' + str\n",
    "end\n",
    "    \n",
    "name = 'Joe'\n",
    "name = prefix(name)\n",
    "puts(name)"
   ]
  },
  {
   "cell_type": "markdown",
   "metadata": {},
   "source": [
    "To fix this, we can reassign the local variable `name` to the return value of `prefix`."
   ]
  },
  {
   "cell_type": "markdown",
   "metadata": {},
   "source": [
    "**You don't want a method to have a return value AND a side effect.**"
   ]
  },
  {
   "cell_type": "markdown",
   "metadata": {},
   "source": [
    "### Part 3"
   ]
  },
  {
   "cell_type": "markdown",
   "metadata": {},
   "source": [
    "#### Collections"
   ]
  },
  {
   "cell_type": "markdown",
   "metadata": {},
   "source": [
    "A collection is a type of data structure (ex. array, hash, string)\n",
    "\n",
    "What's the difference between an array and a hash?\n",
    "- order\n",
    "- index vs. key retrieval\n",
    "- arrays can have duplicates, but hash keys are unique"
   ]
  },
  {
   "cell_type": "markdown",
   "metadata": {},
   "source": [
    "`select` returns a new array based on the block's return value.  If the block's return value evaluates to `true` then the value is selected.  If the block's return value evaluates to false, the element is not selected.\n",
    "\n",
    "`map` returns a new array based on the block's return value.  Each element is transformed based on the return value."
   ]
  },
  {
   "cell_type": "code",
   "execution_count": 73,
   "metadata": {},
   "outputs": [
    {
     "name": "stdout",
     "output_type": "stream",
     "text": [
      "1 2 3 4 5 6 7 8 9 10 "
     ]
    },
    {
     "data": {
      "text/plain": [
       "1..10"
      ]
     },
     "execution_count": 73,
     "metadata": {},
     "output_type": "execute_result"
    }
   ],
   "source": [
    "# Iterate over array 1..10 and print out each value\n",
    "\n",
    "(1..10).each { |num| print \"#{num} \" }"
   ]
  },
  {
   "cell_type": "code",
   "execution_count": 74,
   "metadata": {},
   "outputs": [
    {
     "name": "stdout",
     "output_type": "stream",
     "text": [
      "6\n",
      "7\n",
      "8\n",
      "9\n",
      "10\n"
     ]
    },
    {
     "data": {
      "text/plain": [
       "1..10"
      ]
     },
     "execution_count": 74,
     "metadata": {},
     "output_type": "execute_result"
    }
   ],
   "source": [
    "# Same as above, but print only if value > 5\n",
    "\n",
    "(1..10).each { |num| puts num if num > 5 }"
   ]
  },
  {
   "cell_type": "code",
   "execution_count": 81,
   "metadata": {},
   "outputs": [
    {
     "data": {
      "text/plain": [
       "[1, 2, 3, 4, 5, 6, 7, 8, 9, 10, 12]"
      ]
     },
     "execution_count": 81,
     "metadata": {},
     "output_type": "execute_result"
    }
   ],
   "source": [
    "# Append 12 to end of array\n",
    "\n",
    "arr = [*1..10]\n",
    "arr << 12"
   ]
  },
  {
   "cell_type": "code",
   "execution_count": 82,
   "metadata": {},
   "outputs": [
    {
     "data": {
      "text/plain": [
       "[0, 1, 2, 3, 4, 5, 6, 7, 8, 9, 10, 12]"
      ]
     },
     "execution_count": 82,
     "metadata": {},
     "output_type": "execute_result"
    }
   ],
   "source": [
    "# Prepend 0 to the array\n",
    "\n",
    "arr.unshift(0)"
   ]
  },
  {
   "cell_type": "code",
   "execution_count": 83,
   "metadata": {},
   "outputs": [
    {
     "data": {
      "text/plain": [
       "[0, 1, 2, 3, 4, 5, 6, 7, 8, 9, 10, 3]"
      ]
     },
     "execution_count": 83,
     "metadata": {},
     "output_type": "execute_result"
    }
   ],
   "source": [
    "# Remove the 12 and append a 3\n",
    "\n",
    "arr.pop\n",
    "arr << 3"
   ]
  },
  {
   "cell_type": "code",
   "execution_count": 84,
   "metadata": {},
   "outputs": [
    {
     "data": {
      "text/plain": [
       "[0, 1, 2, 3, 4, 5, 6, 7, 8, 9, 10]"
      ]
     },
     "execution_count": 84,
     "metadata": {},
     "output_type": "execute_result"
    }
   ],
   "source": [
    "# Remove duplicates using one method\n",
    "\n",
    "arr.uniq!"
   ]
  },
  {
   "cell_type": "code",
   "execution_count": 85,
   "metadata": {},
   "outputs": [
    {
     "data": {
      "text/plain": [
       "[1, 3, 5, 7, 9]"
      ]
     },
     "execution_count": 85,
     "metadata": {},
     "output_type": "execute_result"
    }
   ],
   "source": [
    "# Extract all odd numbers into a new array\n",
    "\n",
    "new_arr = arr.select(&:odd?)"
   ]
  },
  {
   "cell_type": "code",
   "execution_count": 86,
   "metadata": {},
   "outputs": [
    {
     "data": {
      "text/plain": [
       "[1, 2, 3, 4, 5, 6, 7, 8, 9, 10, 11]"
      ]
     },
     "execution_count": 86,
     "metadata": {},
     "output_type": "execute_result"
    }
   ],
   "source": [
    "# Increment all numbers by 1\n",
    "\n",
    "# arr.each_with_index do |num, idx|\n",
    "#      arr[idx] += 1\n",
    "# end\n",
    "\n",
    "arr.map! { |n| n + 1 }"
   ]
  },
  {
   "cell_type": "code",
   "execution_count": 87,
   "metadata": {},
   "outputs": [
    {
     "data": {
      "text/plain": [
       "66"
      ]
     },
     "execution_count": 87,
     "metadata": {},
     "output_type": "execute_result"
    }
   ],
   "source": [
    "#  Find sum of all numbers\n",
    "\n",
    "arr.sum"
   ]
  },
  {
   "cell_type": "code",
   "execution_count": 100,
   "metadata": {},
   "outputs": [
    {
     "data": {
      "text/plain": [
       "2"
      ]
     },
     "execution_count": 100,
     "metadata": {},
     "output_type": "execute_result"
    }
   ],
   "source": [
    "# Get the value of `b`\n",
    "\n",
    "hsh = (:a..:d).zip(1..4).to_h\n",
    "\n",
    "hsh[:b]"
   ]
  },
  {
   "cell_type": "code",
   "execution_count": 92,
   "metadata": {},
   "outputs": [
    {
     "data": {
      "text/plain": [
       "5"
      ]
     },
     "execution_count": 92,
     "metadata": {},
     "output_type": "execute_result"
    }
   ],
   "source": [
    "# Add (:e, 5) to the hash\n",
    "\n",
    "hsh[:e] = 5"
   ]
  },
  {
   "cell_type": "code",
   "execution_count": 94,
   "metadata": {},
   "outputs": [
    {
     "name": "stdout",
     "output_type": "stream",
     "text": [
      "a -> 1\n",
      "b -> 2\n",
      "c -> 3\n",
      "d -> 4\n",
      "e -> 5\n"
     ]
    },
    {
     "data": {
      "text/plain": [
       "{:a=>1, :b=>2, :c=>3, :d=>4, :e=>5}"
      ]
     },
     "execution_count": 94,
     "metadata": {},
     "output_type": "execute_result"
    }
   ],
   "source": [
    "# Iterate over the hash and print the key, value pairs\n",
    "\n",
    "hsh.each {|k, v| puts \"#{k} -> #{v}\" }"
   ]
  },
  {
   "cell_type": "code",
   "execution_count": 95,
   "metadata": {},
   "outputs": [
    {
     "name": "stdout",
     "output_type": "stream",
     "text": [
      "a -> 1\n",
      "b -> 2\n",
      "c -> 3\n"
     ]
    },
    {
     "data": {
      "text/plain": [
       "{:a=>1, :b=>2, :c=>3, :d=>4, :e=>5}"
      ]
     },
     "execution_count": 95,
     "metadata": {},
     "output_type": "execute_result"
    }
   ],
   "source": [
    "# Iterate over the hash and print the key, value pairs if value is less than 3.5\n",
    "\n",
    "hsh.each {|k, v| puts \"#{k} -> #{v}\" if v < 3.5 }"
   ]
  },
  {
   "cell_type": "code",
   "execution_count": 96,
   "metadata": {},
   "outputs": [
    {
     "data": {
      "text/plain": [
       "{:a=>1, :b=>2, :c=>3}"
      ]
     },
     "execution_count": 96,
     "metadata": {},
     "output_type": "execute_result"
    }
   ],
   "source": [
    "# Return a new hash where the value is less than 3.5\n",
    "\n",
    "less_35 = hsh.select { |_, v| v < 3.5 }"
   ]
  },
  {
   "cell_type": "code",
   "execution_count": 97,
   "metadata": {},
   "outputs": [
    {
     "data": {
      "text/plain": [
       "{:d=>4, :e=>5}"
      ]
     },
     "execution_count": 97,
     "metadata": {},
     "output_type": "execute_result"
    }
   ],
   "source": [
    "# Delete all key-value pairs if value is less than 3.5\n",
    "\n",
    "hsh.delete_if { |_, v| v < 3.5 }"
   ]
  }
 ],
 "metadata": {
  "kernelspec": {
   "display_name": "Ruby 2.7.5",
   "language": "ruby",
   "name": "ruby"
  },
  "language_info": {
   "file_extension": ".rb",
   "mimetype": "application/x-ruby",
   "name": "ruby",
   "version": "2.7.5"
  },
  "toc-autonumbering": true,
  "toc-showcode": false,
  "toc-showmarkdowntxt": false,
  "toc-showtags": false
 },
 "nbformat": 4,
 "nbformat_minor": 4
}
