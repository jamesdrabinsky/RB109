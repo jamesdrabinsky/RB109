{
 "cells": [
  {
   "cell_type": "code",
   "execution_count": 1,
   "metadata": {},
   "outputs": [
    {
     "name": "stdout",
     "output_type": "stream",
     "text": [
      "dog\n"
     ]
    }
   ],
   "source": [
    "animal = \"dog\"\n",
    "\n",
    "loop do |animal|\n",
    "  animal = \"cat\"\n",
    "  break\n",
    "end\n",
    "\n",
    "puts animal"
   ]
  },
  {
   "cell_type": "markdown",
   "metadata": {},
   "source": [
    "Unused block parameter."
   ]
  },
  {
   "cell_type": "markdown",
   "metadata": {},
   "source": [
    "On line 1 the local variable `animal` is initialized to a string object with the value \"dog\".  On line 3 the `loop` method is invoked and a `do..end` block is passed to the method as an argument.  The loop block is given a parameter, `animal`.  Within the block's scope the local variable `animal` is initialized (and assigned) to a string object with the value \"cat\".  On line 5 the break keyword is used to exit out of the loop.  \n",
    "\n",
    "On line 8 the `puts` method is invoked and the string object referenced by local variable `animal` is passed as an argument. This will output \"dog\" and return `nil.`  \n",
    "\n",
    "This code demonstrates the concept of variable shadowing.  Specifically, the parameter passed to the block shares a name with the local variable initialized outside of the block's scope.  Therefore, the block will not have access to the the outer scoped local variable."
   ]
  },
  {
   "cell_type": "markdown",
   "metadata": {},
   "source": [
    "=begin\n",
    "This code will print `dog` to the console. This is printed when we invoke the `puts` method on line 9 and pass in the object referenced by local variable `animal`. When we trace back where `animal` came from, we see it was initialized on line 2 with the string value `'dog'`. On line 4 we have invoke a `loop` with a `do..end` block spanning from lines 4-7. Within the block, it appears as though we are trying to reassign the value of local variable `animal` to the string `'cat'`, but this variable is referencing the block's parameter that we've assigned to `animal`.\n",
    "\n",
    "This is a case of variable shadowing. When we use `animal` as our block parameter on line 4, we create a local variable `animal` in the inner scope of the block that will be referenced rather than the outer scope local variable `animal`. The variable shadowing has removed our access to the outer scope `animal` variable. If we wanted to reassign the outer scope local variable `animal` we could rename the blocks parameter to `_` since it is unused.\n",
    "=end"
   ]
  },
  {
   "cell_type": "code",
   "execution_count": null,
   "metadata": {},
   "outputs": [],
   "source": [
    "### Question 4:\n",
    "### Our predict_weather method should output a message indicating whether a sunny or cloudy day \n",
    "# lies ahead. However, the output is the same every time the method is invoked. Why? Fix the \n",
    "# code so that it behaves as expected.\n",
    "\n",
    "def predict_weather\n",
    "  sunshine = ['true', 'false'].sample\n",
    "  \n",
    "  if sunshine\n",
    "    puts \"Today's weather will be sunny!\"\n",
    "  else\n",
    "    puts \"Today's weather will be cloudy!\"\n",
    "  end\n",
    "end"
   ]
  },
  {
   "cell_type": "markdown",
   "metadata": {},
   "source": [
    "The method definition for `predict_weather` spans from lines 6 to 14.  Within the method's scope, local variable `sunshine` is initialized to the return value of invoking `Array#sample` on the array `[\"true\", \"false\"]`.  If the conditional on line 9 evaluates to true, the `puts` method is invoked and \"Today's weather will be sunny!\" is passed as an argument.  Otherwise, the `puts` method is invoked with \"Today's weather will be cloudy!\" passed in as an argument.  \n",
    "\n",
    "In it's current state, the method will always output \"Today's weather will be sunny!\".  This is due to the fact that the values in the array on line 7 are strings and string values always evalaute as true.  To fix the code, we would replace the string values with the boolean values `true` and `false`.  \n",
    "\n",
    "This code demonstrates the concept of truthiness and how every object in Ruby evaluates as true with the exception of `false` and `nil`.  "
   ]
  },
  {
   "cell_type": "markdown",
   "metadata": {},
   "source": [
    "=begin\n",
    "The expectation of this code is that it will randomly choose between outputing two different strings. When ran, we see that the output is always `Today's weather will be sunny!`. When we look at line 9 we see that the conditional is using the truthiness of the local variable `sunshine` to determine whether to enter the `if` branch or the `else` branch. From the output we see that the code is always entering the `if` branch, meaning `sunshine` is always giving us a truthy value.\n",
    "\n",
    "If we look at the initialization of local variable `sunshine` on line 7, we see that it is assigned to to the return value of `['true', 'false'].sample`. The `#sample` method it choosing from the array at random, and assigning one of the values to our `sunshine` variable. The problem is that it is always assigning a string value. Since everything except the boolean `false` and `nil` is considered truthy, both the string `'true'` and `'false'` evaluate to true, causing us to always enter the `if` branch.\n",
    "\n",
    "We can fix this code by simply removing the single quotes from around `'true'` and `'false'`, changing them into booleans rather than strings. \n",
    "=end"
   ]
  },
  {
   "cell_type": "markdown",
   "metadata": {},
   "source": [
    "when we invoke the append method we pass in the object referenced by local variable t as the argument. \n",
    "\n",
    "  at this point in the outer scope, t referenced the string 'abc' and in the inner scope of our method s referenced the SAME string 'abc'. "
   ]
  }
 ],
 "metadata": {
  "kernelspec": {
   "display_name": "Ruby 2.7.5",
   "language": "ruby",
   "name": "ruby"
  },
  "language_info": {
   "file_extension": ".rb",
   "mimetype": "application/x-ruby",
   "name": "ruby",
   "version": "2.7.5"
  },
  "orig_nbformat": 4
 },
 "nbformat": 4,
 "nbformat_minor": 2
}
