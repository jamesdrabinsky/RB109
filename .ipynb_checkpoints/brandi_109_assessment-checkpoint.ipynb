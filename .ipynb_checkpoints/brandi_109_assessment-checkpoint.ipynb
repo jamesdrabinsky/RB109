{
 "cells": [
  {
   "cell_type": "markdown",
   "id": "99da4caf-f483-4c8f-b092-7835d541a2ff",
   "metadata": {},
   "source": [
    "<b>\n",
    "Question 1:<br>\n",
    "What will the following code print? Why?\n",
    "</b>"
   ]
  },
  {
   "cell_type": "code",
   "execution_count": 3,
   "id": "98c1fed7-5463-49dd-9684-cda5fe2843c1",
   "metadata": {},
   "outputs": [
    {
     "name": "stdout",
     "output_type": "stream",
     "text": [
      "0\n",
      "1\n",
      "2\n",
      "nil\n"
     ]
    }
   ],
   "source": [
    "def count_sheep\n",
    "  5.times do |sheep|\n",
    "    puts sheep\n",
    "    if sheep >= 2\n",
    "      return\n",
    "    end\n",
    "  end\n",
    "end\n",
    "\n",
    "p count_sheep"
   ]
  },
  {
   "cell_type": "markdown",
   "id": "3f5db331-7b5a-45bf-8835-4c9d6822a062",
   "metadata": {},
   "source": [
    "Within the method definition for `count_sheep` spanning lines 1 - 8, the `Integer#times` method is called on the integer 5 and a `do..end` block is passed in as an argument.  The `#times` method passes in each value from 0 to 4 to the block in the form of an argument, in this case `sheep`.  Within the block, `#puts` is invoked with the integer referenced by local variable `sheep` passed in as an argument. This will output \"0\" on the first block iteration, \"1\" on the second block iteration and \"2\" on the third. When the integer referenced by local variable `sheep` is equal to 2, the `if` conditional on line 4 will evaluate to true and the explicit `return` on line 5 will exit out of the block.  \n",
    "\n",
    "`#p` is invoked on line 10 with the `count_sheep` method call passed in as an argument.  This will print the output of `count_sheep` - the string representations of integers 0, 1 and 2 - and the the return value of `count_sheep` - `nil`."
   ]
  },
  {
   "cell_type": "markdown",
   "id": "a2c86e81-83a6-48c4-878e-c063e73aa1e2",
   "metadata": {},
   "source": [
    "<b>\n",
    "Question 2:<br>\n",
    "What does the following code return? What does it output? Why? What concept does it demonstrate?\n",
    "<br>"
   ]
  },
  {
   "cell_type": "code",
   "execution_count": 5,
   "id": "b266398a-95d2-4aae-a1e1-ebaa9041721e",
   "metadata": {},
   "outputs": [
    {
     "name": "stdout",
     "output_type": "stream",
     "text": [
      "5\n",
      "5\n",
      "4\n",
      "2\n"
     ]
    }
   ],
   "source": [
    "a = 4\n",
    "b = 2\n",
    "\n",
    "2.times do |a|\n",
    "  a = 5\n",
    "  puts a\n",
    "end\n",
    "\n",
    "puts a\n",
    "puts b"
   ]
  },
  {
   "cell_type": "markdown",
   "id": "9ca2648d-0476-49ed-87ba-cffe5f042e43",
   "metadata": {},
   "source": [
    "On line 1 the local variable `a` is initialized to the integer object with the value 4.  On line 2 the local variable `b` is initialized to the integer object with the value 2.  On line 4 `Integer#times` in called on the integer 2 and a `do..end` block is passed to it as an argument.  The values from 0 to 1 are passed to the block in the form of an argument, in this case `a`.  \n",
    "\n",
    "The parameter passed to the block, `a`, shares a name with the local variable initialized in the outer scope on line 1.  This is called variable shadowing and it prevents the block from accessing the outer scoped variable with the same name..  Therefore, instead of reassigning local variable `a` to a different integer object on line 5, `a` is actually initialized within the block to an integer object with the value 5.  The `#puts` method call on the next line will output 5 on each iteration of the `#times` block. \n",
    "\n",
    "`#puts` is invoked on line 9 with the integer object referenced by local variable `a` passed in as an argument.  The local variable `a` still points to the integer object with value 4 because it was not reassigned within the block.  So this method call will output 4.  `#puts` is invoked on line 9 with the integer object referenced by local variable `a` passed in as an argument.  This will output 2.  "
   ]
  },
  {
   "cell_type": "markdown",
   "id": "c77c4a2d-cc6f-4ed3-a332-aa5bc5fbd1df",
   "metadata": {},
   "source": [
    "<b>\n",
    "Question 3:<br>\n",
    "How does count treat the block's return value? How can we find out?\n",
    "</b>"
   ]
  },
  {
   "cell_type": "code",
   "execution_count": 6,
   "id": "2cd5b9ed-b322-464b-a924-325c6118514b",
   "metadata": {},
   "outputs": [
    {
     "data": {
      "text/plain": [
       "2"
      ]
     },
     "execution_count": 6,
     "metadata": {},
     "output_type": "execute_result"
    }
   ],
   "source": [
    "['ant', 'bat', 'caterpillar'].count do |str|\n",
    "  str.length < 4\n",
    "end"
   ]
  },
  {
   "cell_type": "markdown",
   "id": "739792e0-e335-4883-9316-f90b66d96115",
   "metadata": {},
   "source": [
    "`Array#count` considers the truthiness of the block's return value.  `#count` will count each element in the calling array for which the criteria within the block evaluates to true.  Therefore, this code will return 2 because the block's return value will be truthy for two elements in the calling array, \"ant\" and \"bat\" "
   ]
  },
  {
   "cell_type": "markdown",
   "id": "6ed5a94d-93f2-471a-935a-e19a742bf517",
   "metadata": {},
   "source": [
    "<b>\n",
    "Question 4:<br>\n",
    "Our predict_weather method should output a message indicating whether a sunny or cloudy day<br>\n",
    "lies ahead. However, the output is the same every time the method is invoked. Why? Fix the<br>\n",
    "code so that it behaves as expected.<br>\n",
    "</b>"
   ]
  },
  {
   "cell_type": "code",
   "execution_count": 12,
   "id": "d24520be-6746-4406-894f-12713f9721c4",
   "metadata": {},
   "outputs": [
    {
     "name": "stdout",
     "output_type": "stream",
     "text": [
      "Today's weather will be sunny!\n"
     ]
    }
   ],
   "source": [
    "def predict_weather\n",
    "  # sunshine = ['true', 'false'].sample\n",
    "  sunshine = [true, false].sample\n",
    "  \n",
    "  if sunshine\n",
    "    puts \"Today's weather will be sunny!\"\n",
    "  else\n",
    "    puts \"Today's weather will be cloudy!\"\n",
    "  end\n",
    "end\n",
    "\n",
    "predict_weather"
   ]
  },
  {
   "cell_type": "markdown",
   "id": "9832151c-2bc0-4b5c-b974-6b26c16d7e8b",
   "metadata": {},
   "source": [
    "In order for the `predict_weather` method to behave as expected, the two string values in the array on line 2 need to be replaced by two booleans, `true` and `false`.  The local variable `sunshine` is initialized to the return value of calling `Array#sample` on the array object `['true', 'false']`.  `#sample` will select one of the two values from the array at random.  If the string object referenced by local variable `sunshine` evaluates to true then the `if` branch is executed on line 5.  Otherwise, the `else` branch is executed.  \n",
    "\n",
    "In it's current form, the method will always otuput \"Today's weather will be sunny!\" because the string object assigned to `sunshine` will always evaluates to true.  All objects in Ruby are considered truthy with the exception of `false` and `nil`.  Replacing the two strings with boolean value `true` and `false` will allow for the option of executing the `else` branch `sunshine` is initialized to `false.`"
   ]
  },
  {
   "cell_type": "markdown",
   "id": "a6cc27da-e2a6-4379-9a0e-e8fc591bfafb",
   "metadata": {},
   "source": [
    "<b>\n",
    "Question 5:<br>\n",
    "What is the return value of map in the following code? Why?\n",
    "</b>"
   ]
  },
  {
   "cell_type": "code",
   "execution_count": 7,
   "id": "c124cddf-046f-492a-b3ff-26079cf5b428",
   "metadata": {},
   "outputs": [
    {
     "data": {
      "text/plain": [
       "[nil, \"bear\"]"
      ]
     },
     "execution_count": 7,
     "metadata": {},
     "output_type": "execute_result"
    }
   ],
   "source": [
    "{ a: 'ant', b: 'bear' }.map do |key, value|\n",
    "  if value.size > 3\n",
    "    value\n",
    "  end\n",
    "end"
   ]
  },
  {
   "cell_type": "markdown",
   "id": "22f15f99-6eff-48e0-8d1e-f098071b3dd8",
   "metadata": {},
   "source": [
    "In this code, `#map` is called on the hash object `{ a: 'ant', b: 'bear' }` and a `do..end` block is passed in as an argument.  Each key-value pair is passed to the block in the form of arguments, in this case `key` and `value`.  On line 2, if value in the current iteration has a length greater than 3, then the `if` conditional evaluates to `true` and block returns the value from the current key-value pair.  If the `if` conditional evaluates to false, then the `if` branch is not executed and the block returns `nil`.  \n",
    "\n",
    "`Hash#map` considers the block's return value for transformation.  So `#map` will return a new array with the value `nil` and \"ant\".  "
   ]
  },
  {
   "cell_type": "markdown",
   "id": "56dfc961-a345-41fa-9843-ffc078ab17b7",
   "metadata": {},
   "source": [
    "<b>\n",
    "Question 6:<br>\n",
    "What will the following code print? Why?\n",
    "</b>"
   ]
  },
  {
   "cell_type": "code",
   "execution_count": null,
   "id": "935d1034-b594-4adb-a260-84877ed93e5d",
   "metadata": {},
   "outputs": [],
   "source": [
    "def tricky_number\n",
    "  if true\n",
    "    number = 1\n",
    "  else\n",
    "    2\n",
    "  end\n",
    "end\n",
    "\n",
    "puts tricky_number"
   ]
  },
  {
   "cell_type": "markdown",
   "id": "0dfbcf7c-54fb-41dc-879c-f98f75ee9940",
   "metadata": {},
   "source": [
    "Within the `tricky_number` method definition spanning lines 1 - 7 the `if` branch in the conditional will always be executed.  This is because all objects in Ruby evaluate to true except for `nil` and `false`, so the boolean `true` will evalaute to true.  Within the `if` branch the local variable `number` is initialized to an integer object with the value 1.  This is the last line evaluated within the method so the method's return value will be 1.  \n",
    "\n",
    "Therefore, when `#puts` is invoked on line 9 and the `tricky_number` method call is passed in as an argument, the output will be a string representation of `tricky_number` return value, \"1\".  `#puts` returns `nil` so this code will also return `nil`.  "
   ]
  },
  {
   "cell_type": "markdown",
   "id": "95c7141c-7c1c-4863-871f-5920b971f4bf",
   "metadata": {},
   "source": [
    "<b>\n",
    "Question 7:<br>\n",
    "The following code throws an error. Find out what is wrong and think about how you would fix it.\n",
    "</b>"
   ]
  },
  {
   "cell_type": "code",
   "execution_count": 21,
   "id": "e6eb56f0-8b45-46c0-a86c-c99428106a47",
   "metadata": {},
   "outputs": [
    {
     "name": "stdout",
     "output_type": "stream",
     "text": [
      "I have a yellow training mat.\n",
      "And a red pen.\n",
      "And a silver notebook.\n",
      "And a turquoise mouse pad.\n",
      "And a purple surf board.\n",
      "And a dark blue sofa.\n",
      "And a green coffee mug.\n"
     ]
    }
   ],
   "source": [
    "colors = ['red', 'yellow', 'purple', 'green', 'dark blue', 'turquoise', 'silver', 'black']\n",
    "things = ['pen', 'mouse pad', 'coffee mug', 'sofa', 'surf board', 'training mat', 'notebook']\n",
    "\n",
    "colors.shuffle!\n",
    "things.shuffle!\n",
    "\n",
    "i = 0\n",
    "loop do\n",
    "  # break if i > colors.length\n",
    "  break if i > (things.length - 1)\n",
    "  \n",
    "  if i == 0\n",
    "    puts 'I have a ' + colors[i] + ' ' + things[i] + '.'\n",
    "  else\n",
    "    puts 'And a ' + colors[i] + ' ' + things[i] + '.'\n",
    "  end\n",
    "  \n",
    "  i += 1\n",
    "end"
   ]
  },
  {
   "cell_type": "markdown",
   "id": "8a74a66b-af8d-434b-b92b-2b707b43ad4d",
   "metadata": {},
   "source": [
    "On line 8 the `loop` method is invoked and a `do..end` block is passed in as an argument.  The issue occurs on line 9, where the `break` keyword is used to exit the loop when the integer object referenced by local variable `i` is greater than the length of the array assigned to local variable `color`.  This throws an error because the array object referenced by `colors` has 8 elements whereas the array object referenced by `things` has 7.  \n",
    "\n",
    "Therefore, on the last full iteration of the `loop` block, when the integer object assigned to `i` is equal to 7, the `puts` method call on line 15 will throw an error.  `things[i]` uses element reference to access the 7th element in the array object referenced by local variable `things`.  This method call will return `nil`.  When `nil` is added to the string on line 15 the code will output a `TypeError` message because a string object cannot be concantenated with `nil`.   This could be fixed on line 2 by changing the `if` conditional to compare the integer object reference by `i` to the length of the array referenced by `things` minus 1.  "
   ]
  },
  {
   "cell_type": "markdown",
   "id": "b5f3dd46-b1fe-4542-9289-71455330a9d4",
   "metadata": {},
   "source": [
    "<b>\n",
    "Question 8:<br>\n",
    "What does the following code return? What does it output? Why? What concept does it demonstrate?\n",
    "<br>"
   ]
  },
  {
   "cell_type": "code",
   "execution_count": 22,
   "id": "4b919778-0ced-40f2-8247-49027e2ebeec",
   "metadata": {},
   "outputs": [
    {
     "name": "stdout",
     "output_type": "stream",
     "text": [
      "Your total is 10\n"
     ]
    }
   ],
   "source": [
    "arr = [1, 2, 3, 4]\n",
    "\n",
    "counter = 0\n",
    "sum = 0\n",
    "\n",
    "loop do\n",
    "  sum += arr[counter]\n",
    "  counter += 1\n",
    "  break if counter == arr.size\n",
    "end \n",
    "\n",
    "puts \"Your total is #{sum}\""
   ]
  },
  {
   "cell_type": "markdown",
   "id": "d58585cf-bbd6-4056-a9de-db890224d9d6",
   "metadata": {},
   "source": [
    "On line 1 the local variable `arr` is initialized to an array object with the value `[1, 2, 3, 4]`.  On lines 3 and 4 the local variables `counter` and `sum` are both initialized to an integer object with the value 0.  On line 6 `#loop` is invoked and a `do..end` block is passed to it as an argument spanning lines 6 - 10.  \n",
    "\n",
    "Within the block, line 7 translates to `sum = sum + arr[counter]`.   `arr[counter]` is using element reference and returns the element in the array object referenced by `arr` at the index of the integer object assigned to `counter`.  This return value is then added to the integer object referenced by `sum` and this new integer object is assigned to local variable `sum`.  Similarly, line 8 translates to `counter = counter + 1`.  `counter + 1` is incrementing the integer assigned to `counter` by 1 and assigning that new integer object to `counter`.  The `break` keyword is used on line 9 to exit out of the loop if the integer object referenced by local variable `counter` is equal to the length of the array object referenced by local variable `arr`.  \n",
    "\n",
    "On line 12 `#puts` is invoked and a string is passed in as an argument.  This string uses string interpolation to append the string object referenced by `sum` at the end of the string.  The loop invocation and accompanying block on lines 6 - 10 are essentially cumulatively adding each element in the array object assigned to `arr` to the integer object referenced by `sum`.  Therefore, the `#puts` method call on line 12 will output \"Your total is 10\" and will return `nil`.  \n",
    "\n",
    "This code demonstrates the concept of local variable scope.  local variables intialized in the outer scope can be access within a block's inner scope.  Both `counter` and `sum` are initialized in the outer scope and reassigned within the block's scope in this example."
   ]
  },
  {
   "cell_type": "markdown",
   "id": "2e66d83c-2485-47c9-81e3-9f4ddeb2caf5",
   "metadata": {},
   "source": [
    "<b>\n",
    "Question 9:<br>\n",
    "What is `a`? What if we called `map!` instead of `map`?\n",
    "</b>"
   ]
  },
  {
   "cell_type": "code",
   "execution_count": 25,
   "id": "74e26bd4-b309-447f-b2de-e0b348cb8a5b",
   "metadata": {},
   "outputs": [
    {
     "data": {
      "text/plain": [
       "[\"I like the letter: a\", \"I like the letter: b\", \"I like the letter: c\"]"
      ]
     },
     "execution_count": 25,
     "metadata": {},
     "output_type": "execute_result"
    }
   ],
   "source": [
    "def test(b)\n",
    "  b.map {|letter| \"I like the letter: #{letter}\"}\n",
    "end\n",
    "\n",
    "a = ['a', 'b', 'c']\n",
    "test(a)"
   ]
  },
  {
   "cell_type": "markdown",
   "id": "ad06ae64-f9fe-4995-aa2a-105f7fb28722",
   "metadata": {},
   "source": [
    "Local variable `a` is initialized on line 5 to an array object with the value `['a', 'b', 'c']`.  It is then passed to the `test` method invocation on line 6 as an argument.  This binds the array assigned to `a` to the parameter `b` in the method definition for `test` spanning lines 1 - 3.   Within the method, `#map` is invoked on local variable `b` with a block passed to it as an argument. \n",
    "\n",
    "`#map` is a non-mutating method call so it returns a new array but doesn't mutate the original object.  Therefore, the array object referenced by local variable `a` will not be changed when passed in as an argument ot `test`.  \n",
    "\n",
    "If `#map!` was called instead of `map` then this would mutate the original object because `#map!` is a destructive method.  After the `test` invocation on line 6 `a` would reference the same array object containing changed values: `[\"I like the letter: a\", \"I like the letter: b\", \"I like the letter: c\"]`"
   ]
  },
  {
   "cell_type": "markdown",
   "id": "204451be-4e4d-4808-b47c-73f5984b266a",
   "metadata": {},
   "source": [
    "<b>\n",
    "Question 10:<br>\n",
    "What does the following code return? What does it output? Why? What concept does it demonstrate?\n",
    "</b>"
   ]
  },
  {
   "cell_type": "code",
   "execution_count": null,
   "id": "ebfa2076-2e01-4601-b7d3-2732b3878bbc",
   "metadata": {},
   "outputs": [],
   "source": [
    "def plus(x, y)\n",
    "  x = x + y\n",
    "end\n",
    "\n",
    "a = 3\n",
    "b = plus(a, 2)\n",
    "\n",
    "puts a\n",
    "puts b"
   ]
  },
  {
   "cell_type": "markdown",
   "id": "8e5a321d-6ccd-4f50-b1e0-7aa5ce968cca",
   "metadata": {},
   "source": [
    "On line 5 the local variable `a` is initialized to an integer object with the value 3.  On line 6 the local variable `b` is initialized to the return value of invoking the `plus` method and passing in the integer object referenced by local variable `a` and 2.  The integer referenced by local variable `a` is bound to the parameter. `x` and the integer 2 is bound to the parameter `y` in the `plus` method definition.  \n",
    "\n",
    "Within the `plus` method definition spanning lines 1 - 3 the local variables `x` and `y`, referencing integers 3 and 2, respectively, are added together.  This returns a new integer, 5, and the local variable `x` is reassingned to this new integer.  Reassignment is non-mutating, so the original integer object's value that `x` was referencing is not changed and local variable `a` still points to an integer object with the value 3.  The last line evaluated in `plus` is `x = x + y` which returns 5, so this the integer that `b` is assigned to on line 6.\n",
    "\n",
    "The `#puts` method invocations on lines 8 and 9 will output 3 and 5 and return `nil`.  This code demonstrates a pass by value object passing strategy.  Integers are immutable so only a copy of the integer objects were passed to the `plus` method and the original objects were not mutated.  "
   ]
  },
  {
   "cell_type": "markdown",
   "id": "8a8f83ed-5360-41e3-ac1a-b761c2f69023",
   "metadata": {},
   "source": [
    "<b>\n",
    "Question 11:<br>\n",
    "What values do `s` and `t` have? Why?\n",
    "</b>"
   ]
  },
  {
   "cell_type": "code",
   "execution_count": 41,
   "id": "c1b3ef0b-69ce-4603-ae02-983d05c10154",
   "metadata": {},
   "outputs": [
    {
     "name": "stdout",
     "output_type": "stream",
     "text": [
      "HELLO!\n",
      "HELLO!\n"
     ]
    }
   ],
   "source": [
    "def fix(value)\n",
    "  value.upcase!\n",
    "  value.concat('!')\n",
    "  value\n",
    "end\n",
    "\n",
    "s = 'hello'\n",
    "t = fix(s)\n",
    "\n",
    "puts s\n",
    "puts t"
   ]
  },
  {
   "cell_type": "markdown",
   "id": "5e41dabc-c939-476e-b972-2d2e22d38176",
   "metadata": {},
   "source": [
    "Local variable `s` is initialized on line 7 to an integer object with the value \"hello\".  Local variable `t` is initialized on line 8 to the return value of calling `fix` and passing in the string object referenced by `s` as an argument.  This binds the string object assigned to `s` to the parameter `value` in the method definition for `fix`.  \n",
    "\n",
    "Within the method, `#upcase!` is called on the string object referenced by local variable `value`.  This is a destructive method which mutates the value of the string object to \"HELLO\".  On the next line another destructive method `#concat` is called on the string object referenced by value with the string literal '!' passed in as an argument.  This mutates the value of the string to \"HELLO!\".   The string object bound to local variable `value` is implictly returned on the last line of the method.  \n",
    "\n",
    "Because both methods uses within `fix` are mutating methods, the method local variable `value` and the outer scoped local variable `s` still point to the same, albeit mutated, string object.  So both `s` and `t` have the value \"HELLO!\".  "
   ]
  },
  {
   "cell_type": "markdown",
   "id": "5759afc2-51a3-4bf2-8126-ca54a7971691",
   "metadata": {},
   "source": [
    "<b>\n",
    "Question 12:<br>\n",
    "What is the return value of each_with_object in the following code? Why?\n",
    "</b>"
   ]
  },
  {
   "cell_type": "code",
   "execution_count": 26,
   "id": "c5840e4c-02b5-4566-9154-7cf7fbf2dcb8",
   "metadata": {},
   "outputs": [
    {
     "data": {
      "text/plain": [
       "{\"a\"=>\"ant\", \"b\"=>\"bear\", \"c\"=>\"cat\"}"
      ]
     },
     "execution_count": 26,
     "metadata": {},
     "output_type": "execute_result"
    }
   ],
   "source": [
    "['ant', 'bear', 'cat'].each_with_object({}) do |value, hash|\n",
    "  hash[value[0]] = value\n",
    "end"
   ]
  },
  {
   "cell_type": "markdown",
   "id": "07a480b3-64c9-4cd5-9b60-cd14e0fd3492",
   "metadata": {},
   "source": [
    "`Enumerable#each_with_object` is invoked on the array `['ant', 'bear', 'cat']` and an empty hash is passed to it as an argument in addition to a `do..end` block spanning lines 1 - 3.  Each element in the calling array is passed to the block along with the given hash and they are assigned to local variables `value` and `hash`.  Within the block hash indexed assignment is used to assign the first character in each element from the calling array to a key with its value as the full string.  `#each_with_object` then returns the initially given object, the populated hash: `{\"a\"=>\"ant\", \"b\"=>\"bear\", \"c\"=>\"cat\"}`"
   ]
  },
  {
   "cell_type": "markdown",
   "id": "09a2c50d-89af-44ff-80d8-98bc4463f9a4",
   "metadata": {},
   "source": [
    "<b>\n",
    "Question 13:<br>\n",
    "What does the following code return? What does it output? Why? What concept does it demonstrate?\n",
    "</b>"
   ]
  },
  {
   "cell_type": "code",
   "execution_count": 27,
   "id": "f0b8b13f-f2cd-40f3-b0b6-197d33cd7f0c",
   "metadata": {},
   "outputs": [
    {
     "name": "stdout",
     "output_type": "stream",
     "text": [
      "1\n",
      "2\n",
      "3\n",
      "4\n",
      "5\n",
      "6\n",
      "7\n",
      "8\n",
      "9\n",
      "10\n",
      "[]\n"
     ]
    },
    {
     "data": {
      "text/plain": [
       "[]"
      ]
     },
     "execution_count": 27,
     "metadata": {},
     "output_type": "execute_result"
    }
   ],
   "source": [
    "arr = [1, 2, 3, 4, 5, 6, 7, 8, 9, 10]\n",
    "\n",
    "new_array = arr.select do |n| \n",
    "  n + 1\n",
    "  puts n\n",
    "end\n",
    "\n",
    "p new_array"
   ]
  },
  {
   "cell_type": "markdown",
   "id": "501891d6-95cb-47f8-92f2-2cd4b533680f",
   "metadata": {},
   "source": [
    "On line 1 the local variable `arr` is initialized to the value of an array object with the values from 1 to 10.  On line 3 the local variable `new_array` is initialized to the return value of invoking `#select` on the array object referenced by local variable `arr`.  Each element from the object assigned to `arr` is passed to the block in the form of an argument, `n`.  Within the block, the current element represented by local variable `n` is incremented by 1 and then passed in as an argument to the `#puts` method call.  \n",
    "\n",
    "This will output the string representation of each integer in the calling.  `#select` considers the truthinss of the block's return value.  The last evaluated line in the block is `puts n` which will return a falsey value on each iteration.  Therefore, `#select` will return a new empty array with none of the elements from the original collection.  \n",
    "\n",
    "The `p` method invocation on line 8 will output \n",
    "\n",
    "```\n",
    "[]\n",
    "[]\n",
    "```\n",
    "\n",
    "This code demonstrates how a block's return value is determined by the last evaluated line within the block and how `#select` considers the truthiness of the block's return value when it decided which elements from the calling collection to include in the new collection.  "
   ]
  },
  {
   "cell_type": "markdown",
   "id": "cc270285-98cf-4e73-9ba9-d39d5917d5ef",
   "metadata": {},
   "source": [
    "<b>\n",
    "Question 14:<br>\n",
    "Explain the Hash#any? method and what it's doing in this code.\n",
    "</b>"
   ]
  },
  {
   "cell_type": "code",
   "execution_count": 29,
   "id": "826705e9-7bd7-4f39-bd02-ba8031339c41",
   "metadata": {},
   "outputs": [
    {
     "data": {
      "text/plain": [
       "false"
      ]
     },
     "execution_count": 29,
     "metadata": {},
     "output_type": "execute_result"
    }
   ],
   "source": [
    "{ a: \"ant\", b: \"bear\", c: \"cat\" }.any? do |key, value|\n",
    "  value.size > 4\n",
    "end"
   ]
  },
  {
   "cell_type": "markdown",
   "id": "665208fe-f6a6-4d61-99bd-0e226f1f1e7c",
   "metadata": {},
   "source": [
    "On line 1 `#any` is called on the hash object with the value `{ a: \"ant\", b: \"bear\", c: \"cat\" }` and a `do..end` block is passed to in as an argument spanning lines 1 - 3.  Each key-value pair is passed into the block and assigned to local variables `key` and `value`.  \n",
    "\n",
    "On each iteration, if the curent value's length is greater than 4, the comparison within the block will evaluate to true and the block's return value will be truthy.  `#any?` considers the truthiness of the block's return value and will return `true` after the first truthy value return by the block.  In this code none of the hash values have a legnth greater than 4, so the block's return value will evaluate to false on every iteration and `#any?` will return `false`."
   ]
  },
  {
   "cell_type": "markdown",
   "id": "bdc5ba84-95db-40e1-9ce1-2a326c423608",
   "metadata": {},
   "source": [
    "<b>\n",
    "Question 15:<br>\n",
    "We want to iterate through the numbers array and return a new array containing only the even numbers.<br> \n",
    "However, our code isn't producing the expected output. Why not? How can we change it to produce the expected<br> \n",
    "result?<br>\n",
    "</b>"
   ]
  },
  {
   "cell_type": "code",
   "execution_count": 31,
   "id": "7aaf9d60-7842-4dbd-bf8e-8515ee13573e",
   "metadata": {},
   "outputs": [
    {
     "name": "stdout",
     "output_type": "stream",
     "text": [
      "[2, 6, 8]\n"
     ]
    },
    {
     "data": {
      "text/plain": [
       "[2, 6, 8]"
      ]
     },
     "execution_count": 31,
     "metadata": {},
     "output_type": "execute_result"
    }
   ],
   "source": [
    "numbers = [5, 2, 9, 6, 3, 1, 8]\n",
    "\n",
    "even_numbers = numbers.select do |n|\n",
    "  n.even?\n",
    "end\n",
    "\n",
    "# even_numbers = numbers.map do |n|\n",
    "#   n if n.even?\n",
    "# end\n",
    "\n",
    "p even_numbers # expected output: [2, 6, 8]"
   ]
  },
  {
   "cell_type": "markdown",
   "id": "989a07c4-1925-4f71-919f-554eba569945",
   "metadata": {},
   "source": [
    "The local variable `numbers` is initialized to an array object with the value `[5, 2, 9, 6, 3, 1, 8]` on line 1.  On line 2, the local variable `even_numbers` is initialized to the return value of calling `#map` on the array object referenced by the local variable `numbers` and a `do..end` block is passed in as an argument spanning lines 3- 5.  Each element from the calling array is passed to the block in form of an argument, `n`.\n",
    "\n",
    "`#map` considers the block's return value for transformation.  On each iteration, if the integer referenced by local variable `n` is even, the `if` conditional evaluates as true and the block will return the integer assigned to `n`.  However, for integers that are odd, the `if` conditional will evaluate as false and the block's return value will be `nil`.  \n",
    "\n",
    "In it's current state, the code will return `[nil, 2, nil, 6, nil, nil, 8]`.  To fix this, we can change the `#map` call to a `select` call and only keep the `n.even?` method call within the block. This will either return `true` or `false` on each iteration and `#select` will only return even values in a new array because those are the values for which the block's return value will be truthy. "
   ]
  },
  {
   "cell_type": "markdown",
   "id": "3e0c88cb-5dc5-4d36-8f6f-716825d45a0b",
   "metadata": {},
   "source": [
    "<b>\n",
    "Question 16:<br>\n",
    "What will the following code print, and why?\n",
    "</b>"
   ]
  },
  {
   "cell_type": "code",
   "execution_count": 32,
   "id": "04d47f83-163e-479d-9328-07f64303437d",
   "metadata": {},
   "outputs": [
    {
     "ename": "NameError",
     "evalue": "undefined local variable or method `a' for #<Object:0x00007fc79c9ffef0>",
     "output_type": "error",
     "traceback": [
      "\u001b[31mNameError\u001b[0m: undefined local variable or method `a' for #<Object:0x00007fc79c9ffef0>",
      "(irb):3:in `my_value'",
      "(irb):6:in `irb_binding'"
     ]
    }
   ],
   "source": [
    "a = 7\n",
    "\n",
    "def my_value(b)\n",
    "  b = a + a\n",
    "end\n",
    "\n",
    "my_value(a)\n",
    "puts a"
   ]
  },
  {
   "cell_type": "markdown",
   "id": "4896dbc7-35b1-4c84-b409-80288915919b",
   "metadata": {},
   "source": [
    "Local variable `a` is initialized to the integer object with value 7 on line 1.  The integer referenced by local variable `a` is then passed to the `my_value` method invocation on line 7.  This binds the integer referenced by `a` to the paramter `b` in the `my_value` method defintion.  Within `my_value`, the object referenced by local variable `a` in the outer scope is added to itself and the local variable `b` is reassigned to this new integer.  \n",
    "\n",
    "When `my_value` is invoked on line 7 it will output a `NameError` message.  This is because outer scoped local variable cannot be used within a method's scope unless they are defined as parameters.  Local variable `a` is initalized on line 7 in the outer scope and is not defined as a parameter in the `my_value` method definition. Therefore it cannot be accessed within the method's scope.  "
   ]
  },
  {
   "cell_type": "markdown",
   "id": "241b48e6-9bea-4b8b-a245-9ffbecfb09a5",
   "metadata": {},
   "source": [
    "<b>\n",
    "Question 17:<br>\n",
    "The output of the code below tells you that you have around $70. However,<br> \n",
    "you expected your bank account to have about 238. What did we do wrong?\n",
    "</b>"
   ]
  },
  {
   "cell_type": "code",
   "execution_count": 36,
   "id": "e1169d82-291b-4ac2-a807-eb2bbcd50b5f",
   "metadata": {},
   "outputs": [
    {
     "name": "stdout",
     "output_type": "stream",
     "text": [
      "238.29999999999995\n"
     ]
    }
   ],
   "source": [
    "# Financially, you started the year with a clean slate.\n",
    "\n",
    "balance = 0\n",
    "\n",
    "# Here's what you earned and spent during the first three months.\n",
    "\n",
    "january = {\n",
    "  income: [ 1200, 75 ],\n",
    "  expenses: [ 650, 140, 33.2, 100, 26.9, 78 ]\n",
    "}\n",
    "\n",
    "february = {\n",
    "  income: [ 1200 ],\n",
    "  expenses: [ 650, 140, 320, 46.7, 122.5 ]\n",
    "}\n",
    "\n",
    "march = {\n",
    "  income: [ 1200, 10, 75 ],\n",
    "  expenses: [ 650, 140, 350, 12, 59.9, 2.5 ]\n",
    "}\n",
    "\n",
    "# Let's see how much you've got now...\n",
    "\n",
    "def calculate_balance(month)\n",
    "  plus  = month[:income].sum\n",
    "  minus = month[:expenses].sum\n",
    "  \n",
    "  plus - minus\n",
    "end\n",
    "\n",
    "# [january, february, march].each do |month|\n",
    "#   balance = calculate_balance(month)\n",
    "# end\n",
    "\n",
    "\n",
    "balance = [january, february, march].reduce(0) do |total, month|\n",
    "  total += calculate_balance(month)\n",
    "end\n",
    "\n",
    "puts balance"
   ]
  },
  {
   "cell_type": "markdown",
   "id": "2b58d72a-9c02-438e-86d5-5791f5c6e88b",
   "metadata": {},
   "source": [
    "On line 31 `#each` an array containing three hashes from january, februrary and march  and a `do..end` block is passed in as an argument.  Each hash from the calling array is passed into the block in the form of an argument, `month`.  Within the block, the local variable `balanced` is reassigned on each iteration to the return valeu of call `calculate_balance` and passing in the current hash as an argument.  Therefore, `balance` will equal the return value of calling `calculate_balance` on the hash referenced by local variable `march` because it is the last hash in the calling array.  \n",
    "\n",
    "To fix this initialize the local variable `value` to the return value of calling `#reduce` on the array `[january, february, march]`.  Pass in 0 as the method argument and pass the argument to the block with the local variable name `total`.  Then increment the integer referenced by local variable `total` on every iteration.  "
   ]
  },
  {
   "cell_type": "markdown",
   "id": "e51f0c6a-1ed7-46ea-9bab-1c71c20b7e20",
   "metadata": {},
   "source": [
    "<b>\n",
    "Question 18:<br>\n",
    "What does the following code return? What does it output? Why? What concept does it demonstrate?\n",
    "</b>"
   ]
  },
  {
   "cell_type": "code",
   "execution_count": null,
   "id": "e56e54cf-a732-4d3b-9df2-afc30635ddf2",
   "metadata": {},
   "outputs": [],
   "source": [
    "a = 4\n",
    "b = 2\n",
    "\n",
    "loop do\n",
    "  c = 3\n",
    "  a = c\n",
    "  break\n",
    "end\n",
    "\n",
    "puts a\n",
    "puts b"
   ]
  },
  {
   "cell_type": "markdown",
   "id": "663f63dd-8825-4907-b6e5-6bd797f4ea4b",
   "metadata": {},
   "source": [
    "Local variables `a` and `b` are intialized on lines 1 and 2 to integer objects with the values 4 and 2, respectively.  The `#loop` method is invoked on line 4 with a `do..end` block passed in as an argument spanning lines 4 - 8.  Inside the block's scope, local variable `c` is initialized to an integer object with the value 3 and local variable `a` is reassigned to the integer object referenced by local variable `c`.  The `break` keyword is used on line 7 to exit out of the loop.  \n",
    "\n",
    "The `#puts` method invocation on line 10 with the object referenced by local variable `a` passed in as an argument will output 3 and return `nil`.  The `#puts` method invocation on line 11 with the object referenced by local variable `b` passed in as an argument will output 2 and return `nil`.  \n",
    "\n",
    "This code demonstrates the concept of local variable scope.  Variables intialized in the outer scope can be access inside a block's scope.  This is why we are able to access local variable `a` inside the block's scope and reassign it to a new integer object.  The code also demonstrates the concept of variables as pointers.  Local variable `c` initialized within the block's scope pointed to integer object with the value 3.  On the next line local variable `a` is reassigned to point to the same string object that local variable `c` is pointing to.  So both variables point to the same space in memory.  `a` can still be accessed outside the block's scope even though its referencing an integer object that is assigned to a variable initialized inside the block's scope.   "
   ]
  },
  {
   "cell_type": "markdown",
   "id": "fe553eb9-8a20-48bf-8975-bdb4f6125f72",
   "metadata": {},
   "source": [
    "<b>\n",
    "Question 19:<br>\n",
    "We started writing an RPG game, but we have already run into an error message. Find the problem and fix<br>\n",
    "it.    \n",
    "</b>"
   ]
  },
  {
   "cell_type": "code",
   "execution_count": 37,
   "id": "f02feb89-4a95-4cbf-a84b-8d77207ef021",
   "metadata": {},
   "outputs": [
    {
     "name": "stdout",
     "output_type": "stream",
     "text": [
      "Please type your class (warrior, thief, scout, mage):\n"
     ]
    },
    {
     "ename": "TypeError",
     "evalue": "no implicit conversion of nil into Hash",
     "output_type": "error",
     "traceback": [
      "\u001b[31mTypeError\u001b[0m: no implicit conversion of nil into Hash",
      "(irb):16:in `merge'",
      "(irb):16:in `irb_binding'"
     ]
    }
   ],
   "source": [
    "# Each player starts with the same basic stats.\n",
    "\n",
    "player = { strength: 10, dexterity: 10, charisma: 10, stamina: 10 }\n",
    "\n",
    "# Then the player picks a character class and gets an upgrade accordingly.\n",
    "\n",
    "character_classes = {\n",
    "  warrior: { strength:  20 },\n",
    "  thief:   { dexterity: 20 },\n",
    "  scout:   { stamina:   20 },\n",
    "  mage:    { charisma:  20 }\n",
    "}\n",
    "\n",
    "puts 'Please type your class (warrior, thief, scout, mage):'\n",
    "# input = gets.chomp.downcase\n",
    "input = gets.chomp.downcase.to_sym\n",
    "player.merge(character_classes[input])\n",
    "\n",
    "puts 'Your character stats:'\n",
    "puts player"
   ]
  },
  {
   "cell_type": "markdown",
   "id": "a1b00f7a-860a-46dc-ac03-25c34c5eb6da",
   "metadata": {},
   "source": [
    "he `#merge` method is called on the hash object referenced by the local variable `player` which updates the hash with the argument passed into the method.  `character_classes[input]` uses hash element reference to access the hash value in the nested hash object referenced by local variable `character_classes` that has an associated key equal to the object referenced by the local variable input.  \n",
    "\n",
    "When `#gets` is used to capture the input from a user on line 15, it returns the value as a string and assigns the value to local variable `input`. So `character_classes[input]` will return `nil` because there are no string keys in `character_classes`.  To fix this problem, convert the return value of `gets.chomp.downcase` by adding the method call `to_sym` at the end of the method chain.  "
   ]
  },
  {
   "cell_type": "markdown",
   "id": "9b4a592f-08ca-4374-8986-1463f4b874ad",
   "metadata": {},
   "source": [
    "<b>\n",
    "Question 20:<br>\n",
    "Explain <code>Hash#each_with_object</code> method and what it's doing in this code.\n",
    "</b>"
   ]
  },
  {
   "cell_type": "code",
   "execution_count": 38,
   "id": "c7b9f2cd-9d7d-4886-b586-bab4c1a8f333",
   "metadata": {},
   "outputs": [
    {
     "data": {
      "text/plain": [
       "[\"ant\", \"bear\", \"cat\"]"
      ]
     },
     "execution_count": 38,
     "metadata": {},
     "output_type": "execute_result"
    }
   ],
   "source": [
    "{ a: \"ant\", b: \"bear\", c: \"cat\" }.each_with_object([]) do |pair, array|\n",
    "  array << pair.last\n",
    "end"
   ]
  },
  {
   "cell_type": "markdown",
   "id": "fb000666-69ea-4f35-9985-bb708c545d7e",
   "metadata": {},
   "source": [
    "`Enumerable#each_with_object` is called on the hash object `{ a: \"ant\", b: \"bear\", c: \"cat\" }` and an empty array is passed to it as an argument as well as a `do..end` block.  Each key-value pair from the calling hash is passed to the block along with the argument array as local variable `pair` and `array`.  On each iteration, the last element in the key-value pair array is pushed to the argument array.  So this code will return the intially given array populated with the values `[\"ant\", \"bear\", \"cat\"]`.  "
   ]
  },
  {
   "cell_type": "markdown",
   "id": "92066df2-ff58-46cd-bfb4-25b1e2c7b010",
   "metadata": {},
   "source": [
    "<b>\n",
    "Question 21:<br>\n",
    "What will the following code print, and why?\n",
    "</b>"
   ]
  },
  {
   "cell_type": "code",
   "execution_count": null,
   "id": "6da13c93-84c1-47ae-a158-bb1cfa2e51d5",
   "metadata": {},
   "outputs": [],
   "source": [
    "a = 7\n",
    "array = [1, 2, 3]\n",
    "\n",
    "array.each do |a|\n",
    "  a += 1\n",
    "end\n",
    "\n",
    "puts a"
   ]
  },
  {
   "cell_type": "markdown",
   "id": "b192173b-c954-4dd4-b405-64c0853c56bd",
   "metadata": {},
   "source": [
    "The local variable `a` is initialized on line 1 to an integer object with the value 7.  Local variable `array` is initialized on line 2 to an array object with the value `[1, 2, 3]`.  `#each` is called on the array object referenced by `array` and a `do..end` block is passed in as an argument.  Each element from the calling array is passed into the block in the form of argument `a`.  The block parameter `a` shares a name with the outer scoped local variable `a` initialized on line 1.  This is called variable shadowing and prevents the block from accessing the outer scoped local variable.  \n",
    "\n",
    "Therefore, when `#puts` is invoked on line 8 with the integer object referenced by local variable `a` passed in as an argument, it will output 7 because the value of the outer scoped local variable `a` is not changed by the reassignment that occurs within the block.  "
   ]
  },
  {
   "cell_type": "markdown",
   "id": "92dc288c-507b-4672-acbe-044024ce837b",
   "metadata": {},
   "source": [
    "<b>\n",
    "Question 22<br>\n",
    "Magdalena has just adopted a new pet! She wants to add her new dog, Bowser, to the pets hash.<br>\n",
    "After doing so, she realizes that her dogs Sparky and Fido have been mistakenly removed. Help<br> \n",
    "Magdalena fix her code so that all three of her dogs' names will be associated with the<br> \n",
    "key :dog in the pets hash.<br>\n",
    "</b>"
   ]
  },
  {
   "cell_type": "code",
   "execution_count": 39,
   "id": "b3c37e31-2efd-4bfd-9f97-d30352ab9dad",
   "metadata": {},
   "outputs": [
    {
     "name": "stdout",
     "output_type": "stream",
     "text": [
      "{:cat=>\"fluffy\", :dog=>[\"sparky\", \"fido\", \"bowser\"], :fish=>\"oscar\"}\n"
     ]
    },
    {
     "data": {
      "text/plain": [
       "{:cat=>\"fluffy\", :dog=>[\"sparky\", \"fido\", \"bowser\"], :fish=>\"oscar\"}"
      ]
     },
     "execution_count": 39,
     "metadata": {},
     "output_type": "execute_result"
    }
   ],
   "source": [
    "pets = { cat: 'fluffy', dog: ['sparky', 'fido'], fish: 'oscar' }\n",
    "\n",
    "# pets[:dog] = 'bowser'\n",
    "pets[:dog] << \"bowser\"\n",
    "\n",
    "p pets #=> {:cat=>\"fluffy\", :dog=>\"bowser\", :fish=>\"oscar\"}"
   ]
  }
 ],
 "metadata": {
  "kernelspec": {
   "display_name": "Ruby 2.7.5",
   "language": "ruby",
   "name": "ruby"
  },
  "language_info": {
   "file_extension": ".rb",
   "mimetype": "application/x-ruby",
   "name": "ruby",
   "version": "2.7.5"
  }
 },
 "nbformat": 4,
 "nbformat_minor": 5
}
