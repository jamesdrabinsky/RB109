{
 "cells": [
  {
   "cell_type": "markdown",
   "id": "15851287-de49-439e-b258-e22d7dbb5d96",
   "metadata": {},
   "source": [
    "Overall, the main code invokes the p method with the count_sheep method passed in as an argument. This will output to screen, the return value of a method count_sheep which takes no arguments. To do so, the program must first evaluate the return value from the count_sheep method.\n",
    "\n",
    "Within the method count_sheep, the times method is called upon the integer 5 with a block passed in which defines a block parameter sheep. ==This acts like a loop, with the block parameter sheep receiving the integers, 0, 1, 2, up to 4 for each iteration== [what’s the right verbiage for ‘times’ - a loop?] and then executing the code within the block.\n",
    "\n",
    "The code within the block will first invoke the puts method with the referenced value of sheep passed in. On the next line, if the expression sheep >= 2 evaluates to true, then the return statement will be executed which will end execution of the count_sheep method and return the value defined, which in this case is nil. Thus, the value of sheep - the integer numbers 0, 1, 2 will be output to screen, each on a separate line, as per the behaviour of puts and then the if expression will evaluate to true, which ends execution of the method and returns the value nil. The return value of the count_sheep method is then passed into the final p invocation. This nil value is output to screen as ‘nil’, as per the final p method invocation."
   ]
  },
  {
   "cell_type": "markdown",
   "id": "bd69f265-86ba-4fd4-b765-b47b24abed63",
   "metadata": {},
   "source": [
    "**which defines a block parameter sheep** - Each element of the calling array is passed into the block in the form of an argument, `sheep`\n",
    "\n",
    "**This acts like a loop, with the block parameter sheep receiving the integers, 0, 1, 2, up to 4 for each iteration** - Iterates the given block `int` times, passing in values from zero to `int` - 1.\n",
    "\n",
    "**which will end execution of the count_sheep method and return the value defined, which in this case is nil.**. - I like how you explicitly state what is returned "
   ]
  },
  {
   "cell_type": "markdown",
   "id": "34f96ad4-d6fa-4848-84c2-eacb4d1215f9",
   "metadata": {},
   "source": [
    "The times method will return nil based on the last line evaluated in the block which is passed in as an argument. The last line of this block invokes the method puts, which always returns nil.\n",
    "\n",
    "Overall, the code outputs:\n",
    "\n",
    "5\n",
    "5\n",
    "4\n",
    "2\n",
    "\n",
    "The first 2 integers, 5, are output from the invocation of the times method. Within this method, the block variable a first receives the appropriate integer index from the times method, then this variable is reassigned to the integer value 5, which is then passed in as an argument to the puts method. The puts method outputs the value 5 to screen. This occurs twice as per the times method.\n",
    "\n",
    "The last 2 puts method invocations output to screen the unchanged values of the local variables a, and b to screen, which are 4 and 2 respectively. These local variables were initialized and assigned in the first 2 lines of code.\n",
    "\n",
    "Of particular interest is the fact that the local variable a is not reassigned upon invocation of the times method. Both the inner-scope block parameter in the block argument passed in AND the outer-scope local variable share a common name, a. ‘Variable shadowing’ occurs when the inner-scope block variable a is accessed within the block, preventing access to the outer-scoped local variable a. Thus, the outer-scoped local variable a is never reassigned."
   ]
  },
  {
   "cell_type": "markdown",
   "id": "0e6b1f70-9d08-4851-a798-9bfae195240d",
   "metadata": {},
   "source": [
    "**the block variable a first receives the appropriate integer index from the times method, then this variable is reassigned to the integer value 5,** - The block variable `a` first references the appropriate integer index from the `times` method, then this variable is reassigned to the integer value 5.  "
   ]
  },
  {
   "cell_type": "markdown",
   "id": "2bb91073-ab8f-4ba1-8284-f0a22e94f72e",
   "metadata": {},
   "source": [
    "```\n",
    "['ant', 'bat', 'caterpillar'].count do |str|\n",
    "  str.length < 4\n",
    "end\n",
    "```\n",
    "\n",
    "The count method will count the number of times the block passed in as an argument evaluates to true (i.e., is truthy). One way to determine how the block’s return value has been treated is to initialize and assign the return value from count to a new local variable and then output that value to screen.\n",
    "\n",
    "This modified first line of code would capture the return value of count within a new local variable new_var:\n",
    "\n",
    "`new_var = ['ant', 'bat', 'caterpillar'].count do |str|`\n",
    "\n",
    "An additional final line of code to output that value is: p new_var, which will output 2 to screen. This demonstrates that the return block from count has evaluated to true 2 times. From looking at the code within the block argument passed into count, we can see that it is evaluating the length of each string being passed in and will evaluate to true when that length is less than 4 - once for 'ant' and again for 'bat'."
   ]
  },
  {
   "cell_type": "markdown",
   "id": "59d9cd2b-dfe7-4975-b0b7-0b9358762ba1",
   "metadata": {},
   "source": [
    "6. \n",
    "\n",
    "This code will output 1 to screen. The final puts method is invoked with the return value of the method tricky_number passed in. The method tricky_number contains an if..else conditional ==which will always execute the first branch== [confirm language for conditionals] (true alway evaluates to true). Within this branch the return value of the expression is 1 when the local method variable number is assigned to the integer object with value 1. Hence the method tricky_number returns the value 1 which is then output to screen by the puts method."
   ]
  },
  {
   "cell_type": "code",
   "execution_count": null,
   "id": "a8784429-3dff-45bc-8016-705e623b4f0e",
   "metadata": {},
   "outputs": [],
   "source": []
  }
 ],
 "metadata": {
  "kernelspec": {
   "display_name": "Ruby 2.7.5",
   "language": "ruby",
   "name": "ruby"
  },
  "language_info": {
   "file_extension": ".rb",
   "mimetype": "application/x-ruby",
   "name": "ruby",
   "version": "2.7.5"
  }
 },
 "nbformat": 4,
 "nbformat_minor": 5
}
