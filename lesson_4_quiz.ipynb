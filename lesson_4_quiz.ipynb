{
 "cells": [
  {
   "cell_type": "markdown",
   "id": "8c756687-beee-4eb7-b271-b3b6393c530c",
   "metadata": {},
   "source": [
    "<b>1. What happens if we try to initialize a Hash that contains duplicate keys?\n",
    "\n",
    "```Ruby\n",
    "hsh = {a: 100, b: 200, c: 300, a: 400}\n",
    "```\n",
    "</b>"
   ]
  },
  {
   "cell_type": "markdown",
   "id": "a41a325b",
   "metadata": {},
   "source": [
    "The value for the second occurence of the duplicate key will overwrite the value for the first occurence."
   ]
  },
  {
   "cell_type": "markdown",
   "id": "3a1e54a0",
   "metadata": {},
   "source": [
    "<b>2.\n",
    "\n",
    "Identify all of the code implementations that correctly meet the following set of requirements.\n",
    "\n",
    "Given an array of strings representing integers, iterate through all of the items in the array. If the integer value of the string is odd add it to a new array of odd integer strings. Once iteration is complete the new array should contain all of the odd integer strings from the original array.\n",
    "</b>"
   ]
  },
  {
   "cell_type": "code",
   "execution_count": 8,
   "id": "f3480232",
   "metadata": {},
   "outputs": [
    {
     "data": {
      "text/plain": [
       "[\"3\", \"5\", \"7\", \"11\", \"13\", \"15\"]"
      ]
     },
     "execution_count": 8,
     "metadata": {},
     "output_type": "execute_result"
    }
   ],
   "source": [
    "numbers = ['2', '3', '5', '7', '8', '11', '13', '15', '18']\n",
    "\n",
    "numbers.select { |str| str.to_i.odd? }"
   ]
  },
  {
   "cell_type": "markdown",
   "id": "98331e6c",
   "metadata": {},
   "source": [
    "<b>3.\n",
    "\n",
    "Identify all of the code implementations that correctly meet the following set of requirements.\n",
    "\n",
    "Given an array of integers, for each integer output all integers from 1 to that integer; e.g. if the integer was 5, you would output 1, 2, 3, 4, 5.\n",
    "</b>"
   ]
  },
  {
   "cell_type": "code",
   "execution_count": 20,
   "id": "429a5f3c",
   "metadata": {},
   "outputs": [
    {
     "name": "stdout",
     "output_type": "stream",
     "text": [
      "1\n",
      "2\n",
      "3\n",
      "4\n",
      "5\n",
      "6\n",
      "7\n",
      "1\n",
      "2\n",
      "3\n",
      "1\n",
      "2\n",
      "3\n",
      "4\n",
      "5\n"
     ]
    },
    {
     "data": {
      "text/plain": [
       "[7, 3, 5]"
      ]
     },
     "execution_count": 20,
     "metadata": {},
     "output_type": "execute_result"
    }
   ],
   "source": [
    "arr = [7, 3, 5]\n",
    "\n",
    "arr.each do |num|\n",
    "  puts *1..num\n",
    "end"
   ]
  },
  {
   "cell_type": "markdown",
   "id": "18f60a86",
   "metadata": {},
   "source": [
    "**7. Read the below statements regarding each and identify all the statements which are correct. You may assume that the block doesn't terminate the method prematurely.**"
   ]
  },
  {
   "cell_type": "markdown",
   "id": "35e0d7e4",
   "metadata": {},
   "source": [
    "A: If you call each with a block on an array that contains seven elements, the block will always execute seven times.\n",
    "\n",
    "If you mutate the object used to call each from within your block, the block may run fewer than 7 times. Recall that it is not recommended to mutate an object that you are iterating over because of the potentially unpredictable behavior."
   ]
  },
  {
   "cell_type": "markdown",
   "id": "42059095",
   "metadata": {},
   "source": [
    "<b>18.\n",
    "\n",
    "Identify all of the code implementations that correctly meet the following set of requirements.\n",
    "\n",
    "Given an array numbers which contains both odd and even integers; create two new arrays, odd_numbers which contains the odd integers from the original array and even_numbers which contains the even integers.\n",
    "</b>"
   ]
  },
  {
   "cell_type": "code",
   "execution_count": 25,
   "id": "0f21386d",
   "metadata": {},
   "outputs": [
    {
     "data": {
      "text/plain": [
       "[[1, 5, 7, 13], [2, 4, 8, 10, 14]]"
      ]
     },
     "execution_count": 25,
     "metadata": {},
     "output_type": "execute_result"
    }
   ],
   "source": [
    "numbers = [1, 2, 4, 5, 7, 8, 10, 13, 14]\n",
    "\n",
    "odd, even = numbers.partition(&:odd?)"
   ]
  },
  {
   "cell_type": "code",
   "execution_count": 59,
   "id": "c100d202",
   "metadata": {},
   "outputs": [
    {
     "data": {
      "text/plain": [
       "[1, 2, 4, 5, 7, 8, 10, 13, 14]"
      ]
     },
     "execution_count": 59,
     "metadata": {},
     "output_type": "execute_result"
    }
   ],
   "source": [
    "numbers = [1, 2, 4, 5, 7, 8, 10, 13, 14]\n",
    "odd, even = 2.times.map { [] }\n",
    "\n",
    "numbers.each do |num|\n",
    "  num.odd? ? odd << num : even << num\n",
    "end"
   ]
  },
  {
   "cell_type": "code",
   "execution_count": 57,
   "id": "34eb33dd",
   "metadata": {},
   "outputs": [
    {
     "data": {
      "text/plain": [
       "[[], []]"
      ]
     },
     "execution_count": 57,
     "metadata": {},
     "output_type": "execute_result"
    }
   ],
   "source": [
    "odd, even = 2.times.map { [] }\n",
    "# v\n",
    "# odd, even = [[]] * 2"
   ]
  },
  {
   "cell_type": "markdown",
   "id": "58cf8d96",
   "metadata": {},
   "source": [
    "`Enumerable#partition` returns an array containing two sub-arrays, the first of which contains the elements for which the block evaluates as true."
   ]
  },
  {
   "cell_type": "markdown",
   "id": "26de2944",
   "metadata": {},
   "source": [
    "<b>19.\n",
    "\n",
    "Identify all of the code implementations that correctly meet the following set of requirements.\n",
    "\n",
    "Given the following hash which contains keys representing countries and values representing the capital cities of those countries, return a new hash containing all of the key-value pairs where the country begins with the letter 'B'.\n",
    "</b>"
   ]
  },
  {
   "cell_type": "code",
   "execution_count": 62,
   "id": "6def3c58",
   "metadata": {},
   "outputs": [
    {
     "data": {
      "text/plain": [
       "{\"Belgium\"=>\"Brussels\", \"Barbados\"=>\"Bridgetown\", \"Bolivia\"=>\"La Paz\", \"Brazil\"=>\"Brasilia\"}"
      ]
     },
     "execution_count": 62,
     "metadata": {},
     "output_type": "execute_result"
    }
   ],
   "source": [
    "countries_and_capitals = {\n",
    "  'France' => 'Paris',\n",
    "  'Belgium' => 'Brussels',\n",
    "  'Morocco' => 'Rabat',\n",
    "  'Barbados' => 'Bridgetown',\n",
    "  'Peru' => 'Lima',\n",
    "  'Bolivia' => 'La Paz',\n",
    "  'Brazil' => 'Brasilia'\n",
    "}\n",
    "\n",
    "countries_and_capitals.select do |country, _|\n",
    "  country.start_with?('B')\n",
    "end"
   ]
  },
  {
   "cell_type": "markdown",
   "id": "97ca2b0f",
   "metadata": {},
   "source": [
    "<b>20.\n",
    "\n",
    "Your team is asked to refactor some legacy code used by the marketing team. One of the requirements of the project is to change the implementation from using basic looping structures to using iterative methods instead.\n",
    "</b>"
   ]
  },
  {
   "cell_type": "code",
   "execution_count": 74,
   "id": "d89b9292",
   "metadata": {},
   "outputs": [
    {
     "data": {
      "text/plain": [
       "[{:name=>\"Emma Lopez\", :email=>\"emma.lopez@some_mail.com\", :days_since_login=>423, :mailing_list=>true}, {:name=>\"mike richards\", :email=>\"michael.richards@some_mail.com\", :days_since_login=>23, :mailing_list=>false}, {:name=>\"JANE WILLIAMS\", :email=>\"jane_w95@my_mail.com\", :days_since_login=>16, :mailing_list=>true}, {:name=>\"Ash Patel\", :email=>\"ash_patel@my_mail.com\", :days_since_login=>22, :mailing_list=>true}]"
      ]
     },
     "execution_count": 74,
     "metadata": {},
     "output_type": "execute_result"
    }
   ],
   "source": [
    "mailing_campaign_leads = [\n",
    "  {name: 'Emma Lopez', email: 'emma.lopez@some_mail.com', days_since_login: 423, mailing_list: true},\n",
    "  {name: 'mike richards', email: 'michael.richards@some_mail.com', days_since_login: 23, mailing_list: false},\n",
    "  {name: 'JANE WILLIAMS', email: 'jane_w95@my_mail.com', days_since_login: 16, mailing_list: true},\n",
    "  {name: 'Ash Patel', email: 'ash_patel@my_mail.com', days_since_login: 22, mailing_list: true}\n",
    "]"
   ]
  },
  {
   "cell_type": "code",
   "execution_count": 76,
   "id": "984a5e29",
   "metadata": {},
   "outputs": [
    {
     "data": {
      "text/plain": [
       "[{:name=>\"Jane Williams\", :email=>\"jane_w95@my_mail.com\", :days_since_login=>16, :mailing_list=>true}, {:name=>\"Ash Patel\", :email=>\"ash_patel@my_mail.com\", :days_since_login=>22, :mailing_list=>true}]"
      ]
     },
     "execution_count": 76,
     "metadata": {},
     "output_type": "execute_result"
    }
   ],
   "source": [
    "mailing_campaign_leads.each do |hsh|\n",
    "  hsh[:name] = hsh[:name].split.map(&:capitalize).join(' ')\n",
    "end\n",
    "\n",
    "usable_leads = mailing_campaign_leads.select do |hsh|\n",
    "  *, last_login, subscribed = hsh.values\n",
    "  (last_login < 60) && (subscribed)\n",
    "end"
   ]
  },
  {
   "cell_type": "code",
   "execution_count": 77,
   "id": "94955a5a",
   "metadata": {},
   "outputs": [],
   "source": [
    "counter = 0\n",
    "\n",
    "loop do\n",
    "  break if counter == mailing_campaign_leads.size\n",
    "  full_name = mailing_campaign_leads[counter][:name]\n",
    "  names = full_name.split\n",
    "\n",
    "  names_counter = 0\n",
    "  loop do\n",
    "    break if names_counter == names.size\n",
    "    name = names[names_counter]\n",
    "    names[names_counter] = name.capitalize\n",
    "\n",
    "    names_counter += 1\n",
    "  end\n",
    "\n",
    "  capitalized_full_name = names.join(' ')\n",
    "  mailing_campaign_leads[counter][:name] = capitalized_full_name\n",
    "\n",
    "  counter += 1\n",
    "end\n",
    "\n",
    "usable_leads = []\n",
    "counter = 0\n",
    "\n",
    "loop do\n",
    "  break if counter == mailing_campaign_leads.size\n",
    "  last_login = mailing_campaign_leads[counter][:days_since_login]\n",
    "  subscribed_to_list = mailing_campaign_leads[counter][:mailing_list]\n",
    "\n",
    "  if last_login < 60 && subscribed_to_list\n",
    "    usable_leads << mailing_campaign_leads[counter]\n",
    "  end\n",
    "\n",
    "  counter += 1\n",
    "end"
   ]
  }
 ],
 "metadata": {
  "kernelspec": {
   "display_name": "Ruby 2.7.5",
   "language": "ruby",
   "name": "ruby"
  },
  "language_info": {
   "file_extension": ".rb",
   "mimetype": "application/x-ruby",
   "name": "ruby",
   "version": "2.7.5"
  }
 },
 "nbformat": 4,
 "nbformat_minor": 5
}
